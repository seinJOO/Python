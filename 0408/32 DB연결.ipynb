{
 "cells": [
  {
   "cell_type": "code",
   "execution_count": 6,
   "metadata": {},
   "outputs": [
    {
     "name": "stdout",
     "output_type": "stream",
     "text": [
      "Defaulting to user installation because normal site-packages is not writeable\n",
      "Requirement already satisfied: pymysql in c:\\users\\tjoeun709\\appdata\\roaming\\python\\python310\\site-packages (1.0.2)\n",
      "Note: you may need to restart the kernel to use updated packages.\n"
     ]
    }
   ],
   "source": [
    "pip install pymysql"
   ]
  },
  {
   "cell_type": "code",
   "execution_count": 5,
   "metadata": {},
   "outputs": [
    {
     "name": "stdout",
     "output_type": "stream",
     "text": [
      "Package              Version\n",
      "-------------------- ---------\n",
      "anyio                3.5.0\n",
      "argon2-cffi          21.3.0\n",
      "argon2-cffi-bindings 21.2.0\n",
      "asttokens            2.0.5\n",
      "attrs                21.4.0\n",
      "Babel                2.9.1\n",
      "backcall             0.2.0\n",
      "beautifulsoup4       4.10.0\n",
      "bleach               4.1.0\n",
      "certifi              2021.10.8\n",
      "cffi                 1.15.0\n",
      "charset-normalizer   2.0.12\n",
      "colorama             0.4.4\n",
      "cycler               0.11.0\n",
      "debugpy              1.5.1\n",
      "decorator            5.1.1\n",
      "defusedxml           0.7.1\n",
      "entrypoints          0.4\n",
      "et-xmlfile           1.1.0\n",
      "executing            0.8.3\n",
      "fonttools            4.31.2\n",
      "idna                 3.3\n",
      "ipykernel            6.9.2\n",
      "ipython              8.1.1\n",
      "ipython-genutils     0.2.0\n",
      "jedi                 0.18.1\n",
      "Jinja2               3.1.1\n",
      "json5                0.9.6\n",
      "jsonschema           4.4.0\n",
      "jupyter-client       7.1.2\n",
      "jupyter-core         4.9.2\n",
      "jupyter-server       1.16.0\n",
      "jupyterlab           3.3.2\n",
      "jupyterlab-pygments  0.1.2\n",
      "jupyterlab-server    2.12.0\n",
      "kiwisolver           1.4.2\n",
      "MarkupSafe           2.1.1\n",
      "matplotlib           3.5.1\n",
      "matplotlib-inline    0.1.3\n",
      "mistune              0.8.4\n",
      "nbclassic            0.3.7\n",
      "nbclient             0.5.13\n",
      "nbconvert            6.4.5\n",
      "nbformat             5.2.0\n",
      "nest-asyncio         1.5.4\n",
      "notebook             6.4.10\n",
      "notebook-shim        0.1.0\n",
      "numpy                1.22.3\n",
      "openpyxl             3.0.9\n",
      "packaging            21.3\n",
      "pandas               1.4.2\n",
      "pandocfilters        1.5.0\n",
      "parso                0.8.3\n",
      "pickleshare          0.7.5\n",
      "Pillow               9.1.0\n",
      "pip                  22.0.4\n",
      "prometheus-client    0.13.1\n",
      "prompt-toolkit       3.0.28\n",
      "psutil               5.9.0\n",
      "pure-eval            0.2.2\n",
      "pycparser            2.21\n",
      "Pygments             2.11.2\n",
      "PyMySQL              1.0.2\n",
      "pyparsing            3.0.7\n",
      "pyrsistent           0.18.1\n",
      "python-dateutil      2.8.2\n",
      "pytz                 2022.1\n",
      "pywin32              303\n",
      "pywinpty             2.0.5\n",
      "pyzmq                22.3.0\n",
      "requests             2.27.1\n",
      "Send2Trash           1.8.0\n",
      "setuptools           58.1.0\n",
      "six                  1.16.0\n",
      "sniffio              1.2.0\n",
      "soupsieve            2.3.1\n",
      "stack-data           0.2.0\n",
      "terminado            0.13.3\n",
      "testpath             0.6.0\n",
      "tornado              6.1\n",
      "traitlets            5.1.1\n",
      "urllib3              1.26.9\n",
      "wcwidth              0.2.5\n",
      "webencodings         0.5.1\n",
      "websocket-client     1.3.2\n",
      "Note: you may need to restart the kernel to use updated packages.\n"
     ]
    }
   ],
   "source": [
    "pip list        # pip를 이용해 설치한 패키지 목록 확인"
   ]
  }
 ],
 "metadata": {
  "interpreter": {
   "hash": "b89b5cfaba6639976dc87ff2fec6d58faec662063367e2c229c520fe71072417"
  },
  "kernelspec": {
   "display_name": "Python 3.10.3 64-bit",
   "language": "python",
   "name": "python3"
  },
  "language_info": {
   "codemirror_mode": {
    "name": "ipython",
    "version": 3
   },
   "file_extension": ".py",
   "mimetype": "text/x-python",
   "name": "python",
   "nbconvert_exporter": "python",
   "pygments_lexer": "ipython3",
   "version": "3.10.3"
  },
  "orig_nbformat": 4
 },
 "nbformat": 4,
 "nbformat_minor": 2
}
