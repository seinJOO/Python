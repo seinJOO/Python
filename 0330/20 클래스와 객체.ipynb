{
 "cells": [
  {
   "cell_type": "code",
   "execution_count": null,
   "metadata": {},
   "outputs": [],
   "source": [
    "# 객체지향 프로그래밍\n",
    "# 1. 클래스와 오브젝트(객체)\n",
    "\n",
    "# 클래스 : 특정 대상을 지정하여 정의를 담고 있는 것\n",
    "#   실세계의 것을 모델링하여 속성(Attribute, 멤버변수)와 동작(Method)을 갖는 데이터타입   # 속성을 멤버변수라고도 함\n",
    "#   python에서 string, int, list, dict ... 전부 클래스로 존재\n",
    "#   예를들어, 학생이라는 클래스를 생성한다면 학생을 나타내는 속성과 학생이 행하는 행위를 함께 정의할 수 있다\n",
    "#       => 다루고자하는 데이터와 데이터의 연산을 하나로 캡슐화하여 클래스로 표현 가능\n",
    "#   모델링에서 중요시하는 속성에 따라 클래스의 속성과 행위가 달라짐"
   ]
  },
  {
   "cell_type": "code",
   "execution_count": 4,
   "metadata": {},
   "outputs": [
    {
     "name": "stdout",
     "output_type": "stream",
     "text": [
      "[1, 2, 3, 4, 5, 'a']\n"
     ]
    }
   ],
   "source": [
    "a = [1,2,3,4,5]     #  <class 'list'>\n",
    "print(help(a))      # list 클래스에 관한 정의를 조회 가능\n",
    "a.append('a')\n",
    "print(a)\n",
    "print(help(list())) # list 클래스의 메서드 조회 가능"
   ]
  },
  {
   "cell_type": "code",
   "execution_count": null,
   "metadata": {},
   "outputs": [],
   "source": [
    "# 객체(object) : 클래스에 정의된 대로 개별적으로 구성되어 있는 독립적인 대상을 의미\n",
    "#   클래스로 생성되어 구체화 된 내용(객체-인스턴스)\n",
    "#   파이썬의 모든 것(int, float, str, list, dict .. etc)은 객체(인스턴스)\n",
    "#   실제로 class가 인스턴스화되어 메모리에 상주하고 있는 상태를 의미\n",
    "\n",
    "#   class가 빵틀이라면, object는 빵틀로 찍어낸 빵 !!!"
   ]
  },
  {
   "cell_type": "code",
   "execution_count": 11,
   "metadata": {},
   "outputs": [
    {
     "name": "stdout",
     "output_type": "stream",
     "text": [
      "<class '__main__.Person'> <class '__main__.Person'>\n",
      "1643773881808 1643788867312\n"
     ]
    }
   ],
   "source": [
    "# Class 선언하기\n",
    "# 객체를 생성하기 위해서는 객체의 모체가 되는 class를 미리 선언해야 함\n",
    "\n",
    "# (형식)\n",
    "# class [클래스명] :                # 클래스명 첫 문자는 대문자!\n",
    "#       변수 선언 (멤버변수-속성)\n",
    "#       def 생성자(인수) :\n",
    "#           명령문....\n",
    "#       def 함수명(인수) :\n",
    "#           명령문....\n",
    "\n",
    "# 예제) \n",
    "class Person :\n",
    "    pass    # 클래스 정의는 나중에 하기 위해 pass 사용\n",
    "\n",
    "# 객체 생성\n",
    "bob = Person()\n",
    "cathy = Person()        # 비어있는 리스트 객체 생성과 같은 방법으로 생성 : a = list()  \n",
    "print(type(bob),type(cathy))    # <class '__main__.Person'>\n",
    "print(id(bob),id(cathy))        # 두 인스턴스의 id값이 다름 => 다른 값"
   ]
  },
  {
   "cell_type": "code",
   "execution_count": 12,
   "metadata": {},
   "outputs": [
    {
     "name": "stdout",
     "output_type": "stream",
     "text": [
      "<__main__.Person object at 0x0000017EB973A350> is generated !\n",
      "<__main__.Person object at 0x0000017EB9739FC0> is generated !\n",
      "주세인 28\n",
      "쭈세 18\n"
     ]
    }
   ],
   "source": [
    "# 클래스 생성자\n",
    "#   생성자, 클래스 인스턴스가 생성될 때 호출됨\n",
    "#   __init__(self) 을 기본으로 생성하게 됨 - self(자기자신)가 첫 인자값으로 오게 됨\n",
    "#   인자값의 이름이 꼭 self일 필요는 없으나, 관례적으로 self로 사용함\n",
    "#   생성자는 해당 클래스에서 다루는 데이터를 정의할 수 있음 => 이 때 정의하는 데이터를 멤버변수, 속성이라고 함\n",
    "\n",
    "class Person :\n",
    "    def __init__(self) :    # 기본생성자 - 객체(인스턴스)가 생성되자마자 바로 실행됨\n",
    "        print(self,'is generated !')\n",
    "        self.name = '쭈세'      # 이름 속성\n",
    "        self.age = 28           # 나이 속성\n",
    "\n",
    "p1 = Person()\n",
    "p2 = Person()\n",
    "\n",
    "p1.name = '주세인'      # 기본생성자에서 정의한 속성(멤버변수)을 변경시키기\n",
    "p2.age = 18\n",
    "\n",
    "print(p1.name, p1.age)\n",
    "print(p2.name, p2.age)"
   ]
  },
  {
   "cell_type": "code",
   "execution_count": 13,
   "metadata": {},
   "outputs": [
    {
     "name": "stdout",
     "output_type": "stream",
     "text": [
      "<__main__.Person object at 0x0000017EB8BA97B0> is generated !\n",
      "<__main__.Person object at 0x0000017EB97381F0> is generated !\n",
      "쭈세 28\n",
      "주세니 10\n"
     ]
    }
   ],
   "source": [
    "# 생성자에게 인자값을 전달하여 속성값을 부여하고 싶은 경우\n",
    "\n",
    "class Person :\n",
    "    def __init__(self,name,age=10) :    # 기본생성자를 정의할 때 부여하고자 하는 속성값을 인자값으로 받는다\n",
    "        print(self,'is generated !')\n",
    "        self.name = name\n",
    "        self.age = age\n",
    "\n",
    "p1 = Person('쭈세',28)\n",
    "p2 = Person('주세니')\n",
    "\n",
    "print(p1.name, p1.age)\n",
    "print(p2.name, p2.age)"
   ]
  },
  {
   "cell_type": "code",
   "execution_count": 22,
   "metadata": {},
   "outputs": [
    {
     "name": "stdout",
     "output_type": "stream",
     "text": [
      "10 20 더하기 연산 결과 :  30\n",
      "10 20 빼기 연산 :  -10\n"
     ]
    }
   ],
   "source": [
    "# [문제 1] Calc_class라는 클래스를 선언\n",
    "# 속성값은  x,y로 두 개를 초기화해서 구현 / 생성자에서 x,y 속성값을 받을 수 있게 생성\n",
    "# 객체를 생성하여 해당 값을 참조해서 확인\n",
    "class Calc_class:\n",
    "    # 클래스 변수 : 속성\n",
    "    x = y = 0\n",
    "    \n",
    "    # 생성자 : 객체 생성시 동작 + 멤버변수 초기화\n",
    "    def __init__(self, a, b):\n",
    "        self.x = a\n",
    "        self.y = b\n",
    "        \n",
    "    # 클래스의 메서드(함수)\n",
    "    def plus(self):\n",
    "        p = self.x + self.y   # 멤버변수 더하기 연산\n",
    "        return p\n",
    "    \n",
    "    def minus(self):\n",
    "        m = self.x - self.y\n",
    "        return m\n",
    "\n",
    "c = Calc_class(10, 20)\n",
    "print(c.x,c.y,\"더하기 연산 결과 : \",c.plus())\n",
    "print(c.x,c.y,\"빼기 연산 : \",c.minus())"
   ]
  },
  {
   "cell_type": "code",
   "execution_count": null,
   "metadata": {},
   "outputs": [],
   "source": [
    "# [예제1] 자동차 클래스 생성\n",
    "class Car :\n",
    "    # 멤버변수\n",
    "    cc = 0              # 엔진 cc\n",
    "    door = 0            # 문 개수\n",
    "    carType = None      # null\n",
    "    \n",
    "    # 생성자\n",
    "    def __init__(self,cc,door,carType) :\n",
    "        # 멤버 변수 초기화\n",
    "        self.cc = cc\n",
    "        self.door = door\n",
    "        self.carType = carType      # 승용차, SUV, 경차\n",
    "    def display(self) :\n",
    "        print('자동차는 %dcc이고, 문은 %d개, 타입은 %s'%(self.cc,self.door,self.carType))\n",
    "\n",
    "# 객체 생성\n",
    "car1 = Car(2000, 4, '승용차')\n",
    "car2 = Car(3000, 5, 'SUV')\n",
    "car1.display()\n",
    "car2.display()\n",
    "print(help(list()))\n",
    "    "
   ]
  },
  {
   "cell_type": "code",
   "execution_count": null,
   "metadata": {},
   "outputs": [],
   "source": [
    "# 소멸자(Destructor) : __del__() => 생성자의 반대 역할\n",
    "#                     객체 사용이 완료되었을 때 자동으로 실행, 객체를 메모리에서 소멸시키는 역할\n",
    "# (예시)\n",
    "# class multiply :\n",
    "#       # 생성자\n",
    "#       def __init__(self,x,y) :\n",
    "#           self.x = x\n",
    "#           self.y = y\n",
    "#       # 소멸자\n",
    "#       def __del__(self) :\n",
    "#           del.self.x      => 메모리에서 멤버변수 x를 삭제\n",
    "#           del.self.y      => 메모리에서 멤버변수 y를 삭제\n"
   ]
  },
  {
   "cell_type": "code",
   "execution_count": 31,
   "metadata": {},
   "outputs": [
    {
     "name": "stdout",
     "output_type": "stream",
     "text": [
      "self :  <__main__.Person object at 0x0000017EB8F6F7F0>\n",
      "self :  <__main__.Person object at 0x0000017EB8F6F880>\n",
      "<__main__.Person object at 0x0000017EB8F6F7F0>\n",
      "쎄니 는 잠을 자고 있습니다\n",
      "홍길동 는 잠을 자고 있습니다\n"
     ]
    }
   ],
   "source": [
    "# self\n",
    "# 파이썬에서 Method는 항상 첫 번째 인자로 self를 전달\n",
    "# self는 현재 해당 메서드가 호출되는 객체 자신을 가리킴\n",
    "# C++/C#, Java에서는 this로 사용\n",
    "# 이름이 self일 필요는 없으나 관례상 self로 사용\n",
    "\n",
    "# (예시)\n",
    "class Person :\n",
    "    name = None\n",
    "    age = 0\n",
    "    \n",
    "    # 생성자\n",
    "    def __init__(self,name,age) :\n",
    "        print('self : ',self)\n",
    "        self.name = name\n",
    "        self.age = age\n",
    "    \n",
    "    def sleep(self) :\n",
    "        print(self.name, '는 잠을 자고 있습니다')\n",
    "\n",
    "a = Person('쎄니', 28)      # <__main__.Person object at 0x0000017EB9021BD0>\n",
    "b = Person('홍길동',18)\n",
    "print(a)                    # <__main__.Person object at 0x0000017EB9021BD0> => 동일함 - self=객체자신\n",
    "a.sleep()\n",
    "b.sleep()"
   ]
  },
  {
   "cell_type": "code",
   "execution_count": 35,
   "metadata": {},
   "outputs": [
    {
     "name": "stdout",
     "output_type": "stream",
     "text": [
      "날짜 처리 클래스\n",
      "2022\n",
      "2022-3-30\n",
      "날짜 처리 클래스\n",
      "2023년 03월 30일\n"
     ]
    }
   ],
   "source": [
    "# Method 타입\n",
    "# instance method : 객체로 호출\n",
    "#                   => 메서드는 객체 레벨로 호출되기 때문에, 해당 메서드는 호출한 객체에만 영향을 미침\n",
    "# class method : class로 호출\n",
    "#                   => 클래스 메서드의 경우 클래스 레벨로 호출되기 때문에 클래스 멤버 변수만 변경 가능\n",
    "\n",
    "class DatePro :\n",
    "    # 멤버변수\n",
    "    content = '날짜 처리 클래스'\n",
    "    \n",
    "    # 생성자\n",
    "    def __init__(self,year,month, day) :\n",
    "        self.year = year\n",
    "        self.month = month\n",
    "        self.day = day\n",
    "        \n",
    "    # 객체 메서드 (instance method)\n",
    "    def display(self) :\n",
    "        print('%d-%d-%d' % (self.year,self.month,self.day))\n",
    "    \n",
    "    # 클래스 메서드 (class method)\n",
    "    @classmethod    # 함수 장식자\n",
    "    def date_string(cls, dateStr) :\n",
    "        year = dateStr[0:4]\n",
    "        month = dateStr[4:6]\n",
    "        day = dateStr[6:]\n",
    "        print(f'{year}년 {month}월 {day}일')\n",
    "    \n",
    "# 객체 멤버\n",
    "date = DatePro(2022, 3, 30)         # 생성자로 객체 생성\n",
    "print(date.content)             # 날짜 처리 클래스의 멤버변수\n",
    "print(date.year)                # 2022\n",
    "date.display()                  # 2022-3-30\n",
    "\n",
    "# 클래스 멤버 - \n",
    "print(DatePro.content)          # 날짜 처리 클래스\n",
    "# print(DatePro.year)           # AttributeError\n",
    "#                                 - year는 생성자에 의해서 생성되는 멤버변수기 때문에 출력 불가\n",
    "DatePro.date_string('20230330') # 2023년 03월 30일"
   ]
  },
  {
   "cell_type": "code",
   "execution_count": 34,
   "metadata": {},
   "outputs": [
    {
     "name": "stdout",
     "output_type": "stream",
     "text": [
      "30\n",
      "200\n"
     ]
    }
   ],
   "source": [
    "# 예제 2\n",
    "class Math :\n",
    "    # 클래스 메서드 선언\n",
    "    @staticmethod\n",
    "    def add(a,b) :\n",
    "        return a+b\n",
    "    \n",
    "    @staticmethod\n",
    "    def multiply(a,b) :\n",
    "        return a*b\n",
    "    \n",
    "print(Math.add(10, 20))             # 30\n",
    "print(Math.multiply(10, 20))        # 200"
   ]
  },
  {
   "cell_type": "code",
   "execution_count": 3,
   "metadata": {},
   "outputs": [
    {
     "name": "stdout",
     "output_type": "stream",
     "text": [
      "(3,4)\n",
      "(2,7)\n",
      "(5,11)\n",
      "(5,11)\n"
     ]
    }
   ],
   "source": [
    "# 특수한 함수(메서드) : __로 시작하고, __로 끝나는 함수들\n",
    "#   해당 메서드들을 구현하면, 커스텀 객체에 여러가지 파이썬 내장함수나 연산자를 적용 가능\n",
    "#   오버라이딩 가능한 함수 목록들은 https://docs.python.org/ko/3/reference/datamodel.html 에서 확인가능\n",
    "\n",
    "# (예시) Point 클래스 - 2차원 좌표평면 각 점(x,y)의 연산을 처리\n",
    "#       연산 -> 두 점의 덧셈, 뺄셈 (1,2) + (3,4) = (4,6)\n",
    "#               한 점과 숫자의 곱셈 (1,2) * 3 = (3,6)\n",
    "#       점의 길이는 (0,0)부터의 거리\n",
    "\n",
    "class Point :\n",
    "    # 생성자\n",
    "    def __init__(self,x,y) :\n",
    "        self.x = x\n",
    "        self.y = y\n",
    "    \n",
    "    # 특수 메서드 호출 - add\n",
    "    def __add__(self,pt) :\n",
    "        new_x = self.x + pt.x\n",
    "        new_y = self.y + pt.y\n",
    "        return Point(new_x, new_y)\n",
    "    \n",
    "    def __str__(self) :\n",
    "        return f'({self.x},{self.y})'   # 결과값을 반환하는 문자열 타입\n",
    "\n",
    "pt1 = Point(3, 4)\n",
    "pt2 = Point(2, 7)\n",
    "pt3 = pt1 + pt2     # __add__ 메서드가 동작\n",
    "# ↓ __str__ 메서드가 동작 ↓\n",
    "print(pt1)\n",
    "print(pt2)\n",
    "print(pt3)"
   ]
  },
  {
   "cell_type": "code",
   "execution_count": 13,
   "metadata": {},
   "outputs": [
    {
     "name": "stdout",
     "output_type": "stream",
     "text": [
      "계좌 정보 : (10000, '쭈세인', '1002-839-335664')\n",
      "금액 확인\n",
      "계좌 정보 : (10000, '쭈세인', '1002-839-335664')\n",
      "계좌 정보 : (12000, '쭈세인', '1002-839-335664')\n",
      "잔액 확인\n",
      "계좌 정보 : (12000, '쭈세인', '1002-839-335664')\n",
      "계좌 정보 : (11000, '쭈세인', '1002-839-335664')\n"
     ]
    }
   ],
   "source": [
    "# 캡슐화 : 자료와 알고리즘이 구현된 함수를 하나로 묶고 공용 인터페이스만으로 접근을 제한하여\n",
    "#         객체의 세부 내용을 외부로부터 감추는 기법\n",
    "#         (멤버변수 앞에 __ 붙이기)\n",
    "\n",
    "# 예제 3. 캡슐화\n",
    "class Account :\n",
    "    # 은닉변수\n",
    "    __balance = 0           # 잔액\n",
    "    __accName = None        # 예금주\n",
    "    __accNo = None          # 계좌번호\n",
    "    \n",
    "    # 생성자 : 멤버변수 초기화\n",
    "    def __init__(self,bal,name,no) :\n",
    "        self.__balance = bal        # 잔액\n",
    "        self.__accName = name       # 예금주\n",
    "        self.__accNo = no           # 계좌번호\n",
    "    \n",
    "    # Getter 계좌정보 확인\n",
    "    def getBalance(self) :\n",
    "        return self.__balance, self.__accName, self.__accNo # => tuple로 출력됨\n",
    "    \n",
    "    # Setter 입금\n",
    "    def deposit(self,money) :\n",
    "        if money < 0 : \n",
    "            print('금액 확인')\n",
    "            return   # 종료(exit)\n",
    "        self.__balance += money\n",
    "    def withdraw(self, money) :\n",
    "        if money > self.__balance :\n",
    "            print('잔액 확인')\n",
    "            return   # 종료(exit)\n",
    "        self.__balance -= money   \n",
    "\n",
    "# 객체 생성\n",
    "acc = Account(10000, '쭈세인', '1002-839-335664')\n",
    "\n",
    "# Getter : 예금확인\n",
    "# print(acc.__balance)  => # AttributeError: 'Account' object has no attribute '__balance'\n",
    "                           # 은닉변수이기 때문에 숨김\n",
    "print('계좌 정보 :',acc.getBalance())\n",
    "\n",
    "# Setter : 입금/출금\n",
    "acc.deposit(-2000)\n",
    "print('계좌 정보 :',acc.getBalance())\n",
    "acc.deposit(2000)\n",
    "print('계좌 정보 :',acc.getBalance())\n",
    "acc.withdraw(13000)\n",
    "print('계좌 정보 :',acc.getBalance())\n",
    "acc.withdraw(1000)\n",
    "print('계좌 정보 :',acc.getBalance())"
   ]
  },
  {
   "cell_type": "code",
   "execution_count": 23,
   "metadata": {},
   "outputs": [
    {
     "name": "stdout",
     "output_type": "stream",
     "text": [
      "세레나는 프렌치토스트을 먹습니다\n",
      "세레나는 8시간 동안 잠을 잡니다\n",
      "세레나는 9시간 동안 공부합니다\n",
      "웅이는 2시간 동안 잠을 잡니다\n",
      "웅이는 스테이크을 먹습니다\n",
      "웅이는 24시간 동안 일합니다\n"
     ]
    }
   ],
   "source": [
    "# 클래스 상속(inheritance)\n",
    "# 기존에 정의해둔 클래스의 기능을 그대로 물려받는 설정\n",
    "# 기존 클래스에 기능 일부를 추가하거나, 변경하여 새로운 클래스를 정의\n",
    "# 목적 : 코드의 재사용\n",
    "# 상속 받고자 하는 대상인 기존 클래스는 Parent / Super / Base class라고도 함\n",
    "# 상속 받은 새로운 클래스는 Child / Sub / Derived class라고도 함\n",
    "# 의미적으로 IS-A 관계를 가짐\n",
    "\n",
    "# 예시) Person 클래스를 선언하고 student를 자식 클래스로 선언\n",
    "class Person :                  # 부모 클래스\n",
    "    def __init__(self,name,age) :\n",
    "        self.name = name\n",
    "        self.age = age\n",
    "    \n",
    "    def eat(self, food) :\n",
    "        print(f'{self.name}는 {food}을 먹습니다')\n",
    "    \n",
    "    def sleep(self, hour) :\n",
    "        print(f'{self.name}는 {hour}시간 동안 잠을 잡니다')\n",
    "    \n",
    "    def work(self, hour) :\n",
    "        print(f'{self.name}는 {hour}시간 동안 일합니다')\n",
    "    \n",
    "class Student(Person) :         # 부모 클래스를 상속받는 경우 ()에 상속받을 클래스명 지정\n",
    "    def __init__(self, name, age) :\n",
    "        self.name = name\n",
    "        self.age = age\n",
    "    \n",
    "    def work(self, hour) :\n",
    "        print(f'{self.name}는 {hour}시간 동안 공부합니다')\n",
    "\n",
    "class Employee(Person) :\n",
    "    pass\n",
    "\n",
    "serena = Student('세레나', 22)\n",
    "serena.eat('프렌치토스트')\n",
    "serena.sleep(8)\n",
    "serena.work(9)\n",
    "\n",
    "woong = Employee('웅이', 29)\n",
    "woong.sleep(2)\n",
    "woong.eat('스테이크')\n",
    "woong.work(24)"
   ]
  },
  {
   "cell_type": "code",
   "execution_count": 24,
   "metadata": {},
   "outputs": [
    {
     "name": "stdout",
     "output_type": "stream",
     "text": [
      "John는 BBQ을 먹습니다\n",
      "John는 8시간 동안 잠을 잡니다\n",
      "John는 3.6시간 동안 공부합니다\n",
      "Cathy는 Pizza을 먹습니다\n",
      "Cathy는 4시간 동안 잠을 잡니다\n",
      "Cathy는 8시간 동안 업무를 진행합니다\n"
     ]
    }
   ],
   "source": [
    "# method override \n",
    "# 부모 클래스의 method를 재정의(override)\n",
    "# 자식 클래스(하위)의 인스턴스 호출 시 재정의된 메서드가 호출됨 #\n",
    "\n",
    "class Person :                  # 부모 클래스\n",
    "    def __init__(self,name,age) :\n",
    "        self.name = name\n",
    "        self.age = age\n",
    "    \n",
    "    def eat(self, food) :\n",
    "        print(f'{self.name}는 {food}을 먹습니다')\n",
    "    \n",
    "    def sleep(self, hour) :\n",
    "        print(f'{self.name}는 {hour}시간 동안 잠을 잡니다')\n",
    "    \n",
    "    def work(self, hour) :\n",
    "        print(f'{self.name}는 {hour}시간 동안 일합니다')\n",
    "    \n",
    "class Student(Person) :         \n",
    "    def __init__(self, name, age) :\n",
    "        self.name = name\n",
    "        self.age = age\n",
    "    \n",
    "    def work(self, hour) :      # 부모 클래스의 work 메서드의 기능 재정의 = method override\n",
    "        print(f'{self.name}는 {hour}시간 동안 공부합니다')\n",
    "\n",
    "class Employee(Person) :\n",
    "    def __init__(self, name, age) :\n",
    "        self.name = name\n",
    "        self.age = age\n",
    "    def work(self, hour) :      # 부모 클래스의 work 메서드의 기능 재정의 = method override\n",
    "        print(f'{self.name}는 {hour}시간 동안 업무를 진행합니다')\n",
    "        \n",
    "john = Student('John', 24)\n",
    "john.eat('BBQ')\n",
    "john.sleep(8)\n",
    "john.work(3.6)\n",
    "print()\n",
    "cathy = Employee('Cathy', 35)\n",
    "cathy.eat('Pizza')\n",
    "cathy.sleep(4)\n",
    "cathy.work(8)       # => override된 메서드가 실행됨\n"
   ]
  },
  {
   "cell_type": "code",
   "execution_count": 25,
   "metadata": {},
   "outputs": [
    {
     "name": "stdout",
     "output_type": "stream",
     "text": [
      "john는 3.6시간 동안 일합니다\n",
      "john는 3.6시간 동안 공부합니다\n",
      "cathy는 8시간 동안 업무를 진행합니다\n"
     ]
    }
   ],
   "source": [
    "# super 클래스 : 하위 클래스(자식 클래스)에서 부모 클래스의 method를 호출할 때 사용\n",
    "#   -> 자식 클래스에서 override하면 자식 클래스에서는 부모 클래스를 재정의하면서 부모의 메서드는 삭제됨\n",
    "#      이 때 부모 메서드를 가져오고 싶은 경우 사용하는 것 => super\n",
    "\n",
    "class Person :                  # 부모 클래스\n",
    "    def __init__(self,name,age) :\n",
    "        self.name = name\n",
    "        self.age = age\n",
    "    \n",
    "    def eat(self, food) :\n",
    "        print(f'{self.name}는 {food}을 먹습니다')\n",
    "    \n",
    "    def sleep(self, hour) :\n",
    "        print(f'{self.name}는 {hour}시간 동안 잠을 잡니다')\n",
    "    \n",
    "    def work(self, hour) :\n",
    "        print(f'{self.name}는 {hour}시간 동안 일합니다')\n",
    "    \n",
    "class Student(Person) :         \n",
    "    def __init__(self, name, age) :\n",
    "        self.name = name\n",
    "        self.age = age\n",
    "    \n",
    "    def work(self, hour) :      # 부모 클래스의 work 메서드의 기능 재정의 = method \n",
    "        super().work(hour)      # 부모 클래스의 work 메서드를 불러옴 => 부모 클래스의 work메서드가 실행됨   (same as super(__class__, <first argument>)) \n",
    "        print(f'{self.name}는 {hour}시간 동안 공부합니다')\n",
    "\n",
    "class Employee(Person) :\n",
    "    def __init__(self, name, age) :\n",
    "        self.name = name\n",
    "        self.age = age\n",
    "    def work(self, hour) :      # 부모 클래스의 work 메서드의 기능 재정의 = method override\n",
    "        print(f'{self.name}는 {hour}시간 동안 업무를 진행합니다')\n",
    "\n",
    "john = Student('john', 24)\n",
    "cathy = Employee('cathy', 35)\n",
    "john.work(3.6)  # 총 두 번 실행 => super().work(hour)로 Person클래스의 work메서드, Student 클래스의 work 메서드 \n",
    "cathy.work(8)\n",
    "\n",
    "# 기본적으로 상속은 기본 기능을 구현하고, 하위 클래스에서 기능을 재정의(override)하거나 부모 클래스로부터 호출하여 사용(supper())한다"
   ]
  },
  {
   "cell_type": "code",
   "execution_count": 27,
   "metadata": {},
   "outputs": [
    {
     "name": "stdout",
     "output_type": "stream",
     "text": [
      "name : 허웅, job : 회사원\n",
      "name : 쭈세, job : 백수, gender : 여성\n"
     ]
    }
   ],
   "source": [
    "# [예제] \n",
    "\n",
    "# 부모 클래스\n",
    "class Parent :\n",
    "    # 생성자\n",
    "    def __init__(self,name,job) :\n",
    "        self.name = name\n",
    "        self.job = job\n",
    "    \n",
    "    # 멤버 함수(메서드)\n",
    "    def display(self) :\n",
    "        print(f'name : {self.name}, job : {self.job}')\n",
    "\n",
    "# 부모 클래스 객체 생성\n",
    "p = Parent('허웅', '회사원')\n",
    "p.display()\n",
    "\n",
    "# 자식 클래스\n",
    "class Child(Parent) :       # Parent 클래스를 상속받음\n",
    "    \n",
    "    gender = None       # 자식 클래스의 멤버변수 추가\n",
    "    \n",
    "    # 생성자\n",
    "    def __init__(self, name, job, gender) :\n",
    "        # 부모 클래스 생성자 호출\n",
    "        super().__init__(name, job)     # self.name = name; self.job = job\n",
    "        self.gender = gender\n",
    "        \n",
    "    # 자식 클래스의 멤버 함수(메서드)\n",
    "    def display(self) :     # Parent의 display함수 override(재정의)\n",
    "        print(f'name : {self.name}, job : {self.job}, gender : {self.gender}')\n",
    "\n",
    "# 자식 클래스 객체 생성\n",
    "c = Child('쭈세', '백수', '여성')\n",
    "c.display()"
   ]
  },
  {
   "cell_type": "code",
   "execution_count": 29,
   "metadata": {},
   "outputs": [
    {
     "name": "stdout",
     "output_type": "stream",
     "text": [
      "fly 원형 메서드 : 날아가욧 ~~\n",
      "비행기가 날아가욧 ~~!!\n",
      "새가 날아가욧 ~~!!\n",
      "종이비행기가 날아가욧 ~~!!\n"
     ]
    }
   ],
   "source": [
    "# 다형성 : 여러가지 형태를 가질 수 있는 능력 -> 하나의 참조변수로 여러 타입(type)의 객체를 참조할 수 있는 것\n",
    "#          다형성은 상속 관계에서 나올 수 있음 !!\n",
    "\n",
    "# 다형성 예제 \n",
    "\n",
    "# 부모 클래스 선언\n",
    "class Flight :\n",
    "    \n",
    "    # 부모 클래스 원형함수\n",
    "    def fly(self) :\n",
    "        print('fly 원형 메서드 : 날아가욧 ~~')\n",
    "\n",
    "# 자식 클래스 1 선언\n",
    "class Airplane(Flight) :\n",
    "    \n",
    "    # 함수 재정의\n",
    "    def fly(self) :\n",
    "        print('비행기가 날아가욧 ~~!!')\n",
    "\n",
    "# 자식 클래스 2 선언\n",
    "class Bird(Flight) :\n",
    "    \n",
    "    # 함수 재정의\n",
    "    def fly(self) :\n",
    "        print('새가 날아가욧 ~~!!')\n",
    "\n",
    "# 자식 클래스 3 선언\n",
    "class PaperPlane(Flight) :\n",
    "    \n",
    "    # 함수 재정의\n",
    "    def fly(self) :\n",
    "        print('종이비행기가 날아가욧 ~~!!')\n",
    "\n",
    "# 객체 생성\n",
    "flight = Flight()\n",
    "air = Airplane()\n",
    "bird = Bird()\n",
    "paper = PaperPlane()\n",
    "\n",
    "flight.fly()        # fly 원형 메서드 : 날아가욧 ~~\n",
    "\n",
    "flight = air    # 부모 객체 참조변수 = 자식 객체 참조변수 방식으로 다형성을 할당함\n",
    "flight.fly()        # 비행기가 날아가욧 ~~!!\n",
    "\n",
    "flight = bird\n",
    "flight.fly()        # 새가 날아가욧 ~~!!\n",
    "\n",
    "flight = paper\n",
    "flight.fly()        # 종이비행기가 날아가욧 ~~!!\n",
    "\n",
    "# 부모 객체의 참조변수를 이용하여 자식 객체의 메서드를 불러오는 것 = 다형성\n",
    "# 부모 객체 = 자식 객체 => 부모 클래스의 객체에 자식 클래스의 객체를 대입하면 자식 클래스의 객체가 됨 !!"
   ]
  },
  {
   "cell_type": "code",
   "execution_count": 35,
   "metadata": {},
   "outputs": [
    {
     "name": "stdout",
     "output_type": "stream",
     "text": [
      "========== list ==========\n",
      "색인(인덱스) :  0, 내용 :  1\n",
      "색인(인덱스) :  1, 내용 :  2\n",
      "색인(인덱스) :  2, 내용 :  3\n",
      "색인(인덱스) :  3, 내용 :  4\n",
      "색인(인덱스) :  4, 내용 :  5\n",
      "========= tuple ===========\n",
      "색인(인덱스) :  0, 내용 :  1\n",
      "색인(인덱스) :  1, 내용 :  2\n",
      "색인(인덱스) :  2, 내용 :  3\n",
      "색인(인덱스) :  3, 내용 :  4\n",
      "색인(인덱스) :  4, 내용 :  5\n",
      "========== dictionary ==========\n",
      "색인(인덱스) :  0, 내용 :  1\n",
      "색인(인덱스) :  1, 내용 :  2\n",
      "색인(인덱스) :  2, 내용 :  3\n",
      "========= dictionary ===========\n",
      "색인(인덱스) :  0, 내용 :  일\n",
      "색인(인덱스) :  1, 내용 :  이\n",
      "색인(인덱스) :  2, 내용 :  삼\n"
     ]
    }
   ],
   "source": [
    "# 내장 클래스 : builtins 모듈에 있는 클래스\n",
    "# 리스트 열거형 객체 이용\n",
    "\n",
    "print('========== list ==========')\n",
    "lst = [1,2,3,4,5]\n",
    "for i, c in enumerate(lst) :    # enumerate is useful for obtaining an indexed list: (0, seq[0]),...\n",
    "    print('색인(인덱스) : ',i,end=', ')\n",
    "    print('내용 : ',c)\n",
    "    \n",
    "print('========= tuple ===========')\n",
    "\n",
    "tuple = 1,2,3,4,5\n",
    "for i, c in enumerate(tuple) :    \n",
    "    print('색인(인덱스) : ',i,end=', ')\n",
    "    print('내용 : ',c)\n",
    "    \n",
    "print('========== dictionary ==========')\n",
    "\n",
    "dic = {1:'일',2:'이',3:'삼'}\n",
    "for i, c in enumerate(dic) :    \n",
    "    print('색인(인덱스) : ',i,end=', ') \n",
    "    print('내용 : ',c) # 키 값을 사용\n",
    "\n",
    "print('========= dictionary ===========')\n",
    "\n",
    "dic2 = {'일':1,'이':2,'삼':3}\n",
    "for i, c in enumerate(dic2) :    \n",
    "    print('색인(인덱스) : ',i,end=', ') \n",
    "    print('내용 : ',c) # 키 값을 사용\n",
    "\n",
    "\n"
   ]
  },
  {
   "cell_type": "code",
   "execution_count": 38,
   "metadata": {},
   "outputs": [
    {
     "name": "stdout",
     "output_type": "stream",
     "text": [
      "순서 : 0, 키값 : name, 값 : 주세인\n",
      "순서 : 1, 키값 : job, 값 : 백수\n",
      "순서 : 2, 키값 : addr, 값 : 서울\n"
     ]
    }
   ],
   "source": [
    "# 튜플 열거형 객체 이용\n",
    "dic3 = {'name':'주세인','job':'백수','addr':'서울'}\n",
    "for i, k in enumerate(dic3) :\n",
    "    print('순서 :',i,end=', ')\n",
    "    print('키값 :',k,end=', ')\n",
    "    print('값 :',dic3[k])"
   ]
  }
 ],
 "metadata": {
  "interpreter": {
   "hash": "b89b5cfaba6639976dc87ff2fec6d58faec662063367e2c229c520fe71072417"
  },
  "kernelspec": {
   "display_name": "Python 3.10.3 64-bit",
   "language": "python",
   "name": "python3"
  },
  "language_info": {
   "codemirror_mode": {
    "name": "ipython",
    "version": 3
   },
   "file_extension": ".py",
   "mimetype": "text/x-python",
   "name": "python",
   "nbconvert_exporter": "python",
   "pygments_lexer": "ipython3",
   "version": "3.10.3"
  },
  "orig_nbformat": 4
 },
 "nbformat": 4,
 "nbformat_minor": 2
}
