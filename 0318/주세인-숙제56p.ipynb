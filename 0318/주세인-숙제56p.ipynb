{
 "cells": [
  {
   "cell_type": "code",
   "execution_count": 1,
   "metadata": {},
   "outputs": [
    {
     "name": "stdout",
     "output_type": "stream",
     "text": [
      "su 주소 :  1545287106928\n",
      "dan 주소 :  1545378009776\n",
      "금액 = 4000\n"
     ]
    }
   ],
   "source": [
    "# [문제1]\n",
    "su = 5\n",
    "dan = 800\n",
    "print(\"su 주소 : \",id(su))\n",
    "print(\"dan 주소 : \",id(dan))\n",
    "print(\"금액 =\",su*dan)"
   ]
  },
  {
   "cell_type": "code",
   "execution_count": 3,
   "metadata": {},
   "outputs": [
    {
     "name": "stdout",
     "output_type": "stream",
     "text": [
      "2차 방정식 결과 : 22.6\n"
     ]
    }
   ],
   "source": [
    "# [문제2]\n",
    "x = 2\n",
    "y = 2.5 * x**2 + 3.3 * x + 6\n",
    "print(\"2차 방정식 결과 :\",y)"
   ]
  },
  {
   "cell_type": "code",
   "execution_count": 6,
   "metadata": {},
   "outputs": [
    {
     "name": "stdout",
     "output_type": "stream",
     "text": [
      "총 칼로리 : 2,485 cal\n"
     ]
    }
   ],
   "source": [
    "# [문제3]\n",
    "fat = int(input(\"지방의 그램을 입력하세요 : \"))\n",
    "carb = int(input(\"탄수화물의 그램을 입력하세요 : \"))\n",
    "pro = int(input(\"단백질의 그램을 입력하세요 : \"))\n",
    "result = fat * 9 + pro * 4 + carb * 4\n",
    "print(\"총 칼로리 :\",\"{:,}\".format(result),\"cal\")"
   ]
  }
 ],
 "metadata": {
  "interpreter": {
   "hash": "b89b5cfaba6639976dc87ff2fec6d58faec662063367e2c229c520fe71072417"
  },
  "kernelspec": {
   "display_name": "Python 3.10.3 64-bit",
   "language": "python",
   "name": "python3"
  },
  "language_info": {
   "codemirror_mode": {
    "name": "ipython",
    "version": 3
   },
   "file_extension": ".py",
   "mimetype": "text/x-python",
   "name": "python",
   "nbconvert_exporter": "python",
   "pygments_lexer": "ipython3",
   "version": "3.10.3"
  },
  "orig_nbformat": 4
 },
 "nbformat": 4,
 "nbformat_minor": 2
}
