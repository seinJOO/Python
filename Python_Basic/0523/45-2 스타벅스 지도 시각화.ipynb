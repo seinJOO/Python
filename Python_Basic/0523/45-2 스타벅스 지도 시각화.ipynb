{
 "cells": [
  {
   "cell_type": "code",
   "execution_count": null,
   "metadata": {},
   "outputs": [],
   "source": [
    "### 스타벅스 지도 시각화\n",
    "# 입지 관련 가설 세우기\n",
    "# 1. 거주 인구가 많은 지역에 스타벅스 매장이 많이 입지해있을 것\n",
    "# 2. 직장인이 많은 지역에 스타벅스 매장이 많이 입지해있을 것"
   ]
  },
  {
   "cell_type": "code",
   "execution_count": null,
   "metadata": {},
   "outputs": [],
   "source": [
    "### 데이터 수집 (서울시 내)\n",
    "# 1. 스타벅스들의 위치\n",
    "# 2. 인구 통계 데이터 수집"
   ]
  },
  {
   "cell_type": "code",
   "execution_count": 31,
   "metadata": {},
   "outputs": [
    {
     "name": "stderr",
     "output_type": "stream",
     "text": [
      "C:\\Users\\tjoeun709\\AppData\\Local\\Temp\\ipykernel_8976\\3626720024.py:6: DeprecationWarning: executable_path has been deprecated, please pass in a Service object\n",
      "  driver = webdriver.Chrome(path)\n"
     ]
    }
   ],
   "source": [
    "from selenium import webdriver\n",
    "import time\n",
    "from bs4 import BeautifulSoup\n",
    "import pandas as pd\n",
    "\n",
    "path = 'c:/webdriver/chromedriver.exe'\n",
    "driver = webdriver.Chrome(path)\n",
    "driver.get('https://www.starbucks.co.kr/store/store_map.do')"
   ]
  },
  {
   "cell_type": "code",
   "execution_count": 32,
   "metadata": {},
   "outputs": [
    {
     "name": "stderr",
     "output_type": "stream",
     "text": [
      "C:\\Users\\tjoeun709\\AppData\\Local\\Temp\\ipykernel_8976\\658924443.py:2: DeprecationWarning: find_element_by_css_selector is deprecated. Please use find_element(by=By.CSS_SELECTOR, value=css_selector) instead\n",
      "  driver.find_element_by_css_selector(local_btn).click()\n",
      "C:\\Users\\tjoeun709\\AppData\\Local\\Temp\\ipykernel_8976\\658924443.py:6: DeprecationWarning: find_element_by_css_selector is deprecated. Please use find_element(by=By.CSS_SELECTOR, value=css_selector) instead\n",
      "  driver.find_element_by_css_selector(seoul_btn).click()\n",
      "C:\\Users\\tjoeun709\\AppData\\Local\\Temp\\ipykernel_8976\\658924443.py:10: DeprecationWarning: find_element_by_css_selector is deprecated. Please use find_element(by=By.CSS_SELECTOR, value=css_selector) instead\n",
      "  driver.find_element_by_css_selector(all_btn).click()\n"
     ]
    }
   ],
   "source": [
    "local_btn = 'header.loca_search > h3 > a'\n",
    "driver.find_element_by_css_selector(local_btn).click()\n",
    "time.sleep(1)\n",
    "\n",
    "seoul_btn = 'ul.sido_arae_box > li:nth-child(1) > a'\n",
    "driver.find_element_by_css_selector(seoul_btn).click()\n",
    "time.sleep(1)\n",
    "\n",
    "all_btn = 'ul.gugun_arae_box > li:nth-child(1) > a'\n",
    "driver.find_element_by_css_selector(all_btn).click()\n",
    "time.sleep(3)"
   ]
  },
  {
   "cell_type": "code",
   "execution_count": 67,
   "metadata": {},
   "outputs": [],
   "source": [
    "html = driver.page_source\n",
    "soup = BeautifulSoup(html, 'html.parser')\n",
    "datas = soup.select('ul.quickSearchResultBoxSidoGugun > li.quickResultLstCon')\n",
    "types = soup.select('ul.quickSearchResultBoxSidoGugun > li.quickResultLstCon > i')\n",
    "addrs = soup.select('ul.quickSearchResultBoxSidoGugun > li.quickResultLstCon > p')\n",
    "\n",
    "\n",
    "starbucks_seoul = []\n",
    "\n",
    "for i in range(len(datas)) :\n",
    "    name = datas[i]['data-name']\n",
    "    lat = datas[i]['data-lat']\n",
    "    lon = datas[i]['data-long']\n",
    "    typ = str(types[i].get('class'))[6:13]\n",
    "    addr = addrs[i].text[:-9]\n",
    "    phone = addrs[i].text[-9:]\n",
    "    starbucks_seoul.append([name, lat, lon, typ, addr, phone])\n",
    "\n",
    "\n",
    "starbucks_seoul_df = pd.DataFrame(starbucks_seoul, columns=['매장명','위도','경도','매장타입','주소','전화번호'])\n",
    "\n",
    "starbucks_seoul_df.to_excel('data/5_starbucks_seoul.xlsx', index=False)\n"
   ]
  }
 ],
 "metadata": {
  "interpreter": {
   "hash": "26de051ba29f2982a8de78e945f0abaf191376122a1563185a90213a26c5da77"
  },
  "kernelspec": {
   "display_name": "Python 3.10.3 64-bit",
   "language": "python",
   "name": "python3"
  },
  "language_info": {
   "codemirror_mode": {
    "name": "ipython",
    "version": 3
   },
   "file_extension": ".py",
   "mimetype": "text/x-python",
   "name": "python",
   "nbconvert_exporter": "python",
   "pygments_lexer": "ipython3",
   "version": "3.10.3"
  },
  "orig_nbformat": 4
 },
 "nbformat": 4,
 "nbformat_minor": 2
}
