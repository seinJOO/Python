{
 "cells": [
  {
   "cell_type": "code",
   "execution_count": 91,
   "metadata": {},
   "outputs": [
    {
     "name": "stdout",
     "output_type": "stream",
     "text": [
      "you2@naver.com\n",
      "kimjs@gmail.com\n"
     ]
    }
   ],
   "source": [
    "# [문제1] email 양식 처리조건에 맞게 정규표현식을 적용하여 출력되도록 하시오\n",
    "# 아이디 : 첫자는 영문소문자, 단어길이 4자 이상\n",
    "# 호스트이름 : 영문소문자 시작, 단어길이 3자 이상\n",
    "# 최상위 도메인 : 영문소문자 3자리 이하\n",
    "# 정규표현식 기본 패턴 : '메타문자@메타문자.메타문자'\n",
    "\n",
    "email = \"\"\"hong@12.com\n",
    "you2@naver.com\n",
    "12kang@hanmail.net\n",
    "kimjs@gmail.com\"\"\"\n",
    "\n",
    "from re import findall, match\n",
    "\n",
    "for e in email.split(sep = '\\n') :\n",
    "    if match('[a-z]+\\\\w?@[a-z]+\\\\w?.[a-z]+\\\\w?', e) :\n",
    "        id, tmp = e.split('@')\n",
    "        if len(id) >= 4 :\n",
    "            host, domain = tmp.split('.')\n",
    "            if len(host) >= 3 and len(domain) <= 3 : \n",
    "                print(e)"
   ]
  },
  {
   "cell_type": "code",
   "execution_count": 90,
   "metadata": {},
   "outputs": [
    {
     "name": "stdout",
     "output_type": "stream",
     "text": [
      "names = ['홍길동', '이순신', '유관순']\n"
     ]
    }
   ],
   "source": [
    "# [문제 2] 입사년도이름급여 순으로 정보가 기록된 emp 변수를 이용하여 사원의 이름만 추출\n",
    "\n",
    "from re import findall\n",
    "\n",
    "emp = ['2014홍길동220','2002이순신300','2010유관순260']\n",
    "\n",
    "def name_pro(emp) :\n",
    "    names = []\n",
    "    for x in emp :\n",
    "        names += findall('[^0-9]+', x)\n",
    "    return names\n",
    "\n",
    "names = name_pro(emp)\n",
    "print('names =',names)"
   ]
  },
  {
   "cell_type": "code",
   "execution_count": 40,
   "metadata": {},
   "outputs": [
    {
     "name": "stdout",
     "output_type": "stream",
     "text": [
      "전체 사원의 급여 평균 : 260\n"
     ]
    }
   ],
   "source": [
    "# [문제 3] 입사년도이름급여 순으로 정보가 기록된 emp 변수를 이용하여 급여 평균을 추출\n",
    "\n",
    "from re import findall\n",
    "from statistics import mean\n",
    "\n",
    "emp = ['2014홍길동220','2002이순신300','2010유관순260']\n",
    "\n",
    "def pay_pro(emp) :\n",
    "    pays = []\n",
    "    for x in emp :\n",
    "        pays += findall('[0-9]+$', x)\n",
    "    avg = mean([int(pay) for pay in pays])\n",
    "    return avg\n",
    "\n",
    "pays_mean = pay_pro(emp)\n",
    "print('전체 사원의 급여 평균 :',pays_mean)"
   ]
  },
  {
   "cell_type": "code",
   "execution_count": 88,
   "metadata": {},
   "outputs": [
    {
     "name": "stdout",
     "output_type": "stream",
     "text": [
      "이순신 => 300\n",
      "유관순 => 260\n"
     ]
    }
   ],
   "source": [
    "# [문제 4] 입사년도이름급여 순으로 정보가 기록된 emp 변수를 이용하여 \n",
    "#           평균 이상 급여 수령자의 이름만 추출\n",
    "from re import findall\n",
    "from statistics import mean\n",
    "\n",
    "emp = ['2014홍길동220','2002이순신300','2010유관순260']\n",
    "\n",
    "def pay_pro(x) :\n",
    "    from statistics import mean; import re\n",
    "    emps = {}\n",
    "    for emp in x :\n",
    "        emps[emp] = ''.join(findall('[0-9]+$', emp))\n",
    "    avg = mean([int(pay) for pay in emps.values()])\n",
    "    \n",
    "    for k, v in emps.items() :\n",
    "        if int(v) >= avg :\n",
    "            print(''.join(findall('[가-힣]+', k)),'=>', v)\n",
    "\n",
    "pay_pro(emp)"
   ]
  },
  {
   "cell_type": "code",
   "execution_count": 76,
   "metadata": {},
   "outputs": [
    {
     "name": "stdout",
     "output_type": "stream",
     "text": [
      "['afabasabag', 'abttaa', 'uysfsfaa']\n"
     ]
    }
   ],
   "source": [
    "# [문제 5] texts 변수의 텍스트 전처리 - findall은 어떻게 활용....???\n",
    "from re import findall, sub\n",
    "texts = ['AFAB54747,asabag?','abTTa $$;a12:2424.','uysfsfA,A124$***$?']\n",
    "\n",
    "texts = [t.lower() for t in texts]\n",
    "texts = [sub('[?$;:.&,*]+', '', t) for t in texts]\n",
    "texts = [sub('[0-9]+', '', t) for t in texts]\n",
    "texts = [sub(' ','',t) for t in texts]\n",
    "print(texts)"
   ]
  }
 ],
 "metadata": {
  "interpreter": {
   "hash": "b89b5cfaba6639976dc87ff2fec6d58faec662063367e2c229c520fe71072417"
  },
  "kernelspec": {
   "display_name": "Python 3.10.3 64-bit",
   "language": "python",
   "name": "python3"
  },
  "language_info": {
   "codemirror_mode": {
    "name": "ipython",
    "version": 3
   },
   "file_extension": ".py",
   "mimetype": "text/x-python",
   "name": "python",
   "nbconvert_exporter": "python",
   "pygments_lexer": "ipython3",
   "version": "3.10.3"
  },
  "orig_nbformat": 4
 },
 "nbformat": 4,
 "nbformat_minor": 2
}
