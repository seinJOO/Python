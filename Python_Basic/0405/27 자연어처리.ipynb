{
 "cells": [
  {
   "cell_type": "code",
   "execution_count": 4,
   "metadata": {},
   "outputs": [
    {
     "name": "stdout",
     "output_type": "stream",
     "text": [
      "['http://www.naver.com', 'https://www.daum.net', 'www.hongildong.com']\n",
      "['http://www.naver.com', 'https://www.daum.net']\n"
     ]
    }
   ],
   "source": [
    "## 텍스트 처리 : 올바른 문장만 선택하는 텍스트 전처리 과정\n",
    "# 비정형 자료를 수집한 경우 올바르지 않은 문장이 포함될 수 있기 때문\n",
    "\n",
    "# 예) 도메인 주소의 http:// 로 시작되지 않는 주소를 비정상 자료로 가정하여,\n",
    "#     수집된 자료에서 제외하는 예시\n",
    "\n",
    "# 텍스트 자료\n",
    "multi_line = \"\"\"http://www.naver.com\n",
    "https://www.daum.net\n",
    "www.hongildong.com\"\"\"\n",
    "\n",
    "import re                               # 호출 형식 1\n",
    "from re import split, compile, match    # 호출 형식 2 - match는 주로 검증을 위한 메서드\n",
    "\n",
    "# 구분자를 사용한 문자열 분리 (split()) - 클래스에 있는 split이 아님!\n",
    "web_site = split('\\n', multi_line)      # split()을 이용한\n",
    "print(web_site)\n",
    "\n",
    "# 패턴 객체 만들기\n",
    "pat = compile('http[s]?://')        # https*은 s가 2개 이상 나올 수 있음 -> 한 글자만 0번 혹은 1번 반복하는 ? 를 사용\n",
    "sel_site = [site for site in web_site if match(pat, site)]    # 리스트 내포 (List comprehension) - match는 부합하면 True, 아니면 False 반환\n",
    "'''\n",
    "sel_site = []\n",
    "for site in web_site :\n",
    "    if match(pat, site) :\n",
    "        sel_site.append(site)\n",
    "'''\n",
    "print(sel_site)"
   ]
  },
  {
   "cell_type": "code",
   "execution_count": 38,
   "metadata": {},
   "outputs": [
    {
     "name": "stdout",
     "output_type": "stream",
     "text": [
      "['우리나라      대한민국, 우리나라%$ 만세', '주식초&보 500gram 수강생 모집!', '나는 대한민국 사람', '보험료 15000원에 평생 보장 마감 임박', '나는 홍길동']\n",
      "['우리나라      대한민국, 우리나라%$ 만세', '주식초&보 gram 수강생 모집!', '나는 대한민국 사람', '보험료 원에 평생 보장 마감 임박', '나는 홍길동']\n",
      "['우리나라      대한민국 우리나라%$ 만세', '주식초&보 gram 수강생 모집', '나는 대한민국 사람', '보험료 원에 평생 보장 마감 임박', '나는 홍길동']\n",
      "['우리나라      대한민국 우리나라 만세', '주식초보 gram 수강생 모집', '나는 대한민국 사람', '보험료 원에 평생 보장 마감 임박', '나는 홍길동']\n",
      "['우리나라      대한민국 우리나라 만세', '주식초보  수강생 모집', '나는 대한민국 사람', '보험료 원에 평생 보장 마감 임박', '나는 홍길동']\n",
      "['우리나라 대한민국 우리나라 만세', '주식초보 수강생 모집', '나는 대한민국 사람', '보험료 원에 평생 보장 마감 임박', '나는 홍길동']\n"
     ]
    }
   ],
   "source": [
    "## 자연어 전처리 \n",
    "# 문장에서 명사만 추출하여 단어의 출현 빈도수를 분석하기 위해, 문서에 포함된 문장부호, 특수문자, 숫자 등을 제거해야 함\n",
    "# 이처럼 요구하는 내용에 따라 불필요한 내용들을 제거하는 과정\n",
    "\n",
    "from re import findall, sub     # findall, sub는 주로 데이터를 여과할 때 사용 (match는 검증용)\n",
    "\n",
    "# 예제 텍스트\n",
    "texts = ['우리나라      대한민국, 우리나라%$ 만세','주식초&보 500GRAM 수강생 모집!',\n",
    "         '나는 대한민국 사람','보험료 15000원에 평생 보장 마감 임박','나는 홍길동']\n",
    "# 1단계 - 소문자로 일괄변경\n",
    "texts_rel = [t.lower() for t in texts]\n",
    "print(texts_rel)\n",
    "# 2단계 - 숫자 제거\n",
    "texts_rel = [sub('[0-9]', '', text) for text in texts_rel]\n",
    "print(texts_rel)\n",
    "# 3단계 - 문장부호 제거\n",
    "texts_rel = [sub('[.,`\\'\\\"!?:;]','',text) for text in texts_rel]\n",
    "print(texts_rel)\n",
    "\n",
    "# 4단계 - 특수문자 제거\n",
    "texts_rel = [sub('[!@#$%^&*()=+/<>|]','',text) for text in texts_rel]\n",
    "print(texts_rel)\n",
    "\n",
    "# 5단계 - 영문자 제거\n",
    "texts_rel = [''.join(findall('[^a-z]', text)) for text in texts_rel]    # 영문자를 제외한 모든 문자 결합시키기\n",
    "print(texts_rel)\n",
    "\n",
    "# 6단계 - 공백 제거\n",
    "texts_rel = [' '.join(text.split()) for text in texts_rel]\n",
    "print(texts_rel)\n",
    "\n",
    "# ['우리나라 대한민국 우리나라 만세', '주식초보 수강생 모집', '나는 대한민국 사람', '보험료 원에 평생 보장 마감 임박', '나는 홍길동']"
   ]
  },
  {
   "cell_type": "code",
   "execution_count": 43,
   "metadata": {},
   "outputs": [
    {
     "name": "stdout",
     "output_type": "stream",
     "text": [
      "['우리나라 대한민국 우리나라 만세', '주식초보 수강생 모집', '나는 대한민국 사람', '보험료 원에 평생 보장 마감 임박', '나는 홍길동']\n"
     ]
    }
   ],
   "source": [
    "# 전처리 과정을 함수로 만들기\n",
    "# 함수명 : clean_text 1~6단계 작업 진행\n",
    "\n",
    "from re import sub, findall\n",
    "\n",
    "def clean_text(text) :\n",
    "    text = text.lower()                            # 1단계 - 영소문자로 일괄 변경\n",
    "    text = sub('[0-9]','', text)                   # 2단계 - 숫자 제거\n",
    "    text = sub('[.,`\\'\\\"!?:;]','', text)           # 3단계 - 문장부호 제거\n",
    "    text = sub('[!@#$%^&*()=+/<>|]','', text)      # 4단계 - 특수문자 제거\n",
    "    text = ''.join(findall('[^a-z]', text))        # 5단계 - 영문자 제거\n",
    "    text = ' '.join(text.split())                  # 6단계 - 공백 제거\n",
    "    return text\n",
    "\n",
    "\n",
    "texts = ['우리나라      대한민국, 우리나라%$ 만세','주식초&보 500GRAM 수강생 모집!',\n",
    "         '나는 대한민국 사람','보험료 15000원에 평생 보장 마감 임박','나는 홍길동']\n",
    "texts = [clean_text(text) for text in texts]\n",
    "print(texts)"
   ]
  },
  {
   "cell_type": "code",
   "execution_count": null,
   "metadata": {},
   "outputs": [],
   "source": []
  }
 ],
 "metadata": {
  "interpreter": {
   "hash": "b89b5cfaba6639976dc87ff2fec6d58faec662063367e2c229c520fe71072417"
  },
  "kernelspec": {
   "display_name": "Python 3.10.3 64-bit",
   "language": "python",
   "name": "python3"
  },
  "language_info": {
   "codemirror_mode": {
    "name": "ipython",
    "version": 3
   },
   "file_extension": ".py",
   "mimetype": "text/x-python",
   "name": "python",
   "nbconvert_exporter": "python",
   "pygments_lexer": "ipython3",
   "version": "3.10.3"
  },
  "orig_nbformat": 4
 },
 "nbformat": 4,
 "nbformat_minor": 2
}
