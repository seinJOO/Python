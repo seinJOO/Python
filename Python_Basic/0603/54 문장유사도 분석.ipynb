{
 "cells": [
  {
   "cell_type": "markdown",
   "metadata": {},
   "source": [
    "##### 레벤슈타인 거리 계산과 n-gram "
   ]
  },
  {
   "cell_type": "code",
   "execution_count": null,
   "metadata": {},
   "outputs": [],
   "source": [
    "### 레벤슈타인 거리 계산과 n-gram을 사용하여 단어 또는 문장의 유사도를 분석하기 \n",
    "# 레벤슈타인 거리(Lvenshtein distance) : 두 개의 문자열이 어느 정도 다른지를 나타내는 것\n",
    "# = 특정 값을 대상 값으로 변경할 때 필요한 조작 횟수를 말함"
   ]
  },
  {
   "cell_type": "code",
   "execution_count": 3,
   "metadata": {},
   "outputs": [
    {
     "name": "stdout",
     "output_type": "stream",
     "text": [
      "2\n",
      "0 신촌역\n",
      "1 신천역\n",
      "2 신천군\n",
      "2 신발\n",
      "2 마곡역\n"
     ]
    }
   ],
   "source": [
    "# 레벤슈타인 거리 구하기 함수\n",
    "def calc_distance(a,b) :\n",
    "    '''레벤슈타인 거리 계산하기 (두 값 사이의 거리) '''\n",
    "    if a == b : return 0\n",
    "    a_len = len(a)\n",
    "    b_len = len(b)\n",
    "    if a == '' : return b_len\n",
    "    if b == '' : return a_len\n",
    "    \n",
    "    # 2차원 표 ( 행 : a_len + 1, 열 : b_len + 1) 준비하기\n",
    "    matrix = [[] for i in range(a_len+1)]   # a의 글자수만큼의 빈 리스트 생성\n",
    "    for i in range(a_len + 1) :             # 0으로 초기화\n",
    "        matrix[i] = [0 for j in range(b_len + 1)]\n",
    "    \n",
    "    # 0일 때 초깃값 설정\n",
    "    for i in range(a_len + 1) :\n",
    "        matrix[i][0] = i\n",
    "    for j in range(b_len + 1) :\n",
    "        matrix[0][j] = j\n",
    "        \n",
    "    # 표 채우기\n",
    "    for i in range(1, a_len + 1) :\n",
    "        ac = a[i-1]\n",
    "        for j in range(1, b_len + 1) :\n",
    "            bc = b[j-1]\n",
    "            cost = 0 if (ac == bc) else 1\n",
    "            \n",
    "            matrix[i][j] = min([\n",
    "                matrix[i-1][j] + 1,         # 문자 삽입\n",
    "                matrix[i][j-1] + 1,         # 문자 제거\n",
    "                matrix[i-1][j-1] + cost     # 문자 변경\n",
    "            ])\n",
    "    return matrix[a_len][b_len]\n",
    "\n",
    "# '가나다라'와 '가마바라'의 거리\n",
    "print(calc_distance('가나다라', '가마바라'))\n",
    "\n",
    "# 실행 예\n",
    "samples = [\"신촌역\", \"신천군\", \"신천역\", \"신발\", \"마곡역\"]\n",
    "base = samples[0]       # 신촌역이 base값\n",
    "r = sorted(samples, key = lambda n: calc_distance(base, n))\n",
    "for n in r:\n",
    "    print(calc_distance(base, n), n)"
   ]
  }
 ],
 "metadata": {
  "interpreter": {
   "hash": "26de051ba29f2982a8de78e945f0abaf191376122a1563185a90213a26c5da77"
  },
  "kernelspec": {
   "display_name": "Python 3.10.3 64-bit",
   "language": "python",
   "name": "python3"
  },
  "language_info": {
   "codemirror_mode": {
    "name": "ipython",
    "version": 3
   },
   "file_extension": ".py",
   "mimetype": "text/x-python",
   "name": "python",
   "nbconvert_exporter": "python",
   "pygments_lexer": "ipython3",
   "version": "3.10.3"
  },
  "orig_nbformat": 4
 },
 "nbformat": 4,
 "nbformat_minor": 2
}
