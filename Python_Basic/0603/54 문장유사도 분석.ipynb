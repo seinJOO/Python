{
 "cells": [
  {
   "cell_type": "markdown",
   "metadata": {},
   "source": [
    "##### 레벤슈타인 거리 계산과 n-gram "
   ]
  },
  {
   "cell_type": "code",
   "execution_count": null,
   "metadata": {},
   "outputs": [],
   "source": [
    "### 레벤슈타인 거리 계산과 n-gram을 사용하여 단어 또는 문장의 유사도를 분석하기 \n",
    "\n",
    "# 레벤슈타인 거리(Lvenshtein distance) : 두 개의 문자열이 어느 정도 다른지를 나타내는 것\n",
    "# = 특정 값을 대상 값으로 변경할 때 필요한 조작 횟수를 말함"
   ]
  },
  {
   "cell_type": "code",
   "execution_count": 3,
   "metadata": {},
   "outputs": [
    {
     "name": "stdout",
     "output_type": "stream",
     "text": [
      "2\n",
      "0 신촌역\n",
      "1 신천역\n",
      "2 신천군\n",
      "2 신발\n",
      "2 마곡역\n"
     ]
    }
   ],
   "source": [
    "# 레벤슈타인 거리 구하기 함수\n",
    "def calc_distance(a,b) :\n",
    "    '''레벤슈타인 거리 계산하기 (두 값 사이의 거리) '''\n",
    "    if a == b : return 0\n",
    "    a_len = len(a)\n",
    "    b_len = len(b)\n",
    "    if a == '' : return b_len\n",
    "    if b == '' : return a_len\n",
    "    \n",
    "    # 2차원 표 ( 행 : a_len + 1, 열 : b_len + 1) 준비하기\n",
    "    matrix = [[] for i in range(a_len+1)]   # a의 글자수만큼의 빈 리스트 생성\n",
    "    for i in range(a_len + 1) :             # 0으로 초기화\n",
    "        matrix[i] = [0 for j in range(b_len + 1)]\n",
    "    \n",
    "    # 0일 때 초깃값 설정\n",
    "    for i in range(a_len + 1) :\n",
    "        matrix[i][0] = i\n",
    "    for j in range(b_len + 1) :\n",
    "        matrix[0][j] = j\n",
    "        \n",
    "    # 표 채우기\n",
    "    for i in range(1, a_len + 1) :\n",
    "        ac = a[i-1]\n",
    "        for j in range(1, b_len + 1) :\n",
    "            bc = b[j-1]\n",
    "            cost = 0 if (ac == bc) else 1\n",
    "            \n",
    "            matrix[i][j] = min([\n",
    "                matrix[i-1][j] + 1,         # 문자 삽입\n",
    "                matrix[i][j-1] + 1,         # 문자 제거\n",
    "                matrix[i-1][j-1] + cost     # 문자 변경\n",
    "            ])\n",
    "    return matrix[a_len][b_len]\n",
    "\n",
    "# '가나다라'와 '가마바라'의 거리\n",
    "print(calc_distance('가나다라', '가마바라'))\n",
    "\n",
    "# 실행 예\n",
    "samples = [\"신촌역\", \"신천군\", \"신천역\", \"신발\", \"마곡역\"]\n",
    "base = samples[0]       # 신촌역이 base값\n",
    "r = sorted(samples, key = lambda n: calc_distance(base, n))\n",
    "for n in r:\n",
    "    print(calc_distance(base, n), n)"
   ]
  },
  {
   "cell_type": "code",
   "execution_count": null,
   "metadata": {},
   "outputs": [],
   "source": [
    "# N-gram : 이웃한 개의 문자\n",
    "# 문자를 일정 개수의 음절 단위로 끊어서 문장의 유사도를 테스트\n",
    "# ex) 오늘 강남에 갔다 : '오늘', '늘 ', ' 강', '강남', '남에', '에 ', ' 갔', '갔다'"
   ]
  },
  {
   "cell_type": "code",
   "execution_count": 8,
   "metadata": {},
   "outputs": [
    {
     "name": "stdout",
     "output_type": "stream",
     "text": [
      "2-gram :  0.76 ['오늘', '강남', '남에', '에서', '서 ', ' 맛', '맛있', '는 ', ' 스', '스파', '파게', '게티', ' 먹', '먹었', '었다', '다.']\n",
      "3-gram :  0.45 ['강남에', '남에서', '에서 ', ' 맛있', ' 스파', '스파게', '파게티', ' 먹었', '었다.']\n",
      "2-gram :  0.75 ['머신', '신러', '러닝', ' 재', '재미', '미있', '있는', '는 ', ' 기', '기술', '술이', '이라', '라 ', '공부', '부하', '고 ', ' 있', '있습', '습니', '니다', '다.']\n",
      "3-gram :  0.63 ['머신러', '신러닝', ' 재미', '재미있', '미있는', '있는 ', '는 기', ' 기술', '기술이', '술이라', '이라 ', '공부하', '고 있', ' 있습', '있습니', '습니다', '니다.']\n"
     ]
    }
   ],
   "source": [
    "### N-GRAM 유사도 테스트\n",
    "\n",
    "def ngram(s, num) :\n",
    "    res = []\n",
    "    slen = len(s) - num + 1     # out of index 방지\n",
    "    for i in range(slen) :\n",
    "        ss = s[i:i+num]\n",
    "        res.append(ss)\n",
    "    return res\n",
    "\n",
    "def diff_ngram(sa, sb, num) :\n",
    "    a = ngram(sa, num)\n",
    "    b = ngram(sb, num)\n",
    "    re = []\n",
    "    cnt = 0\n",
    "    for i in a :\n",
    "        for j in b:\n",
    "            if i == j :\n",
    "                cnt += 1\n",
    "                re.append(i)\n",
    "    return cnt / len(a), re\n",
    "    \n",
    "    \n",
    "a = \"오늘 강남에서 맛있는 스파게티를 먹었다.\"\n",
    "b = \"강남에서 먹었던 오늘의 스파게티는 맛있었다.\"\n",
    "\n",
    "# 2-gram\n",
    "r2, ng2 = diff_ngram(a, b, 2)     # a와 b를 두 음절씩 끊어서 비교\n",
    "print('2-gram : ', round(r2,2), ng2)\n",
    "r3, ng3 = diff_ngram(a, b, 3)     # a와 b를 두 음절씩 끊어서 비교\n",
    "print('3-gram : ', round(r3,2), ng3)\n",
    "\n",
    "c = \"머신러닝은 매우 재미있는 기술이라 공부하고 있습니다.\"\n",
    "d = \"공부하면 재미있는 기술이라 머신러닝을 배우고 있습니다.\"\n",
    "r2, cd2 = diff_ngram(c, d, 2)\n",
    "print('2-gram : ', round(r2,2), cd2)\n",
    "r3, cd3 = diff_ngram(c, d, 3)     # a와 b를 두 음절씩 끊어서 비교\n",
    "print('3-gram : ', round(r3,2), cd3)"
   ]
  }
 ],
 "metadata": {
  "interpreter": {
   "hash": "26de051ba29f2982a8de78e945f0abaf191376122a1563185a90213a26c5da77"
  },
  "kernelspec": {
   "display_name": "Python 3.10.3 64-bit",
   "language": "python",
   "name": "python3"
  },
  "language_info": {
   "codemirror_mode": {
    "name": "ipython",
    "version": 3
   },
   "file_extension": ".py",
   "mimetype": "text/x-python",
   "name": "python",
   "nbconvert_exporter": "python",
   "pygments_lexer": "ipython3",
   "version": "3.10.3"
  },
  "orig_nbformat": 4
 },
 "nbformat": 4,
 "nbformat_minor": 2
}
