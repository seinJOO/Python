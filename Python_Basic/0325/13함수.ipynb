{
 "cells": [
  {
   "cell_type": "code",
   "execution_count": null,
   "metadata": {},
   "outputs": [],
   "source": [
    "# 함수(Fuction) : 프로그램에서 사용할 기능을 미리 정의해서 구현하는 것\n",
    "#                 또다른 의미의 프로그램 내의 프로그램 (큰 범위의 기능)\n",
    "\n",
    "# python의 함수 정의(생성)\n",
    "# def 함수이름([인자list]) :\n",
    "#     함수 기능에 대한 정의1\n",
    "#     함수 기능에 대한 정의2\n",
    "#     함수 기능에 대한 정의3\n",
    "# \n",
    "# 1) 함수 사용에 있어 설명이 필요한 경우, 함수 내부에 여러줄 주석을 사용하여 기술\n",
    "# 2) 함수를 만들 때 함수의 기능을 바로 알 수 있는 이름으로 정의하기(권장)\n",
    "# 3) 미리 만들어 놓은 함수를 호출 시에는 \"함수이름([인자...])\"로 호출\n",
    "# 4) 정의하여 생성된 함수의 반환값이 있는 경우 \"return\" 명령어를 사용함\n",
    "#       -> 함수에 반환값이 있는 경우 \"return\"을 사용, 없는 경우에는 \"return\"으로 함수 종료\n",
    "# 5) 필요 시 함수에 인자값을 전달할 수 있음. 전달된 인자값(value)은 함수 정의시에 만든 \"매개변수\"에 그 값이 저장됨\n",
    "#       -> 이후 함수 정의부에서 해당 내용을 가지고 구동된다"
   ]
  },
  {
   "cell_type": "code",
   "execution_count": 1,
   "metadata": {},
   "outputs": [
    {
     "name": "stdout",
     "output_type": "stream",
     "text": [
      "\n",
      "입력한 내용은 : 5\n"
     ]
    }
   ],
   "source": [
    "# [예제1] 사용자가 입력한 값을 출력하는 함수 구현\n",
    "\n",
    "# 함수의 정의\n",
    "def pr() :  #인자값 없이 처리되는 함수\n",
    "    txt = input(\"입력값 : \")\n",
    "    print()\n",
    "    print(\"입력한 내용은 :\",txt)\n",
    "\n",
    "# 함수 호출\n",
    "pr()"
   ]
  },
  {
   "cell_type": "code",
   "execution_count": 3,
   "metadata": {},
   "outputs": [
    {
     "data": {
      "text/plain": [
       "'0.67'"
      ]
     },
     "execution_count": 3,
     "metadata": {},
     "output_type": "execute_result"
    }
   ],
   "source": [
    "# [실습1] 입력값을 받아서 사칙연산하는 프로그램 함수를 사용 - calc()로 구현\n",
    "import os\n",
    "def calc() :\n",
    "    while True :\n",
    "        os.system('cls')\n",
    "        exp = input('식을 입력해주세요 : ')\n",
    "        if '+' in exp :\n",
    "            num1, num2 = exp.split('+')\n",
    "            print(\"계산 결과 :\",int(num1)+int(num2))\n",
    "        elif '-' in exp :\n",
    "            num1, num2 = exp.split('-')\n",
    "            print(\"계산 결과 :\",int(num1)-int(num2))\n",
    "        elif '*' in exp :\n",
    "            num1, num2 = exp.split('*')\n",
    "            print(\"계산 결과 :\",int(num1)*int(num2))\n",
    "        elif '/' in exp :\n",
    "            num1, num2 = exp.split('/')\n",
    "            print(\"계산 결과 :\",\"{:.2f}\".format(int(num1)/int(num2)))\n",
    "        else :\n",
    "            print('수식이 잘못 입력되었습니다.')\n",
    "        chk = input('사칙연산을 계속하시겠습니까?(y/n) : ')\n",
    "        if chk == 'n' : break    \n",
    "\n",
    "calc()"
   ]
  },
  {
   "cell_type": "code",
   "execution_count": 5,
   "metadata": {},
   "outputs": [
    {
     "name": "stdout",
     "output_type": "stream",
     "text": [
      "\n",
      "입력한 내용은 :  985\n"
     ]
    }
   ],
   "source": [
    "# [예제 2] 함수의 인자값 사용 - 사용자가 입력한 값을 출력하는 함수 구현\n",
    "#                           사용자로부터 입력받은 값을 인자값으로 처리하는 함수\n",
    "# 함수 정의\n",
    "def pr2(str1) :\n",
    "    print(\"입력한 내용은 : \",str1)\n",
    "# 메인\n",
    "txt = input(\"입력 : \")\n",
    "print()\n",
    "pr2(txt)"
   ]
  },
  {
   "cell_type": "code",
   "execution_count": null,
   "metadata": {},
   "outputs": [],
   "source": [
    "# [실습 2] 실습1의 입력값을 인자값으로 사용하여 함수 구현\n",
    "\n",
    "import os\n",
    "def calc(exp) :\n",
    "    os.system('cls')\n",
    "    if '+' in exp :\n",
    "        num1, num2 = exp.split('+')\n",
    "        print(\"계산 결과 :\",int(num1)+int(num2))\n",
    "    elif '-' in exp :\n",
    "        num1, num2 = exp.split('-')\n",
    "        print(\"계산 결과 :\",int(num1)-int(num2))\n",
    "    elif '*' in exp :\n",
    "        num1, num2 = exp.split('*')\n",
    "        print(\"계산 결과 :\",int(num1)*int(num2))\n",
    "    elif '/' in exp :\n",
    "        num1, num2 = exp.split('/')\n",
    "        print(\"계산 결과 :\",\"{:.2f}\".format(int(num1)/int(num2)))\n",
    "    else : print('수식이 잘못 입력되었습니다.')\n",
    "         \n",
    "while True :\n",
    "    os.system('cls')\n",
    "    exp = input('수식을 입력해주세요 : ')\n",
    "    calc(exp)    \n",
    "    if input('사칙연산을 계속하시겠습니까?(y/n) : ') == 'n' : break"
   ]
  },
  {
   "cell_type": "code",
   "execution_count": 11,
   "metadata": {},
   "outputs": [
    {
     "name": "stdout",
     "output_type": "stream",
     "text": [
      "입력한 문자열 : fdfdfd\n"
     ]
    }
   ],
   "source": [
    "# [예제 3] 사용자로부터 입력받은 값을 return을 사용하여 반환하는 함수\n",
    "# 함수 정의\n",
    "def pr3(str1) :\n",
    "    '''연산 결과 후에 반환값을 전달하는 함수'''\n",
    "    return \"입력한 문자열 : \" + str1\n",
    "\n",
    "# 메인\n",
    "txt = input(\"입력 : \")\n",
    "print(pr3(txt))     # pr3 함수에 커서를 대면 주석이 보임 !!!"
   ]
  },
  {
   "cell_type": "code",
   "execution_count": null,
   "metadata": {},
   "outputs": [],
   "source": [
    "# [실습 3] 위 내용을 토대로 계산 결과를 반환값으로 처리하는 함수로 변환\n",
    "\n",
    "import os\n",
    "def calc(exp) :\n",
    "    result = 0\n",
    "    if '+' in exp :\n",
    "        num1, num2 = exp.split('+')\n",
    "        return int(num1)+int(num2)\n",
    "    elif '-' in exp :\n",
    "        num1, num2 = exp.split('-')\n",
    "        return int(num1)-int(num2)\n",
    "    elif '*' in exp :\n",
    "        num1, num2 = exp.split('*')\n",
    "        return int(num1)*int(num2)\n",
    "    elif '/' in exp :\n",
    "        num1, num2 = exp.split('/')\n",
    "        return \"{:.2f}\".format(int(num1)/int(num2))\n",
    "    else : return \"Error\"\n",
    "         \n",
    "while True :\n",
    "    os.system('cls')\n",
    "    exp = input('수식을 입력해주세요 : ')\n",
    "    print(\"수식 결과 : \",calc(exp))\n",
    "    if input('사칙연산을 계속하시겠습니까?(y/n) : ') == 'n' : \n",
    "        print('사칙연산 종료 !')\n",
    "        break"
   ]
  },
  {
   "cell_type": "code",
   "execution_count": null,
   "metadata": {},
   "outputs": [],
   "source": [
    "# [실습 4] 두 수에 대한 한 번의 계산식을 입력받아서 결과를 출력\n",
    "# 사용자가 계산식을 입력, 이것을 이용하여 처리\n",
    "# calc()가 인자값으로 두 정수와 연산기호를 인자로 받아 처리하는 함수 만들기\n",
    "\n",
    "# 함수 정의\n",
    "def calc(num1,cal,num2) :\n",
    "    result = 0\n",
    "    if cal == '+' :\n",
    "        return num1 + num2\n",
    "    elif cal == '-' :\n",
    "        return num1 - num2\n",
    "    elif cal == '*' :\n",
    "        return num1 * num2\n",
    "    elif cal == '/' :\n",
    "        return \"{:.2f}\".format(num1 / num2)\n",
    "    else : return \"Error\"\n",
    "# 메인    \n",
    "import os\n",
    "while True :\n",
    "    os.system('cls')\n",
    "    num1 = int(input('숫자를 입력해주세요 : '))\n",
    "    cal = input('연산 기호를 입력해주세요 : ')\n",
    "    num2 = int(input('숫자를 입력해주세요 : '))\n",
    "    print(\"수식 결과 : \",calc(num1,cal,num2))\n",
    "    if input('사칙연산을 계속하시겠습니까?(y/n) : ') == 'n' : \n",
    "        print('사칙연산 종료 !')\n",
    "        break"
   ]
  },
  {
   "cell_type": "code",
   "execution_count": null,
   "metadata": {},
   "outputs": [],
   "source": [
    "# 함수 인자 기본값(default) 설정\n",
    "# default : 입력 인자값이 없는 경우에 기본적으로 적용되어지는 값\n",
    "\n",
    "# 형식)\n",
    "# def 함수이름(param1, param2=1) :\n",
    "#   함수정의문1\n",
    "#   함수정의문2\n",
    "\n",
    "# 이렇게 정의된 함수가 있는 경우, param2는 기본값으로 1을 가지고 있다\n",
    "# => 즉, 인자값으로 param2에 전달되지 않아도 기본값으로 1을 가진다"
   ]
  },
  {
   "cell_type": "code",
   "execution_count": 17,
   "metadata": {},
   "outputs": [
    {
     "name": "stdout",
     "output_type": "stream",
     "text": [
      "10\n",
      "20\n"
     ]
    }
   ],
   "source": [
    "# [예제 4] 함수 인자의 기본값 설정(인자1)\n",
    "def pr4(par1 = 10) :\n",
    "    print(par1)\n",
    "# 메인\n",
    "pr4()       # 값을 넣지 않으면 기본값으로 구동됨\n",
    "pr4(20)     # 값을 넣으면 넣은 값으로 구동됨"
   ]
  },
  {
   "cell_type": "code",
   "execution_count": 20,
   "metadata": {},
   "outputs": [
    {
     "name": "stdout",
     "output_type": "stream",
     "text": [
      "10 20\n",
      "15 20\n",
      "10 100\n",
      "100 200\n"
     ]
    }
   ],
   "source": [
    "# 인자를 2개 가진 경우 (모두 default인 경우)\n",
    "def pr5(par1=10, par2=20) :\n",
    "    print(par1,par2)\n",
    "# 메인\n",
    "pr5()           # 10 20\n",
    "pr5(15)         # 15 20\n",
    "pr5(par2=100)   # 10 100\n",
    "pr5(100,200)    # 100 200"
   ]
  },
  {
   "cell_type": "code",
   "execution_count": null,
   "metadata": {},
   "outputs": [],
   "source": [
    "# 인자가 2개 이상, 기본값 1인 경우\n",
    "def pr6(par1, par2=20) :\n",
    "    print(par1,par2)\n",
    "pr6(100,200)    # 100 200\n",
    "pr6(100)        # 100 20\n",
    "pr6(200)        # 200 20\n",
    "# pr6() -> TypeError : pr6() missing 1 required positional argument: 'par1'"
   ]
  },
  {
   "cell_type": "code",
   "execution_count": null,
   "metadata": {},
   "outputs": [],
   "source": [
    "# 인자의 기본값이 맨 앞에 있는 경우 => 기본값 뒤에는 일반 인자가 존재할 수 없다 !!!!!!\n",
    "#def pr7(par1=10, par2) :    => SyntaxError : non-default argument follows default argument\n",
    "def pr7(par1, par2=10) :\n",
    "    print(par1,par2)\n",
    "pr7()"
   ]
  },
  {
   "cell_type": "code",
   "execution_count": 60,
   "metadata": {},
   "outputs": [
    {
     "name": "stdout",
     "output_type": "stream",
     "text": [
      "찐: 4862485\n"
     ]
    }
   ],
   "source": [
    "# [예제 4] 거꾸로 수를 반환하는 함수를 계산, 출력 기능으로 나눠서 작성 (123=>321)\n",
    "def rev(nums) :\n",
    "    '''거꾸로 수 반환'''\n",
    "    result = 0; cnt=-1; tmp = nums\n",
    "    while tmp > 0 :        \n",
    "        tmp = tmp//10\n",
    "        cnt += 1\n",
    "    for x in range(cnt,-1,-1) :\n",
    "        step = abs(x-cnt)\n",
    "        result += (nums // 10**x) * 10**step\n",
    "        nums = nums % 10**x\n",
    "    print(\"찐:\",result)\n",
    "    \n",
    "rev(5842684)"
   ]
  },
  {
   "cell_type": "code",
   "execution_count": null,
   "metadata": {},
   "outputs": [],
   "source": [
    "# [Quiz]\n",
    "# 1) 짝,홀수를 구분하는 함수 작성\n",
    "def odd(num) :\n",
    "    if num % 2 == 0 : \n",
    "        return \"짝수\"\n",
    "    else : \n",
    "        return \"홀수\"\n",
    "    \n",
    "num = int(input('숫자를 입력하세요 : '))\n",
    "print(odd(num))"
   ]
  },
  {
   "cell_type": "code",
   "execution_count": 80,
   "metadata": {},
   "outputs": [
    {
     "name": "stdout",
     "output_type": "stream",
     "text": [
      "3의 배수가 아닙니다\n"
     ]
    }
   ],
   "source": [
    "# 2) 3의 배수를 판별하는 함수 작성\n",
    "def triple(num) :\n",
    "    if not num % 3 : # num % 3 = 0 -> 0은 False이기 때문에 not을 사용함 !!\n",
    "        return True\n",
    "    else : \n",
    "        return False\n",
    "\n",
    "num = int(input('숫자를 입력하세요 : '))\n",
    "if triple(num) :\n",
    "    print('3의 배수입니다')\n",
    "else :\n",
    "    print('3의 배수가 아닙니다')"
   ]
  },
  {
   "cell_type": "code",
   "execution_count": 81,
   "metadata": {},
   "outputs": [
    {
     "name": "stdout",
     "output_type": "stream",
     "text": [
      "5 + 5 = 10\n",
      "사칙연산 종료 !\n"
     ]
    }
   ],
   "source": [
    "# 3) 계산기를 입력,출력,연산기능으로 나눠서 실행하도록 작성(입력->계산처리->출력)\n",
    "# 함수 정의\n",
    "def input() :\n",
    "    num1 = int(input('숫자를 입력해주세요 : '))\n",
    "    cal = input('연산 기호를 입력해주세요 : ')\n",
    "    num2 = int(input('숫자를 입력해주세요 : '))\n",
    "    return num1, cal, num2\n",
    "    \n",
    "def calc(num1,cal,num2) :\n",
    "    result = 0\n",
    "    if cal == '+' :\n",
    "        return num1 + num2\n",
    "    elif cal == '-' :\n",
    "        return num1 - num2\n",
    "    elif cal == '*' :\n",
    "        return num1 * num2\n",
    "    elif cal == '/' :\n",
    "        return \"{:.2f}\".format(num1 / num2)\n",
    "    else : return \"Error\"\n",
    "    \n",
    "def output(num1,cal,num2) :\n",
    "    print(num1,cal,num2,\"=\",calc(num1,cal,num2))\n",
    "# 메인    \n",
    "import os\n",
    "while True :\n",
    "    os.system('cls')\n",
    "    num1, cal, num2 = input()\n",
    "    #result = calc(num1, cal, num2)\n",
    "    output(num1, cal, num2)\n",
    "    if input('사칙연산을 계속하시겠습니까?(y/n) : ') == 'n' : \n",
    "        print('사칙연산 종료 !')\n",
    "        break"
   ]
  },
  {
   "cell_type": "code",
   "execution_count": 82,
   "metadata": {},
   "outputs": [
    {
     "name": "stdout",
     "output_type": "stream",
     "text": [
      "변환 전 값 : 15782 변환 후 값 : 28751\n",
      "변환 전 값 : 25686 변환 후 값 : 68652\n",
      "종료 !\n"
     ]
    }
   ],
   "source": [
    "# 4) 거꾸로 수를 반환하는 함수를 계산, 출력 기능으로 나눠서 작성(123->321)        \n",
    "def rev(nums) : \n",
    "    '''거꾸로 수 반환'''\n",
    "    result = 0\n",
    "    while nums > 0 :         \n",
    "        result = result*10 + (nums % 10)\n",
    "        nums = nums // 10\n",
    "    return result\n",
    "\n",
    "def prt() :\n",
    "    nums, result = 0,0\n",
    "    nums = int(input(\"숫자를 입력하세요 : \"))\n",
    "    result = rev(nums)\n",
    "    print(f\"변환 전 값 : {nums} 변환 후 값 : {result}\") \n",
    "    \n",
    "while True :\n",
    "    prt()\n",
    "    if input('계속하시겠습니까?(y/n) : ') == 'n' : \n",
    "        print('종료 !')\n",
    "        break"
   ]
  },
  {
   "cell_type": "code",
   "execution_count": null,
   "metadata": {},
   "outputs": [],
   "source": [
    "# [예제 5] 친구 이름 관리를 함수로 기능을 나눠서 작성하세요\n",
    "# 1. 친구목록보기, 2. 친구추가, 3.친구삭제, 4.친구수정, 0.종료\n",
    "# 이름 성별 나이\n",
    "def select() :\n",
    "    print('1. 친구목록보기, 2. 친구추가, 3.친구삭제, 4.친구수정, 0.종료')\n",
    "    sel = input('메뉴를 선택하세요 >> ')\n",
    "    if sel not in [0,1,2,3,4] :\n",
    "        sel = int(input('입력 오류! 메뉴를 선택하세요 >> '))\n",
    "    return sel\n",
    "    \n",
    "def view(friends) :\n",
    "    for x in friends :\n",
    "        print(\"{}) 이름 : {} 성별 : {} 나이 : {}\".format(friends.index(x)+1,x[0],x[1],x[2]))\n",
    "    print()\n",
    "\n",
    "def add(friends) :\n",
    "    name = input('친구의 이름을 입력하세요 : ')\n",
    "    gender = input('친구의 성별을 입력하세요(남/여) : ')\n",
    "    age = int(input('친구의 나이를 입력하세요(숫자만) : '))\n",
    "    new = [name,gender,age]\n",
    "    friends.append(new)\n",
    "    print()\n",
    "    return friends\n",
    "\n",
    "def remove(friends) :\n",
    "    view(friends)\n",
    "    idx = int(input('삭제할 친구의 번호를 입력하세요 : '))\n",
    "    friends.pop(idx-1)\n",
    "    print()\n",
    "    return friends\n",
    "\n",
    "def modify(friends) :\n",
    "    view(friends)\n",
    "    idx = int(input('변경할 친구의 번호를 입력하세요 : '))\n",
    "    target = input('무엇을 변경하시겠습니까? : ')\n",
    "    new = input('변경할 내용을 입력하세요 : ')\n",
    "    for x in friends :\n",
    "        if friends.index(x) == idx-1 :\n",
    "            if target == '이름' :\n",
    "                x[0] = new\n",
    "            elif target == '성별' :\n",
    "                x[1] = new\n",
    "            elif target == '나이' :\n",
    "                x[2] = int(new)\n",
    "    print()\n",
    "    return friends\n",
    "\n",
    "def end() :\n",
    "    print('프로그램 종료')\n",
    "\n",
    "import os\n",
    "friends = []\n",
    "while True :\n",
    "    os.system('cls')\n",
    "    sel = int(select())\n",
    "    if sel == 1 :\n",
    "        view(friends)\n",
    "        os.system('pause')\n",
    "    elif sel == 2 :\n",
    "        friends = add(friends)\n",
    "    elif sel == 3 :\n",
    "        friends = remove(friends)\n",
    "    elif sel == 4 :\n",
    "        friends = modify(friends)\n",
    "    elif sel == 0 :\n",
    "        end(); break"
   ]
  },
  {
   "cell_type": "code",
   "execution_count": null,
   "metadata": {},
   "outputs": [],
   "source": [
    "# [문제] 알바 시급 프로그램 작성 (default 인자값 사용)\n",
    "# 시급 : 8500원, 하루 8시간, 한달 30일(기본값)\n",
    "# 다음과 같이 출력하세요\n",
    "# <<시급 계산 프로그램>>\n",
    "# 1. 기본급\n",
    "# 2. 일한 날짜 입력\n",
    "# 번호 입력 >>\n",
    "\n",
    "def alba(days=30, wage=9160, time=8) :\n",
    "    print(\"이번 달의 총 급여는 {:,}원 입니다.\".format(days*wage*time))\n",
    "\n",
    "def sel() :\n",
    "    print('<<< 시급 계산 프로그램 >>>')\n",
    "    print('1. 기본급 \\n2. 일한 날짜 입력')\n",
    "    sel = int(input('번호 입력 >>'))\n",
    "    return sel\n",
    "\n",
    "def getDays() :\n",
    "    days = int(input('이번 달에 일한 기간을 입력해주세요 : '))\n",
    "    return days\n",
    "\n",
    "sel = sel()\n",
    "if sel == 1 :\n",
    "    alba()\n",
    "elif sel == 2 :\n",
    "    alba(getDays())"
   ]
  },
  {
   "cell_type": "code",
   "execution_count": 8,
   "metadata": {},
   "outputs": [
    {
     "name": "stdout",
     "output_type": "stream",
     "text": [
      "10 20 30\n",
      "100 200 300\n",
      "10 20 30\n"
     ]
    }
   ],
   "source": [
    "# 인자값 처리 방식 1 => 연속된 자료를 처리하는 함수의 인자 처리 방식\n",
    "\n",
    "# 예제\n",
    "def pr8(a,b,c) :\n",
    "    print(a,b,c)\n",
    "    \n",
    "pr8(10,20,30)   # 10 20 30\n",
    "\n",
    "# \"*\"를 이용하여 리스트 또는 튜플과 같은 자료를 연속된 인자값으로 처리\n",
    "# 리스트 또는 튜플의 변수값을 받아서 \"unpacking\"하는 방식으로 인자를 전달\n",
    "x = [100,200,300]\n",
    "y = [10,20]\n",
    "z = 1,2,3,4\n",
    "\n",
    "# pr8(x)    => TypeError: pr8() missing 2 required positional arguments: 'b' and 'c' \n",
    "#                       인자값이 함수가 필요로 하는 개수보다 적음(리스트로 입력되기 때문)\n",
    "pr8(*x)     # 100 200 300 리스트 형태가 아님!! 각각의 요소들이 각각 출력됨\n",
    "pr8(*y,30)  # 10 20 30\n",
    "# pr8(*z)   => TypeError: pr8() takes 3 positional arguments but 4 were given \n",
    "#                       인자값이 함수가 필요로 하는 개수보다 많음\n",
    "\n",
    "# \"*\"을 이용하여 연속된 자료(리스트,튜플)에 데이터를 인자로 전달이 가능하나,\n",
    "# 인자의 개수와 전달되는 자료의 개수는 같아야 한다 ****"
   ]
  },
  {
   "cell_type": "code",
   "execution_count": 10,
   "metadata": {},
   "outputs": [
    {
     "name": "stdout",
     "output_type": "stream",
     "text": [
      "() <class 'tuple'>\n",
      "인자가 없음 : 0\n",
      "(10, 20, 30) <class 'tuple'>\n",
      "인자가 (10,20,30) : 60\n",
      "(10, 20, 30, 40, 50) <class 'tuple'>\n",
      "인자가 (10,20,30,40,50) : 150\n"
     ]
    }
   ],
   "source": [
    "# 인자값 처리 방식 2 => 가변 인자 값 처리\n",
    "# 고정인자 => 인자값을 반드시 정해진 값으로, 1:1로 전해지는 값\n",
    "# 가변인자 => 인자값을 반드시 정해진 개수로 전달하지 않고, 가변적으로 전달 가능한 값\n",
    "# 가변인자 설정은 함수 정의 시 매개변수(인자) 앞에 \"*\"을 사용한다\n",
    "# 가변인자는 튜플 형태로 전달된다\n",
    "\n",
    "# ** 인자값을 처리함에 있어 고정인자와 가변인자를 동시에 사용하는 경우 고정인자를 먼저 처리\n",
    "# 순서 : 고정인자 > 가변인자 > default인자\n",
    "\n",
    "# 전달된 인자값들의 합을 구하는 예제\n",
    "def sum_func(*par) :\n",
    "    result = 0\n",
    "    print(par, type(par))\n",
    "    for su in par :\n",
    "        result += su\n",
    "    return result\n",
    "def display() :\n",
    "    sum = 0\n",
    "    sum = sum_func()\n",
    "    print(\"인자가 없음 :\",sum)\n",
    "    sum = sum_func(10,20,30)\n",
    "    print(\"인자가 (10,20,30) :\",sum)\n",
    "    sum = sum_func(10,20,30,40,50)\n",
    "    print(\"인자가 (10,20,30,40,50) :\",sum)\n",
    "\n",
    "display()\n"
   ]
  },
  {
   "cell_type": "code",
   "execution_count": 24,
   "metadata": {},
   "outputs": [
    {
     "name": "stdout",
     "output_type": "stream",
     "text": [
      "{'피카츄': '1마리', '파이리': '2마리', '꼬부기': '없음', '라이칸': 1} <class 'dict'>\n",
      "피카츄:1마리\n",
      "피카츄 1마리\n",
      "파이리:2마리\n",
      "파이리 2마리\n",
      "꼬부기:없음\n",
      "꼬부기 없음\n",
      "라이칸:1\n",
      "라이칸 1\n",
      "test-test\n",
      "\n",
      "test\n",
      "test-test\n",
      "\n",
      "test\n",
      "test1-test2-test3-test4\n",
      "\n",
      "test"
     ]
    }
   ],
   "source": [
    "# dict(**kwargs) - 변수와 value 형태로 값을 전달함\n",
    "# \"**\"를 사용하는 경우 딕셔너리에 대한 packing을 시도한다는 의미로 처리\n",
    "# 예제) 딕셔너리 자료형을 받아서 처리하는 함수\n",
    "def dic_func(**par) :\n",
    "    print(par,type(par))                        # {'피카츄': '1마리', '파이리': '2마리', '꼬부기': '없음', '라이칸': 1} <class 'dict'>\n",
    "    for k in par :\n",
    "        print(\"{}:{}\".format(k,par[k]))         # key, value 형식으로 unpacking되어 출력됨\n",
    "# 메인\n",
    "dic_func(피카츄='1마리',파이리='2마리',꼬부기='없음',라이칸=1)\n",
    "dic = {\n",
    "    'sep' : '-',\n",
    "    'end' : '\\n\\ntest'\n",
    "}\n",
    "print('test','test',**dic)      # test-test\\n\\ntest => 딕셔너리인 dic의 값이 key=value 형태로 각각 추출됨 (아래와 똑같은 문장/기능 수행)\n",
    "print()\n",
    "print('test','test',sep='-', end='\\n\\ntest')    # test-test\\n\\ntest\n",
    "print()\n",
    "\n",
    "lst = ['test1','test2','test3','test4']\n",
    "print(*lst,**dic)       # test1-test2-test3-test4\\n\\ntest"
   ]
  }
 ],
 "metadata": {
  "interpreter": {
   "hash": "b89b5cfaba6639976dc87ff2fec6d58faec662063367e2c229c520fe71072417"
  },
  "kernelspec": {
   "display_name": "Python 3.10.3 64-bit",
   "language": "python",
   "name": "python3"
  },
  "language_info": {
   "codemirror_mode": {
    "name": "ipython",
    "version": 3
   },
   "file_extension": ".py",
   "mimetype": "text/x-python",
   "name": "python",
   "nbconvert_exporter": "python",
   "pygments_lexer": "ipython3",
   "version": "3.10.3"
  },
  "orig_nbformat": 4
 },
 "nbformat": 4,
 "nbformat_minor": 2
}
