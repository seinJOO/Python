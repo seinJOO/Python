{
 "cells": [
  {
   "cell_type": "markdown",
   "id": "b7800a70",
   "metadata": {},
   "source": [
    "### 관련용어\n",
    "\n",
    "1. **크롤링(Crawling)**<br>\n",
    "\n",
    " 웹을 탐색하는 컴퓨터 프로그램(크롤러)을 이용하여 여러 인터넷 사이트의 웹페이지 자료를 수집하여 분류하는 과정\n",
    "\n",
    "\n",
    "2. **스크래핑(Scraping)**<br>\n",
    "\n",
    " 웹 사이트의 내용을 긁어다 원하는 형태로 가공하는 기술. 즉, 웹 사이트의 데이터를 수집하는 모든 작업을 의미\n",
    "\n",
    "\n",
    "3. **파싱(Parsing)**<br>\n",
    "\n",
    " 어떤 페이지(문서, html 등)에서 내가 원하는 데이터를 특정 패턴이나 순서로 추출하여 정보를 가공하는 것  \n",
    " 예) html소스를 문자열로 수집하여 html태그를 인식하도록 정보를 가공하여 html 단위별 분석이 가능하게 구성할 수 있음"
   ]
  },
  {
   "cell_type": "code",
   "execution_count": null,
   "id": "5c96bbaa",
   "metadata": {},
   "outputs": [],
   "source": [
    "import urllib.request"
   ]
  },
  {
   "cell_type": "markdown",
   "id": "f3e706cc",
   "metadata": {},
   "source": []
  },
  {
   "cell_type": "markdown",
   "id": "cca07722",
   "metadata": {},
   "source": []
  },
  {
   "cell_type": "markdown",
   "id": "d4700595",
   "metadata": {},
   "source": []
  }
 ],
 "metadata": {
  "kernelspec": {
   "display_name": "Python 3 (ipykernel)",
   "language": "python",
   "name": "python3"
  },
  "language_info": {
   "codemirror_mode": {
    "name": "ipython",
    "version": 3
   },
   "file_extension": ".py",
   "mimetype": "text/x-python",
   "name": "python",
   "nbconvert_exporter": "python",
   "pygments_lexer": "ipython3",
   "version": "3.10.3"
  }
 },
 "nbformat": 4,
 "nbformat_minor": 5
}
