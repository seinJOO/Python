{
 "cells": [
  {
   "cell_type": "code",
   "execution_count": 11,
   "metadata": {},
   "outputs": [
    {
     "name": "stdout",
     "output_type": "stream",
     "text": [
      "문장 내용\n",
      "['programming is fun', 'very fun!', 'have a good time', 'mouse is input device', 'keyboard is input device', 'computer is input output system']\n",
      "문장 수 : 6\n",
      "단어 내용\n",
      "['programming', 'is', 'fun', 'very', 'fun!', 'have', 'a', 'good', 'time', 'mouse', 'is', 'input', 'device', 'keyboard', 'is', 'input', 'device', 'computer', 'is', 'input', 'output', 'system']\n",
      "단어 수 : 22\n"
     ]
    }
   ],
   "source": [
    "# [문제 1] ftest.txt 파일을 읽어서 줄 수와 단어 수를 카운트\n",
    "# 1. 문장은 '\\n'을 구분자로\n",
    "# 2. 단어는 공백을 구분자로\n",
    "import pandas as pd\n",
    "rfile = open('data/ftest.txt','r',encoding='utf8')\n",
    "lines = rfile.readlines()\n",
    "docs = []\n",
    "words = []\n",
    "\n",
    "for line in lines :\n",
    "    docs.append(line.rstrip('\\n'))\n",
    "\n",
    "for line in docs :\n",
    "    for word in line.split(' ') :\n",
    "        words.append(word)\n",
    "        \n",
    "print('문장 내용')\n",
    "print(docs)\n",
    "print('문장 수 :',len(docs))\n",
    "print('단어 내용')\n",
    "print(words)\n",
    "print('단어 수 :',len(words))"
   ]
  },
  {
   "cell_type": "code",
   "execution_count": 37,
   "metadata": {},
   "outputs": [
    {
     "name": "stdout",
     "output_type": "stream",
     "text": [
      "<class 'pandas.core.frame.DataFrame'>\n",
      "RangeIndex: 5 entries, 0 to 4\n",
      "Data columns (total 3 columns):\n",
      " #   Column  Non-Null Count  Dtype \n",
      "---  ------  --------------  ----- \n",
      " 0   No      5 non-null      int64 \n",
      " 1   Name    5 non-null      object\n",
      " 2   Pay     5 non-null      int64 \n",
      "dtypes: int64(2), object(1)\n",
      "memory usage: 248.0+ bytes\n",
      "None\n",
      "관측치 길이 : 5\n",
      "전체 평균 급여 : 370.0\n",
      "최저 급여 : 150 이름 : 홍길동\n",
      "최고 급여 : 500 이름 : 강감찬\n"
     ]
    }
   ],
   "source": [
    "# [문제 2] emp.csv 파일을 읽어서 정보 출력\n",
    "import pandas as pd\n",
    "import statistics as st\n",
    "\n",
    "emp = pd.read_csv('data/emp.csv',encoding='utf-8')\n",
    "\n",
    "print(emp.info())\n",
    "\n",
    "name = emp['Name']\n",
    "pay = emp['Pay']\n",
    "\n",
    "print('관측치 길이 :',len(emp))\n",
    "print('전체 평균 급여 :','{:.1f}'.format(st.mean(emp['Pay'])))\n",
    "\n",
    "for x in range(len(emp)) :\n",
    "    if min(emp['Pay']) == pay[x] :\n",
    "        print('최저 급여 :',pay[x],'이름 :',name[x])\n",
    "    if max(emp['Pay']) == pay[x] :\n",
    "        print('최고 급여 :',pay[x],'이름 :',name[x])"
   ]
  }
 ],
 "metadata": {
  "interpreter": {
   "hash": "b89b5cfaba6639976dc87ff2fec6d58faec662063367e2c229c520fe71072417"
  },
  "kernelspec": {
   "display_name": "Python 3.10.3 64-bit",
   "language": "python",
   "name": "python3"
  },
  "language_info": {
   "codemirror_mode": {
    "name": "ipython",
    "version": 3
   },
   "file_extension": ".py",
   "mimetype": "text/x-python",
   "name": "python",
   "nbconvert_exporter": "python",
   "pygments_lexer": "ipython3",
   "version": "3.10.3"
  },
  "orig_nbformat": 4
 },
 "nbformat": 4,
 "nbformat_minor": 2
}
