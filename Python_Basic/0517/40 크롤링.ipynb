{
 "cells": [
  {
   "cell_type": "code",
   "execution_count": null,
   "metadata": {},
   "outputs": [],
   "source": [
    "### 멜론 노래 순위 정보 크롤링"
   ]
  },
  {
   "cell_type": "code",
   "execution_count": 40,
   "metadata": {},
   "outputs": [
    {
     "name": "stderr",
     "output_type": "stream",
     "text": [
      "C:\\Users\\TJOEUN~1\\AppData\\Local\\Temp/ipykernel_7940/1985696421.py:5: DeprecationWarning: executable_path has been deprecated, please pass in a Service object\n",
      "  driver = webdriver.Chrome(path)\n"
     ]
    }
   ],
   "source": [
    "import selenium\n",
    "from selenium import webdriver\n",
    "\n",
    "path = \"c:\\\\webdriver\\\\chromedriver.exe\"\n",
    "driver = webdriver.Chrome(path)\n",
    "url = 'https://www.melon.com/chart/index.htm'\n",
    "driver.get(url)"
   ]
  },
  {
   "cell_type": "code",
   "execution_count": 103,
   "metadata": {},
   "outputs": [
    {
     "name": "stderr",
     "output_type": "stream",
     "text": [
      "C:\\Users\\TJOEUN~1\\AppData\\Local\\Temp/ipykernel_7940/3252594290.py:5: DeprecationWarning: find_elements_by_css_selector is deprecated. Please use find_elements(by=By.CSS_SELECTOR, value=css_selector) instead\n",
      "  lines = driver.find_elements_by_css_selector(f'#lst{x} > td:nth-child(6) > div > div > div.ellipsis.rank01 > span > a')\n",
      "C:\\Users\\TJOEUN~1\\AppData\\Local\\Temp/ipykernel_7940/3252594290.py:11: DeprecationWarning: find_elements_by_css_selector is deprecated. Please use find_elements(by=By.CSS_SELECTOR, value=css_selector) instead\n",
      "  lines = driver.find_elements_by_css_selector(f'#lst{x} > td:nth-child(6) > div > div > div.ellipsis.rank02')\n",
      "C:\\Users\\TJOEUN~1\\AppData\\Local\\Temp/ipykernel_7940/3252594290.py:17: DeprecationWarning: find_elements_by_css_selector is deprecated. Please use find_elements(by=By.CSS_SELECTOR, value=css_selector) instead\n",
      "  lines = driver.find_elements_by_css_selector(f'#lst{x} > td:nth-child(7) > div > div > div > a')\n"
     ]
    }
   ],
   "source": [
    "title, artist, album, ranks = [],[],[],[]\n",
    "\n",
    "# 제목 가져오기\n",
    "for x in range(50, 101, 50) :\n",
    "    lines = driver.find_elements_by_css_selector(f'#lst{x} > td:nth-child(6) > div > div > div.ellipsis.rank01 > span > a')\n",
    "    for line in lines :\n",
    "        title.append(line.text)\n",
    "\n",
    "# 가수 가져오기\n",
    "for x in range(50, 101, 50) :\n",
    "    lines = driver.find_elements_by_css_selector(f'#lst{x} > td:nth-child(6) > div > div > div.ellipsis.rank02')\n",
    "    for line in lines :\n",
    "        artist.append(line.text)\n",
    "\n",
    "# 앨범명 가져오기\n",
    "for x in range(50, 101, 50) :\n",
    "    lines = driver.find_elements_by_css_selector(f'#lst{x} > td:nth-child(7) > div > div > div > a')\n",
    "    for line in lines :\n",
    "        album.append(line.text)"
   ]
  },
  {
   "cell_type": "code",
   "execution_count": null,
   "metadata": {},
   "outputs": [],
   "source": [
    "import pandas as pd\n",
    "titles = pd.Series(title, name='제목')\n",
    "artists = pd.Series(artist, name='가수')\n",
    "albums = pd.Series(album, name='앨범명')\n",
    "for x in range(1,101) :\n",
    "    ranks.append(x)\n",
    "\n",
    "chart100 = pd.DataFrame({'순위' : ranks, '제목' : titles, '가수' : artists, '앨범명' : albums})\n",
    "print(chart100.info())\n",
    "print(chart100)"
   ]
  },
  {
   "cell_type": "code",
   "execution_count": null,
   "metadata": {},
   "outputs": [],
   "source": [
    "# 쌤 방식\n",
    "from bs4 import BeautifulSoup\n",
    "data = driver.page_source\n",
    "htmls = BeautifulSoup(data, 'html.parser')\n",
    "songs = htmls.select('tr')[1:]\n",
    "\n",
    "for x in range(100) :\n",
    "    song = songs[x]\n",
    "    title1 = song.select('div.ellipsis.rank01 > span > a')[0].text\n",
    "    singer1 = song.select('div.ellipsis.rank02 > a')[0].text\n",
    "    print(title1, singer1, sep=\"|\")"
   ]
  },
  {
   "cell_type": "code",
   "execution_count": 112,
   "metadata": {},
   "outputs": [],
   "source": [
    "# song_data = 서비스사이트, 순위, 제목, 가수\n",
    "song_data = []\n",
    "rank = 1\n",
    "\n",
    "for song in songs :\n",
    "    title1 = song.select('div.ellipsis.rank01 > span > a')[0].text\n",
    "    singer1 = song.select('div.ellipsis.rank02 > a')[0].text\n",
    "    song_data.append(['Melon', rank, title1, singer1])\n",
    "    rank += 1\n",
    "    \n",
    "# DataFrame으로 만들기\n",
    "Melon100 = pd.DataFrame(song_data, columns=['사이트','순위','제목','가수'])\n",
    "Melon100.to_excel('data/MelonTop100.xlsx')"
   ]
  },
  {
   "cell_type": "code",
   "execution_count": null,
   "metadata": {},
   "outputs": [],
   "source": [
    "# 크롤링 등 관련 자동화 프로그래밍도 가능 - schtasks, chrony 등 알아보기~!"
   ]
  }
 ],
 "metadata": {
  "interpreter": {
   "hash": "af1d12ba1aa5119a4b9806dc857c54821948426eacb882d2b6107e94aa58bb2c"
  },
  "kernelspec": {
   "display_name": "Python 3.9.7 ('base')",
   "language": "python",
   "name": "python3"
  },
  "language_info": {
   "codemirror_mode": {
    "name": "ipython",
    "version": 3
   },
   "file_extension": ".py",
   "mimetype": "text/x-python",
   "name": "python",
   "nbconvert_exporter": "python",
   "pygments_lexer": "ipython3",
   "version": "3.9.7"
  },
  "orig_nbformat": 4
 },
 "nbformat": 4,
 "nbformat_minor": 2
}
