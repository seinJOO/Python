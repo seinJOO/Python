{
 "cells": [
  {
   "cell_type": "code",
   "execution_count": 4,
   "metadata": {},
   "outputs": [
    {
     "name": "stdout",
     "output_type": "stream",
     "text": [
      "<class 'numpy.ndarray'>\n"
     ]
    }
   ],
   "source": [
    "### Numpy\n",
    "# 고성능 수치 계산을 위해 제작된 파이썬 라이브러리\n",
    "# 머신러닝/딥러닝 알고리즘은 기본적으로 다차원 배열에 대한 계산으로 볼 수 있음\n",
    "# 혹은 대량 데이터를 다룰 때 빠른 계산 능력이 요구되기 때문에 사용하는 라이브러리\n",
    "# 핵심 객체 : ndarray\n",
    "\n",
    "# 생성된 Numpy 확인\n",
    "import numpy as np\n",
    "temp = np.array([1,2,3])\n",
    "print(type(temp))       # <class 'numpy.ndarray'>\n",
    "\n",
    "# 튜토리얼 : https://numpy.org/doc/stable/user/quickstart.html"
   ]
  },
  {
   "cell_type": "code",
   "execution_count": 11,
   "metadata": {},
   "outputs": [
    {
     "name": "stdout",
     "output_type": "stream",
     "text": [
      "[1 2 3]\n",
      "(3,)\n",
      "[1 1 2 2 3 4]\n",
      "(6,)\n",
      "int32\n"
     ]
    }
   ],
   "source": [
    "# NumPy 기본 문법\n",
    "\n",
    "# list\n",
    "data1 = [1,2,3]\n",
    "data1       # [1, 2, 3]\n",
    "\n",
    "data2 = [1,1,2,2,3,4]\n",
    "data2       # [1, 1, 2, 2, 3, 4]\n",
    "\n",
    "# np.array로 배열 전환\n",
    "my_array1 = np.array(data1)\n",
    "print(my_array1)        # [1 2 3]   -> 구분자가 ,가 아닌 공백!\n",
    "print(my_array1.shape)  # (3,)\n",
    "\n",
    "my_array2 = np.array(data2)\n",
    "print(my_array2)        # [1 1 2 2 3 4]\n",
    "print(my_array2.shape)  # (6,)\n",
    "\n",
    "# shape : 크기를 확인하는 함수\n",
    "\n",
    "# 리스트 선언 없이 바로 np.array로 사용\n",
    "my_array3 = np.array([3,4,5,12])\n",
    "print(my_array3.dtype)  # int32\n",
    "\n",
    "## Numpy의 Data Types 참조 : https://numpy.org/devdocs/user/basics.types.html "
   ]
  },
  {
   "cell_type": "code",
   "execution_count": 14,
   "metadata": {},
   "outputs": [
    {
     "data": {
      "text/plain": [
       "(2, 2, 2)"
      ]
     },
     "execution_count": 14,
     "metadata": {},
     "output_type": "execute_result"
    }
   ],
   "source": [
    "# 2차 배열\n",
    "my_array4 = np.array([[2,4,6],[8,10,12],[14,16,18],[20,22,24]])\n",
    "my_array4\n",
    "my_array4.shape     # (4, 3)\n",
    "\n",
    "# 3차 배열\n",
    "my_array5 = np.array([[[1,2],[3,4]],[[5,6],[7,8]]])\n",
    "my_array5.shape     # (2, 2, 2)"
   ]
  },
  {
   "cell_type": "code",
   "execution_count": 20,
   "metadata": {},
   "outputs": [
    {
     "name": "stdout",
     "output_type": "stream",
     "text": [
      "[0 1 2 3 4]\n",
      "[1 2 3 4 5 6 7 8]\n",
      "[1 4 7]\n"
     ]
    }
   ],
   "source": [
    "### Numpy 배열 생성 및 둘러보기\n",
    "# Arrange : Range 함수와 유사하며, 배열을 쉽게 만들 수 있음\n",
    "arange_array = np.arange(5)    # arange(start, stop, step, , dtype, ...)\n",
    "print(arange_array)             # [0 1 2 3 4]\n",
    "\n",
    "arange_array2 = np.arange(1,9)\n",
    "print(arange_array2)            # [1 2 3 4 5 6 7 8]\n",
    "\n",
    "arange_array3 = np.arange(1,9,3)\n",
    "print(arange_array3)            # [1 4 7]"
   ]
  },
  {
   "cell_type": "code",
   "execution_count": 27,
   "metadata": {},
   "outputs": [
    {
     "name": "stdout",
     "output_type": "stream",
     "text": [
      "[[0. 0.]\n",
      " [0. 0.]\n",
      " [0. 0.]]\n",
      "Data Type : float64\n",
      "Data Shape : (3, 2)\n",
      "[[1 1 1 1]\n",
      " [1 1 1 1]\n",
      " [1 1 1 1]]\n",
      "Data Type : int32\n",
      "Data Shape : (3, 4)\n"
     ]
    }
   ],
   "source": [
    "### Zeros, Ones - 0으로 채우기, 1로 채우기\n",
    "# 할당하는 사이즈 배열에 0이나 1로 쉽게 초기화하는 함수\n",
    "zeros_arr = np.zeros((3,2))\n",
    "print(zeros_arr)\n",
    "print(\"Data Type :\",zeros_arr.dtype)        # Data Type : float64 (기본 데이터타입은 float)\n",
    "print(\"Data Shape :\",zeros_arr.shape)\n",
    "\n",
    "ones_arr = np.ones((3,4), dtype=\"int32\")\n",
    "print(ones_arr)\n",
    "print(\"Data Type :\",ones_arr.dtype)        # Data Type : int32\n",
    "print(\"Data Shape :\",ones_arr.shape)"
   ]
  },
  {
   "cell_type": "code",
   "execution_count": 43,
   "metadata": {},
   "outputs": [
    {
     "name": "stdout",
     "output_type": "stream",
     "text": [
      "[[1 1]\n",
      " [1 1]\n",
      " [1 1]\n",
      " [1 1]\n",
      " [1 1]\n",
      " [1 1]]\n",
      "Data Shape : (6, 2)\n",
      "----------------------------------------\n",
      "[[[1 1 1]\n",
      "  [1 1 1]]\n",
      "\n",
      " [[1 1 1]\n",
      "  [1 1 1]]]\n",
      "----------------------------------------\n",
      "[[1 1 1 1 1 1 1 1 1 1 1 1]]\n",
      "----------------------------------------\n",
      "[[[1 1 1 1]\n",
      "  [1 1 1 1]\n",
      "  [1 1 1 1]]]\n",
      "----------------------------------------\n",
      "[[1 1 1 1 1 1]\n",
      " [1 1 1 1 1 1]]\n"
     ]
    }
   ],
   "source": [
    "## Reshape - 사이즈는 기존과 동일해야 함 (3*4 = 6*2)\n",
    "after_reshape = ones_arr.reshape(6,2)\n",
    "print(after_reshape)\n",
    "print(\"Data Shape :\", after_reshape.shape)\n",
    "print('-'*40)\n",
    "# ones_arr를 사이즈 변경해보기\n",
    "print(ones_arr.reshape(2,2,3))\n",
    "print('-'*40)\n",
    "print(ones_arr.reshape(1,12))\n",
    "print('-'*40)\n",
    "print(ones_arr.reshape(1,3,4))\n",
    "print('-'*40)\n",
    "\n",
    "# reshape에서 -1은 차원을 자동으로 계산!\n",
    "after_reshape = ones_arr.reshape(-1,6)\n",
    "print(after_reshape)"
   ]
  },
  {
   "cell_type": "code",
   "execution_count": 50,
   "metadata": {},
   "outputs": [
    {
     "name": "stdout",
     "output_type": "stream",
     "text": [
      "[0 1 2 3]\n",
      "my_array의 첫번째 요소는 0\n",
      "my_array[0:3]은 [0 1 2]\n",
      "my_array[:]은 [0 1 2 3]\n",
      "my_array[0:-1]은 [1 2]\n"
     ]
    }
   ],
   "source": [
    "### NumPy 인덱싱과 슬라이싱\n",
    "my_array = np.arange(0, 4)\n",
    "print(my_array)     # [0 1 2 3]\n",
    "\n",
    "print('my_array의 첫번째 요소는',my_array[0])\n",
    "print('my_array[0:3]은', my_array[0:3])\n",
    "print('my_array[:]은', my_array[:])\n",
    "print('my_array[-3:-1]은', my_array[-3:-1])"
   ]
  },
  {
   "cell_type": "code",
   "execution_count": 58,
   "metadata": {},
   "outputs": [
    {
     "name": "stdout",
     "output_type": "stream",
     "text": [
      "(4, 9)\n",
      "[[16 20]\n",
      " [20 25]]\n",
      "[[ 3  6  9 12 15 18 21 24 27]\n",
      " [ 4  8 12 16 20 24 28 32 36]]\n"
     ]
    }
   ],
   "source": [
    "my_array2 = np.array([\n",
    "    [2,4,6,8,10,12,14,16,18],\n",
    "     [3,6,9,12,15,18,21,24,27],\n",
    "     [4,8,12,16,20,24,28,32,36],\n",
    "     [5,10,15,20,25,30,35,40,45]\n",
    "])\n",
    "print(my_array2.shape)\n",
    "print(my_array2[2:4,3:5])   # [행, 열]\n",
    "print(my_array2[1:3,:])"
   ]
  },
  {
   "cell_type": "code",
   "execution_count": 65,
   "metadata": {},
   "outputs": [
    {
     "name": "stdout",
     "output_type": "stream",
     "text": [
      "Height Matrix : [174 165 182 180 168]\n",
      "np.sort() Matrix : [165 168 174 180 182]\n",
      "np.sort()[::-1] : [182 180 174 168 165]\n",
      "argsort() : [1 0 2 3]\n",
      "Ascending : [ 5 10 15 20]\n"
     ]
    }
   ],
   "source": [
    "# NumPy 정렬 : sort(), argsort()\n",
    "\n",
    "# np.sort()\n",
    "height_arr = np.array([174,165,182,180,168])\n",
    "sorted_height_arr = np.sort(height_arr)\n",
    "\n",
    "print('Height Matrix :',height_arr)\n",
    "print('np.sort() Matrix :',sorted_height_arr)\n",
    "\n",
    "# 내림차순\n",
    "desc_height_arr = np.sort(height_arr)[::-1]\n",
    "print('np.sort()[::-1] :', desc_height_arr)\n",
    "\n",
    "# argsort() : 지정된 축을 따라 인덱스의 배열을 반환하도록 하는, 지정된 종류의 정렬을 사용해 입력 배열에서 간접 정렬을 수행\n",
    "fives = np.array([10,5,15,20])\n",
    "fives_order = fives.argsort()   # 인덱스값으로 이루어진 배열 반환\n",
    "print('argsort() :',fives_order)    # 배열값을 오름차순으로 인덱싱\n",
    "print('Ascending :',fives[fives_order])\n",
    "\n",
    "# NumPyTutorials : https://numpy.org/learn/\n",
    "# NumPy Broadcasting : https://numpy.org/doc/stable/user/basics.broadcasting.html\n",
    "\n",
    "# 숙제 : 같은 크기의 두 배열에 대한 연산, 서로 크기가 다른 두 배열의 연산 공부하기~"
   ]
  }
 ],
 "metadata": {
  "interpreter": {
   "hash": "26de051ba29f2982a8de78e945f0abaf191376122a1563185a90213a26c5da77"
  },
  "kernelspec": {
   "display_name": "Python 3.10.3 64-bit",
   "language": "python",
   "name": "python3"
  },
  "language_info": {
   "codemirror_mode": {
    "name": "ipython",
    "version": 3
   },
   "file_extension": ".py",
   "mimetype": "text/x-python",
   "name": "python",
   "nbconvert_exporter": "python",
   "pygments_lexer": "ipython3",
   "version": "3.10.3"
  },
  "orig_nbformat": 4
 },
 "nbformat": 4,
 "nbformat_minor": 2
}
