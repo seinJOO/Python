{
  "nbformat": 4,
  "nbformat_minor": 0,
  "metadata": {
    "colab": {
      "name": "Keras.ipynb",
      "provenance": [],
      "authorship_tag": "ABX9TyO+YSVgh+jvrG5Z7i+Cb8tt",
      "include_colab_link": true
    },
    "kernelspec": {
      "name": "python3",
      "display_name": "Python 3"
    },
    "language_info": {
      "name": "python"
    }
  },
  "cells": [
    {
      "cell_type": "markdown",
      "metadata": {
        "id": "view-in-github",
        "colab_type": "text"
      },
      "source": [
        "<a href=\"https://colab.research.google.com/github/seinJOO/PythonClass/blob/main/Python_Basic/0602/Keras.ipynb\" target=\"_parent\"><img src=\"https://colab.research.google.com/assets/colab-badge.svg\" alt=\"Open In Colab\"/></a>"
      ]
    },
    {
      "cell_type": "markdown",
      "source": [
        "#### 케라스를 이용한 mnist 테스트 "
      ],
      "metadata": {
        "id": "FGJdE3VG-a86"
      }
    },
    {
      "cell_type": "code",
      "execution_count": null,
      "metadata": {
        "id": "LPubjWbz3wio"
      },
      "outputs": [],
      "source": [
        "# 필요한 모듈 import\n",
        "from keras.datasets import mnist\n",
        "from keras.models import Sequential\n",
        "from keras.layers.core import Dense, Dropout, Activation\n",
        "from tensorflow.keras.optimizers import Adam\n",
        "from keras.utils import np_utils"
      ]
    },
    {
      "cell_type": "code",
      "source": [
        "# MNIST 데이터 읽기\n",
        "(x_train, y_train), (x_test, y_test) = mnist.load_data()\n",
        "# x는 이차배열 형태의 픽셀값, y에는 해당 x값이 나타내는 레이블(숫자)이 있음\n",
        "\n",
        "# 데이터를 float32 자료형으로 변환하고 정규화 처리\n",
        "x_train = x_train.reshape(60000, 784).astype('float32')    # 픽셀데이터를 28x28로 reshape / reshape() : 입력을 주어진 모양으로 재구성\n",
        "x_test = x_test.reshape(10000, 784).astype('float32')\n",
        "x_train[0]  # 여기서 보이는 숫자는 색상값임!\n"
      ],
      "metadata": {
        "id": "8aMiuSBK6vhp"
      },
      "execution_count": null,
      "outputs": []
    },
    {
      "cell_type": "code",
      "source": [
        "import matplotlib.pyplot as plt\n",
        "plt.show(x_train[0])    # 이미지 확인가능"
      ],
      "metadata": {
        "id": "rh4icaJu3C8A"
      },
      "execution_count": null,
      "outputs": []
    },
    {
      "cell_type": "code",
      "source": [
        "x_train /= 255\n",
        "x_test /= 255\n",
        "x_train[0]      # << 색상값은 255까지니까 나눠서 1미만의 숫자로 정규화 처리"
      ],
      "metadata": {
        "id": "nqPmAJfl3DOg"
      },
      "execution_count": null,
      "outputs": []
    },
    {
      "cell_type": "code",
      "source": [
        "# 레이블 데이터를 0-9까지 카테고리를 나타내는 배열로 변환 \n",
        "# (정답인 숫자를 바이너리처럼 변환 - 정답에 해당하는 인덱스는 1, 나머지는 0)\n",
        "y_train = np_utils.to_categorical(y_train, 10)\n",
        "y_test = np_utils.to_categorical(y_test, 10)\n",
        "y_train[0]"
      ],
      "metadata": {
        "colab": {
          "base_uri": "https://localhost:8080/"
        },
        "id": "wtp4vh3e9IwS",
        "outputId": "00f7af55-e463-4ef6-bee5-1c5b950dbdf0"
      },
      "execution_count": null,
      "outputs": [
        {
          "output_type": "execute_result",
          "data": {
            "text/plain": [
              "array([0., 0., 0., 0., 0., 1., 0., 0., 0., 0.], dtype=float32)"
            ]
          },
          "metadata": {},
          "execution_count": 14
        }
      ]
    },
    {
      "cell_type": "code",
      "source": [
        "### 모델 구조 정의하기\n",
        "model = Sequential()  # 정확히 하나의 입력 텐서와 하나의 출력 텐서가 있는 일반 레이어 스택\n",
        "\n",
        "# 활성화 함수 Activation() : 딥러닝 네트워크에서 노드에 입력된 값들을 비선형 함수에 통과시킨 후 다음 레이어로 전달할 때 사용하는 함수\n",
        "\n",
        "# 점진적 빌드 시작\n",
        "model.add(Dense(512, input_shape=(784,)))   # Dense : 뉴런의 입력과 출력을 연결 (출력뉴런수, input_shape=입력값개수)\n",
        "model.add(Activation('relu'))   # Activation() : 활성화함수를 설정\n",
        "model.add(Dropout(0.2))   # 레이어의 모든 노드에서 나가는 activation을 특정 확률로 지워버림 - 뉴럴 네트워크의 학습데이터 과적합 방지\n",
        "model.add(Dense(512))\n",
        "model.add(Activation('relu')) # relu : 경사함수 (가장 많이 사용되는 활성화 함수)\n",
        "model.add(Dropout(0.2))\n",
        "model.add(Dense(10))\n",
        "model.add(Activation('softmax'))  # softmax : 다중 클래스 분류 문제를 위한 소프트맥스 회귀\n",
        "\n",
        "\n",
        "# 모델 구축하기\n",
        "model.compile(\n",
        "    loss = 'categorical_crossentropy',\n",
        "    optimizer=Adam(),\n",
        "    metrics=['accuracy'])\n",
        "\n",
        "# 데이터 훈련하기\n",
        "hist = model.fit(x_train, y_train)\n",
        "\n",
        "# 테스트 데이터 평가\n",
        "score = model.evaluate(x_test, y_test, verbose=1)\n",
        "print(\"loss =\", score[0])\n",
        "print(\"score =\", score[1])\n"
      ],
      "metadata": {
        "colab": {
          "base_uri": "https://localhost:8080/"
        },
        "id": "TFSwVrC8-Y6z",
        "outputId": "1935992c-29a5-4a29-ab6c-fec4e8559383"
      },
      "execution_count": null,
      "outputs": [
        {
          "output_type": "stream",
          "name": "stdout",
          "text": [
            "1875/1875 [==============================] - 19s 10ms/step - loss: 0.2123 - accuracy: 0.9347\n",
            "313/313 [==============================] - 1s 4ms/step - loss: 0.0931 - accuracy: 0.9701\n",
            "loss = 0.09308817982673645\n",
            "score = 0.9700999855995178\n"
          ]
        }
      ]
    },
    {
      "cell_type": "code",
      "source": [
        ""
      ],
      "metadata": {
        "id": "WwJGSxPkFL-L"
      },
      "execution_count": null,
      "outputs": []
    },
    {
      "cell_type": "markdown",
      "source": [
        "### Keras로 비만도 판정하기"
      ],
      "metadata": {
        "id": "cY9aM5qtE1ai"
      }
    },
    {
      "cell_type": "code",
      "source": [
        "# 필요한 모듈 import\n",
        "from keras.models import Sequential\n",
        "from keras.layers.core import Dense, Dropout, Activation\n",
        "from keras.callbacks import EarlyStopping\n",
        "import pandas as pd, numpy as np"
      ],
      "metadata": {
        "id": "LNoVFvWrE5_C"
      },
      "execution_count": null,
      "outputs": []
    },
    {
      "cell_type": "code",
      "source": [
        "# BMI 데이터를 읽어서 정규화하기\n",
        "csv = pd.read_csv('/content/sample_data/bmi.csv') # 20000 entries\n",
        "\n",
        "# 몸무게와 키 데이터 정규화\n",
        "csv['weight'] /= 100    # 몸무게 데이터는 100kg 미만임\n",
        "csv['height'] /= 200    # 키 데이터는 2m 미만임\n",
        "X = csv[['weight','height']].to_numpy()\n",
        "\n",
        "# 레이블\n",
        "bclass = {'thin' : [1,0,0], 'normal' : [0,1,0], 'fat' : [0,0,1]}\n",
        "Y = np.empty((20000,3))\n",
        "for i, v in enumerate(csv['label']) :\n",
        "  Y[i] = bclass[v]\n",
        "\n",
        "# 훈련 전용 데이터와 테스트 전용 데이터로 나누기\n",
        "X_train, Y_train = X[0:15000], Y[0:15000]\n",
        "X_test, Y_test = X[15000:20001], Y[15000:20001]\n",
        "\n",
        "# 모델 구조 정의하기\n",
        "model = Sequential()\n",
        "model.add(Dense(512, input_shape=(2,)))\n",
        "model.add(Activation('relu'))\n",
        "model.add(Dropout(0.1))\n",
        "\n",
        "model.add(Dense(512))\n",
        "model.add(Activation('relu'))\n",
        "model.add(Dropout(0.1))\n",
        "\n",
        "model.add(Dense(3))\n",
        "model.add(Activation('softmax'))\n",
        "\n",
        "# 모델 구축하기\n",
        "model.compile(\n",
        "    loss = 'categorical_crossentropy',\n",
        "    optimizer='rmsprop',\n",
        "    metrics=['accuracy'])\n",
        "\n",
        "# 데이터 훈련하기\n",
        "hist = model.fit(\n",
        "    X_train, Y_train,\n",
        "    batch_size = 100, # 튜닝값1\n",
        "    epochs = 20,      # 회차(튜닝값2 ) - 회차의 기본값은 1\n",
        "    validation_split=0.1,\n",
        "    # callbacks = [EarlyStopping(monitor='val_loss', patience=2)],  \n",
        "                # 데이터 정밀도에 문제가 생길 경우 훈련 중지 - 의미없는 데이터로 인한 시간낭비 방지\n",
        "    verbose = 1)\n",
        "\n",
        "# 테스트 데이터 평가\n",
        "score = model.evaluate(X_test, Y_test)\n",
        "print(\"loss =\", score[0])\n",
        "print(\"score =\", score[1])\n",
        "\n"
      ],
      "metadata": {
        "colab": {
          "base_uri": "https://localhost:8080/"
        },
        "id": "hmKd2GesFciq",
        "outputId": "b3d942b6-5686-44b8-dfb5-d0123ec7cb6d"
      },
      "execution_count": null,
      "outputs": [
        {
          "output_type": "stream",
          "name": "stdout",
          "text": [
            "Epoch 1/20\n",
            "135/135 [==============================] - 2s 12ms/step - loss: 0.5215 - accuracy: 0.7867 - val_loss: 0.2765 - val_accuracy: 0.9093\n",
            "Epoch 2/20\n",
            "135/135 [==============================] - 1s 11ms/step - loss: 0.2505 - accuracy: 0.9011 - val_loss: 0.3449 - val_accuracy: 0.8147\n",
            "Epoch 3/20\n",
            "135/135 [==============================] - 1s 10ms/step - loss: 0.1883 - accuracy: 0.9221 - val_loss: 0.3390 - val_accuracy: 0.8233\n",
            "Epoch 4/20\n",
            "135/135 [==============================] - 1s 11ms/step - loss: 0.1613 - accuracy: 0.9332 - val_loss: 0.0966 - val_accuracy: 0.9880\n",
            "Epoch 5/20\n",
            "135/135 [==============================] - 2s 11ms/step - loss: 0.1568 - accuracy: 0.9287 - val_loss: 0.0882 - val_accuracy: 0.9773\n",
            "Epoch 6/20\n",
            "135/135 [==============================] - 1s 11ms/step - loss: 0.1421 - accuracy: 0.9384 - val_loss: 0.0911 - val_accuracy: 0.9660\n",
            "Epoch 7/20\n",
            "135/135 [==============================] - 1s 10ms/step - loss: 0.1357 - accuracy: 0.9446 - val_loss: 0.0823 - val_accuracy: 0.9673\n",
            "Epoch 8/20\n",
            "135/135 [==============================] - 1s 10ms/step - loss: 0.1326 - accuracy: 0.9435 - val_loss: 0.2479 - val_accuracy: 0.8780\n",
            "Epoch 9/20\n",
            "135/135 [==============================] - 1s 10ms/step - loss: 0.1224 - accuracy: 0.9462 - val_loss: 0.3208 - val_accuracy: 0.8593\n",
            "Epoch 10/20\n",
            "135/135 [==============================] - 1s 10ms/step - loss: 0.1205 - accuracy: 0.9470 - val_loss: 0.0625 - val_accuracy: 0.9880\n",
            "Epoch 11/20\n",
            "135/135 [==============================] - 1s 11ms/step - loss: 0.1204 - accuracy: 0.9496 - val_loss: 0.1099 - val_accuracy: 0.9413\n",
            "Epoch 12/20\n",
            "135/135 [==============================] - 1s 11ms/step - loss: 0.1205 - accuracy: 0.9476 - val_loss: 0.0673 - val_accuracy: 0.9773\n",
            "Epoch 13/20\n",
            "135/135 [==============================] - 1s 10ms/step - loss: 0.1111 - accuracy: 0.9528 - val_loss: 0.0620 - val_accuracy: 0.9807\n",
            "Epoch 14/20\n",
            "135/135 [==============================] - 1s 10ms/step - loss: 0.1105 - accuracy: 0.9534 - val_loss: 0.0811 - val_accuracy: 0.9560\n",
            "Epoch 15/20\n",
            "135/135 [==============================] - 1s 11ms/step - loss: 0.1118 - accuracy: 0.9528 - val_loss: 0.0678 - val_accuracy: 0.9700\n",
            "Epoch 16/20\n",
            "135/135 [==============================] - 1s 10ms/step - loss: 0.1041 - accuracy: 0.9547 - val_loss: 0.0892 - val_accuracy: 0.9540\n",
            "Epoch 17/20\n",
            "135/135 [==============================] - 1s 10ms/step - loss: 0.1005 - accuracy: 0.9588 - val_loss: 0.0791 - val_accuracy: 0.9587\n",
            "Epoch 18/20\n",
            "135/135 [==============================] - 1s 11ms/step - loss: 0.1013 - accuracy: 0.9573 - val_loss: 0.1026 - val_accuracy: 0.9447\n",
            "Epoch 19/20\n",
            "135/135 [==============================] - 1s 11ms/step - loss: 0.0978 - accuracy: 0.9565 - val_loss: 0.0577 - val_accuracy: 0.9773\n",
            "Epoch 20/20\n",
            "135/135 [==============================] - 1s 11ms/step - loss: 0.0979 - accuracy: 0.9584 - val_loss: 0.0614 - val_accuracy: 0.9707\n",
            "157/157 [==============================] - 1s 3ms/step - loss: 0.0606 - accuracy: 0.9696\n",
            "loss = 0.060619764029979706\n",
            "score = 0.9696000218391418\n"
          ]
        }
      ]
    },
    {
      "cell_type": "code",
      "source": [
        ""
      ],
      "metadata": {
        "id": "NKqln_mYUzPM"
      },
      "execution_count": null,
      "outputs": []
    }
  ]
}