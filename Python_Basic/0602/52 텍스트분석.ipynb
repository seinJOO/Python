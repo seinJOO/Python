{
 "cells": [
  {
   "cell_type": "code",
   "execution_count": null,
   "metadata": {},
   "outputs": [],
   "source": [
    "# 텍스트 분석과 챗봇 -> 비번 Bigdata!\n",
    "# 말뭉치 등의 데이터 : https://konlpy.org/ko/latest/data/#corpora"
   ]
  },
  {
   "cell_type": "code",
   "execution_count": 17,
   "metadata": {},
   "outputs": [
    {
     "name": "stdout",
     "output_type": "stream",
     "text": [
      "[('아니다', 'Adjective'), ('ㅋㅋ', 'KoreanParticle')]\n"
     ]
    }
   ],
   "source": [
    "### 형태소 분석 라이브러리 (koNLPy)       \n",
    "# pip install konlpy\n",
    "\n",
    "from konlpy.tag import Twitter, Okt  # 트위터 형태소 분석기 (Twitter -> Okt로 바뀜)\n",
    "\n",
    "twitter = Okt()\n",
    "malist = twitter.pos('아니욬ㅋㅋ', norm=True, stem=True)    #  Kkma와 Twitter만 제대로 분석함\n",
    "        # pos() : POS tagger\n",
    "        # :param norm: If True, normalize tokens.   # 잘못된 문법을 맞게 변환\n",
    "        # :param stem: If True, stem tokens.        # (특히 동사를) 원형으로 변환\n",
    "        # :param join: If True, returns joined sets of morph and tag.\n",
    "print(malist)"
   ]
  },
  {
   "cell_type": "code",
   "execution_count": 30,
   "metadata": {},
   "outputs": [
    {
     "name": "stdout",
     "output_type": "stream",
     "text": [
      "용이(344) 평산(320) 사람(315) 소리(272) 얼굴(255) 생각(242) 치수(228) 강청댁(198) 서방(185) 어디(164) 마을(149) 칠성(136) 포수(136) 양반(132) 아이(131) 서희(131) 하나(123) 윤씨(122) 참판(120) 월선(117) 다시(112) 부인(112) 마음(110) 보고(109) 그것(107) 마는(106) 모양(101) 구마(101) 우리(101) 여자(101) 의원(97) 바람(95) 세상(91) 무슨(90) 머리(88) 순이(87) 자식(86) 삼수(86) 일이(79) 구천이(78) 서울(78) 기이(77) 애기(77) 윤보(76) 계집(75) 가지(74) 김훈(74) 누가(73) 목소리(72) 준구(71) "
     ]
    }
   ],
   "source": [
    "### Twitter를 이용한 단어 출현 빈도 분석(카운팅)\n",
    "from konlpy.tag import Twitter, Okt\n",
    "\n",
    "# (1) 파일을 열고 글자를 출력하기 \n",
    "fp = open(\"data/toji1.txt\", \"r\", encoding=\"utf-8\")\n",
    "text = fp.read()\n",
    "\n",
    "# (2) 텍스트를 한 줄씩 처리하기\n",
    "twitter = Okt()\n",
    "word_dic = {}\n",
    "lines = text.split('\\n')\n",
    "for line in lines :\n",
    "    malist = twitter.pos(line)\n",
    "    for word in malist :\n",
    "        # 필요한 형태소 추출하기\n",
    "        if word[1] == 'Noun' and len(word[0]) > 1 :    # 단어가 명사라면\n",
    "            if not (word[0] in word_dic) :  # word_dic에 포함되어있지 않은 경우 키값으로 추가\n",
    "                word_dic[word[0]] = 0\n",
    "            word_dic[word[0]] += 1  # 명사 카운팅\n",
    "\n",
    "## 정렬을 통해 가장 많이 사용된 명사 출력\n",
    "keys = sorted(word_dic.items(), key=lambda x : x[1], reverse=True)  # key, value 형태의 튜플 반환\n",
    "for word, count in keys[:50] :\n",
    "    print(f\"{word}({count})\", end=' ')\n",
    "\n"
   ]
  },
  {
   "cell_type": "code",
   "execution_count": 43,
   "metadata": {},
   "outputs": [
    {
     "name": "stdout",
     "output_type": "stream",
     "text": [
      "ok\n"
     ]
    }
   ],
   "source": [
    "## Word2Vec를 통해 문장을 벡터로 변환하기\n",
    "from konlpy.tag import Okt\n",
    "from gensim.models import word2vec\n",
    "\n",
    "fp = open(\"data/toji1.txt\", \"r\", encoding=\"utf-8\")\n",
    "text = fp.read()\n",
    "\n",
    "twitter = Okt()\n",
    "results = []\n",
    "\n",
    "lines = text.split('\\n')    # 한 줄씩 처리\n",
    "\n",
    "# 형태소 분석하기\n",
    "for line in lines :\n",
    "    malist = twitter.pos(line, norm=True, stem=True)    # 단어 기본형 사용\n",
    "    r = []\n",
    "    for word in malist :\n",
    "        if not word[1] in ['Josa', 'Eomi', 'Punctuation'] :   # 조사, 어미, 구두점 제외\n",
    "            r.append(word[0])\n",
    "    rl = (' '.join(r)).strip()      # 리스트 r의 각 요소를 공백으로 구분하기\n",
    "    results.append(rl)\n",
    "\n",
    "# 파일로 출력\n",
    "toji_file = 'data/toji.clean'\n",
    "with open(toji_file, 'w', encoding='utf-8') as fp :\n",
    "    fp.write('\\n'.join(results))    # 리스트 각 요소를 \\n으로 구분하기\n",
    "    \n",
    "# Word2vec 모델 만들기\n",
    "data = word2vec.LineSentence(toji_file)\n",
    "model = word2vec.Word2Vec(data, vector_size=200, window=10, hs=1, min_count=2, sg=1)\n",
    "model.save(\"data/toji.model\")\n",
    "print(\"ok\")        "
   ]
  },
  {
   "cell_type": "code",
   "execution_count": 57,
   "metadata": {},
   "outputs": [
    {
     "data": {
      "text/plain": [
       "[('하인', 0.8534995317459106),\n",
       " ('최씨', 0.8040891885757446),\n",
       " ('계집', 0.7953749895095825),\n",
       " ('천하다', 0.7944691181182861),\n",
       " ('구걸', 0.793971061706543),\n",
       " ('문전', 0.7917537689208984),\n",
       " ('서성대다', 0.790041446685791),\n",
       " ('런', 0.7880151867866516),\n",
       " ('당주', 0.7851266860961914),\n",
       " ('내력', 0.7824681997299194)]"
      ]
     },
     "execution_count": 57,
     "metadata": {},
     "output_type": "execute_result"
    }
   ],
   "source": [
    "from gensim.models import word2vec\n",
    "model = word2vec.Word2Vec.load('data/toji.model')\n",
    "model.wv.most_similar(positive=['종'])\n"
   ]
  },
  {
   "cell_type": "code",
   "execution_count": null,
   "metadata": {},
   "outputs": [],
   "source": [
    "### wiki.text\n",
    "from konlpy.tag import Twitter, Okt\n",
    "from gensim.models import Word2Vec\n",
    "\n",
    "## 파일 열기\n",
    "read_file = open('data/wiki.txt', 'r', encoding='utf-8')\n",
    "wiki_file = 'wiki.clean'\n",
    "write_file = open('data/'+wiki_file, 'w', encoding='utf-8')\n",
    "\n",
    "## 형태소 분석\n",
    "twitter = Okt()\n",
    "i = 0\n",
    "## 텍스트 한 줄씩 처리\n",
    "while True :\n",
    "    line = read_file.readline()     # 한 줄씩 읽기 (포인터를 자동으로 옮겨가면서 읽음)\n",
    "    if not line : break             # line이 null값일 때 break\n",
    "    if i % 20000 == 0 :\n",
    "        print('current -' + str(i))\n",
    "    i += 1\n",
    "    \n",
    "    # 형태소 분석\n",
    "    malist = twitter.pos(line, norm=True, stem=True)\n",
    "    \n",
    "    # 필요한 단어만 추출해서 담기 (필터링)\n",
    "    r = []\n",
    "    for word in malist :\n",
    "        if not word[1] in ['Josa', 'Eomi', 'Punctuation'] : # 조사, 어미, 구두점 제외\n",
    "            write_file.write(word[0]+\" \")\n",
    "            \n",
    "write_file.close()\n",
    "    "
   ]
  },
  {
   "cell_type": "code",
   "execution_count": 4,
   "metadata": {},
   "outputs": [
    {
     "name": "stdout",
     "output_type": "stream",
     "text": [
      "ok\n"
     ]
    }
   ],
   "source": [
    "from gensim.models import word2vec\n",
    "data = word2vec.Text8Corpus(\"data/wiki.clean\")\n",
    "model = word2vec.Word2Vec(data, vector_size=100)\n",
    "model.save(\"data/wiki.model\")\n",
    "print(\"ok\")"
   ]
  },
  {
   "cell_type": "code",
   "execution_count": 5,
   "metadata": {},
   "outputs": [],
   "source": [
    "from gensim.models import word2vec\n",
    "model = word2vec.Word2Vec.load('data/wiki.model')"
   ]
  },
  {
   "cell_type": "code",
   "execution_count": 7,
   "metadata": {},
   "outputs": [
    {
     "data": {
      "text/plain": [
       "[('Java', 0.899293839931488),\n",
       " ('Perl', 0.8899776935577393),\n",
       " ('Tcl', 0.8887758255004883),\n",
       " ('OCaml', 0.8828892707824707),\n",
       " ('gcc', 0.8746557831764221),\n",
       " ('자바스크립트', 0.8734491467475891),\n",
       " ('Lisp', 0.8704220056533813),\n",
       " ('IDE', 0.8660868406295776),\n",
       " ('JSP', 0.8628169894218445),\n",
       " ('Objective', 0.8528891801834106)]"
      ]
     },
     "execution_count": 7,
     "metadata": {},
     "output_type": "execute_result"
    }
   ],
   "source": [
    "model.wv.most_similar(positive=['Python', '파이썬'])"
   ]
  }
 ],
 "metadata": {
  "interpreter": {
   "hash": "26de051ba29f2982a8de78e945f0abaf191376122a1563185a90213a26c5da77"
  },
  "kernelspec": {
   "display_name": "Python 3.10.3 64-bit",
   "language": "python",
   "name": "python3"
  },
  "language_info": {
   "codemirror_mode": {
    "name": "ipython",
    "version": 3
   },
   "file_extension": ".py",
   "mimetype": "text/x-python",
   "name": "python",
   "nbconvert_exporter": "python",
   "pygments_lexer": "ipython3",
   "version": "3.10.3"
  },
  "orig_nbformat": 4
 },
 "nbformat": 4,
 "nbformat_minor": 2
}
