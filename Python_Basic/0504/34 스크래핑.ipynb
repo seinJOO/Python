{
 "cells": [
  {
   "cell_type": "code",
   "execution_count": null,
   "metadata": {},
   "outputs": [],
   "source": [
    "### 웹 상에서 정보 수집 방법\n",
    "# 파이썬에서는 urllib 모듈을 사용하여 정보 수집\n",
    "\n",
    "# urllib.request 모듈 : 웹 사이트에 있는 데이터에 접근할 수 있는 기능을 제공\n",
    "#                       인증, 리다이렉트, 쿠키 등 인터넷을 이용한 다양한 요청과 처리 지원\n",
    "# 파일을 다운로드 할 때 urllib.request 모듈에 있는 url"
   ]
  },
  {
   "cell_type": "code",
   "execution_count": 2,
   "metadata": {},
   "outputs": [
    {
     "data": {
      "text/plain": [
       "('download\\\\test_download.png', <http.client.HTTPMessage at 0x1bcd48fb430>)"
      ]
     },
     "execution_count": 2,
     "metadata": {},
     "output_type": "execute_result"
    }
   ],
   "source": [
    "# 예시\n",
    "\n",
    "# 라이브러리 import\n",
    "import urllib.request\n",
    "\n",
    "# 접속 경로 및 저장 이름\n",
    "url = \"https://uta.pw/shodou/img/8/4534-min.png\"\n",
    "savename = \"test_download.png\"\n",
    "\n",
    "# 다운로드(디렉토리 미리 생성)\n",
    "urllib.request.urlretrieve(url, \"download\\\\\"+savename)"
   ]
  },
  {
   "cell_type": "code",
   "execution_count": 3,
   "metadata": {},
   "outputs": [
    {
     "data": {
      "text/plain": [
       "('download/naver_main_0504.gif', <http.client.HTTPMessage at 0x1bcd48fb3d0>)"
      ]
     },
     "execution_count": 3,
     "metadata": {},
     "output_type": "execute_result"
    }
   ],
   "source": [
    "# 실습 1\n",
    "\n",
    "url = \"https://s.pstatic.net/static/www/mobile/edit/20220503/mobile_2018301937.gif\"\n",
    "savename = \"naver_main_0504.gif\"\n",
    "\n",
    "urllib.request.urlretrieve(url, \"download/\"+savename)"
   ]
  },
  {
   "cell_type": "code",
   "execution_count": 21,
   "metadata": {},
   "outputs": [
    {
     "name": "stdout",
     "output_type": "stream",
     "text": [
      "download 폴더에 네이버 로고 저장 완료\n"
     ]
    }
   ],
   "source": [
    "# 실습 2 - open을 이용한 NAVER 로고 다운로드\n",
    "# 저장 파일명은 naver_log_open_use.확장자\n",
    "\n",
    "# 라이브러리 임포트\n",
    "import urllib.request\n",
    "\n",
    "# urlopen을 이용하여 데이터 저장(버퍼)\n",
    "url = \"https://s.pstatic.net/static/www/mobile/edit/20220503/mobile_2018301937.gif\"\n",
    "buff = urllib.request.urlopen(url).read() # <class 'http.client.HTTPResponse'> -> read() -> <class 'bytes'> HTTPresponse\n",
    "\n",
    "# 저장된 내용을 open을 이용하여 저장(binary값으로 처리)\n",
    "# open(\"download/naver_log_open_use.gif\", 'wb').write(buff)\n",
    "# 쌤 답\n",
    "with open(\"download/naver_log_open_use.gif\", \"wb\") as f :\n",
    "    f.write(buff)\n",
    "    print(\"download 폴더에 네이버 로고 저장 완료\")"
   ]
  },
  {
   "cell_type": "code",
   "execution_count": 23,
   "metadata": {},
   "outputs": [
    {
     "name": "stdout",
     "output_type": "stream",
     "text": [
      "[ip]\n",
      "API_URI=http://api.aoikujira.com/ip/get.php\n",
      "REMOTE_ADDR=211.217.209.132\n",
      "REMOTE_HOST=211.217.209.132\n",
      "REMOTE_PORT=33748\n",
      "HTTP_HOST=api.aoikujira.com\n",
      "HTTP_USER_AGENT=Python-urllib/3.10\n",
      "HTTP_ACCEPT_LANGUAGE=\n",
      "HTTP_ACCEPT_CHARSET=\n",
      "SERVER_PORT=443\n",
      "FORMAT=ini\n",
      "\n",
      "\n"
     ]
    }
   ],
   "source": [
    "### api 접속\n",
    "\n",
    "# 모듈 import\n",
    "import urllib.request as rq\n",
    "\n",
    "# 데이터 읽기\n",
    "url = \"https://api.aoikujira.com/ip/ini\"\n",
    "res = urllib.request.urlopen(url)\n",
    "data = res.read()\n",
    "\n",
    "# 바이너리를 문자열로 변환\n",
    "text = data.decode(\"utf-8\")\n",
    "print(text)\n"
   ]
  },
  {
   "cell_type": "code",
   "execution_count": 1,
   "metadata": {},
   "outputs": [
    {
     "name": "stdout",
     "output_type": "stream",
     "text": [
      "미국 환율 : 1,272.00\n"
     ]
    }
   ],
   "source": [
    "# 실습 1 - 미국USD 환율만 빼오기\n",
    "# https://finance.naver.com/ 에 접속하여 달러 환율 정보 확인\n",
    "import urllib\n",
    "from bs4 import BeautifulSoup as bs\n",
    "\n",
    "url = \"https://finance.naver.com/\"\n",
    "data = urllib.request.urlopen(url).read().decode(\"euc-kr\")\n",
    "htmls = bs(data, 'html.parser')\n",
    "\n",
    "price = htmls.select_one('div.group1 > table.tbl_home > tbody > tr.up.bold > td').string\n",
    "print(\"미국 환율 : \" + price)"
   ]
  },
  {
   "cell_type": "code",
   "execution_count": 2,
   "metadata": {},
   "outputs": [
    {
     "name": "stdout",
     "output_type": "stream",
     "text": [
      "1위 대한전선 - 2,210원\n",
      "2위 KODEX 200선물인버스2X - 2,660원\n",
      "3위 부산주공 - 963원\n",
      "4위 이스트아시아홀딩스 - 302원\n",
      "5위 삼성 인버스 2X WTI원유 선물 ETN - 125원\n",
      "6위 소니드 - 1,340원\n",
      "7위 대원전선 - 2,165원\n",
      "8위 이루온 - 2,900원\n",
      "9위 TYM - 3,505원\n",
      "10위 휴림로봇 - 3,825원\n"
     ]
    }
   ],
   "source": [
    "# 실습 2 - 거래 상위 10개를 추출해서 출력 - 종목 가격 << 식으로\n",
    "import urllib.request\n",
    "from bs4 import BeautifulSoup\n",
    "\n",
    "url = \"https://finance.naver.com/\"\n",
    "data = urllib.request.urlopen(url).read().decode('euc-kr')\n",
    "htmls = BeautifulSoup(data, 'html.parser')\n",
    "items = htmls.select('#_topItems1 > tr > th > a')\n",
    "prices = htmls.select('#_topItems1 > tr > td')\n",
    "\n",
    "item = [items[i].string for i in range(10)]\n",
    "price = []\n",
    "for x in prices :\n",
    "    if x.string :\n",
    "        price.append(x.string)\n",
    "        \n",
    "for x in range(10) :\n",
    "    print(f\"{x+1}위 {item[x]} - {price[x]}원\")"
   ]
  },
  {
   "cell_type": "code",
   "execution_count": null,
   "metadata": {},
   "outputs": [],
   "source": [
    "# 기상청 RSS : https://www.kma.go.kr/weather/forecast/mid-term-rss3.jsp      << XML 파일\n",
    "# 서울경기 지역 날씨 : https://www.kma.go.kr/weather/forecast/mid-term-rss3.jsp?stnid=109  << stnId=매개변수(지역)\n",
    "# 전국(108) 서울경기(109) 강원도(105) 충청북도(131) 충청남도(133) 전라북도(146) 전라남도(156) 경상북도(143) 경상남도(159) 제주도(184)\n",
    "\n",
    "import urllib.request\n",
    "import urllib.parse\n",
    "API = \"https://www.kma.go.kr/weather/forecast/mid-term-rss3.jsp\"\n",
    "\n",
    "# 매개변수를 URL인코딩\n",
    "values = {\n",
    "    \"stnId\" : \"184\"\n",
    "}\n",
    "params = urllib.parse.urlencode(values)     # urlencode() : dict / tuples => URL query string\n",
    "# print(params)     # 출력 : stnId=184\n",
    "url = API + \"?\" + params\n",
    "\n",
    "# 데이터 다운로드\n",
    "data = urllib.request.urlopen(url).read()\n",
    "text = data.decode(\"utf-8\")\n",
    "print(text)\n"
   ]
  },
  {
   "cell_type": "code",
   "execution_count": null,
   "metadata": {},
   "outputs": [],
   "source": [
    "# 입력값(지역번호)를 받아서 해당 지역의 날씨 정보를 받아오기\n",
    "\n",
    "import urllib.request as rq\n",
    "import urllib.parse\n",
    "\n",
    "n = input('지역번호를 입력하세요 : ')\n",
    "value = {\n",
    "    \"stnId\" : n\n",
    "}\n",
    "param = urllib.parse.urlencode(value)\n",
    "\n",
    "API = \"https://www.kma.go.kr/weather/forecast/mid-term-rss3.jsp\"\n",
    "url = API + \"?\" + param\n",
    "\n",
    "data = urllib.request.urlopen(url).read()\n",
    "text = data.decode(\"utf-8\")\n",
    "print(text)"
   ]
  },
  {
   "cell_type": "code",
   "execution_count": 4,
   "metadata": {},
   "outputs": [
    {
     "name": "stderr",
     "output_type": "stream",
     "text": [
      "C:\\Users\\tjoeun709\\AppData\\Local\\Temp\\ipykernel_10864\\347707092.py:15: DeprecationWarning: executable_path has been deprecated, please pass in a Service object\n",
      "  driver = webdriver.Chrome(path)\n",
      "C:\\Users\\tjoeun709\\AppData\\Local\\Temp\\ipykernel_10864\\347707092.py:19: DeprecationWarning: find_elements_by_class_name is deprecated. Please use find_elements(by=By.CLASS_NAME, value=name) instead\n",
      "  elements = driver.find_elements_by_class_name(\"title\")\n"
     ]
    },
    {
     "name": "stdout",
     "output_type": "stream",
     "text": [
      "<class 'list'>\n",
      "오늘 읽을만한 글\n",
      "오늘 읽을만한 글\n",
      "급등했던 안양시 하락의 비밀\n",
      "경기도에서 아파트가 가장 비싼 지역 TOP 10\n",
      "극과 극 인천 분양시장...검단 '4억 로또' 줍줍 나온다\n",
      "'방화3구역' 1445가구 짓는다…10년 만에 정비계획안 통과\n",
      "5년 전만 해도 전세 살다 1.8억원 보태면 집 살 수 있었는데\n",
      "\"어쩐지 많이 빠지더라\"…공매도로 본 '6만전자'\n",
      "[단독] `잠실 롯데월드` 33년 만에 전면 재개발 추진\n",
      "삼성가, 상속세 위해 대규모 블록딜…주가 `날벼락`\n",
      "노후 대비하려면 이건 알아 둬야죠, 2022년 개정된 기초연금제도 알아보기\n",
      "빌라라도 잡자…올해 3월 서울 빌라 매입 비중 64.8% 역대 최고\n",
      "1기 신도시 재건축, 얼마나 ‘빨리’ 진행될 수 있을까?\n",
      "\"난 괜찮겠지\" 부동산 세금 전략 안 짰다 수억원 날벼락\n",
      "일론 머스크의 뉴럴링크, 인체 실험 앞뒀다\n",
      "\"주행거리 660km\"…9천만 원대 벤츠 EQE 최초 시승\n",
      "[단독] 尹, 6월 방미 추진…4대 그룹 동행 유력\n",
      "월급쟁이부자라는 말이 개소리인 이유와 사회초년생을 위한 재테크 조언ㅣ황금대지 3부\n",
      "\n",
      "\n",
      "\n",
      "\n",
      "\n",
      "\n",
      "\n",
      "\n",
      "\n",
      "\n",
      "\n",
      "\n",
      "\n",
      "\n",
      "\n",
      "\n",
      "\n",
      "\n",
      "\n",
      "\n",
      "\n",
      "\n",
      "\n",
      "\n",
      "\n",
      "\n",
      "\n",
      "\n",
      "\n",
      "\n",
      "\n",
      "\n",
      "\n",
      "\n",
      "\n",
      "\n",
      "\n",
      "\n",
      "\n",
      "\n",
      "\n",
      "\n",
      "\n",
      "\n",
      "\n",
      "\n",
      "\n",
      "\n",
      "\n",
      "\n",
      "\n",
      "\n",
      "\n",
      "\n",
      "\n",
      "\n",
      "\n",
      "\n",
      "\n",
      "\n",
      "\n",
      "\n",
      "\n",
      "\n",
      "\n",
      "\n",
      "\n",
      "\n",
      "\n",
      "\n",
      "\n",
      "공지사항\n",
      "Creators\n",
      "Partners\n",
      "Developers\n",
      "웨일 브라우저\n",
      "프로젝트 꽃\n"
     ]
    }
   ],
   "source": [
    "## selenium 사용하기 >> 웹 테스트 자동화 도구\n",
    "\n",
    "# 1. 모듈 설치하기\n",
    "# pip install selenium\n",
    "\n",
    "# 2. web 드라이버 다운로드 - 크롬 버전에 맞춰서 다운받기\n",
    "# https://chromedriver.chromium.org/downloads\n",
    "\n",
    "# 3. 제어 시작하기 !\n",
    "# 라이브러리 임포트\n",
    "import selenium \n",
    "from selenium import webdriver\n",
    "\n",
    "path = \"c:\\\\webdriver\\\\chromedriver.exe\"\n",
    "driver = webdriver.Chrome(path)\n",
    "driver.get(\"https://www.naver.com\")\n",
    "\n",
    "# 클래스 이름으로 찾아서 가져오기\n",
    "elements = driver.find_elements_by_class_name(\"title\")\n",
    "print(type(elements))\n",
    "print(elements[0].text)\n",
    "\n",
    "for element in elements :\n",
    "    print(element.text)"
   ]
  },
  {
   "cell_type": "code",
   "execution_count": 57,
   "metadata": {},
   "outputs": [
    {
     "name": "stderr",
     "output_type": "stream",
     "text": [
      "C:\\Users\\tjoeun709\\AppData\\Local\\Temp\\ipykernel_14120\\1689966199.py:1: DeprecationWarning: find_element_by_class_name is deprecated. Please use find_element(by=By.CLASS_NAME, value=name) instead\n",
      "  driver.find_element_by_class_name(\"link_login\").click()\n"
     ]
    }
   ],
   "source": [
    "# 로그인 창 클릭하기\n",
    "driver.find_element_by_class_name(\"link_login\").click()"
   ]
  },
  {
   "cell_type": "code",
   "execution_count": 67,
   "metadata": {},
   "outputs": [],
   "source": [
    "driver.get(\"https://www.daum.net\")\n",
    "driver.find_element_by_class_name(\"link_news\").click()"
   ]
  },
  {
   "cell_type": "code",
   "execution_count": 68,
   "metadata": {},
   "outputs": [
    {
     "name": "stderr",
     "output_type": "stream",
     "text": [
      "C:\\Users\\tjoeun709\\AppData\\Local\\Temp\\ipykernel_14120\\2432699819.py:1: DeprecationWarning: find_element_by_class_name is deprecated. Please use find_element(by=By.CLASS_NAME, value=name) instead\n",
      "  driver.find_element_by_class_name(\"link_news\").click()\n"
     ]
    }
   ],
   "source": [
    "driver.back()"
   ]
  }
 ],
 "metadata": {
  "interpreter": {
   "hash": "b89b5cfaba6639976dc87ff2fec6d58faec662063367e2c229c520fe71072417"
  },
  "kernelspec": {
   "display_name": "Python 3.10.3 64-bit",
   "language": "python",
   "name": "python3"
  },
  "language_info": {
   "codemirror_mode": {
    "name": "ipython",
    "version": 3
   },
   "file_extension": ".py",
   "mimetype": "text/x-python",
   "name": "python",
   "nbconvert_exporter": "python",
   "pygments_lexer": "ipython3",
   "version": "3.10.3"
  },
  "orig_nbformat": 4
 },
 "nbformat": 4,
 "nbformat_minor": 2
}
