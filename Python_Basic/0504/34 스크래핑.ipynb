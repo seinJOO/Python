{
 "cells": [
  {
   "cell_type": "code",
   "execution_count": null,
   "metadata": {},
   "outputs": [],
   "source": [
    "### 웹 상에서 정보 수집 방법\n",
    "# 파이썬에서는 urllib 모듈을 사용하여 정보 수집\n",
    "\n",
    "# urllib.request 모듈 : 웹 사이트에 있는 데이터에 접근할 수 있는 기능을 제공\n",
    "#                       인증, 리다이렉트, 쿠키 등 인터넷을 이용한 다양한 요청과 처리 지원\n",
    "# 파일을 다운로드 할 때 urllib.request 모듈에 있는 url"
   ]
  },
  {
   "cell_type": "code",
   "execution_count": 2,
   "metadata": {},
   "outputs": [
    {
     "data": {
      "text/plain": [
       "('download\\\\test_download.png', <http.client.HTTPMessage at 0x1bcd48fb430>)"
      ]
     },
     "execution_count": 2,
     "metadata": {},
     "output_type": "execute_result"
    }
   ],
   "source": [
    "# 예시\n",
    "\n",
    "# 라이브러리 import\n",
    "import urllib.request\n",
    "\n",
    "# 접속 경로 및 저장 이름\n",
    "url = \"https://uta.pw/shodou/img/8/4534-min.png\"\n",
    "savename = \"test_download.png\"\n",
    "\n",
    "# 다운로드(디렉토리 미리 생성)\n",
    "urllib.request.urlretrieve(url, \"download\\\\\"+savename)"
   ]
  },
  {
   "cell_type": "code",
   "execution_count": 3,
   "metadata": {},
   "outputs": [
    {
     "data": {
      "text/plain": [
       "('download/naver_main_0504.gif', <http.client.HTTPMessage at 0x1bcd48fb3d0>)"
      ]
     },
     "execution_count": 3,
     "metadata": {},
     "output_type": "execute_result"
    }
   ],
   "source": [
    "# 실습 1\n",
    "\n",
    "url = \"https://s.pstatic.net/static/www/mobile/edit/20220503/mobile_2018301937.gif\"\n",
    "savename = \"naver_main_0504.gif\"\n",
    "\n",
    "urllib.request.urlretrieve(url, \"download/\"+savename)"
   ]
  },
  {
   "cell_type": "code",
   "execution_count": 21,
   "metadata": {},
   "outputs": [
    {
     "name": "stdout",
     "output_type": "stream",
     "text": [
      "download 폴더에 네이버 로고 저장 완료\n"
     ]
    }
   ],
   "source": [
    "# 실습 2 - open을 이용한 NAVER 로고 다운로드\n",
    "# 저장 파일명은 naver_log_open_use.확장자\n",
    "\n",
    "# 라이브러리 임포트\n",
    "import urllib.request\n",
    "\n",
    "# urlopen을 이용하여 데이터 저장(버퍼)\n",
    "url = \"https://s.pstatic.net/static/www/mobile/edit/20220503/mobile_2018301937.gif\"\n",
    "buff = urllib.request.urlopen(url).read() # <class 'http.client.HTTPResponse'> -> read() -> <class 'bytes'> HTTPresponse\n",
    "\n",
    "# 저장된 내용을 open을 이용하여 저장(binary값으로 처리)\n",
    "# open(\"download/naver_log_open_use.gif\", 'wb').write(buff)\n",
    "# 쌤 답\n",
    "with open(\"download/naver_log_open_use.gif\", \"wb\") as f :\n",
    "    f.write(buff)\n",
    "    print(\"download 폴더에 네이버 로고 저장 완료\")"
   ]
  },
  {
   "cell_type": "code",
   "execution_count": 23,
   "metadata": {},
   "outputs": [
    {
     "name": "stdout",
     "output_type": "stream",
     "text": [
      "[ip]\n",
      "API_URI=http://api.aoikujira.com/ip/get.php\n",
      "REMOTE_ADDR=211.217.209.132\n",
      "REMOTE_HOST=211.217.209.132\n",
      "REMOTE_PORT=33748\n",
      "HTTP_HOST=api.aoikujira.com\n",
      "HTTP_USER_AGENT=Python-urllib/3.10\n",
      "HTTP_ACCEPT_LANGUAGE=\n",
      "HTTP_ACCEPT_CHARSET=\n",
      "SERVER_PORT=443\n",
      "FORMAT=ini\n",
      "\n",
      "\n"
     ]
    }
   ],
   "source": [
    "### api 접속\n",
    "\n",
    "# 모듈 import\n",
    "import urllib.request as rq\n",
    "\n",
    "# 데이터 읽기\n",
    "url = \"https://api.aoikujira.com/ip/ini\"\n",
    "res = urllib.request.urlopen(url)\n",
    "data = res.read()\n",
    "\n",
    "# 바이너리를 문자열로 변환\n",
    "text = data.decode(\"utf-8\")\n",
    "print(text)\n"
   ]
  },
  {
   "cell_type": "code",
   "execution_count": null,
   "metadata": {},
   "outputs": [],
   "source": [
    "# 기상청 RSS : https://www.kma.go.kr/weather/forecast/mid-term-rss3.jsp      << XML 파일\n",
    "# 서울경기 지역 날씨 : https://www.kma.go.kr/weather/forecast/mid-term-rss3.jsp?stnid=109  << stnId=매개변수(지역)\n",
    "# 전국(108) 서울경기(109) 강원도(105) 충청북도(131) 충청남도(133) 전라북도(146) 전라남도(156) 경상북도(143) 경상남도(159) 제주도(184)\n",
    "\n",
    "import urllib.request\n",
    "import urllib.parse\n",
    "API = \"https://www.kma.go.kr/weather/forecast/mid-term-rss3.jsp\"\n",
    "\n",
    "# 매개변수를 URL인코딩\n",
    "values = {\n",
    "    \"stnId\" : \"184\"\n",
    "}\n",
    "params = urllib.parse.urlencode(values)     # urlencode() : dict / tuples => URL query string\n",
    "# print(params)     # 출력 : stnId=184\n",
    "url = API + \"?\" + params\n",
    "\n",
    "# 데이터 다운로드\n",
    "data = urllib.request.urlopen(url).read()\n",
    "text = data.decode(\"utf-8\")\n",
    "print(text)\n"
   ]
  },
  {
   "cell_type": "code",
   "execution_count": null,
   "metadata": {},
   "outputs": [],
   "source": [
    "# 입력값(지역번호)를 받아서 해당 지역의 날씨 정보를 받아오기\n",
    "\n",
    "import urllib.request as rq\n",
    "import urllib.parse\n",
    "\n",
    "n = input('지역번호를 입력하세요 : ')\n",
    "value = {\n",
    "    \"stnId\" : n\n",
    "}\n",
    "param = urllib.parse.urlencode(value)\n",
    "\n",
    "API = \"https://www.kma.go.kr/weather/forecast/mid-term-rss3.jsp\"\n",
    "url = API + \"?\" + param\n",
    "\n",
    "data = urllib.request.urlopen(url).read()\n",
    "text = data.decode(\"utf-8\")\n",
    "print(text)"
   ]
  },
  {
   "cell_type": "code",
   "execution_count": 65,
   "metadata": {},
   "outputs": [
    {
     "name": "stderr",
     "output_type": "stream",
     "text": [
      "C:\\Users\\tjoeun709\\AppData\\Local\\Temp\\ipykernel_14120\\2255569054.py:15: DeprecationWarning: executable_path has been deprecated, please pass in a Service object\n",
      "  driver = webdriver.Chrome(path)\n"
     ]
    }
   ],
   "source": [
    "## selenium 사용하기 >> 웹 테스트 자동화 도구\n",
    "\n",
    "# 1. 모듈 설치하기\n",
    "# pip install selenium\n",
    "\n",
    "# 2. web 드라이버 다운로드 - 크롬 버전에 맞춰서 다운받기\n",
    "# https://chromedriver.chromium.org/downloads\n",
    "\n",
    "# 3. 제어 시작하기 !\n",
    "# 라이브러리 임포트\n",
    "import selenium \n",
    "from selenium import webdriver\n",
    "\n",
    "path = \"c:\\\\webdriver\\\\chromedriver.exe\"\n",
    "driver = webdriver.Chrome(path)"
   ]
  },
  {
   "cell_type": "code",
   "execution_count": 66,
   "metadata": {},
   "outputs": [],
   "source": [
    "driver.get(\"https://www.naver.com\")"
   ]
  },
  {
   "cell_type": "code",
   "execution_count": 58,
   "metadata": {},
   "outputs": [
    {
     "name": "stderr",
     "output_type": "stream",
     "text": [
      "C:\\Users\\tjoeun709\\AppData\\Local\\Temp\\ipykernel_14120\\1880055066.py:1: DeprecationWarning: find_elements_by_class_name is deprecated. Please use find_elements(by=By.CLASS_NAME, value=name) instead\n",
      "  elements = driver.find_elements_by_class_name(\"title\")\n"
     ]
    },
    {
     "name": "stdout",
     "output_type": "stream",
     "text": [
      "<class 'list'>\n",
      "오늘 읽을만한 글\n",
      "오늘 읽을만한 글\n",
      "딱 중간 가는 사람이 영끌해서 살 수 있는 서울 아파트\n",
      "현대 110곳 vs 삼성 8곳… 집 짓는 현장 개수 '극과극'인 이유\n",
      "전세살다 매매 더 어려워졌다...서울 아파트 매매·전세가 차이, 6억\n",
      "노후 대비하려면 이건 알아 둬야죠, 2022년 개정된 기초연금제도 알아보기\n",
      "재개발 급매물이란 이런 것!\n",
      "[단독] `잠실 롯데월드` 33년 만에 전면 재개발 추진\n",
      "\"주행거리 660km\"…9천만 원대 벤츠 EQE 최초 시승\n",
      "삼성가, 상속세 위해 대규모 블록딜…주가 `날벼락`\n",
      "딱 두 배 봅니다, 마포자이힐스테이트\n",
      "5월, 전국에서 2만4,598세대 분양 예정\n",
      "경기도에서 아파트가 가장 비싼 지역 TOP 10\n",
      "영끌족이 옳았다…2030이 사들인 주택가격 40% 급등\n",
      "대륙 ‘지역 격차’ 어떨까, 中 가장 잘 사는 지역은?\n",
      "\"반등해도 걱정...7만원 넘으면 대기매물만 30조\"\n",
      "[남해화학] 우크라이나발 곡물난이 온다 최대 수혜주 긴급 공개 ! #경농#조비\n",
      "닥터둠의 경고, 스태그플레이션 폭풍이 온다...기로에 놓인 美[워싱턴 24시]\n",
      "\n",
      "\n",
      "\n",
      "\n",
      "\n",
      "\n",
      "\n",
      "\n",
      "\n",
      "\n",
      "\n",
      "\n",
      "\n",
      "\n",
      "\n",
      "\n",
      "\n",
      "\n",
      "\n",
      "\n",
      "\n",
      "\n",
      "\n",
      "\n",
      "\n",
      "\n",
      "\n",
      "\n",
      "\n",
      "\n",
      "\n",
      "\n",
      "\n",
      "\n",
      "\n",
      "\n",
      "\n",
      "\n",
      "\n",
      "\n",
      "\n",
      "\n",
      "\n",
      "\n",
      "\n",
      "\n",
      "\n",
      "\n",
      "\n",
      "\n",
      "\n",
      "\n",
      "\n",
      "\n",
      "\n",
      "\n",
      "\n",
      "\n",
      "\n",
      "\n",
      "\n",
      "\n",
      "\n",
      "\n",
      "\n",
      "\n",
      "\n",
      "\n",
      "\n",
      "\n",
      "\n",
      "공지사항\n",
      "Creators\n",
      "Partners\n",
      "Developers\n",
      "웨일 브라우저\n",
      "프로젝트 꽃\n"
     ]
    }
   ],
   "source": [
    "# 클래스 이름으로 찾아서 가져오기\n",
    "elements = driver.find_elements_by_class_name(\"title\")\n",
    "print(type(elements))\n",
    "print(elements[0].text)\n",
    "\n",
    "for element in elements :\n",
    "    print(element.text)"
   ]
  },
  {
   "cell_type": "code",
   "execution_count": 57,
   "metadata": {},
   "outputs": [
    {
     "name": "stderr",
     "output_type": "stream",
     "text": [
      "C:\\Users\\tjoeun709\\AppData\\Local\\Temp\\ipykernel_14120\\1689966199.py:1: DeprecationWarning: find_element_by_class_name is deprecated. Please use find_element(by=By.CLASS_NAME, value=name) instead\n",
      "  driver.find_element_by_class_name(\"link_login\").click()\n"
     ]
    }
   ],
   "source": [
    "# 로그인 창 클릭하기\n",
    "driver.find_element_by_class_name(\"link_login\").click()"
   ]
  },
  {
   "cell_type": "code",
   "execution_count": 67,
   "metadata": {},
   "outputs": [],
   "source": [
    "driver.get(\"https://www.daum.net\")"
   ]
  },
  {
   "cell_type": "code",
   "execution_count": 68,
   "metadata": {},
   "outputs": [
    {
     "name": "stderr",
     "output_type": "stream",
     "text": [
      "C:\\Users\\tjoeun709\\AppData\\Local\\Temp\\ipykernel_14120\\2432699819.py:1: DeprecationWarning: find_element_by_class_name is deprecated. Please use find_element(by=By.CLASS_NAME, value=name) instead\n",
      "  driver.find_element_by_class_name(\"link_news\").click()\n"
     ]
    }
   ],
   "source": [
    "driver.find_element_by_class_name(\"link_news\").click()"
   ]
  },
  {
   "cell_type": "code",
   "execution_count": 69,
   "metadata": {},
   "outputs": [],
   "source": [
    "driver.back()"
   ]
  }
 ],
 "metadata": {
  "interpreter": {
   "hash": "b89b5cfaba6639976dc87ff2fec6d58faec662063367e2c229c520fe71072417"
  },
  "kernelspec": {
   "display_name": "Python 3.10.3 64-bit",
   "language": "python",
   "name": "python3"
  },
  "language_info": {
   "codemirror_mode": {
    "name": "ipython",
    "version": 3
   },
   "file_extension": ".py",
   "mimetype": "text/x-python",
   "name": "python",
   "nbconvert_exporter": "python",
   "pygments_lexer": "ipython3",
   "version": "3.10.3"
  },
  "orig_nbformat": 4
 },
 "nbformat": 4,
 "nbformat_minor": 2
}
