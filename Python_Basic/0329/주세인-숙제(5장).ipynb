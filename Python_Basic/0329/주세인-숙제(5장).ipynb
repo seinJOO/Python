{
 "cells": [
  {
   "cell_type": "code",
   "execution_count": 6,
   "metadata": {},
   "outputs": [
    {
     "name": "stdout",
     "output_type": "stream",
     "text": [
      "*\n",
      "**\n",
      "***\n",
      "star 개수 : 6\n"
     ]
    }
   ],
   "source": [
    "# 5장 연습문제\n",
    "\n",
    "# [문제1] height 변수에 별(star)의 층수를 입력하면 각 층마다 별의 개수가 한 개씩 증가하여 출력되고, \n",
    "# 마지막 줄에 별의 개수가 출력되도록 함수의 빈 칸을 채우시오\n",
    "def StarCount(height) :\n",
    "    cnt = 0\n",
    "    for x in range(1,height+1) :\n",
    "        for y in range(x) :\n",
    "            print(end='*')\n",
    "            cnt += 1\n",
    "        print()\n",
    "    return cnt\n",
    "height = int(input('height : '))\n",
    "print('star 개수 : %d'%StarCount(height))\n",
    "        "
   ]
  },
  {
   "cell_type": "code",
   "execution_count": 8,
   "metadata": {},
   "outputs": [
    {
     "name": "stdout",
     "output_type": "stream",
     "text": [
      "현재 계좌 잔액은 1,000원 입니다.\n",
      "15,000원 입금 후 잔액은 16,000원 입니다.\n",
      "3,000원 출금 후 잔액은 13,000원 입니다.\n"
     ]
    }
   ],
   "source": [
    "# [문제2] 중첩함수를 적용하여 다음 조건에 맞게 은행계좌 함수의 빈 칸을 채우시오\n",
    "# 외부함수 : bank_account() : 잔액(balance) outer 변수\n",
    "# 내부함수 : getBalance() : 잔액확인 / deposit(money) : 입금하기 / withdraw(money) : 출금하기\n",
    "# 출금액이 잔액보다 많은 경우 '잔액이 부족합니다' 메시지 출력\n",
    "\n",
    "def bank_account(bal) :\n",
    "    balance = bal           # 잔액 초기화\n",
    "    def getBalance() :      # 잔액 확인(getter)\n",
    "        return balance\n",
    "    def deposit(money) :    # 입금하기(setter)\n",
    "        nonlocal balance\n",
    "        balance += money\n",
    "        return balance\n",
    "    def withdraw(money) :   # 출금하기(setter)\n",
    "        nonlocal balance\n",
    "        if money > balance : \n",
    "            print('잔액이 부족합니다')\n",
    "        else : balance -= money\n",
    "        return balance\n",
    "    return getBalance, deposit, withdraw\n",
    "    \n",
    "getBalance, deposit, withdraw = bank_account(int(input('최초 계좌의 잔액을 입력하세요 : ')))\n",
    "print('현재 계좌 잔액은 {:,}원 입니다.'.format(getBalance()))\n",
    "money = int(input('입금액을 입력하세요 : '))\n",
    "print('{:,}원 입금 후 잔액은 {:,}원 입니다.'.format(money, deposit(money)))\n",
    "money = int(input('출금액을 입력하세요 : '))\n",
    "print('{:,}원 출금 후 잔액은 {:,}원 입니다.'.format(money, withdraw(money)))\n",
    "\n"
   ]
  },
  {
   "cell_type": "code",
   "execution_count": 12,
   "metadata": {},
   "outputs": [
    {
     "name": "stdout",
     "output_type": "stream",
     "text": [
      "팩토리얼 결과 : 120\n"
     ]
    }
   ],
   "source": [
    "# [문제3] 팩토리얼을 계산하는 재귀함수의 빈 칸을 채우시오\n",
    "def Factorial(n) :\n",
    "    if n == 1 :\n",
    "        return 1\n",
    "    else :\n",
    "        n = n * Factorial(n-1)\n",
    "        return n\n",
    "\n",
    "result_fact = Factorial(5)\n",
    "print('팩토리얼 결과 :',result_fact)"
   ]
  }
 ],
 "metadata": {
  "interpreter": {
   "hash": "b89b5cfaba6639976dc87ff2fec6d58faec662063367e2c229c520fe71072417"
  },
  "kernelspec": {
   "display_name": "Python 3.10.3 64-bit",
   "language": "python",
   "name": "python3"
  },
  "language_info": {
   "codemirror_mode": {
    "name": "ipython",
    "version": 3
   },
   "file_extension": ".py",
   "mimetype": "text/x-python",
   "name": "python",
   "nbconvert_exporter": "python",
   "pygments_lexer": "ipython3",
   "version": "3.10.3"
  },
  "orig_nbformat": 4
 },
 "nbformat": 4,
 "nbformat_minor": 2
}
