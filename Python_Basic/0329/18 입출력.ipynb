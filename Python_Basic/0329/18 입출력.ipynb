{
 "cells": [
  {
   "cell_type": "code",
   "execution_count": 6,
   "metadata": {},
   "outputs": [
    {
     "name": "stdout",
     "output_type": "stream",
     "text": [
      "file.write()의 반환값 : 13\n"
     ]
    }
   ],
   "source": [
    "# python 파일 입출력 사용\n",
    "# 디스크에 파일을 읽어들이거나 파일을 생성하여 저장하는 기능 (고정데이터를 읽거나 저장)\n",
    "# 많은 양의 데이터를 처리(저장)할 때 유용하게 사용됨\n",
    "# 예를들어 홈페이지 이미지, 데이터, 음악, 파일 정보 등을 저장할 때 사용\n",
    "\n",
    "# [과정-순서]\n",
    "# 1. open 함수를 이용하여 파일(객체)을 열기\n",
    "# 2. read(읽기) 또는 write(쓰기) 관련 함수를 이용하여 파일에 대해서 작업을 진행 및 처리\n",
    "# 3. open으로 열린 파일의 내용을 close함수를 사용하여 닫음\n",
    "\n",
    "# 1. open함수 사용\n",
    "file = open('data/test_text.txt', mode='a', encoding='utf-8')   \n",
    "# 현재dir/data/test_text.txt 파일에 대한 fileIO 생성\n",
    "'''\n",
    "open 함수 사용 시 mode 설정값\n",
    "'r'(read)   =>  파일이 있는 경우, 해당 파일에 대해 읽기 동작을 실행\n",
    "                파일이 없는 경우, 에러를 출력 (File Not Found)\n",
    "                \n",
    "'w'(write)  =>  파일이 있는 경우, 파일에 있는 내용을 삭제 후 새로 쓰기\n",
    "                파일이 없는 경우, 파일을 생성하고 쓰기를 진행\n",
    "                \n",
    "'a'(append) =>  파일이 있는 경우, 파일의 마지막에 추가로 쓰기를 진행\n",
    "                파일이 없는 경우, 파일을 생성하고 쓰기를 진행\n",
    "                \n",
    "'x'         =>  파일이 있는 경우, 생성 에러를 발생\n",
    "                파일이 없는 경우, 파일을 생성하고 쓰기를 진행                \n",
    "\n",
    "Mode에 '+'를 사용하는 경우, 추가 기능이 사용됨 (읽기와 쓰기 가능)\n",
    "'+'       open a disk file for updating (reading and writing)\n",
    "'b'       binary 작업\n",
    "'t'       text 작업\n",
    "'U'       universal newline mode (deprecated)\n",
    "\n",
    "encoding : 문자 설정\n",
    "'''\n",
    "# 2. open으로 생성된 내용을 토대로 작업이 진행됨\n",
    "str1 = input('파일에 저장할 내용 입력 : ')\n",
    "i = file.write(str1)        # str1의 내용을 그대로 파일에 기입함, 반환값은 byte\n",
    "print('file.write()의 반환값 :',i)\n",
    "\n",
    "# 3. 작업한 파일의 내용을 close()로 종료\n",
    "file.close()"
   ]
  },
  {
   "cell_type": "code",
   "execution_count": 7,
   "metadata": {},
   "outputs": [
    {
     "name": "stdout",
     "output_type": "stream",
     "text": [
      "안녕하세요 세니입니당안녕하세욥~~!!!\\n줄바꾸고싶은데 이거 넣으면 될까여?줄바꿈은 안되나보네여 ㅠ\n"
     ]
    }
   ],
   "source": [
    "## 파일 읽기\n",
    "# 1. open\n",
    "rfile = open('data/test_text.txt','r',encoding='utf-8')\n",
    "# 2. 작업\n",
    "readbuffer = rfile.read()\n",
    "print(readbuffer)\n",
    "# 3. 파일 닫기\n",
    "rfile.close()\n"
   ]
  },
  {
   "cell_type": "code",
   "execution_count": null,
   "metadata": {},
   "outputs": [],
   "source": [
    "# [quiz] 파일명 : data/quiz1.txt\n",
    "# 1. 본인의 인적사항을 파일에 저장 후 출력하세요\n",
    "# (이름, 나이, 주소)\n",
    "# 당신의 이름 : 홍길동\n",
    "# 홍길동 님의 나이는 : 20살\n",
    "# 홍길동 님의 주소는 : 산골짜기\n",
    "# [출력결과] => 파일에 저장된 결과를 출력\n",
    "# 홍길동\n",
    "# 20살\n",
    "# 산골짜기\n",
    "\n",
    "# 1. open\n",
    "file = open('data/quiz1.txt','a',encoding='utf-8')\n",
    "# 2. work\n",
    "name = input('당신의 이름 : ')\n",
    "file.write(name+'\\n')\n",
    "age = input(name+'님의 나이는 : ')\n",
    "file.write(age+'\\n')\n",
    "addr = input(name+'님의 주소는 : ')\n",
    "file.write(addr+'\\n')\n",
    "# 3. close\n",
    "file.close()\n",
    "\n",
    "file = open('data/quiz1.txt',encoding='utf-8')  # r은 기본값이기 때문에 생략 가능 !\n",
    "buf = file.read()\n",
    "print(buf)\n",
    "file.close()"
   ]
  },
  {
   "cell_type": "code",
   "execution_count": 13,
   "metadata": {},
   "outputs": [
    {
     "name": "stdout",
     "output_type": "stream",
     "text": [
      "주세니\n",
      "28\n",
      "목동\n",
      "허웅\n",
      "29\n",
      "하남시 망월동\n",
      "\n",
      " quiz1.txt의 내용을 모두 읽었습니다!\n"
     ]
    }
   ],
   "source": [
    "# readline() => 데이터를 읽어들일 때 '\\n'을 기준으로 모든 데이터를 읽어들이는 함수\n",
    "rfile2 = open('data/quiz1.txt',encoding='utf-8')\n",
    "while True :\n",
    "    readbuf = rfile2.readline()     \n",
    "    if readbuf == '' : # 문자열의 마지막을 의미\n",
    "        print('\\n quiz1.txt의 내용을 모두 읽었습니다!')\n",
    "        rfile2.close()\n",
    "        break    \n",
    "    print(readbuf,end='')   # \\n까지 출력되기 때문에 자동 줄바꿈처럼 보임 !!!"
   ]
  },
  {
   "cell_type": "code",
   "execution_count": 27,
   "metadata": {},
   "outputs": [
    {
     "name": "stdout",
     "output_type": "stream",
     "text": [
      "['주세니\\n', '28\\n', '목동\\n', '허웅\\n', '29\\n', '하남시 망월동\\n']\n",
      "['주세니', '28', '목동', '허웅', '29', '하남시 망월동']\n"
     ]
    }
   ],
   "source": [
    "# readlines() => '\\n'을 기준으로 데이터를 읽어들여 리스트에 저장\n",
    "rfile3 = open('data/quiz1.txt',encoding='utf-8')\n",
    "readbuf = rfile3.readlines()\n",
    "print(readbuf)  # ['주세니\\n', '28\\n', '목동\\n', '허웅\\n', '29\\n', '하남시 망월동\\n']\n",
    "                # '\\n'이 함께 저장됨 !!!\n",
    "rfile3.close()  \n",
    "\n",
    "# 문자열 리스트에 '\\n'을 제거하여 저장하기\n",
    "for x in range(len(readbuf)) :\n",
    "    readbuf[x] = readbuf[x].strip('\\n')\n",
    "print(readbuf)\n"
   ]
  },
  {
   "cell_type": "code",
   "execution_count": 51,
   "metadata": {},
   "outputs": [
    {
     "name": "stdout",
     "output_type": "stream",
     "text": [
      "파일에 저장된 값 : 쭈\n"
     ]
    }
   ],
   "source": [
    "# ord, chr을 이용한 문자의 암호화(한글자) - code1.txt\n",
    "readstr, content = \"\",\"\"\n",
    "key = 100       # 암호화 연산을 위한 값\n",
    "choice = input('1. 파일 저장 \\n2.파일 불러오기 \\n번호 선택 >>> ')\n",
    "fileName = input('파일명 입력 : ')\n",
    "if choice == '1' :\n",
    "    content = input('단일 문자 입력 : ')\n",
    "    # 1. open\n",
    "    sfile = open('data/'+fileName,'w',encoding='utf-8')\n",
    "    # 2. work\n",
    "    chNum = ord(content)\n",
    "    chNum = chNum + key         # 암호화\n",
    "    content = chr(chNum)\n",
    "    sfile.write(content)        # 암호화된 데이터가 저장됨\n",
    "    # 3. close\n",
    "    sfile.close()\n",
    "elif choice == '2' :\n",
    "    rfile = open('data/'+fileName,encoding='utf-8')\n",
    "    readstr = rfile.read()\n",
    "    chNum = ord(readstr)\n",
    "    chNum = chNum - key         # 복호화\n",
    "    readstr = chr(chNum)\n",
    "    print('파일에 저장된 값 :',readstr)\n",
    "    rfile.close()\n"
   ]
  },
  {
   "cell_type": "code",
   "execution_count": 57,
   "metadata": {},
   "outputs": [
    {
     "name": "stdout",
     "output_type": "stream",
     "text": [
      "파일에 저장된 값 : 안녕하세욥\n"
     ]
    }
   ],
   "source": [
    "# [문제1] - code2.txt\n",
    "# 위 예제를 이용하여 문자열을 암호화\n",
    "# 문자열을 암호화하여 파일에 저장할 수 있도록 코드를 수정\n",
    "# 반대로 암호화된 문자열을 복호화하여 화면에 출력할 수 있도록 코드를 수정\n",
    "\n",
    "readstr, inputstr, my = \"\",\"\",\"\"\n",
    "key = 50\n",
    "\n",
    "choice = input('1. 파일 저장 \\n2.파일 불러오기 \\n번호 선택 >>> ')\n",
    "fileName = input('파일명 입력 : ')\n",
    "if choice == '1' :\n",
    "    my = input('문자열 입력 : ')\n",
    "    # 1. open\n",
    "    sfile = open('data/'+fileName,'w',encoding='utf-8')\n",
    "    # 2. work\n",
    "    for x in my :\n",
    "        inputstr += (chr(ord(x)+key))    # 암호화        \n",
    "    sfile.write(inputstr)        # 암호화된 데이터가 저장됨\n",
    "    # 3. close\n",
    "    sfile.close()\n",
    "    tmp.clear()\n",
    "    \n",
    "elif choice == '2' :\n",
    "    rfile = open('data/'+fileName,encoding='utf-8')\n",
    "    my = rfile.read()\n",
    "    for x in my :\n",
    "        readstr += chr(ord(x)-key)\n",
    "    print('파일에 저장된 값 :',readstr)\n",
    "    rfile.close()"
   ]
  },
  {
   "cell_type": "code",
   "execution_count": 59,
   "metadata": {},
   "outputs": [
    {
     "name": "stdout",
     "output_type": "stream",
     "text": [
      "파일에 저장된 값 :\n",
      "안녕하세요\n",
      "이건 완전 절대 비밀암호입니닷!!!\n",
      "제 이름은 세니, 탐정이져 ㅋ\n"
     ]
    }
   ],
   "source": [
    "# [문제2] - code3.txt\n",
    "# 위 예제를 이용하여 여러 줄의 문자열을 암호화\n",
    "# 문자열을 암호화하여 파일에 저장할 수 있도록 코드를 수정\n",
    "# 반대로 암호화된 문자열을 복호화하여 화면에 출력할 수 있도록 코드를 수정\n",
    "\n",
    "readstr, inputstr, my = \"\",\"\",\"\"\n",
    "key = 65\n",
    "\n",
    "\n",
    "while True :\n",
    "    choice = input('1. 파일 저장 \\n2.파일 불러오기 \\n0.종료 \\n번호 선택 >>> ')\n",
    "    fileName = input('파일명 입력 : ')\n",
    "    if choice == '1' :\n",
    "        while True :\n",
    "            my += input('문자열 입력 : ')\n",
    "            if input('계속 입력하시겠습니까?(y,n) : ') =='n' : break\n",
    "            my += '\\n'\n",
    "        # 1. open\n",
    "        sfile = open('data/'+fileName,'w',encoding='utf-8')\n",
    "        # 2. work\n",
    "        for x in my :\n",
    "            inputstr += chr(ord(x)+key)\n",
    "        sfile.write(inputstr)\n",
    "        # 3. close\n",
    "        sfile.close()\n",
    "        tmp.clear()\n",
    "        \n",
    "    elif choice == '2' :\n",
    "        rfile = open('data/'+fileName,'r',encoding='utf-8')\n",
    "        my = rfile.read()\n",
    "        for x in my :\n",
    "            readstr += chr(ord(x)-key)\n",
    "        print('파일에 저장된 값 :\\n'+readstr)\n",
    "        rfile.close()\n",
    "    \n",
    "    elif choice == '0' :\n",
    "        print('종료')\n",
    "        break\n",
    "        "
   ]
  },
  {
   "cell_type": "code",
   "execution_count": 61,
   "metadata": {},
   "outputs": [
    {
     "name": "stdout",
     "output_type": "stream",
     "text": [
      "안녕하세요 세니입니당안녕하세욥~~!!!\\n줄바꾸고싶은데 이거 넣으면 될까여?줄바꿈은 안되나보네여 ㅠ"
     ]
    }
   ],
   "source": [
    "# open()의 모드에 '+'옵션 사용하기\n",
    "fileName = input('파일명 입력 : ')\n",
    "file = open('data/'+fileName, 'r+',encoding='utf-8')\n",
    "readstr = file.read()\n",
    "print(readstr, end='')\n",
    "writestr = input('\\n문서에 추가할 내용을 입력하세요 : ')\n",
    "file.write(writestr+'\\n')\n",
    "file.close()"
   ]
  },
  {
   "cell_type": "code",
   "execution_count": 76,
   "metadata": {},
   "outputs": [
    {
     "ename": "TypeError",
     "evalue": "unsupported format string passed to bytes.__format__",
     "output_type": "error",
     "traceback": [
      "\u001b[1;31m---------------------------------------------------------------------------\u001b[0m",
      "\u001b[1;31mTypeError\u001b[0m                                 Traceback (most recent call last)",
      "\u001b[1;32md:\\sein\\Python\\0329\\18 입출력.ipynb Cell 10'\u001b[0m in \u001b[0;36m<cell line: 19>\u001b[1;34m()\u001b[0m\n\u001b[0;32m     <a href='vscode-notebook-cell:/d%3A/sein/Python/0329/18%20%EC%9E%85%EC%B6%9C%EB%A0%A5.ipynb#ch0000012?line=16'>17</a>\u001b[0m file\u001b[39m.\u001b[39mwrite(img)\n\u001b[0;32m     <a href='vscode-notebook-cell:/d%3A/sein/Python/0329/18%20%EC%9E%85%EC%B6%9C%EB%A0%A5.ipynb#ch0000012?line=17'>18</a>\u001b[0m file\u001b[39m.\u001b[39mclose()\n\u001b[1;32m---> <a href='vscode-notebook-cell:/d%3A/sein/Python/0329/18%20%EC%9E%85%EC%B6%9C%EB%A0%A5.ipynb#ch0000012?line=18'>19</a>\u001b[0m \u001b[39mprint\u001b[39m(\u001b[39m'\u001b[39;49m\u001b[39m복사 성공 ! 파일의 크기는 \u001b[39;49m\u001b[39m{:,}\u001b[39;49;00m\u001b[39mbytes입니다.\u001b[39;49m\u001b[39m'\u001b[39;49m\u001b[39m.\u001b[39;49mformat(img))\n",
      "\u001b[1;31mTypeError\u001b[0m: unsupported format string passed to bytes.__format__"
     ]
    }
   ],
   "source": [
    "# 모드 옵션\n",
    "# t => 텍스트(문서) => 생략가능\n",
    "# b => 바이너리(2진 데이터)\n",
    "\n",
    "# [문제] file 입출력을 이용하여 '특정 파일'을 복사하는 프로그램 코드를 작성하세요\n",
    "# 복사할 대상(원본) : data/test.png\n",
    "# 복사할 위치(복사본) : data/test_copy.png\n",
    "\n",
    "fileName = input('파일명 입력 : ')\n",
    "file = open('data/'+fileName,'rb')\n",
    "img = file.read()\n",
    "file.close()\n",
    "\n",
    "name,suffix = fileName.split('.')\n",
    "\n",
    "file = open('data/'+name+'_copy.'+suffix,'wb')\n",
    "file.write(img)\n",
    "file.close()\n"
   ]
  }
 ],
 "metadata": {
  "interpreter": {
   "hash": "b89b5cfaba6639976dc87ff2fec6d58faec662063367e2c229c520fe71072417"
  },
  "kernelspec": {
   "display_name": "Python 3.10.3 64-bit",
   "language": "python",
   "name": "python3"
  },
  "language_info": {
   "codemirror_mode": {
    "name": "ipython",
    "version": 3
   },
   "file_extension": ".py",
   "mimetype": "text/x-python",
   "name": "python",
   "nbconvert_exporter": "python",
   "pygments_lexer": "ipython3",
   "version": "3.10.3"
  },
  "orig_nbformat": 4
 },
 "nbformat": 4,
 "nbformat_minor": 2
}
