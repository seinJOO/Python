{
 "cells": [
  {
   "cell_type": "markdown",
   "metadata": {},
   "source": [
    "##### 챗봇 만들기 "
   ]
  },
  {
   "cell_type": "code",
   "execution_count": null,
   "metadata": {},
   "outputs": [],
   "source": [
    "# https://www.masswerk.at/elizabot/\n",
    "# Word2Vec, 마르코프 체인, LSTM을 활용 가능\n",
    "# 웹 애플리케이션 형태로 '성장'개념을 넣어서 만들기 - cgi-bin 폴더 참고!"
   ]
  },
  {
   "cell_type": "code",
   "execution_count": null,
   "metadata": {},
   "outputs": [],
   "source": [
    "# 1. botengine.py : 모듈을 생성(라이브러리) -> 마르코프 체인을 이용\n",
    "import codecs\n",
    "from bs4 import BeautifulSoup\n",
    "from konlpy.tag import Twitter, Okt\n",
    "from aiohanspell import spell_checker\n",
    "import os, re, json, random\n",
    "\n",
    "dict_file = 'data/chatbot-data.json'\n",
    "dic = {}\n",
    "twitter = Okt()\n",
    "\n",
    "# 딕셔너리에 단어 등록\n",
    "def register_dic(words) :\n",
    "    global dic\n",
    "    if len(words) == 0 : return\n",
    "    tmp = ['@']\n",
    "    for i in words :\n",
    "        word = i[0]\n",
    "        if word == '' or word == '\\r\\n' or word == '\\n' : continue\n",
    "        tmp.append(word)\n",
    "        if len(tmp) < 3 : continue\n",
    "        if len(tmp) > 3 : tmp = tmp[1:]\n",
    "        set_word3(dic, tmp)\n",
    "        if word == '.' or word == '?' :\n",
    "            tmp = ['@']\n",
    "            continue\n",
    "\n",
    "# 딕셔너리에 데이터 등록\n",
    "def set_word3(dic, s3):\n",
    "    w1, w2, w3 = s3\n",
    "    if not w1 in dic: dic[w1] = {}\n",
    "    if not w2 in dic[w1]: dic[w1][w2] = {}\n",
    "    if not w3 in dic[w1][w2]: dic[w1][w2][w3] = 0\n",
    "    dic[w1][w2][w3] += 1\n",
    "    \n",
    "# 임의의 문장 생성\n",
    "def make_sentence(head) :\n",
    "    ret = []\n",
    "    if not '@' in head : return ''\n",
    "    if head != '@' : ret.append(head)\n",
    "    top = dic[head]\n",
    "    w1 = word_choice(top)\n",
    "    w2 = word_choice(top[w1])\n",
    "    ret.append(w1)\n",
    "    ret.append(w2)\n",
    "    while True :\n",
    "        if w1 in dic and w2 in dic[w1] :\n",
    "            w3 = word_choice(dic[w1][w2])\n",
    "        else : w3 = ''\n",
    "        if w3 == '.' : break\n",
    "        if w3 == '.' or w3 == '?' or w3 == '' : break\n",
    "        w1, w2 = w2, w3\n",
    "    ret = ''.join(ret)\n",
    "    \n",
    "    return ret  # 맞춤법 검사는 메인에서 처리 예정\n",
    "\n",
    "def word_choice(sel) :      # 랜덤으로 단어를 골라옴\n",
    "    keys = sel.keys()\n",
    "    return random.choice(list(keys))\n",
    "\n",
    "# 챗봇 응답 만들기\n",
    "def make_reply(text) :\n",
    "    # 단어 학습시키기\n",
    "    if not text[-1] in ['.','?'] : text += '.'\n",
    "    words = twitter.pos(text)\n",
    "    register_dic(words)\n",
    "    \n",
    "    # 사전에 단어가 있다면 그 단어를 기반으로 문장 만들기 작업\n",
    "    for word in words :\n",
    "        face = word[0]\n",
    "        if face in dic : return make_sentence(face)\n",
    "    return make_sentence('@')\n",
    "\n",
    "# 딕셔너리가 있으면 읽어들이기\n",
    "if os.path.exists(dict_file) :\n",
    "    dic = json.load(open(dict_file, 'r'))\n",
    "\n",
    "    "
   ]
  },
  {
   "cell_type": "code",
   "execution_count": null,
   "metadata": {},
   "outputs": [],
   "source": [
    "### cgi-bin/chatbot.py \n",
    "# !/usr/bin/env python3\n",
    "\n",
    "import cgi\n",
    "from botengine import make_reply"
   ]
  },
  {
   "cell_type": "code",
   "execution_count": null,
   "metadata": {},
   "outputs": [],
   "source": [
    "from ftplib import FTP\n",
    "\n",
    "ftp = FTP('주소')\n",
    "ftp.login('아이디', '비번')\n",
    "\n",
    "ftp.cwd('test') # \"test\"디렉터리로 이동\n",
    "ftp.retrlines('LIST') # 디렉터리의 내용을 목록화\n",
    "ftp.retrbinary('RETR README', open('README', 'wb').write) # README 파일 저장\n",
    "ftp.quit()"
   ]
  },
  {
   "cell_type": "code",
   "execution_count": 10,
   "metadata": {},
   "outputs": [
    {
     "name": "stderr",
     "output_type": "stream",
     "text": [
      "C:\\Users\\sein1\\AppData\\Local\\Temp\\ipykernel_22808\\3792741867.py:7: DeprecationWarning: executable_path has been deprecated, please pass in a Service object\n",
      "  driver = webdriver.Chrome(path)\n",
      "C:\\Users\\sein1\\AppData\\Local\\Temp\\ipykernel_22808\\3792741867.py:11: DeprecationWarning: find_element_by_css_selector is deprecated. Please use find_element(by=By.CSS_SELECTOR, value=css_selector) instead\n",
      "  driver.find_element_by_css_selector('#app > div.invest-event-popup > div > div > a:nth-child(1)').click()\n",
      "C:\\Users\\sein1\\AppData\\Local\\Temp\\ipykernel_22808\\3792741867.py:13: DeprecationWarning: find_element_by_css_selector is deprecated. Please use find_element(by=By.CSS_SELECTOR, value=css_selector) instead\n",
      "  treemap = driver.find_element_by_css_selector('#app > section > div.main > section.stockTreeMap > div.map_cont_wrap > div:nth-child(1) > div > div.r_box > button.ic_txt.share').click()\n"
     ]
    }
   ],
   "source": [
    "from selenium.webdriver.chrome.options import Options\n",
    "from selenium import webdriver\n",
    "import os, time\n",
    "from datetime import datetime, date, timedelta\n",
    "op = Options()\n",
    "op.add_experimental_option('treemap', {'download.default_directory' : r'C:\\\\Users\\\\sein1\\\\CLASS\\\\0_FINAL PROJECT\\\\QuantVis\\\\static\\\\img'})\n",
    "\n",
    "today = date.today()\n",
    "\n",
    "path = \"c:\\\\webdriver\\\\chromedriver\"\n",
    "driver = webdriver.Chrome(path, options=op)\n",
    "url = \"https://invest.zum.com/global?cm=invest_main_gnb&category=dow\"\n",
    "driver.get(url)\n",
    "time.sleep(2)\n",
    "driver.find_element_by_css_selector('#app > div.invest-event-popup > div > div > a:nth-child(1)').click()\n",
    "time.sleep(2)\n",
    "driver.find_element_by_css_selector('#app > section > div.main > section.stockTreeMap > div.map_cont_wrap > div:nth-child(1) > div > div.r_box > button.ic_txt.share').click()\n",
    "\n",
    "file_oldname = os.path.join(\"static/img\", f\"줌투자 증시맵-2022. 6. 7..png\")\n",
    "file_newname_newfile = os.path.join(\"c:\\\\Folder-1\", \"NewFileName.NewExtension\")\n",
    "\n",
    "os.rename(file_oldname, file_newname_newfile)"
   ]
  }
 ],
 "metadata": {
  "interpreter": {
   "hash": "26de051ba29f2982a8de78e945f0abaf191376122a1563185a90213a26c5da77"
  },
  "kernelspec": {
   "display_name": "Python 3.10.3 64-bit",
   "language": "python",
   "name": "python3"
  },
  "language_info": {
   "codemirror_mode": {
    "name": "ipython",
    "version": 3
   },
   "file_extension": ".py",
   "mimetype": "text/x-python",
   "name": "python",
   "nbconvert_exporter": "python",
   "pygments_lexer": "ipython3",
   "version": "3.10.3"
  },
  "orig_nbformat": 4
 },
 "nbformat": 4,
 "nbformat_minor": 2
}
