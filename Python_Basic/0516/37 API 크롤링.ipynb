{
 "cells": [
  {
   "cell_type": "code",
   "execution_count": 1,
   "metadata": {},
   "outputs": [],
   "source": [
    "# API 정보 사이트 - 네이버, 카카오, 기상청, 공공데이터 등등 ... 필요한거 검색해서 얻기!\n",
    "\n",
    "# API를 활용한 날씨 정보 크롤링 https://home.openweathermap.org/\n",
    "# API key : 9dcd736909e770b749b0a45f28735af8\n",
    "# 서울, 도쿄, 뉴욕 날씨를 출력하기\n",
    "\n",
    "# http://bulk.openweathermap.org/sample/city.list.json.gz   \n",
    "# -> 모든 도시정보를 담은 json파일 다운로드 가능"
   ]
  },
  {
   "cell_type": "code",
   "execution_count": 15,
   "metadata": {},
   "outputs": [
    {
     "name": "stdout",
     "output_type": "stream",
     "text": [
      "도시 = Seoul\n",
      "날씨 = clear sky\n",
      "최저 기온= 18.7\n",
      "최고 기온= 21.7\n",
      "습도 = 30\n",
      "기압 = 1011\n",
      "풍향 = 226\n",
      "풍속 = 5.06\n",
      "\n",
      "도시 = Tokyo\n",
      "날씨 = light rain\n",
      "최저 기온= 13.8\n",
      "최고 기온= 15.8\n",
      "습도 = 92\n",
      "기압 = 1012\n",
      "풍향 = 20\n",
      "풍속 = 4.63\n",
      "\n",
      "도시 = New York\n",
      "날씨 = overcast clouds\n",
      "최저 기온= 15.0\n",
      "최고 기온= 22.3\n",
      "습도 = 81\n",
      "기압 = 1010\n",
      "풍향 = 108\n",
      "풍속 = 5.81\n",
      "\n"
     ]
    }
   ],
   "source": [
    "import requests\n",
    "import json\n",
    "\n",
    "# API key 키 지정\n",
    "apikey = '9dcd736909e770b749b0a45f28735af8'\n",
    "\n",
    "# 날씨를 확인할 도시 지정\n",
    "cities = ['Seoul,KR', 'Tokyo,JP', 'New York,US']\n",
    "\n",
    "api = 'https://api.openweathermap.org/data/2.5/weather?q={city}&appid={key}'\n",
    "    # https://api.openweathermap.org/data/2.5/weather?lat={lat}&lon={lon}&appid={API key}\n",
    "    # https://api.openweathermap.org/data/2.5/weather?q={city name},{state code},{country code}&appid={API key}\n",
    "\n",
    "# 캘빈 온도를 섭씨로 변환\n",
    "k2c = lambda k: k - 273.15\n",
    "\n",
    "# 각 도시 정보 추출\n",
    "for name in cities :    \n",
    "    url = api.format(city=name,key=apikey)  # API 요청 URL 구성   \n",
    "    re = requests.get(url)  # API 요청\n",
    "    data = json.loads(re.text)  # 요청 결과를 JSON으로 변환\n",
    "    # print(data)     # 결과 출력(출력할 키 값 확인 가능 !)\n",
    "    print('도시 =',data['name'])\n",
    "    print('날씨 =',data['weather'][0]['description'])\n",
    "    print('최저 기온=',round(k2c(data['main']['temp_min']),1))\n",
    "    print('최고 기온=',round(k2c(data['main']['temp_max']),1))\n",
    "    print('습도 =',data['main']['humidity'])\n",
    "    print('기압 =',data['main']['pressure'])\n",
    "    print('풍향 =',data['wind']['deg'])\n",
    "    print('풍속 =',data['wind']['speed'])\n",
    "    print()\n"
   ]
  },
  {
   "cell_type": "code",
   "execution_count": 80,
   "metadata": {},
   "outputs": [],
   "source": [
    "import requests\n",
    "import urllib\n",
    "\n",
    "url = 'http://apis.data.go.kr/1360000/WthrChartInfoService/getSurfaceChart'\n",
    "key = '1r82yNBEAgi/F6dCFhBqeefU0C3VElzKfRuF4Oc7P4EdWqZo0WcLv9e8+xiIZLnZteOqj2jAKVE62AHmZTjnng=='\n",
    "params ={'serviceKey' : key , 'pageNo' : '1', 'numOfRows' : '10', 'dataType' : 'JSON', 'code' : '24', 'time' : '20220515' }\n",
    "\n",
    "re = requests.get(url, params=params)\n",
    "data = json.loads(re.text)\n",
    "datas = data['response']['body']['items']['item'][0]['man-file'].lstrip('[').rstrip(']').split(',')\n",
    "for x in datas :\n",
    "    savename = x[len(x)-14:]\n",
    "    urllib.request.urlretrieve(x, \"data\\\\\"+savename)"
   ]
  },
  {
   "cell_type": "code",
   "execution_count": 92,
   "metadata": {},
   "outputs": [
    {
     "name": "stdout",
     "output_type": "stream",
     "text": [
      "구름많음\n",
      "서울 인천 수원 파주 이천 평택 춘천 원주 대전 세종 홍성 청주 충주 영동 광주 목포 여수 순천 광양 나주 전주 군산 정읍 남원 고창 무주 부산 울산 창원 진주 거창 통영 제주 서귀포 \n",
      "맑음\n",
      "강릉 대구 안동 포항 경주 울진 울릉도 \n"
     ]
    }
   ],
   "source": [
    "# 다양한 데이터 형식\n",
    "# 1. XML(eXtensible Markup Language)\n",
    "#   - 범용적 데이터 형식 (W3C에서 만듬)\n",
    "#   - 계층 구조로 데이터 표현 가능\n",
    "#   - 기본 구조 : <요소 속성=\"속성값\">내용</요소>\n",
    "# 예시\n",
    "# <products type=\"전자제품\">\n",
    "#       <product id=\"S001\" price=\"45000\">SD카드 128G</product>\n",
    "#       <product id=\"S002\" price=\"32000\">마우스</product>\n",
    "# <products>\n",
    "\n",
    "from bs4 import BeautifulSoup\n",
    "import urllib.request as req\n",
    "import os.path\n",
    "\n",
    "# xml을 다운받아오기\n",
    "\n",
    "url = 'https://www.weather.go.kr/weather/forecast/mid-term-rss3.jsp?stnId=108'\n",
    "savename = 'forecast.xml'\n",
    "if not os.path.exists('data/'+savename) :\n",
    "    req.urlretrieve(url,\"data\\\\\"+savename)\n",
    "\n",
    "# BeautifulSoup으로 분석\n",
    "xml = open('data/'+savename, 'r', encoding='utf-8')\n",
    "soup = BeautifulSoup(xml, 'html.parser')\n",
    "\n",
    "# 각 날씨 별 지역 확인\n",
    "info = {}   # 지역별 정보를 저장할 딕셔너리 생성\n",
    "for loc in soup.find_all('location') :\n",
    "    name = loc.find('city').string\n",
    "    weather = loc.find('wf').string\n",
    "    if not (weather in info) :\n",
    "        info[weather] = []\n",
    "    info[weather].append(name)\n",
    "\n",
    "# 각 지역별 날씨를 구분해서 출력\n",
    "for weather in info.keys() :\n",
    "    print(weather)\n",
    "    for name in info[weather] :\n",
    "        print(name, end=' ')\n",
    "    print()"
   ]
  },
  {
   "cell_type": "code",
   "execution_count": null,
   "metadata": {},
   "outputs": [],
   "source": [
    "## JSON의 구조\n",
    "# https://www.json.org/json-ko.html\n",
    "\n",
    "## YAML 분석\n",
    "#   - 들여쓰기를 사용해서 계층 구조를 표현하는 것이 특징인 데이터 형식\n",
    "#   - XML보다 간단하고 JSON과 형태가 유사함\n",
    "#   - 파이썬에서 YAML을 다루기 위해서는 PyYAML 모듈을 설치해야 함   -> pip install PyYAML"
   ]
  },
  {
   "cell_type": "code",
   "execution_count": 103,
   "metadata": {},
   "outputs": [
    {
     "name": "stdout",
     "output_type": "stream",
     "text": [
      "Banana 1000\n",
      "Orange 2000\n",
      "Apple 1500\n"
     ]
    }
   ],
   "source": [
    "## YAML 사용 예제\n",
    "import yaml\n",
    "\n",
    "yaml_str = \"\"\"\n",
    "Date : 2022-05-16\n",
    "PriceList:\n",
    "    -\n",
    "        item_id : 1000\n",
    "        name : Banana\n",
    "        color : yellow\n",
    "        price : 1000\n",
    "    -\n",
    "        item_id : 1001\n",
    "        name : Orange\n",
    "        color : orange\n",
    "        price : 2000\n",
    "    -\n",
    "        item_id : 1002\n",
    "        name : Apple\n",
    "        color : red\n",
    "        price : 1500\n",
    "\"\"\"\n",
    "\n",
    "data = yaml.safe_load(yaml_str)     \n",
    "# load(stream, Loader) : 보안상의 이유로 경고가 발생\n",
    "# full_load(stream) : 보안상의 이유로 발생하는 예외처리를 무시하고 load\n",
    "\n",
    "# 이름 가격 출력\n",
    "for item in data['PriceList'] :\n",
    "    print(item['name'], item['price'])"
   ]
  },
  {
   "cell_type": "code",
   "execution_count": 113,
   "metadata": {},
   "outputs": [
    {
     "name": "stdout",
     "output_type": "stream",
     "text": [
      "- age: '24'\n",
      "  gender: man\n",
      "  name: Inseong\n",
      "- age: '22'\n",
      "  gender: woman\n",
      "  name: Gildong\n",
      "- age: '31'\n",
      "  gender: woman\n",
      "  name: Sunshin\n",
      "- age: '23'\n",
      "  gender: man\n",
      "  name: Bangwon\n",
      "\n",
      "Inseong\n",
      "Gildong\n",
      "Sunshin\n",
      "Bangwon\n"
     ]
    }
   ],
   "source": [
    "# 파이썬 데이터를 yaml데이터로 출력\n",
    "\n",
    "import yaml\n",
    "\n",
    "customer = [\n",
    "    {\"name\":\"Inseong\",\"age\":\"24\",\"gender\":\"man\"},\n",
    "    {\"name\":\"Gildong\",\"age\":\"22\",\"gender\":\"woman\"},\n",
    "    {\"name\":\"Sunshin\",\"age\":\"31\",\"gender\":\"woman\"},\n",
    "    {\"name\":\"Bangwon\",\"age\":\"23\",\"gender\":\"man\"}\n",
    "]\n",
    "\n",
    "# yaml 데이터로 변환\n",
    "yaml_str = yaml.dump(customer)\n",
    "print(yaml_str)\n",
    "\n",
    "# yaml 데이터를 파이썬 데이터로 변환\n",
    "data = yaml.safe_load(yaml_str)\n",
    "\n",
    "for item in data :\n",
    "    print(item['name'])"
   ]
  },
  {
   "cell_type": "code",
   "execution_count": null,
   "metadata": {},
   "outputs": [],
   "source": [
    "## YAML의 기본은 배열, 해시, 스칼라(문자열, 숫자, boolean)\n",
    "#   - 배열을 나타낼 때는 각 행의 앞에 하이픈과 공백('- ')을 붙임\n",
    "\n",
    "# 예시) 배열\n",
    "# - banana\n",
    "# - kiwi\n",
    "# - mango\n",
    "\n",
    "# 예시) 중첩 배열 - 들여쓰기 다음에 바로 빈 요소 사용\n",
    "# - yellow\n",
    "# -\n",
    "#     - banana\n",
    "#     - orange\n",
    "# - red\n",
    "# -\n",
    "#     - apple\n",
    "#     - Strawberry\n",
    "\n",
    "## 해시 표현(\"<키>:<값>\") - 해시 표현 시에도 들여쓰기를 사용하여 계층구조를 표현\n",
    "# - age: '24'\n",
    "#   gender: man\n",
    "#   name: Inseong\n",
    "\n",
    "## YAML의 주석은 '#'\n",
    "## YAML의 여러줄 문자열 지정법\n",
    "# multi-line:\n",
    "#     I like Banana\n",
    "#     I like Mango\n",
    "#     I like Orange\n",
    "\n",
    "## YAML은 앵커와 별칭 기능을 지원함\n",
    "# 앵커 : \"&이름\" 형태로 변수 선언 / 별칭 : \"*이름\" 형태로 참조"
   ]
  },
  {
   "cell_type": "code",
   "execution_count": 116,
   "metadata": {},
   "outputs": [
    {
     "name": "stdout",
     "output_type": "stream",
     "text": [
      "title = #ff0000\n",
      "body = #00ff00\n",
      "link = #0000ff\n"
     ]
    }
   ],
   "source": [
    "### 예제 - 별칭 테스트\n",
    "import yaml\n",
    "\n",
    "# 문자열로 yaml을 정의\n",
    "yaml_str = \"\"\"\n",
    "# 색 정의\n",
    "color_define :\n",
    "    - &color1 \"#ff0000\"\n",
    "    - &color2 \"#00ff00\"\n",
    "    - &color3 \"#0000ff\"\n",
    "\n",
    "# 색 설정\n",
    "color :\n",
    "    title: *color1\n",
    "    body: *color2\n",
    "    link: *color3\n",
    "\"\"\"\n",
    "\n",
    "# yaml 데이터로 로드\n",
    "data = yaml.safe_load(yaml_str)\n",
    "\n",
    "# 별칭 확인 테스트\n",
    "print(\"title =\",data['color']['title'])     # title = #ff0000\n",
    "print(\"body =\",data['color']['body'])       # body = #00ff00\n",
    "print(\"link =\",data['color']['link'])       # link = #0000ff"
   ]
  },
  {
   "cell_type": "code",
   "execution_count": 150,
   "metadata": {},
   "outputs": [
    {
     "name": "stdout",
     "output_type": "stream",
     "text": [
      "[['서울', '9,602'], ['부산', '3,344'], ['대구', '2,419'], ['인천', '2,951'], ['광주', '1,488'], ['대전', '1,500'], ['울산', '1,140'], ['세종', '349'], ['경기', '13,405'], ['강원', '1,515'], ['충북', '1,632'], ['충남', '2,204'], ['전북', '1,792'], ['전남', '1,764'], ['경북', '2,655'], ['경남', '3,350'], ['제주', '670'], ['수도권', '25,958']]\n",
      "\n",
      "[['세종', '349'], ['제주', '670'], ['울산', '1,140'], ['광주', '1,488'], ['대전', '1,500'], ['강원', '1,515'], ['충북', '1,632'], ['전남', '1,764'], ['전북', '1,792'], ['충남', '2,204'], ['대구', '2,419'], ['경북', '2,655'], ['인천', '2,951'], ['부산', '3,344'], ['경남', '3,350'], ['서울', '9,602'], ['경기', '13,405'], ['수도권', '25,958']]\n",
      "\n",
      "1 세종 349\n",
      "2 제주 670\n",
      "3 울산 1140\n",
      "4 광주 1488\n",
      "5 대전 1500\n"
     ]
    }
   ],
   "source": [
    "### 예제 - Excel 데이터 읽기\n",
    "import openpyxl\n",
    "\n",
    "# 엑셀 파일 열기\n",
    "filename = 'stat_100701.xlsx'\n",
    "book = openpyxl.load_workbook('data/'+filename)\n",
    "\n",
    "# 맨 앞 시트 추출\n",
    "sheet = book.worksheets[0]\n",
    "# print(sheet)    # <Worksheet \"Sheet0\">\n",
    "\n",
    "# 시트의 각 셀을 순서대로 추출\n",
    "data = []\n",
    "for row in sheet.rows :\n",
    "    data.append([\n",
    "        row[0].value,\n",
    "        row[7].value\n",
    "    ])\n",
    "\n",
    "# 불필요한 row 제거 (헤더, 연도, 계)\n",
    "del data[0:5]\n",
    "del data[-4:]\n",
    "print(data)\n",
    "print()\n",
    "\n",
    "# 데이터를 인구수로 정렬\n",
    "data = sorted(data, key=lambda x : int(x[1].replace(',','')))\n",
    "print(data)\n",
    "print()\n",
    "\n",
    "# 데이터를 인구수 하위 5위까지 출력\n",
    "for i, a in enumerate(data) :       # 인덱스, 값 in enumerate(리스트)\n",
    "    if (i >= 5) : break\n",
    "    print(i+1, a[0], int(a[1].replace(',','')))\n",
    "\n"
   ]
  },
  {
   "cell_type": "code",
   "execution_count": null,
   "metadata": {},
   "outputs": [],
   "source": [
    "# 판다스는 알아서 정리해서 보여줍니다 ....\n",
    "import pandas as pd\n",
    "\n",
    "data_test = pd.read_excel('data/'+filename, 'Sheet0')\n",
    "data_test"
   ]
  },
  {
   "cell_type": "code",
   "execution_count": 187,
   "metadata": {},
   "outputs": [
    {
     "name": "stdout",
     "output_type": "stream",
     "text": [
      "2017년 서울 제외 인구 = 41596 천명\n",
      "2018년 서울 제외 인구 = 41902 천명\n",
      "2019년 서울 제외 인구 = 42047 천명\n",
      "2020년 서울 제외 인구 = 42179 천명\n"
     ]
    }
   ],
   "source": [
    "### 예제 - Excel 데이터 추가하기\n",
    "import openpyxl\n",
    "\n",
    "# 엑셀 파일 열기\n",
    "filename = 'stat_100701_re.xlsx'\n",
    "book = openpyxl.load_workbook('data/'+filename)\n",
    "\n",
    "# 활성화된 시트 추출\n",
    "sheet = book.active\n",
    "sheet       # <Worksheet \"Sheet0\">\n",
    "\n",
    "# 서울을 제외한 나머지 인구를 구해서 더하기\n",
    "\n",
    "sheet[str(chr(65))+'24'] = '서울 제외 인구'\n",
    "\n",
    "for i in range(0,4) :\n",
    "    year = sheet[str(chr(i+66))+'3'].value\n",
    "    total = sheet[str(chr(i+66))+'5'].value\n",
    "    seoul = sheet[str(chr(i+66))+'6'].value\n",
    "    output = total - seoul\n",
    "    print(year+'년 서울 제외 인구 =', output , '천명')    \n",
    "    # 데이터 쓰기\n",
    "    sheet[str(chr(i+66))+'24'] = output    \n",
    "    cell = sheet[str(chr(i+66))+'24']\n",
    "    \n",
    "    # 폰트 색상 변경\n",
    "    cell.font = openpyxl.styles.Font(size = 14, color = \"FF0000\")\n",
    "    cell.number_format = cell.number_format\n",
    "\n",
    "# 엑셀파일 저장하기\n",
    "filename = 'population.xlsx'\n",
    "book.save('data/'+filename)"
   ]
  },
  {
   "cell_type": "code",
   "execution_count": null,
   "metadata": {},
   "outputs": [],
   "source": []
  }
 ],
 "metadata": {
  "interpreter": {
   "hash": "af1d12ba1aa5119a4b9806dc857c54821948426eacb882d2b6107e94aa58bb2c"
  },
  "kernelspec": {
   "display_name": "Python 3.9.7 ('base')",
   "language": "python",
   "name": "python3"
  },
  "language_info": {
   "codemirror_mode": {
    "name": "ipython",
    "version": 3
   },
   "file_extension": ".py",
   "mimetype": "text/x-python",
   "name": "python",
   "nbconvert_exporter": "python",
   "pygments_lexer": "ipython3",
   "version": "3.9.7"
  },
  "orig_nbformat": 4
 },
 "nbformat": 4,
 "nbformat_minor": 2
}
