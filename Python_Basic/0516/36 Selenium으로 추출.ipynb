{
 "cells": [
  {
   "cell_type": "code",
   "execution_count": null,
   "metadata": {},
   "outputs": [],
   "source": [
    "## Selenium을 통해서 DOM 요소 추출\n",
    "## 메서드\n",
    "# find_element(속성)\n",
    "\n",
    "# 여러 데이터 중 처음의 요소를 추출\n",
    "# find_element_by_id(id)    : id 속성으로 요소를 하나 추출\n",
    "# find_element_by_name(name)    : name 속성으로 요소를 하나 추출\n",
    "# find_element_by_css_selector(query) : css선택자로 요소를 하나 추출\n",
    "# find_element_by_xpath(query)  : Xpath를 지정해 요소를 하나 추출\n",
    "# find_element_by_tag_name(name)    : 태그 이름에 해당하는 요소를 하나 추출\n",
    "# find_element_by_class_name(name)  : 클래스 이름에 해당하는 요소를 하나 추출\n",
    "# find_element_by_link_text(text) : 링크 텍스트로 요소를 하나 추출\n",
    "# find_element_by_partial_link_text(text) : 링크의 자식 요소에 포함되어 있는 텍스트에 해당하는 요소를 하나 추출\n",
    "\n",
    "# 모든 요소를 추출\n",
    "# find_elements_by_css_selector(query)\n",
    "# find_elements_by_xpath(query)\n",
    "# find_elements_by_tag_name(name)\n",
    "# find_elements_by_class_name(name)\n",
    "# find_elements_by_partitial_link_text(text)\n",
    "\n",
    "# 예외 - 예외가 발생하면 자동화 프로그램이 멈추기 때문에 예외처리는 필수이다 !!\n",
    "# NoSuchElementException - 찾고자 하는 요소가 없는 경우 발생하는 에러"
   ]
  },
  {
   "cell_type": "code",
   "execution_count": 2,
   "metadata": {},
   "outputs": [
    {
     "name": "stderr",
     "output_type": "stream",
     "text": [
      "C:\\Users\\TJOEUN~1\\AppData\\Local\\Temp/ipykernel_6180/3540504874.py:4: DeprecationWarning: executable_path has been deprecated, please pass in a Service object\n",
      "  driver = webdriver.Chrome(path)\n"
     ]
    }
   ],
   "source": [
    "# 테스트 창 열기\n",
    "from selenium import webdriver\n",
    "path = \"c:\\\\webdriver\\\\chromedriver.exe\"\n",
    "driver = webdriver.Chrome(path)"
   ]
  },
  {
   "cell_type": "code",
   "execution_count": 16,
   "metadata": {},
   "outputs": [
    {
     "name": "stderr",
     "output_type": "stream",
     "text": [
      "C:\\Users\\TJOEUN~1\\AppData\\Local\\Temp/ipykernel_11248/4292961217.py:2: DeprecationWarning: find_element_by_partial_link_text is deprecated. Please use find_element(by=By.PARTIAL_LINK_TEXT, value=link_text) instead\n",
      "  driver.find_element_by_partial_link_text('사회').click()\n",
      "C:\\Users\\TJOEUN~1\\AppData\\Local\\Temp/ipykernel_11248/4292961217.py:3: DeprecationWarning: find_elements_by_css_selector is deprecated. Please use find_elements(by=By.CSS_SELECTOR, value=css_selector) instead\n",
      "  elements = driver.find_elements_by_css_selector('.cluster_text_headline')\n"
     ]
    },
    {
     "name": "stdout",
     "output_type": "stream",
     "text": [
      "\"비대면수업 부실\"…'코로나 학번' 두번 울린 교수님, 해임될까[그법알]\n",
      "코로나 비대면수업 ‘준비 불성실’ 교수 해임…법원 “정당”\n",
      "코로나19 비대면수업 ‘부실 교수’…법원 “해임 정당”\n",
      "비대면 수업 자료 부실 제공한 교수…법원 \"해임 정당\"\n",
      "고혈압, 무서운 이유 따로 있네…젊다고 방심은 '금물'\n",
      "고혈압환자 5년새 100만명 증가…똑똑한 가정혈압 측정법\n",
      "“고혈압 환자 1,200만 명 시대…적절한 혈압 관리 중요”\n",
      "코로나 첫해, 고혈압 44만 명·당뇨 22만 명 증가\n",
      "기저질환 있는 12살 이상 확진자도 팍스로비드 처방\n",
      "전남도, 먹는 치료제 대상 12세 이상 기저질환자까지 확대\n",
      "오늘부터 팍스로비드 12세 이상 기저질환자도 처방\n",
      "오늘부터 기저질환 있는 12세 확진자도 먹는 치료제 처방\n",
      "태화강정원 봄꽃 축제…나들이객 북적\n",
      "태화강 국가정원 봄꽃축제에 전국 관람객 25만여명 방문\n",
      "울산, 쇠부리 축제·국가정원 봄꽃 축제 열려[울산]\n",
      "울산 태화강 국가정원 봄꽃축제에 25만명 다녀가 '성황'\n",
      "‘임명강행’ 앞둔 한동훈 “광기에 가까운 집착과 린치 당했다”\n",
      "'검사' 한동훈의 마지막 인사 \"권력의 린치에 팩트·상식으로 싸웠다\"\n",
      "\"이근, 부상으로 군병원 이송됐다\"…우크라서 맡은 임무 보니\n",
      "이근 전 대위, 적지에서 부상...\"임무 성공하고 군 병원 입원\"\n",
      "경찰, 이재명 '검사 사칭' 명예훼손 사건 수사 착수…고발인 조사\n",
      "‘이재명 검사 사칭’ 연루 PD, 고발인 조사 받아\n",
      "고 이예람 중사 특검 후보에 이인람·안미영 변호사\n",
      "이예람 중사 특검 후보에 이인람·안미영 변호사\n",
      "\n",
      "\n",
      "\n",
      "\n",
      "\n",
      "\n",
      "\n",
      "\n",
      "\n",
      "\n",
      "\n",
      "\n",
      "\n",
      "\n",
      "\n",
      "\n",
      "[죄와벌]주차 시비에 분노, 차량으로 들이받은 60대…처벌은\n",
      "[죄와벌]연이자 '최고 836%' 불법대부업자 형량은\n",
      "[죄와벌]\"추워서 불을 쬐려고\" 컨테이너·차량 등 방화…처벌은\n",
      "[죄와벌]옛 국과수 분원 들어가 '공포영상' 촬영…처벌은?\n"
     ]
    }
   ],
   "source": [
    "driver.get(\"https://news.naver.com\")\n",
    "driver.find_element_by_partial_link_text('사회').click()\n",
    "elements = driver.find_elements_by_css_selector('.cluster_text_headline')\n",
    "\n",
    "for element in elements :\n",
    "    print(element.text)"
   ]
  },
  {
   "cell_type": "code",
   "execution_count": null,
   "metadata": {},
   "outputs": [],
   "source": [
    "# 웹사이트의 개발자모드에서 직접 우클릭 -> copy -> copy selector를 통해 접근할 selector 복사 가능\n",
    "# sel1 = '#main_content > div > div._persist > div:nth-child(1) > div:nth-child(1) > div.cluster_body > ul > li:nth-child(1) > div.cluster_text > a'\n",
    "# sel2 = '#main_content > div > div._persist > div:nth-child(1) > div:nth-child(1) > div.cluster_body > ul > li:nth-child(2) > div.cluster_text > a'\n",
    "#       >> li마다 각각의 헤드라인이 있는 것을 알 수 있음\n",
    "ulsel = '#main_content > div > div._persist > div:nth-child(1) > div:nth-child(1) > div.cluster_body > ul > li'\n",
    "test = driver.find_elements_by_css_selector(ulsel)\n",
    "print(type(test))\n",
    "\n",
    "for x in test :\n",
    "    print(x.text)\n",
    "    print('-'*40)\n",
    "\n",
    "print(f'\\n\\n\\n')\n",
    "ul = '#main_content > div > div._persist > div:nth-child(1) > div:nth-child(1) > div > ul'\n",
    "\n",
    "for x in range(1,len(test)+1) :\n",
    "    test2 = driver.find_element_by_css_selector(ul+f'> li:nth-child({x}) > div.cluster_text > a')\n",
    "    print(test2.text)\n",
    "    print('-'*40)"
   ]
  },
  {
   "cell_type": "code",
   "execution_count": 56,
   "metadata": {},
   "outputs": [
    {
     "name": "stderr",
     "output_type": "stream",
     "text": [
      "C:\\Users\\TJOEUN~1\\AppData\\Local\\Temp/ipykernel_11248/3494992430.py:3: DeprecationWarning: find_elements_by_css_selector is deprecated. Please use find_elements(by=By.CSS_SELECTOR, value=css_selector) instead\n",
      "  test = driver.find_elements_by_css_selector(ul)\n",
      "C:\\Users\\TJOEUN~1\\AppData\\Local\\Temp/ipykernel_11248/3494992430.py:6: DeprecationWarning: find_element_by_css_selector is deprecated. Please use find_element(by=By.CSS_SELECTOR, value=css_selector) instead\n",
      "  test3 = driver.find_element_by_css_selector(ul+f':nth-child({x}) > strong > a')\n"
     ]
    },
    {
     "name": "stdout",
     "output_type": "stream",
     "text": [
      "학업성취도 전국 꼴찌 vs 허위사실..울산교육감 후보 토론회\n",
      "----------------------------------------\n",
      "금으로 돈세탁.. 신종 보이스피싱범 검거\n",
      "----------------------------------------\n",
      "중대본 \"확진자 격리의무 해제 여부, 20일 발표\"(상보)\n",
      "----------------------------------------\n",
      "광주시의원 절반 '무투표 당선' 시끌..\"민주당 독점정치 폐해\"\n",
      "----------------------------------------\n",
      "[검수완박 톺아보기④]경찰 '로펌 러브콜' 는다?..현장의 말은 달랐다\n",
      "----------------------------------------\n",
      "고창청보리밭 축제 16만명 다녀가 .. 재개된 축제들 성황\n",
      "----------------------------------------\n",
      "'확진자 격리의무' 유지하나, 풀리나..정부 \"20일 발표\"\n",
      "----------------------------------------\n",
      "'보수 텃밭' TK, 무소속 바람 불까..무소속 10명 단체장 도전\n",
      "----------------------------------------\n",
      "15세 아들도 49세 아버지도 청년..기준 올리는 지자체\n",
      "----------------------------------------\n",
      "\"고창만의 문화관광 자원 활용계획 찾자\"..닷새간 세미나\n",
      "----------------------------------------\n",
      "학교 비정규직노조, 장석웅 전남교육감 후보 지지\n",
      "----------------------------------------\n",
      "대구지검, 경찰 불송치사건 재수사 요청해 47건 기소\n",
      "----------------------------------------\n",
      "'김병관 대장동 맞짱토론' 제안에 안철수 \"맞짱이 아닌 시민토론해야\"(종합)\n",
      "----------------------------------------\n",
      "[속보] \"北 감염통제 쉽지않은 상황 추정..조기진단-접종 결합 중요\"\n",
      "----------------------------------------\n",
      "대법, 9월 퇴임 김재형 대법관 후임 선정절차 착수\n",
      "----------------------------------------\n",
      "메신저피싱으로 챙긴 돈 금으로 세탁해 전달..수거책 1명 구속\n",
      "----------------------------------------\n",
      "'조경수로 팔려고'..제주서 자연서식 팽나무 훔친 2명 송치\n",
      "----------------------------------------\n",
      "서울 고령층 '키오스크' 이용 46% 불과..\"사용방법 어렵고, 눈치 보여\"\n",
      "----------------------------------------\n",
      "비대면 수업 준비 부실 교수.. 법원 \"해임 정당\"\n",
      "----------------------------------------\n",
      "[속보]정부 \"北, 유증상자만 집계..감염통제 어려운 상황\"\n",
      "----------------------------------------\n"
     ]
    }
   ],
   "source": [
    "driver.get('https://news.daum.net/society#1')\n",
    "ul = '#timeline > ul > li'\n",
    "test = driver.find_elements_by_css_selector(ul)\n",
    "\n",
    "for x in range(1, len(test) + 1) :\n",
    "    test3 = driver.find_element_by_css_selector(ul+f':nth-child({x}) > strong > a')\n",
    "    print(test3.text)\n",
    "    print('-'*40)"
   ]
  },
  {
   "cell_type": "code",
   "execution_count": 55,
   "metadata": {},
   "outputs": [
    {
     "name": "stdout",
     "output_type": "stream",
     "text": [
      "사회 | 다음뉴스\n"
     ]
    }
   ],
   "source": [
    "title = driver.execute_script('return document.title') # 자바스크립트 문법으로 타이틀 가져오기\n",
    "print(title)\n",
    "alert = driver.execute_script(\"alert('test');\")     # 테스트 웹페이지에 얼랏 띄우기"
   ]
  }
 ],
 "metadata": {
  "interpreter": {
   "hash": "af1d12ba1aa5119a4b9806dc857c54821948426eacb882d2b6107e94aa58bb2c"
  },
  "kernelspec": {
   "display_name": "Python 3.9.7 ('base')",
   "language": "python",
   "name": "python3"
  },
  "language_info": {
   "codemirror_mode": {
    "name": "ipython",
    "version": 3
   },
   "file_extension": ".py",
   "mimetype": "text/x-python",
   "name": "python",
   "nbconvert_exporter": "python",
   "pygments_lexer": "ipython3",
   "version": "3.9.7"
  },
  "orig_nbformat": 4
 },
 "nbformat": 4,
 "nbformat_minor": 2
}
