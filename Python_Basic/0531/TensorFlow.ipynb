{
  "nbformat": 4,
  "nbformat_minor": 0,
  "metadata": {
    "colab": {
      "name": "TensorFlow.ipynb",
      "provenance": [],
      "collapsed_sections": [],
      "authorship_tag": "ABX9TyMIvotVZRCIMI6QGcqOVqx5",
      "include_colab_link": true
    },
    "kernelspec": {
      "name": "python3",
      "display_name": "Python 3"
    },
    "language_info": {
      "name": "python"
    }
  },
  "cells": [
    {
      "cell_type": "markdown",
      "metadata": {
        "id": "view-in-github",
        "colab_type": "text"
      },
      "source": [
        "<a href=\"https://colab.research.google.com/github/seinJOO/PythonClass/blob/main/Python_Basic/0531/TensorFlow.ipynb\" target=\"_parent\"><img src=\"https://colab.research.google.com/assets/colab-badge.svg\" alt=\"Open In Colab\"/></a>"
      ]
    },
    {
      "cell_type": "code",
      "execution_count": null,
      "metadata": {
        "colab": {
          "base_uri": "https://localhost:8080/"
        },
        "id": "E7XgTOkuq6Af",
        "outputId": "4db94175-35bb-496e-b29b-b569229c7106"
      },
      "outputs": [
        {
          "output_type": "stream",
          "name": "stdout",
          "text": [
            "WARNING:tensorflow:From /usr/local/lib/python3.7/dist-packages/tensorflow/python/compat/v2_compat.py:107: disable_resource_variables (from tensorflow.python.ops.variable_scope) is deprecated and will be removed in a future version.\n",
            "Instructions for updating:\n",
            "non-resource variables are not supported in the long term\n",
            "600\n"
          ]
        }
      ],
      "source": [
        "import tensorflow.compat.v1 as tf\n",
        "tf.disable_v2_behavior()\n",
        "\n",
        "### TensorBoard로 시각화하기\n",
        "\n",
        "# 데이터 플로우 그래프 구축하기\n",
        "a = tf.constant(20, name=\"a\")\n",
        "b = tf.constant(30, name=\"b\")\n",
        "mul_op = a*b\n",
        "\n",
        "# 세션 생성\n",
        "sess = tf.Session()\n",
        "\n",
        "# TensorBoard 사용\n",
        "tw = tf.summary.FileWriter(\"log_dir\", graph=sess.graph)\n",
        "\n",
        "# 세션 실행\n",
        "print(sess.run(mul_op))"
      ]
    },
    {
      "cell_type": "code",
      "source": [
        "\n",
        "\n",
        "# 상수와 변수 선언\n",
        "a = tf.constant(100, name=\"a\")\n",
        "b = tf.constant(200, name=\"b\")\n",
        "c = tf.constant(300, name=\"c\")\n",
        "v = tf.Variable(0, name=\"v\")\n",
        "\n",
        "# 곱셈을 수행하는 그래프 정의\n",
        "calc_op = a + b * c\n",
        "assign_op = tf.assign(v, calc_op)\n",
        "\n",
        "# 세션 생성\n",
        "sess = tf.Session()\n",
        "\n",
        "# TensorBoard 사용\n",
        "tw = tf.summary.FileWriter(\"log_dir\", graph = sess.graph)\n",
        "\n",
        "# 세션 실행하기 (5)\n",
        "sess.run(assign_op)\n",
        "print(sess.run(v))"
      ],
      "metadata": {
        "colab": {
          "base_uri": "https://localhost:8080/"
        },
        "id": "cXbcAu9ez6-y",
        "outputId": "f278679b-63be-4db7-f920-4935266bcf95"
      },
      "execution_count": null,
      "outputs": [
        {
          "output_type": "stream",
          "name": "stdout",
          "text": [
            "60100\n"
          ]
        }
      ]
    },
    {
      "cell_type": "code",
      "source": [
        "# TensorFlow를 활용한 학습\n",
        "\n",
        "import pandas as pd\n",
        "import numpy as np\n",
        "\n",
        "csv = pd.read_csv('/content/sample_data/bmi.csv')\n",
        "\n",
        "# 데이터 정규화\n",
        "csv['height'] = csv['height']/200\n",
        "csv['weight'] = csv['weight']/100\n",
        "\n",
        "## 레이블을 배열로 변환해보기\n",
        "# thin : [1,0,0] / normal : [0,1,0] / fat : [0,0,1]\n",
        "bclass = {'thin' : [1,0,0], 'normal' : [0,1,0], 'fat' : [0,0,1]}\n",
        "csv['label_pat'] = csv['label'].apply(lambda x : np.array(bclass[x]))\n",
        "\n",
        "# 테스트를 위한 데이터 분류\n",
        "test_csv = csv[15000:20000]\n",
        "test_pat = test_csv[['weight', 'height']]   # 키랑 몸무게만 추출\n",
        "test_ans = list(test_csv['label_pat'])      # 배열로 변환한 레이블 저장\n",
        "\n",
        "# 데이터 플로우 그래프 구축하기(x축, y축)\n",
        "# 플레이스홀더 선언\n",
        "x = tf.placeholder(tf.float32, [None, 2], name=\"x\")   # 키와 몸무게 데이터 - 가변행 * 2열 행렬\n",
        "y_ = tf.placeholder(tf.float32, [None, 3], name=\"y_\")   # 정답 레이블 넣기 - 가변행 * 3열 행렬\n",
        "\n",
        "# 변수 선언\n",
        "with tf.name_scope('interface') as scope :\n",
        "  w = tf.Variable(tf.zeros([2,3]), name=\"w\")    # 가중치 부여 - 2*3 행렬\n",
        "  b = tf.Variable(tf.zeros([3]), name=\"b\")      # 바이어스\n",
        "\n",
        "  # 소프트맥스 회귀 정의\n",
        "  with tf.name_scope('softmax') as scope :\n",
        "    y = tf.nn.softmax(tf.matmul(x,w) + b)       # matmul : matrix multiple (행렬곱)\n",
        "\n",
        "# 모델 훈련\n",
        "with tf.name_scope('loss') as scope : \n",
        "  cross_entropy = -tf.reduce_sum(y_ * tf.log(y))      # y의 교차엔트로피(loss계산)\n",
        "with tf.name_scope('training') as scope :\n",
        "  optimizer = tf.train.GradientDescentOptimizer(0.01) # 학습계수 0.01 : 오차 함수가 최대가 되도록 함(경사하강법)\n",
        "  train = optimizer.minimize(cross_entropy)\n",
        "      # optimizer, train을 이렇게 정의하면 TensorFlow가 가중치 w와 바이어스 b값을 자동으로 변경해줌\n",
        "\n",
        "# 정답률 구하기\n",
        "with tf.name_scope('accuracy') as scope :\n",
        "  predict = tf.equal(tf.argmax(y,1), tf.argmax(y_,1))\n",
        "  accuracy = tf.reduce_mean(tf.cast(predict, tf.float32))\n",
        "\n",
        "# 세션 시작\n",
        "with tf.Session() as sess :\n",
        "  tw = tf.summary.FileWriter(\"log_dir\", graph = sess.graph)\n",
        "  sess.run(tf.global_variables_initializer())     # 변수 초기화\n",
        "\n",
        "  # 학습시키기 15000\n",
        "  for step in range(3500) :\n",
        "      i = (step * 100) % 14000            # 15000번째 행부터는 테스트용 데이터로 빼둠\n",
        "      rows = csv[1 + i : 1 + i + 100]     # 100개씩\n",
        "      x_pat = rows[['weight','height']]   # 데이터 입력\n",
        "      y_ans = list(rows['label_pat'])     # label 입력\n",
        "      fd = {x : x_pat, y_ : y_ans}\n",
        "      sess.run(train, feed_dict = fd)\n",
        "      if step % 500 == 0 :\n",
        "          cre = sess.run(cross_entropy, feed_dict = fd)\n",
        "          acc = sess.run(accuracy, feed_dict = {x : test_pat, y_ : test_ans})\n",
        "          print('step =', step, 'cre =', cre, 'acc =', acc)\n",
        "          \n",
        "  # 최종 정답률\n",
        "  acc = sess.run(accuracy, feed_dict = { x : test_pat, y_ : test_ans })\n",
        "  print('정답률 =', acc)"
      ],
      "metadata": {
        "colab": {
          "base_uri": "https://localhost:8080/"
        },
        "id": "b7m8Rjae2hfL",
        "outputId": "71dc8b6e-4332-4f21-da51-1b2c6a3433f7"
      },
      "execution_count": null,
      "outputs": [
        {
          "output_type": "stream",
          "name": "stdout",
          "text": [
            "step = 0 cre = 108.59491 acc = 0.3734\n",
            "step = 500 cre = 53.11373 acc = 0.8638\n",
            "step = 1000 cre = 45.682495 acc = 0.8888\n",
            "step = 1500 cre = 40.71729 acc = 0.9304\n",
            "step = 2000 cre = 35.59798 acc = 0.9554\n",
            "step = 2500 cre = 28.15816 acc = 0.9612\n",
            "step = 3000 cre = 28.311062 acc = 0.9496\n",
            "정답률 = 0.964\n"
          ]
        }
      ]
    },
    {
      "cell_type": "code",
      "source": [
        "rm log_dir/*"
      ],
      "metadata": {
        "id": "EeDJtbQA5w20"
      },
      "execution_count": null,
      "outputs": []
    },
    {
      "cell_type": "code",
      "source": [
        "%load_ext tensorboard\n",
        "%tensorboard --logdir ./log_dir/"
      ],
      "metadata": {
        "id": "0j7fJGVDrAkr"
      },
      "execution_count": null,
      "outputs": []
    },
    {
      "cell_type": "code",
      "source": [
        "### TensorBoard로 딥러닝\n",
        "import tensorflow.compat.v1 as tf\n",
        "import matplotlib.pyplot as plt\n",
        "tf.disable_v2_behavior()\n",
        "\n",
        "mnist = tf.keras.datasets.mnist\n",
        "pixels = 28 * 28\n",
        "nums = 10   # 0-9 사이의 카테고리\n",
        "(x_train, y_train), (x_test, y_test) = mnist.load_data()\n",
        "\n",
        "# 플레이스홀더 정의\n",
        "x = tf.placeholder(tf.float32, shape=[None, pixels], name=\"x\") # 이미지 데이터\n",
        "y_ = tf.placeholder(tf.float32, shape=[None, nums], name=\"y_\") # 정답 레이블\n",
        "\n",
        "# 가중치와 바이어스를 초기화하는 함수\n",
        "def weight_variable(name, shape):\n",
        "  W_init = tf.truncated_normal(shape, stddev=0.1)\n",
        "  W = tf.Variable(W_init, name=\"W_\"+name)\n",
        "  return W\n",
        "\n"
      ],
      "metadata": {
        "colab": {
          "base_uri": "https://localhost:8080/"
        },
        "id": "XnzsqRecDBAM",
        "outputId": "1a5ec8a3-a8d6-4eb0-9a59-08c2525532d6"
      },
      "execution_count": null,
      "outputs": [
        {
          "output_type": "execute_result",
          "data": {
            "text/plain": [
              "10000"
            ]
          },
          "metadata": {},
          "execution_count": 41
        }
      ]
    },
    {
      "cell_type": "code",
      "source": [
        ""
      ],
      "metadata": {
        "id": "tqI9j3MsFY0-"
      },
      "execution_count": null,
      "outputs": []
    }
  ]
}