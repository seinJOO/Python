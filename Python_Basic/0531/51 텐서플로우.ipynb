{
 "cells": [
  {
   "cell_type": "code",
   "execution_count": null,
   "metadata": {},
   "outputs": [],
   "source": [
    "'''\n",
    "# 신경망(뉴럴 네트워크) : 인간의 신경망을 본따 만든 네트워크 구조\n",
    "- 입력하면 데이터들이 입력층, 중간층(은폐층), 출력층을 지나며 처리가 일어나고 최종적인 결과가 출력\n",
    "- 신경망을 3개 이상 중첩하면 “깊은 신경망(Deep Neural Network: DNN)”\n",
    "- 깊은 신경망을 활용한 기계학습 => 딥러닝\n",
    "\n",
    "# 퍼셉트론(Perceptron) : 입력층과 출력층만으로 구성된 인공 뉴런 -> 입력값들에 가중치를 적용하여 판단\n",
    "# TensorFlow(텐서 플로우) : 다차원 행렬 계산으로 대규모 숫자 연산을 해주는 라이브러리\n",
    "\n",
    "***** 작업을 위해 버전 낮추기 *****\n",
    "\n",
    "import tensorflow.compat.v1 as tf\n",
    "tf.disable_v2_behavior()\n",
    "+ python은 3.6~3.9 사용\n",
    "\n",
    "'''"
   ]
  },
  {
   "cell_type": "code",
   "execution_count": 39,
   "metadata": {},
   "outputs": [
    {
     "name": "stdout",
     "output_type": "stream",
     "text": [
      "WARNING:tensorflow:From c:\\Users\\tjoeun709\\anaconda3\\lib\\site-packages\\tensorflow\\python\\compat\\v2_compat.py:107: disable_resource_variables (from tensorflow.python.ops.variable_scope) is deprecated and will be removed in a future version.\n",
      "Instructions for updating:\n",
      "non-resource variables are not supported in the long term\n",
      "6234\n"
     ]
    }
   ],
   "source": [
    "# TensorFlow 추출\n",
    "import tensorflow.compat.v1 as tf\n",
    "tf.disable_v2_behavior()\n",
    "\n",
    "# 상수 정의\n",
    "a = tf.constant(1234)\n",
    "b = tf.constant(5000)\n",
    "\n",
    "# 계산 정의\n",
    "add_op = a + b\n",
    "\n",
    "# 세션 시작\n",
    "sess = tf.Session()\n",
    "res = sess.run(add_op) # 식 평가하기\n",
    "print(res)"
   ]
  },
  {
   "cell_type": "code",
   "execution_count": 44,
   "metadata": {},
   "outputs": [
    {
     "name": "stdout",
     "output_type": "stream",
     "text": [
      "9\n",
      "20\n"
     ]
    }
   ],
   "source": [
    "# 상수 정의\n",
    "a = tf.constant(2)\n",
    "b = tf.constant(3)\n",
    "c = tf.constant(4)\n",
    "# 연산 정의\n",
    "calc1_op = a + b + c\n",
    "calc2_op = (a + b) *c\n",
    "# 세션 시작\n",
    "sess = tf.Session()\n",
    "res1 = sess.run(calc1_op) # 식 평가하기\n",
    "print(res1)\n",
    "res2 = sess.run(calc2_op) # 식 평가하기\n",
    "print(res2)"
   ]
  },
  {
   "cell_type": "code",
   "execution_count": 45,
   "metadata": {},
   "outputs": [
    {
     "data": {
      "text/plain": [
       "[<matplotlib.lines.Line2D at 0x24faeb710a0>]"
      ]
     },
     "execution_count": 45,
     "metadata": {},
     "output_type": "execute_result"
    },
    {
     "data": {
      "image/png": "[encoded data removed]",
      "text/plain": [
       "<Figure size 432x288 with 1 Axes>"
      ]
     },
     "metadata": {
      "needs_background": "light"
     },
     "output_type": "display_data"
    }
   ],
   "source": [
    "import numpy as np\n",
    "import matplotlib.pyplot as plt\n",
    "x = np.arange(-20, 20, 0.1)\n",
    "y = np.sin(x)\n",
    "plt.plot(x, y)"
   ]
  },
  {
   "cell_type": "code",
   "execution_count": 46,
   "metadata": {},
   "outputs": [
    {
     "name": "stdout",
     "output_type": "stream",
     "text": [
      "150\n"
     ]
    }
   ],
   "source": [
    "# a+b 연산\n",
    "a = tf.constant(100)\n",
    "b = tf.constant (50)\n",
    "add_op = a + b\n",
    "# 변수 v 선언하기\n",
    "v = tf.Variable(0)\n",
    "# 변수 v에 add_op의 결과 대입하기\n",
    "let_op = tf.assign(v, add_op)\n",
    "# 세션 시작하기\n",
    "sess = tf.Session()\n",
    "# 변수 초기화하기\n",
    "sess.run(tf.global_variables_initializer())\n",
    "# let_op 실행하기\n",
    "sess.run(let_op)\n",
    "# 출력하기\n",
    "print(sess.run(v))"
   ]
  },
  {
   "cell_type": "code",
   "execution_count": 47,
   "metadata": {},
   "outputs": [
    {
     "name": "stdout",
     "output_type": "stream",
     "text": [
      "[2 4 6]\n",
      "[20 40 60]\n"
     ]
    }
   ],
   "source": [
    "### tensorflow 플레이스홀더 기능\n",
    "## 템플릿처럼 값을 넣을 공간을 만들어두는 기능\n",
    "\n",
    "# 플레이스 홀더 정의\n",
    "a = tf.placeholder(tf.int32, [3])\n",
    "# [x,y,z] 세 개의 정수값을 가진 배열로 정의\n",
    "\n",
    "# 배열의 모든 값을 2배로 하는 연산 정의\n",
    "b = tf.constant(2)\n",
    "x2_op = a * b\n",
    "\n",
    "# 세션 시작\n",
    "sess = tf.Session()\n",
    "\n",
    "# 플레이스홀더에 값을 넣고 실행\n",
    "r1 = sess.run(x2_op, feed_dict = {a:[1,2,3]})\n",
    "print(r1)\n",
    "r2 = sess.run(x2_op, feed_dict = {a:[10,20,30]})\n",
    "print(r2)"
   ]
  },
  {
   "cell_type": "code",
   "execution_count": 48,
   "metadata": {},
   "outputs": [
    {
     "name": "stdout",
     "output_type": "stream",
     "text": [
      "[10 20 30 40 50 60]\n",
      "[100 200]\n"
     ]
    }
   ],
   "source": [
    "### 플레이스홀더\n",
    "# 정의\n",
    "a = tf.placeholder(tf.int32, [None]) # 정수값을 가진 가변배열 정의\n",
    "\n",
    "# 배열의 모든 값을 10배로 연산\n",
    "b = tf.constant(10)\n",
    "x10_op = a*b\n",
    "\n",
    "# session 시작\n",
    "sess = tf.Session()\n",
    "\n",
    "# 플레이스홀더에 값 넣기\n",
    "r1 = sess.run(x10_op, feed_dict={a:[1,2,3,4,5,6]})\n",
    "print(r1)\n",
    "r2 = sess.run(x10_op, feed_dict = {a:[10,20]})\n",
    "print(r2)"
   ]
  },
  {
   "cell_type": "code",
   "execution_count": 3,
   "metadata": {},
   "outputs": [
    {
     "name": "stdout",
     "output_type": "stream",
     "text": [
      "step = 0 cre = 108.59491 acc = 0.3734\n",
      "step = 500 cre = 53.11373 acc = 0.8638\n",
      "step = 1000 cre = 45.68249 acc = 0.8888\n",
      "step = 1500 cre = 40.717293 acc = 0.9304\n",
      "step = 2000 cre = 35.59798 acc = 0.9554\n",
      "step = 2500 cre = 28.15816 acc = 0.9612\n",
      "step = 3000 cre = 28.311058 acc = 0.9496\n",
      "정답률 = 0.964\n"
     ]
    }
   ],
   "source": [
    "# TensorFlow를 활용한 학습\n",
    "\n",
    "import pandas as pd\n",
    "import numpy as np\n",
    "import tensorflow.compat.v1 as tf \n",
    "tf.disable_v2_behavior()\n",
    "\n",
    "csv = pd.read_csv('data/bmi.csv')\n",
    "\n",
    "# 데이터 정규화\n",
    "csv['height'] = csv['height']/200\n",
    "csv['weight'] = csv['weight']/100\n",
    "\n",
    "## 레이블을 배열로 변환해보기\n",
    "# thin : [1,0,0] / normal : [0,1,0] / fat : [0,0,1]\n",
    "bclass = {'thin' : [1,0,0], 'normal' : [0,1,0], 'fat' : [0,0,1]}\n",
    "csv['label_pat'] = csv['label'].apply(lambda x : np.array(bclass[x]))\n",
    "\n",
    "# 테스트를 위한 데이터 분류\n",
    "test_csv = csv[15000:20000]\n",
    "test_pat = test_csv[['weight', 'height']]   # 키랑 몸무게만 추출\n",
    "test_ans = list(test_csv['label_pat'])      # 배열로 변환한 레이블 저장\n",
    "\n",
    "# 데이터 플로우 그래프 구축하기(x축, y축)\n",
    "# 플레이스홀더 선언\n",
    "x = tf.placeholder(tf.float32, [None, 2])   # 키와 몸무게 데이터 - 가변행 * 2열 행렬\n",
    "y_ = tf.placeholder(tf.float32, [None, 3])   # 정답 레이블 넣기 - 가변행 * 3열 행렬\n",
    "\n",
    "# 변수 선언\n",
    "w = tf.Variable(tf.zeros([2,3]))    # 가중치 부여 - 2*3 행렬\n",
    "b = tf.Variable(tf.zeros([3]))      # 바이어스\n",
    "\n",
    "# 소프트맥스 회귀 정의\n",
    "y = tf.nn.softmax(tf.matmul(x,w) + b)       # matmul : matrix multiple (행렬곱)\n",
    "\n",
    "# 모델 훈련\n",
    "cross_entropy = -tf.reduce_sum(y_ * tf.log(y))      # y의 교차엔트로피\n",
    "optimizer = tf.train.GradientDescentOptimizer(0.01) # 학습계수 0.01 : 오차 함수가 최대가 되도록 함(경사하강법)\n",
    "train = optimizer.minimize(cross_entropy)\n",
    "    # optimizer, train을 이렇게 정의하면 TensorFlow가 가중치 w와 바이어스 b값을 자동으로 변경해줌\n",
    "\n",
    "# 정답률 구하기\n",
    "predict = tf.equal(tf.argmax(y,1), tf.argmax(y_,1))\n",
    "accuracy = tf.reduce_mean(tf.cast(predict, tf.float32))\n",
    "\n",
    "# 세션 시작\n",
    "sess = tf.Session()\n",
    "sess.run(tf.global_variables_initializer())     # 변수 초기화\n",
    "\n",
    "# 학습시키기 15000\n",
    "for step in range(3500) :\n",
    "    i = (step * 100) % 14000            # 15000번째 행부터는 테스트용 데이터로 빼둠\n",
    "    rows = csv[1 + i : 1 + i + 100]     # 100개씩\n",
    "    x_pat = rows[['weight','height']]   # 데이터 입력\n",
    "    y_ans = list(rows['label_pat'])     # label 입력\n",
    "    fd = {x : x_pat, y_ : y_ans}\n",
    "    sess.run(train, feed_dict = fd)\n",
    "    if step % 500 == 0 :\n",
    "        cre = sess.run(cross_entropy, feed_dict = fd)\n",
    "        acc = sess.run(accuracy, feed_dict = {x : test_pat, y_ : test_ans})\n",
    "        print('step =', step, 'cre =', cre, 'acc =', acc)\n",
    "        \n",
    "# 최종 정답률\n",
    "acc = sess.run(accuracy, feed_dict = { x : test_pat, y_ : test_ans })\n",
    "print('정답률 =', acc)"
   ]
  },
  {
   "cell_type": "code",
   "execution_count": 5,
   "metadata": {},
   "outputs": [
    {
     "name": "stdout",
     "output_type": "stream",
     "text": [
      "600\n"
     ]
    }
   ],
   "source": [
    "### TensorBoard로 시각화하기\n",
    "\n",
    "# 데이터 플로우 그래프 구축하기\n",
    "a = tf.constant(20, name=\"a\")\n",
    "b = tf.constant(30, name=\"b\")\n",
    "mul_op = a*b\n",
    "\n",
    "# 세션 생성\n",
    "sess = tf.Session()\n",
    "\n",
    "# TensorBoard 사용\n",
    "tw = tf.summary.FileWriter(\"log_dir\", graph=sess.graph)\n",
    "\n",
    "# 세션 실행\n",
    "print(sess.run(mul_op))"
   ]
  },
  {
   "cell_type": "code",
   "execution_count": 8,
   "metadata": {},
   "outputs": [
    {
     "data": {
      "text/html": [
       "\n",
       "      <iframe id=\"tensorboard-frame-112e05271b6a1ad8\" width=\"100%\" height=\"800\" frameborder=\"0\">\n",
       "      </iframe>\n",
       "      <script>\n",
       "        (function() {\n",
       "          const frame = document.getElementById(\"tensorboard-frame-112e05271b6a1ad8\");\n",
       "          const url = new URL(\"/\", window.location);\n",
       "          const port = 6006;\n",
       "          if (port) {\n",
       "            url.port = port;\n",
       "          }\n",
       "          frame.src = url;\n",
       "        })();\n",
       "      </script>\n",
       "    "
      ],
      "text/plain": [
       "<IPython.core.display.HTML object>"
      ]
     },
     "metadata": {},
     "output_type": "display_data"
    }
   ],
   "source": [
    "%load_ext tensorboard\n",
    "%tensorboard --logdir ./log_dir/"
   ]
  }
 ],
 "metadata": {
  "interpreter": {
   "hash": "af1d12ba1aa5119a4b9806dc857c54821948426eacb882d2b6107e94aa58bb2c"
  },
  "kernelspec": {
   "display_name": "Python 3.9.7 ('base')",
   "language": "python",
   "name": "python3"
  },
  "language_info": {
   "codemirror_mode": {
    "name": "ipython",
    "version": 3
   },
   "file_extension": ".py",
   "mimetype": "text/x-python",
   "name": "python",
   "nbconvert_exporter": "python",
   "pygments_lexer": "ipython3",
   "version": "3.9.7"
  },
  "orig_nbformat": 4
 },
 "nbformat": 4,
 "nbformat_minor": 2
}
