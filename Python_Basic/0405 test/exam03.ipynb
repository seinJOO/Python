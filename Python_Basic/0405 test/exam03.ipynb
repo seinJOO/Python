{
 "cells": [
  {
   "cell_type": "code",
   "execution_count": 1,
   "metadata": {},
   "outputs": [],
   "source": [
    "import sqlite3; from bs4 import BeautifulSoup; import urllib.request as rq; import re\n",
    "\n",
    "url = 'https://news.naver.com/main/main.naver?mode=LSD&mid=shm&sid1=102'\n",
    "data = rq.urlopen(url)                          # 해당 url 파일로 open\n",
    "data = data.read()                              # 파일을 바이너리형태로 처리\n",
    "data = data.decode('euc-kr')                    # 파일 디코딩(해당 url은 euc-kr로 인코딩 되어있음)\n",
    "data = BeautifulSoup(data, 'html.parser')       # html로 파싱하기\n",
    "datas = data.select('.list_text a')             # selector를 이용해 필요한 클래스의 a태그만 가져오기\n",
    "datas += data.select('.cluster_text a')\n",
    "\n",
    "# 텍스트 추출\n",
    "heads = []                          # 선택한 선택자 중 텍스트만 추출하여 담기 위한 리스트 변수 생성\n",
    "for x in datas :\n",
    "    if x.string :\n",
    "        heads.append(x.string)      # 해당 태그의 텍스트만 추출하여 heads 리스트에 저장\n",
    "\n",
    "# 텍스트 전처리\n",
    "clean_text = ''                     # 전처리 후 텍스트를 담을 문자열 변수 생성\n",
    "for x in heads :                    # 텍스트 전처리 시작\n",
    "    x = re.sub('[\\\"\\'\\…,./“”‘’]|[-_=!?@#·$~%^&‥*()→↑<>]|[a-zA-Z]', ' ', x)\n",
    "    x = re.sub(\"[][]\", ' ', x)\n",
    "    clean_text += x + ' '           # 전처리한 텍스트를 str형태로 저장\n",
    "\n",
    "# 단어 추출\n",
    "words = {}                          # 단어만 추출하여 저장할 딕셔너리 생성\n",
    "for x in clean_text.split() :       # 공백을 기준으로 단어 슬라이싱\n",
    "    if len(x) > 1 :                 # 단어 중 두 글자 이상의 단어만 추출\n",
    "        words[x] = words.get(x,0) + 1   # 단어를 key값, 빈도수를 value값으로 저장 & 같은 단어 있을 시 value값 1씩 누적하여 저장\n",
    "\n",
    "try :\n",
    "    ## DB 작업\n",
    "    conn = sqlite3.connect('word_count_db')    # DB 연동\n",
    "    cursor = conn.cursor()                          # DB와 작업할 cursor 객체 생성\n",
    "\n",
    "    # 테이블 생성 - num(인덱싱 용), word(단어), freq(빈도수)\n",
    "    sql = \"CREATE table if not exists word_count (num INTEGER PRIMARY KEY AUTOINCREMENT, word TEXT(20), freq INTEGER);\"\n",
    "    cursor.execute(sql)         # cursor 객체를 통해 sql문 실행\n",
    "\n",
    "    for k, v in words.items() : # 추출한 각 단어와 빈도수를 테이블에 입력\n",
    "        sql = f\"INSERT INTO word_count(word, freq) VALUES ('{k}',{v})\"\n",
    "        cursor.execute(sql)\n",
    "    conn.commit()\n",
    "except Exception as e :         # 예외처리\n",
    "    print('예외 발생! :',e)\n",
    "    conn.rollback()\n",
    "finally :                       # 사용한 객체 종료\n",
    "    conn.close()\n",
    "    cursor.close()\n",
    "\n"
   ]
  },
  {
   "cell_type": "code",
   "execution_count": 5,
   "metadata": {},
   "outputs": [
    {
     "data": {
      "image/png": "[encoded data removed]",
      "text/plain": [
       "<Figure size 432x288 with 1 Axes>"
      ]
     },
     "metadata": {},
     "output_type": "display_data"
    }
   ],
   "source": [
    "import sqlite3\n",
    "\n",
    "from matplotlib import pyplot as plt, font_manager, rc\n",
    "\n",
    "try :\n",
    "    conn = sqlite3.connect('word_count_db')     # DB 연결\n",
    "    cursor = conn.cursor()                      # DB 작업을 위한 cursor 객체 생성\n",
    "    \n",
    "    sql = \"SELECT word, freq FROM word_count ORDER BY freq DESC\"\n",
    "    words = cursor.execute(sql).fetchmany(5)        # 빈도수 기준 내림차순으로 정렬한 데이터 중 5개 추출\n",
    "except Exception as e :\n",
    "    print('예외 발생! :',e)\n",
    "\n",
    "word = []\n",
    "count = []\n",
    "for w, c in words :     # 튜플로 추출된 단어와 빈도수를 unpacking\n",
    "    word.append(w)      # 단어를 list로 packing\n",
    "    count.append(c)     # 빈도수를 list로 packing\n",
    "    \n",
    "# 단어가 한글이기 때문에, 한글 적용이 가능한 폰트 이름 가져오기\n",
    "font_name = font_manager.FontProperties(fname='C:\\Windows\\Fonts\\malgun.ttf').get_name()\n",
    "rc('font',family=font_name)     # 폰트 이름으로 적용시키기\n",
    "\n",
    "plt.pie(count, labels=word, autopct='%1.1f%%',textprops={'color' : 'black','fontsize':12})\n",
    "plt.title('사회부 헤드라인 주요 단어 top 5',fontsize=12)    # pie차트의 제목 지정\n",
    "plt.show()\n"
   ]
  }
 ],
 "metadata": {
  "interpreter": {
   "hash": "b89b5cfaba6639976dc87ff2fec6d58faec662063367e2c229c520fe71072417"
  },
  "kernelspec": {
   "display_name": "Python 3.10.3 64-bit",
   "language": "python",
   "name": "python3"
  },
  "language_info": {
   "codemirror_mode": {
    "name": "ipython",
    "version": 3
   },
   "file_extension": ".py",
   "mimetype": "text/x-python",
   "name": "python",
   "nbconvert_exporter": "python",
   "pygments_lexer": "ipython3",
   "version": "3.10.3"
  },
  "orig_nbformat": 4
 },
 "nbformat": 4,
 "nbformat_minor": 2
}
