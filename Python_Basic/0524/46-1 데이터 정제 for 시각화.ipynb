{
 "cells": [
  {
   "cell_type": "code",
   "execution_count": null,
   "metadata": {},
   "outputs": [],
   "source": [
    "### 스타벅스 지도 시각화\n",
    "# 입지 관련 가설 세우기\n",
    "# 1. 거주 인구가 많은 지역에 스타벅스 매장이 많이 입지해있을 것\n",
    "# 2. 직장인이 많은 지역에 스타벅스 매장이 많이 입지해있을 것"
   ]
  },
  {
   "cell_type": "code",
   "execution_count": null,
   "metadata": {},
   "outputs": [],
   "source": [
    "### 데이터 수집 (서울시 내)\n",
    "# 1. 스타벅스들의 위치\n",
    "# 2. 인구 통계 데이터 수집"
   ]
  },
  {
   "cell_type": "code",
   "execution_count": 2,
   "metadata": {},
   "outputs": [
    {
     "name": "stderr",
     "output_type": "stream",
     "text": [
      "C:\\Users\\tjoeun709\\AppData\\Local\\Temp\\ipykernel_2696\\2211235179.py:7: DeprecationWarning: executable_path has been deprecated, please pass in a Service object\n",
      "  driver = webdriver.Chrome(path)\n"
     ]
    }
   ],
   "source": [
    "from selenium import webdriver\n",
    "import time\n",
    "from bs4 import BeautifulSoup\n",
    "import pandas as pd\n",
    "\n",
    "path = 'c:/webdriver/chromedriver.exe'\n",
    "driver = webdriver.Chrome(path)\n",
    "driver.get('https://www.starbucks.co.kr/store/store_map.do')"
   ]
  },
  {
   "cell_type": "code",
   "execution_count": 3,
   "metadata": {},
   "outputs": [
    {
     "name": "stderr",
     "output_type": "stream",
     "text": [
      "C:\\Users\\tjoeun709\\AppData\\Local\\Temp\\ipykernel_2696\\3630988392.py:2: DeprecationWarning: find_element_by_css_selector is deprecated. Please use find_element(by=By.CSS_SELECTOR, value=css_selector) instead\n",
      "  driver.find_element_by_css_selector(local_btn).click()\n",
      "C:\\Users\\tjoeun709\\AppData\\Local\\Temp\\ipykernel_2696\\3630988392.py:6: DeprecationWarning: find_element_by_css_selector is deprecated. Please use find_element(by=By.CSS_SELECTOR, value=css_selector) instead\n",
      "  driver.find_element_by_css_selector(seoul_btn).click()\n",
      "C:\\Users\\tjoeun709\\AppData\\Local\\Temp\\ipykernel_2696\\3630988392.py:10: DeprecationWarning: find_element_by_css_selector is deprecated. Please use find_element(by=By.CSS_SELECTOR, value=css_selector) instead\n",
      "  driver.find_element_by_css_selector(all_btn).click()\n"
     ]
    }
   ],
   "source": [
    "local_btn = 'header.loca_search > h3 > a'\n",
    "driver.find_element_by_css_selector(local_btn).click()\n",
    "time.sleep(2)\n",
    "\n",
    "seoul_btn = 'ul.sido_arae_box > li:nth-child(1) > a'\n",
    "driver.find_element_by_css_selector(seoul_btn).click()\n",
    "time.sleep(2)\n",
    "\n",
    "all_btn = 'ul.gugun_arae_box > li:nth-child(1) > a'\n",
    "driver.find_element_by_css_selector(all_btn).click()\n",
    "time.sleep(3)"
   ]
  },
  {
   "cell_type": "code",
   "execution_count": 29,
   "metadata": {},
   "outputs": [],
   "source": [
    "html = driver.page_source\n",
    "soup = BeautifulSoup(html, 'html.parser')\n",
    "datas = soup.select('ul.quickSearchResultBoxSidoGugun > li.quickResultLstCon')\n",
    "\n",
    "starbucks_seoul = []\n",
    "\n",
    "for i in range(len(datas)) :\n",
    "    name = datas[i]['data-name']\n",
    "    lat = datas[i]['data-lat']\n",
    "    lon = datas[i]['data-long']\n",
    "    typ = datas[i].select('i')[0]['class'][0][4:]\n",
    "    addr = str(datas[i].select('p')[0]).split('<br/>')[0].split('>')[1]\n",
    "    tel = str(datas[i].select('p')[0]).split('<br/>')[1].split('<')[0]\n",
    "    starbucks_seoul.append([name, lat, lon, typ, addr, tel])\n",
    "\n",
    "\n",
    "starbucks_seoul_df = pd.DataFrame(starbucks_seoul, columns=['매장명','위도','경도','매장타입','주소','전화번호'])\n",
    "\n",
    "starbucks_seoul_df.to_excel('data/5_starbucks_seoul.xlsx', index=False)\n"
   ]
  },
  {
   "cell_type": "markdown",
   "metadata": {},
   "source": [
    "#### 서울 열린 데이터광장 공공데이터 수집 및 처리 "
   ]
  },
  {
   "cell_type": "code",
   "execution_count": 1,
   "metadata": {},
   "outputs": [
    {
     "data": {
      "text/html": [
       "<div>\n",
       "<style scoped>\n",
       "    .dataframe tbody tr th:only-of-type {\n",
       "        vertical-align: middle;\n",
       "    }\n",
       "\n",
       "    .dataframe tbody tr th {\n",
       "        vertical-align: top;\n",
       "    }\n",
       "\n",
       "    .dataframe thead th {\n",
       "        text-align: right;\n",
       "    }\n",
       "</style>\n",
       "<table border=\"1\" class=\"dataframe\">\n",
       "  <thead>\n",
       "    <tr style=\"text-align: right;\">\n",
       "      <th></th>\n",
       "      <th>quarter</th>\n",
       "      <th>area</th>\n",
       "      <th>house</th>\n",
       "      <th>total</th>\n",
       "      <th>male_total</th>\n",
       "      <th>female_total</th>\n",
       "      <th>local_total</th>\n",
       "      <th>local_male</th>\n",
       "      <th>local_female</th>\n",
       "      <th>foreign_total</th>\n",
       "      <th>foreign_male</th>\n",
       "      <th>foreign_female</th>\n",
       "      <th>popul_per_house</th>\n",
       "      <th>aged</th>\n",
       "    </tr>\n",
       "  </thead>\n",
       "  <tbody>\n",
       "    <tr>\n",
       "      <th>0</th>\n",
       "      <td>2022.1/4</td>\n",
       "      <td>합계</td>\n",
       "      <td>4,451,444</td>\n",
       "      <td>9,732,617</td>\n",
       "      <td>4,716,704</td>\n",
       "      <td>5,015,913</td>\n",
       "      <td>9,506,778</td>\n",
       "      <td>4,613,910</td>\n",
       "      <td>4,892,868</td>\n",
       "      <td>225,839</td>\n",
       "      <td>102,794</td>\n",
       "      <td>123,045</td>\n",
       "      <td>2</td>\n",
       "      <td>1,628,980</td>\n",
       "    </tr>\n",
       "    <tr>\n",
       "      <th>1</th>\n",
       "      <td>2022.1/4</td>\n",
       "      <td>종로구</td>\n",
       "      <td>73,766</td>\n",
       "      <td>153,684</td>\n",
       "      <td>74,018</td>\n",
       "      <td>79,666</td>\n",
       "      <td>144,275</td>\n",
       "      <td>69,911</td>\n",
       "      <td>74,364</td>\n",
       "      <td>9,409</td>\n",
       "      <td>4,107</td>\n",
       "      <td>5,302</td>\n",
       "      <td>2</td>\n",
       "      <td>28,064</td>\n",
       "    </tr>\n",
       "    <tr>\n",
       "      <th>2</th>\n",
       "      <td>2022.1/4</td>\n",
       "      <td>중구</td>\n",
       "      <td>63,767</td>\n",
       "      <td>131,450</td>\n",
       "      <td>63,869</td>\n",
       "      <td>67,581</td>\n",
       "      <td>122,173</td>\n",
       "      <td>59,448</td>\n",
       "      <td>62,725</td>\n",
       "      <td>9,277</td>\n",
       "      <td>4,421</td>\n",
       "      <td>4,856</td>\n",
       "      <td>2</td>\n",
       "      <td>24,742</td>\n",
       "    </tr>\n",
       "    <tr>\n",
       "      <th>3</th>\n",
       "      <td>2022.1/4</td>\n",
       "      <td>용산구</td>\n",
       "      <td>111,207</td>\n",
       "      <td>236,518</td>\n",
       "      <td>114,571</td>\n",
       "      <td>121,947</td>\n",
       "      <td>222,169</td>\n",
       "      <td>106,735</td>\n",
       "      <td>115,434</td>\n",
       "      <td>14,349</td>\n",
       "      <td>7,836</td>\n",
       "      <td>6,513</td>\n",
       "      <td>2</td>\n",
       "      <td>39,461</td>\n",
       "    </tr>\n",
       "    <tr>\n",
       "      <th>4</th>\n",
       "      <td>2022.1/4</td>\n",
       "      <td>성동구</td>\n",
       "      <td>134,533</td>\n",
       "      <td>291,609</td>\n",
       "      <td>141,662</td>\n",
       "      <td>149,947</td>\n",
       "      <td>285,073</td>\n",
       "      <td>138,847</td>\n",
       "      <td>146,226</td>\n",
       "      <td>6,536</td>\n",
       "      <td>2,815</td>\n",
       "      <td>3,721</td>\n",
       "      <td>2</td>\n",
       "      <td>46,896</td>\n",
       "    </tr>\n",
       "  </tbody>\n",
       "</table>\n",
       "</div>"
      ],
      "text/plain": [
       "    quarter area      house      total male_total female_total local_total  \\\n",
       "0  2022.1/4   합계  4,451,444  9,732,617  4,716,704    5,015,913   9,506,778   \n",
       "1  2022.1/4  종로구     73,766    153,684     74,018       79,666     144,275   \n",
       "2  2022.1/4   중구     63,767    131,450     63,869       67,581     122,173   \n",
       "3  2022.1/4  용산구    111,207    236,518    114,571      121,947     222,169   \n",
       "4  2022.1/4  성동구    134,533    291,609    141,662      149,947     285,073   \n",
       "\n",
       "  local_male local_female foreign_total foreign_male foreign_female  \\\n",
       "0  4,613,910    4,892,868       225,839      102,794        123,045   \n",
       "1     69,911       74,364         9,409        4,107          5,302   \n",
       "2     59,448       62,725         9,277        4,421          4,856   \n",
       "3    106,735      115,434        14,349        7,836          6,513   \n",
       "4    138,847      146,226         6,536        2,815          3,721   \n",
       "\n",
       "   popul_per_house       aged  \n",
       "0                2  1,628,980  \n",
       "1                2     28,064  \n",
       "2                2     24,742  \n",
       "3                2     39,461  \n",
       "4                2     46,896  "
      ]
     },
     "execution_count": 1,
     "metadata": {},
     "output_type": "execute_result"
    }
   ],
   "source": [
    "### 주민등록인구 통계 데이터\n",
    "import pandas as pd\n",
    "\n",
    "sgg_pop_df = pd.read_csv('data/seoul_popul.txt', sep='\\t', header=2)\n",
    "columns = {\n",
    "    '기간' : 'quarter',\n",
    "    '자치구' : 'area',\n",
    "    '계' : 'total',\n",
    "    '계.1' : 'local_total',\n",
    "    '계.2' : 'foreign_total',\n",
    "    '남자' : 'male_total',\n",
    "    '남자.1' : 'local_male',\n",
    "    '남자.2' : 'foreign_male',\n",
    "    '여자' : 'female_total',\n",
    "    '여자.1' : 'local_female',\n",
    "    '여자.2' : 'foreign_female',\n",
    "    '세대' : 'house',\n",
    "    '세대당인구' : 'popul_per_house',\n",
    "    '65세이상고령자' : 'aged'\n",
    "}\n",
    "sgg_pop_df.rename(columns = columns, inplace = True)\n",
    "sgg_pop_df.head()"
   ]
  },
  {
   "cell_type": "code",
   "execution_count": 14,
   "metadata": {},
   "outputs": [],
   "source": [
    "### 불필요한 데이터 제거 (구, 구별 인구합계만 추리기)\n",
    "sgg_pop_df_selected = sgg_pop_df[1:]\n",
    "\n",
    "columns = ['area', 'total']\n",
    "sgg_pop_df_final = sgg_pop_df_selected[columns]\n",
    "sgg_pop_df_final.columns = ['시군구명','주민등록인구수']\n",
    "\n",
    "sgg_pop_df_final.to_excel('data/sgg_pop.xlsx', index=False)\n"
   ]
  },
  {
   "cell_type": "code",
   "execution_count": null,
   "metadata": {},
   "outputs": [],
   "source": [
    "### 서울시 동별 사업체현황 통계\n",
    "sgg_biz_df = pd.read_csv('data/seoul_corp.txt', sep='\\t', header=2)\n",
    "\n",
    "columns = {\n",
    "    '기간' : 'YEAR',\n",
    "    '자치구' : 'AREA',\n",
    "    '동' : 'DONG',\n",
    "    '사업체수' : 'CORP_CNT',\n",
    "    '여성대표자' : 'FEMALE_REP',\n",
    "    '계' : 'EMP_TOTAL',\n",
    "    '남' : 'EMP_MALE',\n",
    "    '여' : 'EMP_FEMALE'\n",
    "}\n",
    "sgg_biz_df.rename(columns=columns, inplace=True)\n",
    "sgg_biz_df.head()"
   ]
  },
  {
   "cell_type": "code",
   "execution_count": null,
   "metadata": {},
   "outputs": [],
   "source": [
    "### 시군구별 사업체 현황 데이터 추출(구별-동별을 합계해서)\n",
    "condition = sgg_biz_df['DONG'] == '소계'\n",
    "sgg_biz_df_selected = sgg_biz_df[condition]\n",
    "\n",
    "sgg_biz_df_selected.head()\n",
    "\n",
    "### 구, 사업체 수, 종사자 수만 추리기\n",
    "columns = ['AREA', 'EMP_TOTAL', 'CORP_CNT']\n",
    "sgg_biz_df_final = sgg_biz_df_selected[columns]\n",
    "sgg_biz_df_final.columns = ['시군구명','종사자수','사업체수']\n",
    "sgg_biz_df_final.head()\n",
    "\n",
    "sgg_biz_df_final.to_excel('data/sgg_biz.xlsx', index=False)"
   ]
  },
  {
   "cell_type": "code",
   "execution_count": 2,
   "metadata": {},
   "outputs": [],
   "source": [
    "### 1. 서울시 인구 조사(시군구별) - data/sgg_pop.xlsx\n",
    "### 2. 서울시 사업체데이터 수집 - data/sgg_biz.xlsx\n",
    "### 3. 스타벅스 매장 목록 = data/5_starbucks_seoul.xlsx\n",
    "import pandas as pd"
   ]
  },
  {
   "cell_type": "code",
   "execution_count": 3,
   "metadata": {},
   "outputs": [],
   "source": [
    "seoul_starbucks = pd.read_excel('data/5_starbucks_seoul.xlsx')  # 스타벅스 데이터\n",
    "sgg_pop = pd.read_excel('data/sgg_pop.xlsx')    # 인구데이터\n",
    "sgg_biz = pd.read_excel('data/sgg_biz.xlsx')    # 사업체 통계데이터"
   ]
  },
  {
   "cell_type": "code",
   "execution_count": null,
   "metadata": {},
   "outputs": [],
   "source": [
    "sgg_name = []\n",
    "for address in seoul_starbucks['주소'] :\n",
    "    sgg = address.split()[1]\n",
    "    sgg_name.append(sgg)\n",
    "\n",
    "seoul_starbucks['시군구명'] = sgg_name\n",
    "seoul_starbucks.tail()\n",
    "seoul_starbucks.to_excel('data/seoul_starbucks_list.xlsx', index=False)"
   ]
  },
  {
   "cell_type": "markdown",
   "metadata": {},
   "source": [
    "#### 스타벅스 분석용 데이터 만들기 "
   ]
  },
  {
   "cell_type": "code",
   "execution_count": null,
   "metadata": {},
   "outputs": [],
   "source": [
    "### 시군구 목록 데이터 수집\n",
    "seoul_sgg = pd.read_excel('data/seoul_sgg_list.xlsx')\n",
    "seoul_sgg.head()"
   ]
  },
  {
   "cell_type": "code",
   "execution_count": null,
   "metadata": {},
   "outputs": [],
   "source": [
    "### 서울 스타벅스 매장 목록에서 시군구별 스타벅스 매장 수 카운트\n",
    "starbucks_sgg_count = seoul_starbucks.pivot_table(values='매장명',index='시군구명', aggfunc='count').rename(columns={'매장명': '스타벅스_매장수'})\n",
    "starbucks_sgg_count.head()"
   ]
  },
  {
   "cell_type": "code",
   "execution_count": null,
   "metadata": {},
   "outputs": [],
   "source": [
    "### 서울시 시군구 목록데이터에 스타벅스 매장수 데이터 병합\n",
    "\n",
    "seoul_sgg = pd.merge(seoul_sgg, starbucks_sgg_count, how='left', on='시군구명')\n",
    "seoul_sgg.head()"
   ]
  },
  {
   "cell_type": "code",
   "execution_count": null,
   "metadata": {},
   "outputs": [],
   "source": [
    "### 서울시 시군구 목록데이터에 인구수 병합\n",
    "seoul_sgg = pd.merge(seoul_sgg, sgg_pop, how='inner', on='시군구명')\n",
    "seoul_sgg.head()"
   ]
  },
  {
   "cell_type": "code",
   "execution_count": null,
   "metadata": {},
   "outputs": [],
   "source": [
    "### 서울시 시군구 목록데이터에 통계데이터 병합\n",
    "seoul_sgg = pd.merge(seoul_sgg, sgg_biz, how='inner', on='시군구명')\n",
    "seoul_sgg.head()"
   ]
  },
  {
   "cell_type": "code",
   "execution_count": null,
   "metadata": {},
   "outputs": [],
   "source": [
    "seoul_sgg.to_excel('data/seoul_sgg_stat.xlsx', index=False)"
   ]
  }
 ],
 "metadata": {
  "interpreter": {
   "hash": "26de051ba29f2982a8de78e945f0abaf191376122a1563185a90213a26c5da77"
  },
  "kernelspec": {
   "display_name": "Python 3.10.3 64-bit",
   "language": "python",
   "name": "python3"
  },
  "language_info": {
   "codemirror_mode": {
    "name": "ipython",
    "version": 3
   },
   "file_extension": ".py",
   "mimetype": "text/x-python",
   "name": "python",
   "nbconvert_exporter": "python",
   "pygments_lexer": "ipython3",
   "version": "3.10.3"
  },
  "orig_nbformat": 4
 },
 "nbformat": 4,
 "nbformat_minor": 2
}
