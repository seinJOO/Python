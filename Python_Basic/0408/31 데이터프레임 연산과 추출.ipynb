{
 "cells": [
  {
   "cell_type": "code",
   "execution_count": 39,
   "metadata": {},
   "outputs": [],
   "source": [
    "import datetime\n",
    "from datetime import datetime, date\n",
    "import pandas as pd\n",
    "import numpy as np\n",
    "import matplotlib.pyplot as plt\n",
    "pd.set_option('display.notebook_repr_html', True)\n",
    "pd.set_option('display.max_columns', 7)\n",
    "pd.set_option('display.max_rows', 10)\n",
    "pd.set_option('display.width', 250)\n",
    "%matplotlib inline\n",
    "\n",
    "from re import match\n",
    "import os\n",
    "import json"
   ]
  },
  {
   "cell_type": "code",
   "execution_count": 41,
   "metadata": {},
   "outputs": [
    {
     "name": "stdout",
     "output_type": "stream",
     "text": [
      "DatetimeIndex(['2022-04-01', '2022-04-02', '2022-04-03', '2022-04-04', '2022-04-05', '2022-04-06', '2022-04-07'], dtype='datetime64[ns]', freq='D')\n",
      "<class 'pandas.core.indexes.datetimes.DatetimeIndex'>\n"
     ]
    }
   ],
   "source": [
    "## 날짜 데이터 생성\n",
    "dates = pd.date_range('2022-04-01','2022-04-7')\n",
    "print(dates)        # DatetimeIndex\n",
    "print(type(dates))  # <class 'pandas.core.indexes.datetimes.DatetimeIndex'>\n",
    "## datetime이라는 특별한 형식 인덱스를 생성함\n",
    "## datetime은 판다스에서 날짜/시간 관련 인덱스"
   ]
  },
  {
   "cell_type": "code",
   "execution_count": 47,
   "metadata": {},
   "outputs": [
    {
     "name": "stdout",
     "output_type": "stream",
     "text": [
      "<class 'pandas.core.series.Series'>\n",
      "DatetimeIndex: 7 entries, 2022-04-01 to 2022-04-07\n",
      "Freq: D\n",
      "Series name: None\n",
      "Non-Null Count  Dtype\n",
      "--------------  -----\n",
      "7 non-null      int64\n",
      "dtypes: int64(1)\n",
      "memory usage: 412.0 bytes\n",
      "None\n",
      "2022-04-01    80\n",
      "2022-04-02    82\n",
      "2022-04-03    85\n",
      "2022-04-04    90\n",
      "2022-04-05    92\n",
      "2022-04-06    87\n",
      "2022-04-07    88\n",
      "Freq: D, dtype: int64\n",
      "88\n"
     ]
    }
   ],
   "source": [
    "### 시계열 데이터 : Pandas에서 DatetimeIndex의 형식으로 인덱스를 사용하는 데이터\n",
    "\n",
    "temps1 = pd.Series([80,82,85,90,92,87,88],index=dates)\n",
    "print(temps1.info())\n",
    "print(temps1)\n",
    "print(temps1['2022-04-07'])        # 88"
   ]
  },
  {
   "cell_type": "code",
   "execution_count": 49,
   "metadata": {},
   "outputs": [
    {
     "name": "stdout",
     "output_type": "stream",
     "text": [
      "2022-04-01    20\n",
      "2022-04-02    12\n",
      "2022-04-03    16\n",
      "2022-04-04     7\n",
      "2022-04-05    15\n",
      "2022-04-06     8\n",
      "2022-04-07    13\n",
      "Freq: D, dtype: int64\n"
     ]
    },
    {
     "data": {
      "text/plain": [
       "13.0"
      ]
     },
     "execution_count": 49,
     "metadata": {},
     "output_type": "execute_result"
    }
   ],
   "source": [
    "# temps1 도시의 온도와 temps2 도시의 온도 차이를 temps_diff에 저장\n",
    "temps1 = pd.Series([80,82,85,90,92,87,88],index=dates)\n",
    "temps2 = pd.Series([60,70,69,83,77,79,75],index=dates)\n",
    "\n",
    "temps_diff = temps1 - temps2\n",
    "print(temps_diff)\n",
    "\n",
    "print(temps_diff.mean())    # 13.0 => 평균값을 자동으로 산출해줌(pandas의 내장함수 mean())\n",
    "                                    # numpy에서 제공하는 라이브러리에 있는 mean()과는 구분됨!"
   ]
  },
  {
   "cell_type": "code",
   "execution_count": null,
   "metadata": {},
   "outputs": [],
   "source": [
    "# 위의 temps1, temps2를 이용하여 뺄셈 이외에 다른 연산 가능한 지 실습\n",
    "# 더하기, 곱하기, 나누기\n",
    "print(temps1 + temps2)\n",
    "print(temps1 * temps2)\n",
    "print(temps1 / temps2)"
   ]
  },
  {
   "cell_type": "code",
   "execution_count": 54,
   "metadata": {},
   "outputs": [
    {
     "name": "stdout",
     "output_type": "stream",
     "text": [
      "            Missoula  Philadelphia  Seoul\n",
      "2022-04-01        80            60     75\n",
      "2022-04-02        82            70     77\n",
      "2022-04-03        85            69     67\n",
      "2022-04-04        90            83     82\n",
      "2022-04-05        92            77     77\n",
      "2022-04-06        87            79     85\n",
      "2022-04-07        88            75     89\n"
     ]
    }
   ],
   "source": [
    "# temps3을 생성. temps1과 temps2와 대응하는 시리즈 생성 - 75,77,67,82,77,85,89\n",
    "temps3 = pd.Series([75,77,67,82,77,85,89], index=dates)\n",
    "\n",
    "# temps1, temps2, temps3을 temps_df로 데이터프레임 생성\n",
    "temps_df = pd.DataFrame({'Missoula' : temps1, 'Philadelphia' : temps2, 'Seoul' : temps3})\n",
    "print(temps_df)"
   ]
  },
  {
   "cell_type": "code",
   "execution_count": 67,
   "metadata": {},
   "outputs": [
    {
     "name": "stdout",
     "output_type": "stream",
     "text": [
      "            Missoula  Philadelphia  Seoul\n",
      "2021-10-01        80            70     75\n",
      "2021-10-02        82            75     77\n",
      "2021-10-03        85            69     67\n",
      "2021-10-04        90            83     82\n",
      "2021-10-05        83            79     77\n",
      "2021-10-06        87            77     85\n",
      "--------------------------------------------------\n",
      "Missoula        평균 기온 : 84.5\n",
      "Philadelphia    평균 기온 : 75.5\n",
      "Seoul           평균 기온 : 77.17\n"
     ]
    }
   ],
   "source": [
    "### 각 도시의 평균온도를 구하세요\n",
    "date = pd.date_range('2021-10-01','2021-10-06')\n",
    "misa = pd.Series([80,82,85,90,83,87],index=date)\n",
    "phil = pd.Series([70,75,69,83,79,77],index=date)\n",
    "seol = pd.Series([75,77,67,82,77,85],index=date)\n",
    "temps = pd.DataFrame({'Missoula':misa,'Philadelphia':phil,'Seoul':seol})\n",
    "print(temps)\n",
    "print('-'*50)\n",
    "print('{:15}'.format('Missoula'),'{:6}'.format('평균 기온 :'),round(temps['Missoula'].mean(),2))\n",
    "print('{:15}'.format('Philadelphia'),'{:6}'.format('평균 기온 :'),round(temps['Philadelphia'].mean(),2))\n",
    "print('{:15}'.format('Seoul'),'{:6}'.format('평균 기온 :'),round(temps['Seoul'].mean(),2))"
   ]
  },
  {
   "cell_type": "code",
   "execution_count": 96,
   "metadata": {},
   "outputs": [
    {
     "name": "stdout",
     "output_type": "stream",
     "text": [
      "<class 'pandas.core.frame.DataFrame'> \n",
      "             Missoula  Seoul\n",
      "2021-10-01        80     75\n",
      "2021-10-02        82     77\n",
      "2021-10-03        85     67\n",
      "2021-10-04        90     82\n",
      "2021-10-05        83     77\n",
      "2021-10-06        87     85\n",
      "            Missoula  Seoul  differ\n",
      "2021-10-01        80     75       5\n",
      "2021-10-02        82     77       5\n",
      "2021-10-03        85     67      18\n",
      "2021-10-04        90     82       8\n",
      "2021-10-05        83     77       6\n",
      "2021-10-06        87     85       2\n"
     ]
    }
   ],
   "source": [
    "## 두 개 이상의 컬럼을 한 번에 가져올 때 list를 이용\n",
    "cc = temps[['Missoula','Seoul']]\n",
    "print(type(cc),'\\n',cc)      # <class 'pandas.core.frame.DataFrame'> \n",
    "\n",
    "differ = temps['Missoula'] - temps['Seoul']\n",
    "cc['differ'] = differ\n",
    "print(cc)"
   ]
  },
  {
   "cell_type": "code",
   "execution_count": 97,
   "metadata": {},
   "outputs": [
    {
     "name": "stdout",
     "output_type": "stream",
     "text": [
      "Index(['Missoula', 'Seoul', 'differ'], dtype='object')\n",
      "Index(['Missoula', 'Seoul', 'differ'], dtype='object')\n"
     ]
    },
    {
     "data": {
      "text/plain": [
       "array([[80, 75,  5],\n",
       "       [82, 77,  5],\n",
       "       [85, 67, 18],\n",
       "       [90, 82,  8],\n",
       "       [83, 77,  6],\n",
       "       [87, 85,  2]], dtype=int64)"
      ]
     },
     "execution_count": 97,
     "metadata": {},
     "output_type": "execute_result"
    }
   ],
   "source": [
    "# temps_df 또는 cc 데이터프레임의 컬럼명을 모두 출력\n",
    "print(cc.columns)   # 데이터프레임에 있는 컬럼을 출력  \n",
    "print(cc.keys())    # Index(['Missoula', 'Seoul', 'diff'], dtype='object') - .columns와 동일\n",
    "cc.values           # array - 2차 배열 형태"
   ]
  },
  {
   "cell_type": "code",
   "execution_count": 107,
   "metadata": {},
   "outputs": [
    {
     "name": "stdout",
     "output_type": "stream",
     "text": [
      "            Missoula  Seoul  differ\n",
      "2021-10-01        80     75       5\n",
      "2021-10-02        82     77       5\n",
      "2021-10-03        85     67      18\n",
      "2021-10-04        90     82       8\n",
      "2021-10-05        83     77       6\n",
      "2021-10-06        87     85       2\n"
     ]
    },
    {
     "data": {
      "text/html": [
       "<div>\n",
       "<style scoped>\n",
       "    .dataframe tbody tr th:only-of-type {\n",
       "        vertical-align: middle;\n",
       "    }\n",
       "\n",
       "    .dataframe tbody tr th {\n",
       "        vertical-align: top;\n",
       "    }\n",
       "\n",
       "    .dataframe thead th {\n",
       "        text-align: right;\n",
       "    }\n",
       "</style>\n",
       "<table border=\"1\" class=\"dataframe\">\n",
       "  <thead>\n",
       "    <tr style=\"text-align: right;\">\n",
       "      <th></th>\n",
       "      <th>Missoula</th>\n",
       "      <th>Seoul</th>\n",
       "      <th>differ</th>\n",
       "    </tr>\n",
       "  </thead>\n",
       "  <tbody>\n",
       "    <tr>\n",
       "      <th>2021-10-01</th>\n",
       "      <td>80</td>\n",
       "      <td>75</td>\n",
       "      <td>5</td>\n",
       "    </tr>\n",
       "    <tr>\n",
       "      <th>2021-10-02</th>\n",
       "      <td>82</td>\n",
       "      <td>77</td>\n",
       "      <td>5</td>\n",
       "    </tr>\n",
       "    <tr>\n",
       "      <th>2021-10-03</th>\n",
       "      <td>85</td>\n",
       "      <td>67</td>\n",
       "      <td>18</td>\n",
       "    </tr>\n",
       "    <tr>\n",
       "      <th>2021-10-04</th>\n",
       "      <td>90</td>\n",
       "      <td>82</td>\n",
       "      <td>8</td>\n",
       "    </tr>\n",
       "    <tr>\n",
       "      <th>2021-10-05</th>\n",
       "      <td>83</td>\n",
       "      <td>77</td>\n",
       "      <td>6</td>\n",
       "    </tr>\n",
       "  </tbody>\n",
       "</table>\n",
       "</div>"
      ],
      "text/plain": [
       "            Missoula  Seoul  differ\n",
       "2021-10-01        80     75       5\n",
       "2021-10-02        82     77       5\n",
       "2021-10-03        85     67      18\n",
       "2021-10-04        90     82       8\n",
       "2021-10-05        83     77       6"
      ]
     },
     "execution_count": 107,
     "metadata": {},
     "output_type": "execute_result"
    }
   ],
   "source": [
    "## 데이터프레임의 인덱스는 기본 인덱스와 사용자 인덱스가 존재\n",
    "# 기본 인덱스 = 위치 인덱스\n",
    "# 사용자 인덱스 = 사용자가 지정한 인덱스    ex. cc 또는 temps_df에 있는 2022-04-01 ~ 2022-04-07\n",
    "print(cc)\n",
    "# 슬라이싱은 기본 인덱스를 사용하게 됨\n",
    "cc.differ[1:4]\n",
    "cc[1:4]\n",
    "cc[:3]\n",
    "cc[3:]\n",
    "cc[-2:]\n",
    "# cc[-1] => Error : 음수를 인덱스 자체로 지정할 수는 없음! 범위에서만 사용 가능?"
   ]
  },
  {
   "cell_type": "code",
   "execution_count": 178,
   "metadata": {},
   "outputs": [
    {
     "data": {
      "text/plain": [
       "<pandas.core.indexing._LocIndexer at 0x1d89d223010>"
      ]
     },
     "execution_count": 178,
     "metadata": {},
     "output_type": "execute_result"
    }
   ],
   "source": [
    "# loc[ [행] , [열] ] - 위치값을 입력하면 해당 데이터를 출력함 ! \n",
    "\n",
    "### label을 이용하는 접근 (label : 사용자 정의 인덱스)\n",
    "# 접근법\n",
    "cc.loc()        # <pandas.core.indexing._LocIndexer at 0x1d89b2e92b0>"
   ]
  },
  {
   "cell_type": "code",
   "execution_count": 172,
   "metadata": {},
   "outputs": [
    {
     "name": "stdout",
     "output_type": "stream",
     "text": [
      "Missoula    85\n",
      "Seoul       67\n",
      "differ      18\n",
      "Name: 2021-10-03 00:00:00, dtype: int64\n",
      "--------------------------------------------------\n",
      "            Seoul\n",
      "2021-10-03     67\n",
      "\n",
      "3일의 서울 기온 : 67\n",
      "--------------------------------------------------\n"
     ]
    }
   ],
   "source": [
    "# 1. 단일 : [데이터프레임 or Series].loc['label명']\n",
    "print(cc.loc['20211003'])\n",
    "print('-'*50)\n",
    "\n",
    "# 1-2. 단일 + 원하는 컬럼의 값만 추려내기 : [데이터프레임 or Series].loc['label명',['컬럼명',...]]\n",
    "print(cc.loc[['20211003'],['Seoul']])    # 사용자인덱스, 컬럼명을 활용하여 해당하는 데이터만 불러오기\n",
    "print()\n",
    "print('3일의 서울 기온 :',cc.Seoul.loc['20211003'])     # Series도 동일\n",
    "print('-'*50)"
   ]
  },
  {
   "cell_type": "code",
   "execution_count": 167,
   "metadata": {},
   "outputs": [
    {
     "name": "stdout",
     "output_type": "stream",
     "text": [
      "            Seoul  Missoula\n",
      "2021-10-03     67        85\n",
      "2021-10-05     77        83\n",
      "===3,5일의 서울 기온===\n",
      " 2021-10-03    67\n",
      "2021-10-05    77\n",
      "Name: Seoul, dtype: int64\n",
      "--------------------------------------------------\n",
      "            Missoula  Seoul  differ\n",
      "2021-10-02        82     77       5\n",
      "2021-10-03        85     67      18\n",
      "2021-10-04        90     82       8\n",
      "            Seoul  Missoula\n",
      "2021-10-01     75        80\n",
      "2021-10-02     77        82\n",
      "2021-10-03     67        85\n",
      "2021-10-04     82        90\n",
      "--------------------------------------------------\n"
     ]
    }
   ],
   "source": [
    "# 2. 여러개일 경우(특정 인덱스만 출력)\n",
    "print(cc.loc[['20211003','20211005'],['Seoul','Missoula']]) \n",
    "print('===3,5일의 서울 기온===\\n' , cc.Seoul.loc[['20211003','20211005']])     # Series도 동일\n",
    "print('-'*50)\n",
    "\n",
    "# 2-2. 여러개일 경우(연속된 인덱스 출력)\n",
    "print(cc.loc['20211002':'20211004'])                # 사용자인덱스의 범위로 불러오기\n",
    "print(cc.loc['20211001':'20211004',['Seoul','Missoula']])\n",
    "print('-'*50)"
   ]
  },
  {
   "cell_type": "code",
   "execution_count": 170,
   "metadata": {},
   "outputs": [
    {
     "name": "stdout",
     "output_type": "stream",
     "text": [
      "            Seoul  Missoula\n",
      "2021-10-01     75        80\n",
      "2021-10-04     82        90\n",
      "2021-10-06     85        87\n",
      "--------------------------------------------------\n",
      "2021-10-01    75\n",
      "2021-10-04    82\n",
      "2021-10-06    85\n",
      "Name: Seoul, dtype: int64\n"
     ]
    }
   ],
   "source": [
    "# 3. Boolean 값을 이용한 출력\n",
    "ls = [True,False,False,True,False,True]       # 인덱스(위치) 값과 같은 개수로 리스트 생성\n",
    "\n",
    "print(cc.loc[ls,['Seoul','Missoula']])\n",
    "print('-'*50)\n",
    "print(cc.Seoul.loc[ls])"
   ]
  },
  {
   "cell_type": "code",
   "execution_count": 173,
   "metadata": {},
   "outputs": [
    {
     "name": "stdout",
     "output_type": "stream",
     "text": [
      "            Missoula  Seoul  differ\n",
      "2021-10-01        80     75       5\n",
      "2021-10-02        82     77       5\n",
      "2021-10-03        85     67      18\n",
      "2021-10-04        90     82       8\n",
      "2021-10-05        83     77       6\n",
      "2021-10-06        87     85       2\n"
     ]
    }
   ],
   "source": [
    "### 기본 인덱스를 이용하여 접근\n",
    "# 접근법\n",
    "print(cc)"
   ]
  },
  {
   "cell_type": "code",
   "execution_count": 175,
   "metadata": {},
   "outputs": [
    {
     "name": "stdout",
     "output_type": "stream",
     "text": [
      "2021-10-04    82\n",
      "2021-10-05    77\n",
      "2021-10-06    85\n",
      "Freq: D, Name: Seoul, dtype: int64\n",
      "--------------------------------------------------\n",
      "Missoula    90\n",
      "Seoul       82\n",
      "differ       8\n",
      "Name: 2021-10-04 00:00:00, dtype: int64\n",
      "--------------------------------------------------\n",
      "82\n",
      "82\n"
     ]
    }
   ],
   "source": [
    "# 1. 단일 : [데이터프레임 or Series].iloc[index값(int)]\n",
    "\n",
    "# DataFrame\n",
    "print(cc.iloc[3:,1])   # 컬럼의 1번째 인덱스인 Seoul의 [3:] 출력 \n",
    "print('-'*50)\n",
    "print(cc.iloc[3])      # 인덱스가 3인 행 출력\n",
    "print('-'*50)\n",
    "print(cc.iloc[3,1])    # 인덱스가 3인 행, 인덱스가 1인 열의 값 출력     # 82\n",
    "# Series\n",
    "print(cc.Seoul.iloc[3])       # Seoul 열(시리즈)의 인덱스가 3인 행 출력 # 82"
   ]
  },
  {
   "cell_type": "code",
   "execution_count": 185,
   "metadata": {},
   "outputs": [
    {
     "name": "stdout",
     "output_type": "stream",
     "text": [
      "            Seoul  differ\n",
      "2021-10-02     77       5\n",
      "2021-10-04     82       8\n",
      "2021-10-06     85       2\n",
      "--------------------------------------------------\n",
      "2021-10-02    77\n",
      "2021-10-04    82\n",
      "2021-10-06    85\n",
      "Freq: 2D, Name: Seoul, dtype: int64\n",
      "            Missoula  differ\n",
      "2021-10-02        82       5\n",
      "2021-10-03        85      18\n",
      "2021-10-04        90       8\n",
      "--------------------------------------------------\n",
      "2021-10-04    82\n",
      "2021-10-05    77\n",
      "2021-10-06    85\n",
      "Freq: D, Name: Seoul, dtype: int64\n"
     ]
    }
   ],
   "source": [
    "# 2. 여러개일 경우(특정 인덱스만 출력)\n",
    "\n",
    "# DataFrame\n",
    "print(cc.iloc[[1,3,5],[1,2]]) # cc.iloc[[출력할 행], [출력할 열]]\n",
    "print('-'*50)\n",
    "# Series\n",
    "print(cc.Seoul.iloc[[1,3,5]])\n",
    "\n",
    "# 2-2. 여러개일 경우(연속된 값인 경우)\n",
    "# DataFrame\n",
    "print(cc.iloc[1:4,[0,2]])\n",
    "print('-'*50)\n",
    "# Series\n",
    "print(cc.Seoul.iloc[3:])"
   ]
  },
  {
   "cell_type": "code",
   "execution_count": 184,
   "metadata": {},
   "outputs": [
    {
     "name": "stdout",
     "output_type": "stream",
     "text": [
      "            Missoula  Seoul  differ\n",
      "2021-10-01        80     75       5\n",
      "2021-10-04        90     82       8\n",
      "2021-10-06        87     85       2\n",
      "--------------------------------------------------\n",
      "2021-10-01    75\n",
      "2021-10-04    82\n",
      "2021-10-06    85\n",
      "Name: Seoul, dtype: int64\n"
     ]
    }
   ],
   "source": [
    "# 4. Boolean 값을 이용한 출력\n",
    "# DataFrame\n",
    "print(cc.iloc[ls,[0,1,2]])\n",
    "print('-'*50)\n",
    "# Series\n",
    "print(cc.Seoul.loc[ls])"
   ]
  },
  {
   "cell_type": "code",
   "execution_count": 233,
   "metadata": {},
   "outputs": [
    {
     "name": "stdout",
     "output_type": "stream",
     "text": [
      "          Date        Open        High         Low       Close   Volume\n",
      "0   12/19/2016  790.219971  797.659973  786.270020  794.200012  1225900\n",
      "3   12/22/2016  792.359985  793.320007  788.580017  791.260010   969100\n",
      "6   12/28/2016  793.700012  794.229980  783.200012  785.049988  1132700\n",
      "9     1/3/2017  778.809998  789.630005  775.799988  786.140015  1643100\n",
      "12    1/6/2017  795.260010  807.900024  792.203979  806.150024  1620500\n",
      "..         ...         ...         ...         ...         ...      ...\n",
      "48    3/1/2017  828.849976  836.255005  827.260010  835.239990  1491400\n",
      "51    3/6/2017  826.950012  828.880005  822.400024  827.780029  1105800\n",
      "54    3/9/2017  836.000000  842.000000  834.210022  838.679993  1259900\n",
      "57   3/14/2017  843.640015  847.239990  840.799988  845.619995   779900\n",
      "60   3/17/2017  851.609985  853.400024  847.109985  852.119995  1712300\n",
      "\n",
      "[21 rows x 6 columns]\n",
      "          Date        Open        High         Low       Close   Volume\n",
      "0   12/19/2016  790.219971  797.659973  786.270020  794.200012  1225900\n",
      "3   12/22/2016  792.359985  793.320007  788.580017  791.260010   969100\n",
      "6   12/28/2016  793.700012  794.229980  783.200012  785.049988  1132700\n",
      "9     1/3/2017  778.809998  789.630005  775.799988  786.140015  1643100\n",
      "12    1/6/2017  795.260010  807.900024  792.203979  806.150024  1620500\n",
      "..         ...         ...         ...         ...         ...      ...\n",
      "48    3/1/2017  828.849976  836.255005  827.260010  835.239990  1491400\n",
      "51    3/6/2017  826.950012  828.880005  822.400024  827.780029  1105800\n",
      "54    3/9/2017  836.000000  842.000000  834.210022  838.679993  1259900\n",
      "57   3/14/2017  843.640015  847.239990  840.799988  845.619995   779900\n",
      "60   3/17/2017  851.609985  853.400024  847.109985  852.119995  1712300\n",
      "\n",
      "[21 rows x 6 columns]\n"
     ]
    }
   ],
   "source": [
    "import pandas as pd\n",
    "\n",
    "data = pd.read_csv('data/goog.csv')\n",
    "df = pd.DataFrame(data)\n",
    "lam = lambda x : x % 3 == 0\n",
    "print(df.iloc[[lam(x) for x in range(len(df))]])\n",
    "\n",
    "# 쌤 답\n",
    "print(df.iloc[0::3])"
   ]
  },
  {
   "cell_type": "code",
   "execution_count": 240,
   "metadata": {},
   "outputs": [
    {
     "data": {
      "text/html": [
       "<div>\n",
       "<style scoped>\n",
       "    .dataframe tbody tr th:only-of-type {\n",
       "        vertical-align: middle;\n",
       "    }\n",
       "\n",
       "    .dataframe tbody tr th {\n",
       "        vertical-align: top;\n",
       "    }\n",
       "\n",
       "    .dataframe thead th {\n",
       "        text-align: right;\n",
       "    }\n",
       "</style>\n",
       "<table border=\"1\" class=\"dataframe\">\n",
       "  <thead>\n",
       "    <tr style=\"text-align: right;\">\n",
       "      <th></th>\n",
       "      <th>High</th>\n",
       "      <th>Low</th>\n",
       "    </tr>\n",
       "  </thead>\n",
       "  <tbody>\n",
       "    <tr>\n",
       "      <th>0</th>\n",
       "      <td>797.659973</td>\n",
       "      <td>786.270020</td>\n",
       "    </tr>\n",
       "    <tr>\n",
       "      <th>2</th>\n",
       "      <td>796.676025</td>\n",
       "      <td>787.099976</td>\n",
       "    </tr>\n",
       "    <tr>\n",
       "      <th>4</th>\n",
       "      <td>792.739990</td>\n",
       "      <td>787.280029</td>\n",
       "    </tr>\n",
       "    <tr>\n",
       "      <th>6</th>\n",
       "      <td>794.229980</td>\n",
       "      <td>783.200012</td>\n",
       "    </tr>\n",
       "    <tr>\n",
       "      <th>8</th>\n",
       "      <td>782.780029</td>\n",
       "      <td>770.409973</td>\n",
       "    </tr>\n",
       "    <tr>\n",
       "      <th>...</th>\n",
       "      <td>...</td>\n",
       "      <td>...</td>\n",
       "    </tr>\n",
       "    <tr>\n",
       "      <th>52</th>\n",
       "      <td>833.409973</td>\n",
       "      <td>826.520020</td>\n",
       "    </tr>\n",
       "    <tr>\n",
       "      <th>54</th>\n",
       "      <td>842.000000</td>\n",
       "      <td>834.210022</td>\n",
       "    </tr>\n",
       "    <tr>\n",
       "      <th>56</th>\n",
       "      <td>848.684998</td>\n",
       "      <td>843.250000</td>\n",
       "    </tr>\n",
       "    <tr>\n",
       "      <th>58</th>\n",
       "      <td>848.630005</td>\n",
       "      <td>840.770020</td>\n",
       "    </tr>\n",
       "    <tr>\n",
       "      <th>60</th>\n",
       "      <td>853.400024</td>\n",
       "      <td>847.109985</td>\n",
       "    </tr>\n",
       "  </tbody>\n",
       "</table>\n",
       "<p>31 rows × 2 columns</p>\n",
       "</div>"
      ],
      "text/plain": [
       "          High         Low\n",
       "0   797.659973  786.270020\n",
       "2   796.676025  787.099976\n",
       "4   792.739990  787.280029\n",
       "6   794.229980  783.200012\n",
       "8   782.780029  770.409973\n",
       "..         ...         ...\n",
       "52  833.409973  826.520020\n",
       "54  842.000000  834.210022\n",
       "56  848.684998  843.250000\n",
       "58  848.630005  840.770020\n",
       "60  853.400024  847.109985\n",
       "\n",
       "[31 rows x 2 columns]"
      ]
     },
     "execution_count": 240,
     "metadata": {},
     "output_type": "execute_result"
    }
   ],
   "source": [
    "# High, Low의 짝수 행만 추출하기\n",
    "df.iloc[0::2,2:4]\n",
    "df.iloc[list(range(0,len(df),2)),[2,3]]\n",
    "df.iloc[df.index % 2==0, 2:4]   # 이렇게 Boolean을 사용해도 됨 !"
   ]
  },
  {
   "cell_type": "code",
   "execution_count": 241,
   "metadata": {},
   "outputs": [
    {
     "data": {
      "text/html": [
       "<div>\n",
       "<style scoped>\n",
       "    .dataframe tbody tr th:only-of-type {\n",
       "        vertical-align: middle;\n",
       "    }\n",
       "\n",
       "    .dataframe tbody tr th {\n",
       "        vertical-align: top;\n",
       "    }\n",
       "\n",
       "    .dataframe thead th {\n",
       "        text-align: right;\n",
       "    }\n",
       "</style>\n",
       "<table border=\"1\" class=\"dataframe\">\n",
       "  <thead>\n",
       "    <tr style=\"text-align: right;\">\n",
       "      <th></th>\n",
       "      <th>Open</th>\n",
       "      <th>High</th>\n",
       "      <th>Low</th>\n",
       "      <th>Close</th>\n",
       "      <th>Volume</th>\n",
       "    </tr>\n",
       "    <tr>\n",
       "      <th>Date</th>\n",
       "      <th></th>\n",
       "      <th></th>\n",
       "      <th></th>\n",
       "      <th></th>\n",
       "      <th></th>\n",
       "    </tr>\n",
       "  </thead>\n",
       "  <tbody>\n",
       "    <tr>\n",
       "      <th>2016-12-19</th>\n",
       "      <td>790.219971</td>\n",
       "      <td>797.659973</td>\n",
       "      <td>786.270020</td>\n",
       "      <td>794.200012</td>\n",
       "      <td>1225900</td>\n",
       "    </tr>\n",
       "    <tr>\n",
       "      <th>2016-12-20</th>\n",
       "      <td>796.760010</td>\n",
       "      <td>798.650024</td>\n",
       "      <td>793.270020</td>\n",
       "      <td>796.419983</td>\n",
       "      <td>925100</td>\n",
       "    </tr>\n",
       "    <tr>\n",
       "      <th>2016-12-21</th>\n",
       "      <td>795.840027</td>\n",
       "      <td>796.676025</td>\n",
       "      <td>787.099976</td>\n",
       "      <td>794.559998</td>\n",
       "      <td>1208700</td>\n",
       "    </tr>\n",
       "    <tr>\n",
       "      <th>2016-12-22</th>\n",
       "      <td>792.359985</td>\n",
       "      <td>793.320007</td>\n",
       "      <td>788.580017</td>\n",
       "      <td>791.260010</td>\n",
       "      <td>969100</td>\n",
       "    </tr>\n",
       "    <tr>\n",
       "      <th>2016-12-23</th>\n",
       "      <td>790.900024</td>\n",
       "      <td>792.739990</td>\n",
       "      <td>787.280029</td>\n",
       "      <td>789.909973</td>\n",
       "      <td>623400</td>\n",
       "    </tr>\n",
       "    <tr>\n",
       "      <th>...</th>\n",
       "      <td>...</td>\n",
       "      <td>...</td>\n",
       "      <td>...</td>\n",
       "      <td>...</td>\n",
       "      <td>...</td>\n",
       "    </tr>\n",
       "    <tr>\n",
       "      <th>2017-03-13</th>\n",
       "      <td>844.000000</td>\n",
       "      <td>848.684998</td>\n",
       "      <td>843.250000</td>\n",
       "      <td>845.539978</td>\n",
       "      <td>1149500</td>\n",
       "    </tr>\n",
       "    <tr>\n",
       "      <th>2017-03-14</th>\n",
       "      <td>843.640015</td>\n",
       "      <td>847.239990</td>\n",
       "      <td>840.799988</td>\n",
       "      <td>845.619995</td>\n",
       "      <td>779900</td>\n",
       "    </tr>\n",
       "    <tr>\n",
       "      <th>2017-03-15</th>\n",
       "      <td>847.590027</td>\n",
       "      <td>848.630005</td>\n",
       "      <td>840.770020</td>\n",
       "      <td>847.200012</td>\n",
       "      <td>1379600</td>\n",
       "    </tr>\n",
       "    <tr>\n",
       "      <th>2017-03-16</th>\n",
       "      <td>849.030029</td>\n",
       "      <td>850.849976</td>\n",
       "      <td>846.130005</td>\n",
       "      <td>848.780029</td>\n",
       "      <td>970400</td>\n",
       "    </tr>\n",
       "    <tr>\n",
       "      <th>2017-03-17</th>\n",
       "      <td>851.609985</td>\n",
       "      <td>853.400024</td>\n",
       "      <td>847.109985</td>\n",
       "      <td>852.119995</td>\n",
       "      <td>1712300</td>\n",
       "    </tr>\n",
       "  </tbody>\n",
       "</table>\n",
       "<p>61 rows × 5 columns</p>\n",
       "</div>"
      ],
      "text/plain": [
       "                  Open        High         Low       Close   Volume\n",
       "Date                                                               \n",
       "2016-12-19  790.219971  797.659973  786.270020  794.200012  1225900\n",
       "2016-12-20  796.760010  798.650024  793.270020  796.419983   925100\n",
       "2016-12-21  795.840027  796.676025  787.099976  794.559998  1208700\n",
       "2016-12-22  792.359985  793.320007  788.580017  791.260010   969100\n",
       "2016-12-23  790.900024  792.739990  787.280029  789.909973   623400\n",
       "...                ...         ...         ...         ...      ...\n",
       "2017-03-13  844.000000  848.684998  843.250000  845.539978  1149500\n",
       "2017-03-14  843.640015  847.239990  840.799988  845.619995   779900\n",
       "2017-03-15  847.590027  848.630005  840.770020  847.200012  1379600\n",
       "2017-03-16  849.030029  850.849976  846.130005  848.780029   970400\n",
       "2017-03-17  851.609985  853.400024  847.109985  852.119995  1712300\n",
       "\n",
       "[61 rows x 5 columns]"
      ]
     },
     "execution_count": 241,
     "metadata": {},
     "output_type": "execute_result"
    }
   ],
   "source": [
    "data = pd.read_csv('data/goog.csv',parse_dates=['Date'],index_col='Date')       \n",
    "                # parse_dates = [] -> 해당 열의 Date를 날짜 타입 그대로 인덱스로 사용, index_col = '' -> 인덱스 컬럼명 지정\n",
    "data"
   ]
  }
 ],
 "metadata": {
  "interpreter": {
   "hash": "b89b5cfaba6639976dc87ff2fec6d58faec662063367e2c229c520fe71072417"
  },
  "kernelspec": {
   "display_name": "Python 3.10.3 64-bit",
   "language": "python",
   "name": "python3"
  },
  "language_info": {
   "codemirror_mode": {
    "name": "ipython",
    "version": 3
   },
   "file_extension": ".py",
   "mimetype": "text/x-python",
   "name": "python",
   "nbconvert_exporter": "python",
   "pygments_lexer": "ipython3",
   "version": "3.10.3"
  },
  "orig_nbformat": 4
 },
 "nbformat": 4,
 "nbformat_minor": 2
}
