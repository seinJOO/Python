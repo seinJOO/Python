{
 "cells": [
  {
   "cell_type": "code",
   "execution_count": null,
   "metadata": {},
   "outputs": [],
   "source": [
    "# python의 문자열 : 파이썬을 사용하는 문자열 처리\n",
    "# 특징"
   ]
  },
  {
   "cell_type": "code",
   "execution_count": null,
   "metadata": {},
   "outputs": [],
   "source": [
    "# 1) 인덱싱을 이용한 참조가 가능\n",
    "string = 'python string'\n",
    "print(string[0])    # p\n",
    "print(string[7])    # s\n",
    "print(string[-1])    # g"
   ]
  },
  {
   "cell_type": "code",
   "execution_count": null,
   "metadata": {},
   "outputs": [],
   "source": [
    "# 2) 슬라이싱을 이용한 참조\n",
    "print(string[:6])   # python\n",
    "print(string[0::2]) # pto tig"
   ]
  },
  {
   "cell_type": "code",
   "execution_count": null,
   "metadata": {},
   "outputs": [],
   "source": [
    "# 3) 문자열 반복문 (for)\n",
    "st = 'python string for'\n",
    "for x in st :\n",
    "    print(x,end=' ')    # p y t h o n   s t r i n g   f o r "
   ]
  },
  {
   "cell_type": "code",
   "execution_count": null,
   "metadata": {},
   "outputs": [],
   "source": [
    "# 문자열 함수\n",
    "# find(str) : 문자열에서 특정 문자열을 찾아서 해당 문자의 index값을 반환\n",
    "# count(str) : 문자열에서 특정 문자열을 찾아서 해당 문자열의 수를 반환\n",
    "# lower() : 문자열에서 영문 대문자를 소문자로 변경하여 반환\n",
    "# upper() : 문자열에서 영문 소문자를 대문자로 변경하여 반환\n",
    "# strip() : 문자열에서 양쪽 공백 또는 문자를 제거하여 반환\n",
    "# lstrip() : 문자열에서 왼쪽 공백 또는 문자를 제거하여 반환\n",
    "# rstrip() : 문자열에서 오른쪽 공백 또는 문자를 제거하여 반환\n",
    "# replace(old,new) : 문자열에서 왼쪽(old) 문자열을 찾아서 오른쪽(new) 문자열로 변경\n",
    "# split() : 문자열을 특정 문자 기준으로 분리 -> 리스트로 반환\n",
    "print(help('str'))"
   ]
  },
  {
   "cell_type": "code",
   "execution_count": null,
   "metadata": {},
   "outputs": [],
   "source": [
    "# find 예제\n",
    "st = 'python string'\n",
    "    # 0123456789...\n",
    "print(st.find('python'))    # 0\n",
    "print(st.find('string'))    # 7 해당 문자열이 시작하는 인덱스를 찾아줌\n",
    "\n",
    "# find(str,시작인덱스,끝인덱스)\n",
    "print(st.find('t'))         # 2\n",
    "print(st.find('t',3))       # 8 => 중복된 문자열의 인덱스를 찾고자 할 때 시작인덱스를 적용\n",
    "\n",
    "# find()가 문자열을 찾지 못한 경우의 반환값 : -1 >> 에러가 아님!\n",
    "print(st.find('t',9))       # -1"
   ]
  },
  {
   "cell_type": "code",
   "execution_count": 12,
   "metadata": {},
   "outputs": [
    {
     "name": "stdout",
     "output_type": "stream",
     "text": [
      "2\n",
      "1\n"
     ]
    }
   ],
   "source": [
    "# count 예제\n",
    "st = 'python string'\n",
    "print(st.count('t'))        # 2\n",
    "# count(str,시작인덱스,끝인덱스)\n",
    "print(st.count('t',6))      # 1 => 인덱스 6(공백)부터 찾기"
   ]
  },
  {
   "cell_type": "code",
   "execution_count": 49,
   "metadata": {},
   "outputs": [
    {
     "name": "stdout",
     "output_type": "stream",
     "text": [
      "python string\n",
      "PYTHON STRING\n",
      "python string\n",
      "PYTHON STRING\n",
      "python string\n",
      "PYTHON STRING\n",
      "pYTHON IS eASY\n",
      "Python Is Easy\n"
     ]
    }
   ],
   "source": [
    "# lower()\n",
    "st = 'PYTHON STRING'\n",
    "print(st.lower())   # 반환값으로 변경된 내용을 전달하나, 원래 데이터가 변경되지는 않는다\n",
    "print(st)           # PYTHON STRING\n",
    "st1 = st.lower()\n",
    "print(st1)          # python string\n",
    "\n",
    "# upper()\n",
    "st = 'python string'\n",
    "print(st.upper())\n",
    "print(st)           # python string\n",
    "st2 = st.upper()\n",
    "print(st2)          # PYTHON STRING\n",
    "\n",
    "# swapcase() : 영문 대문자->소문자로, 소문자->대문자로\n",
    "str1 = 'Python is Easy'\n",
    "print(str1.swapcase())      # pYTHON IS eASY\n",
    "\n",
    "# title() : 영문 단어의 시작을 대문자로, 나머지는 소문자로 변경\n",
    "str2 = str1.lower()     # python string\n",
    "print(str2.title())     # Python Is Easy"
   ]
  },
  {
   "cell_type": "code",
   "execution_count": 20,
   "metadata": {},
   "outputs": [
    {
     "name": "stdout",
     "output_type": "stream",
     "text": [
      "[     python string     ]\n",
      "[python string]\n",
      "[python string     ]\n",
      "[     python string]\n"
     ]
    }
   ],
   "source": [
    "# strip() : 양쪽에 인자로 전달 받은 문자열을 제거, 인자값이 없는 경우 공백 제거\n",
    "st = '     python string     '\n",
    "print(f\"[{st}]\")\n",
    "st1 = st.strip()\n",
    "print(f\"[{st1}]\")   # 양쪽 공백 제거됨!\n",
    "\n",
    "# lstrip()\n",
    "st2 = st.lstrip()\n",
    "print(f\"[{st2}]\")   # [python string     ]\n",
    "\n",
    "# rstrip()\n",
    "st3 = st.rstrip()\n",
    "print(f\"[{st3}]\")   # [     python string]"
   ]
  },
  {
   "cell_type": "code",
   "execution_count": 21,
   "metadata": {},
   "outputs": [
    {
     "name": "stdout",
     "output_type": "stream",
     "text": [
      "python 문자열\n"
     ]
    }
   ],
   "source": [
    "# replace(old, new)\n",
    "st = 'python string'\n",
    "st1 = st.replace('string', '문자열')\n",
    "print(st1)      # python 문자열"
   ]
  },
  {
   "cell_type": "code",
   "execution_count": 22,
   "metadata": {},
   "outputs": [
    {
     "name": "stdout",
     "output_type": "stream",
     "text": [
      "['python', 'string']\n"
     ]
    }
   ],
   "source": [
    "# split(str) : 문자열을 str에 있는 문자 기준으로 분리 -> list로 저장\n",
    "st = 'python string'\n",
    "st1 = st.split()    # 공백을 기준으로 분리\n",
    "print(st1)          # ['python', 'string']"
   ]
  },
  {
   "cell_type": "code",
   "execution_count": 23,
   "metadata": {},
   "outputs": [
    {
     "name": "stdout",
     "output_type": "stream",
     "text": [
      "['I', 'am', 'a', 'student'] <class 'list'>\n"
     ]
    }
   ],
   "source": [
    "# split()을 이용한 입력문자 값 분리\n",
    "values = input(\"입력 : \").split()   # 입력 : I am a student\n",
    "print(values, type(values))        # ['I', 'am', 'a', 'student'] <class 'list'>"
   ]
  },
  {
   "cell_type": "code",
   "execution_count": 27,
   "metadata": {},
   "outputs": [
    {
     "name": "stdout",
     "output_type": "stream",
     "text": [
      "Have a Nice Day! \n",
      "Have a Nice Day! Have a Nice Day! Have a Nice Day! \n",
      "Have a Nice Day!!!\n"
     ]
    }
   ],
   "source": [
    "# 예제 1 - 결합 및 연산\n",
    "A = 'Have a'\n",
    "B = ' Nice Day! '\n",
    "C = A + B           # 'Have a' + ' Nice Day! '\n",
    "print(C)            # Have a Nice Day!\n",
    "print(C*3)          # 반복\n",
    "A += ' Nice Day!!!' # 확장\n",
    "print(A)            # Have a Nice Day!!!"
   ]
  },
  {
   "cell_type": "code",
   "execution_count": 48,
   "metadata": {},
   "outputs": [
    {
     "name": "stdout",
     "output_type": "stream",
     "text": [
      "Never-Ever 100Give Up\n",
      "a의 개수 : 3 / day의 개수 : 1 / dak의 개수 : 0\n"
     ]
    }
   ],
   "source": [
    "# [문제1] \n",
    "# 문장 변경하기\n",
    "st = 'NevEr-eVer 100gIVe Up'    # => Never-Ever 100Give Up\n",
    "st1 = st1.title()\n",
    "print(st1)\n",
    "# Have a nice day 문자열에서 'a','day','dak'의 개수 알아오기\n",
    "st = 'Have a nice day'\n",
    "print(\"a의 개수 : {} / day의 개수 : {} / dak의 개수 : {}\".format(st.count('a'),st.count('day'),st.count('dak')))\n",
    "            # a의 개수 : 3 / day의 개수 : 1 / dak의 개수 : 0"
   ]
  },
  {
   "cell_type": "code",
   "execution_count": 52,
   "metadata": {},
   "outputs": [
    {
     "name": "stdout",
     "output_type": "stream",
     "text": [
      "문자열 길이 : 24\n",
      "a의 개수 : 2 / s의 개수 : 3\n"
     ]
    }
   ],
   "source": [
    "# [문제2] \"It is a fun python class\" 문자열의 길이, 문자 'a'의 개수, 's'의 개수를 출력하는 코딩 (함수 쓰지 않기)\n",
    "st = \"It is a fun python class\"\n",
    "cnt = cntA = cntS = 0\n",
    "for x in st :\n",
    "    cnt += 1\n",
    "    if x == 'a' : cntA += 1\n",
    "    if x == 's' : cntS += 1\n",
    "print(\"문자열 길이 :\",cnt)                                  # 문자열 길이 : 24\n",
    "print(\"a의 개수 : {} / s의 개수 : {}\".format(cntA,cntS))    # a의 개수 : 2 / s의 개수 : 3"
   ]
  },
  {
   "cell_type": "code",
   "execution_count": 59,
   "metadata": {},
   "outputs": [
    {
     "name": "stdout",
     "output_type": "stream",
     "text": [
      "find(day) : 12\n",
      "index(day) : 12\n",
      "find(kkk) : -1\n",
      "'a'의 위치 1 : 1\n",
      "'a'의 위치 2 : 5\n",
      "'a'의 위치 3 : 13\n",
      "'a'의 위치 4 : -1\n",
      "첫번째 a의 위치 : 1\n",
      "두번째 a의 위치 : 5\n",
      "세번째 a의 위치 : 13\n",
      "네번째 a의 위치 : -1\n"
     ]
    }
   ],
   "source": [
    "# [문제3] \"Have a nice day\" 문자열을 가지고 다음을 처리하세요\n",
    "# 1) 각각 find와 index를 사용하여 \"day\" 문자의 위치를 찾으세요\n",
    "# 2) 각각 find와 index를 사용하여 \"kkk\" 문자의 위치를 찾으세요\n",
    "# 3) find를 사용하여 첫 번째, 두 번째, 세 번째, 네 번째 'a'의 위치를 출력하세요\n",
    "st = \"Have a nice day\"\n",
    "\n",
    "print(\"find(day) :\",st.find('day'))\n",
    "print(\"index(day) :\",st.index('day'))\n",
    "\n",
    "print(\"find(kkk) :\",st.find('kkk'))\n",
    "#print(\"index(kkk) :\",st.index('kkk')) >> 에러\n",
    "\n",
    "count = 0\n",
    "for x in range(st.count('a')) :\n",
    "    num = st.find('a',count)\n",
    "    print(f\"'a'의 위치 {x+1} : {num}\")\n",
    "    count = num+1\n",
    "print(f\"'a'의 위치 {x+2} : {st.find('a',count)}\")\n",
    "\n",
    "# 선생님 답\n",
    "idx = st.find('a')\n",
    "print(\"첫번째 a의 위치 :\",idx)      \n",
    "idx = st.find('a',idx+1)        # 첫번째 a의 위치 : 1\n",
    "print(\"두번째 a의 위치 :\",idx)\n",
    "idx = st.find('a',idx+1)        # 두번째 a의 위치 : 5\n",
    "print(\"세번째 a의 위치 :\",idx)\n",
    "idx = st.find('a',idx+1)        # 세번째 a의 위치 : 13\n",
    "print(\"네번째 a의 위치 :\",idx)\n",
    "idx = st.find('a',idx+1)        # 네번째 a의 위치 : -1\n"
   ]
  },
  {
   "cell_type": "code",
   "execution_count": 74,
   "metadata": {},
   "outputs": [
    {
     "name": "stdout",
     "output_type": "stream",
     "text": [
      "a 개수 : 9\n",
      "첨자 : [1, 5, 13, 17, 21, 29, 33, 37, 45]\n",
      "a 개수 : 9\n",
      "첨자 : [1, 5, 13, 17, 21, 29, 33, 37, 45]\n"
     ]
    }
   ],
   "source": [
    "# [Quiz] : List를 정의하여 색인 위치 저장\n",
    "# a의 총 개수와 첨자의 위치를 출력하시오\n",
    "# st = \"Have a Nice Day Have a Nice Day Have a Nice Day\"\n",
    "# 결과는 a 개수 : 9 / 첨자 : [1,5,13,17,21,29,33,37,45] 로 출력\n",
    "st = \"Have a Nice Day Have a Nice Day Have a Nice Day\"\n",
    "pcs = cnt = 0\n",
    "cntA = []\n",
    "for x in st :\n",
    "    num = st.find('a',cnt)\n",
    "    if num != -1 :\n",
    "        pcs += 1\n",
    "        cntA.append(num)\n",
    "        cnt = num+1\n",
    "print(\"a 개수 :\",pcs)\n",
    "print(\"첨자 :\",cntA)\n",
    "\n",
    "# 선생님 답\n",
    "idx = 0\n",
    "lst = []\n",
    "while True :\n",
    "    idx = st.find('a',idx)\n",
    "    if idx != -1 : \n",
    "        lst.append(idx)\n",
    "        idx += 1\n",
    "    else : break\n",
    "print(\"a 개수 :\",st.count('a'))     # a 개수 : 9\n",
    "print(\"첨자 :\",lst)                 # 첨자 : [1, 5, 13, 17, 21, 29, 33, 37, 45]\n",
    "    "
   ]
  },
  {
   "cell_type": "code",
   "execution_count": 71,
   "metadata": {},
   "outputs": [
    {
     "name": "stdout",
     "output_type": "stream",
     "text": [
      "파이썬파\n",
      "이썬\n",
      "이썬파\n",
      "파이썬\n",
      "--1-파이썬-1--\n",
      "1-파이썬-1\n",
      "1-파이썬-1--\n",
      "--1-파이썬-1\n"
     ]
    }
   ],
   "source": [
    "# strip() : 양쪽에 있는 공백 또는 문자를 제거\n",
    "st = \"파이썬파\"\n",
    "print(st)\n",
    "print(st.strip(\"파\"))   # 이썬\n",
    "print(st.lstrip(\"파\"))  # 이썬파\n",
    "print(st.rstrip(\"파\"))  # 파이썬\n",
    "\n",
    "st = \"--1-파이썬-1--\"\n",
    "print(st)\n",
    "print(st.strip(\"-\"))    # 1-파이썬-1\n",
    "print(st.lstrip(\"-\"))   # 1-파이썬-1--\n",
    "print(st.rstrip(\"-\"))   # --1-파이썬-1"
   ]
  },
  {
   "cell_type": "code",
   "execution_count": 75,
   "metadata": {},
   "outputs": [
    {
     "name": "stdout",
     "output_type": "stream",
     "text": [
      "2015-06-05\n",
      "2022-06-05\n",
      "2015\n",
      "2022-06-05\n"
     ]
    }
   ],
   "source": [
    "# replace() 함수 사용\n",
    "st = \"2015-06-05\"\n",
    "#     0123456789\n",
    "print(st)\n",
    "print(st.replace('2015', '2022'))   # 2022-06-05\n",
    "print(st[:4])                       # 2015 => 원본 데이터는 변하지 않음             \n",
    "print(st.replace(st[:4], '2022'))   # 2022-06-05"
   ]
  },
  {
   "cell_type": "code",
   "execution_count": 77,
   "metadata": {},
   "outputs": [
    {
     "name": "stdout",
     "output_type": "stream",
     "text": [
      "Never Ever Give Up\n",
      "['Never', 'Ever', 'Give', 'Up'] <class 'list'>\n",
      "['하나', '둘', '셋'] <class 'list'>\n",
      "['1', '2', '3'] <class 'list'>\n",
      "['하나둘셋넷'] <class 'list'>\n"
     ]
    }
   ],
   "source": [
    "# split(str) : 특정 문자(str)를 기준으로 문자열을 나누는 함수 -> 리스트로 변환\n",
    "st = \"Never Ever Give Up\"\n",
    "a = st.split()\n",
    "print(st)\n",
    "print(a,type(a))        # ['Never', 'Ever', 'Give', 'Up'] <class 'list'>\n",
    "\n",
    "st = \"하나:둘:셋\"\n",
    "st1 = \"1,2,3\"\n",
    "b = st.split(':')\n",
    "c = st1.split(',')\n",
    "print(b,type(b))        # ['하나', '둘', '셋'] <class 'list'>\n",
    "print(c,type(c))        # ['1', '2', '3'] <class 'list'>\n",
    "\n",
    "st = \"하나둘셋넷\"\n",
    "d = st.split()          # 공백이 없기 때문에 문자열 전체가 한 요소로 그대로 리스트에 저장됨\n",
    "print(d,type(d))        # ['하나둘셋넷'] <class 'list'>"
   ]
  },
  {
   "cell_type": "code",
   "execution_count": 84,
   "metadata": {},
   "outputs": [
    {
     "name": "stdout",
     "output_type": "stream",
     "text": [
      "Never\n",
      "Ever\n",
      "Give\n",
      "Up\n",
      "['Never', 'Ever', 'Give', 'Up']\n",
      "Never Ever Give Up\n",
      "    Never Ever Give Up\n",
      "Never Ever Give Up\n",
      "Never Ever Give Up\n",
      "Never Ever Give Up\n",
      "['Never Ever Give Up', '    Never Ever Give Up', 'Never Ever Give Up', 'Never Ever Give Up', 'Never Ever Give Up']\n"
     ]
    }
   ],
   "source": [
    "# splitlines() : 개별 행('\\n')을 기준으로 문자열을 나누는 함수 -> 리스트로 저장\n",
    "st = \"Never\\nEver\\nGive\\nUp\"\n",
    "print(st)\n",
    "print(st.splitlines())  # ['Never', 'Ever', 'Give', 'Up'] - 개행이 각각 요소로 리스트에 저장됨\n",
    "\n",
    "# 여러줄 문자열 처리 : '''~''' / \"\"\"~\"\"\"        => 엔터와 엔터 사이의 공백까지 문자열로 인식함\n",
    "st = \"\"\"Never Ever Give Up\n",
    "    Never Ever Give Up\n",
    "Never Ever Give Up\n",
    "Never Ever Give Up\n",
    "Never Ever Give Up\"\"\"\n",
    "print(st)\n",
    "print(st.splitlines())\n",
    "    # ['Never Ever Give Up', '    Never Ever Give Up', 'Never Ever Give Up', 'Never Ever Give Up', 'Never Ever Give Up']"
   ]
  },
  {
   "cell_type": "code",
   "execution_count": 98,
   "metadata": {},
   "outputs": [
    {
     "name": "stdout",
     "output_type": "stream",
     "text": [
      "%123%\n",
      "1%2%3\n",
      "I am a student\n",
      "123456\n",
      "-123-456 <class 'str'>\n",
      "2015-06-05\n"
     ]
    }
   ],
   "source": [
    "# join() : 지정한 문자열을 기준으로 문자열 데이터를 결합 - 반환값은 str\n",
    "st = '123'\n",
    "print(st.join('%%'))    # %123%\n",
    "print('%'.join(st))     # 1%2%3\n",
    "\n",
    "# 아래의 리스트를 문자열로 변경 -> \"I am a student\"\n",
    "lst = ['I', 'am', 'a', 'student']\n",
    "print(' '.join(lst))                    # I am a student\n",
    "\n",
    "lst = [\"\",\"123\",\"456\"]\n",
    "print(\"\".join(lst))                         # 123456\n",
    "print(\"-\".join(lst),type(\"-\".join(lst)))    # -123-456 <class 'str'>\n",
    "\n",
    "lst = ['2015','06','05']\n",
    "st = \"-\".join(lst)\n",
    "print(st)           # 2015-06-05                        "
   ]
  },
  {
   "cell_type": "code",
   "execution_count": 142,
   "metadata": {},
   "outputs": [
    {
     "name": "stdout",
     "output_type": "stream",
     "text": [
      "이름 : 홍길동 , 나이 : 18\n",
      "이름 : 홍길동 , 나이 : 18\n"
     ]
    }
   ],
   "source": [
    "# [문자열 실습 1]\n",
    "# input() 함수로 이름과 나이값을 입력받을 때 한 번에 입력받아 처리하고 출력하는 코드 작성\n",
    "# 예) 이름과 나이를 입력하세요 : 홍길동 18 => 이름 : 홍길동, 나이 : 18\n",
    "info = input('이름과 나이를 입력하세요 : ')\n",
    "lst = info.split()\n",
    "print(f\"이름 : {lst[0]} , 나이 : {lst[1]}\")\n",
    "\n",
    "# 선생님 답 !!!!!!!!!!!\n",
    "info = input('이름과 나이를 입력하세요 : ')\n",
    "name, age = info.split()\n",
    "print(f\"이름 : {name} , 나이 : {age}\")"
   ]
  },
  {
   "cell_type": "code",
   "execution_count": null,
   "metadata": {},
   "outputs": [],
   "source": [
    "# [문자열 실습 2]\n",
    "# input() 함수로 입력 받은 수의 더하기, 빼기, 곱하기, 나누기의 간단한 수식을 처리할 수 있도록 코드 작성\n",
    "# 예) 계산식을 입력하세요 : 5+5 / 계산 결과 : 10\n",
    "exp = input('계산식을 입력하세요 : ')\n",
    "if exp.find('+') != -1 :\n",
    "    lst = exp.split('+')\n",
    "    result = 0\n",
    "    for x in lst : result += int(x)\n",
    "    \n",
    "elif exp.find('-') != -1 : \n",
    "    lst = expa.split('-')\n",
    "    result = int(lst[0])\n",
    "    for x in lst[1:] : result -= int(x)\n",
    "        \n",
    "elif exp.find('*') != -1 :\n",
    "    lst = exp.split('*')\n",
    "    result = 1\n",
    "    for x in lst : result *= int(x)\n",
    "    \n",
    "elif exp.find('/') != -1 :\n",
    "    lst = exp.split('/')\n",
    "    result = int(lst[0])\n",
    "    for x in lst[1:] : result /= int(x)\n",
    "    \n",
    "print(result)\n",
    "\n",
    "# 선생님 답\n",
    "import os\n",
    "\n",
    "while True :\n",
    "    os.system('cls')\n",
    "    calc = input('계산식을 입력하세요(ex.5+5) : ')\n",
    "    if '+' in calc :\n",
    "        num1, num2 = calc.split('+')\n",
    "        print(\"계산 결과 :\",int(num1) + int(num2))\n",
    "    elif '-' in calc :\n",
    "        num1, num2 = calc.split('-')\n",
    "        print(\"계산 결과 :\",int(num1) - int(num2))\n",
    "    elif '*' in calc :\n",
    "        num1, num2 = calc.split('*')\n",
    "        print(\"계산 결과 :\",int(num1) * int(num2))\n",
    "    elif '/' in calc :\n",
    "        num1, num2 = calc.split('/')\n",
    "        print(\"계산 결과 : {:.2f}\".format(int(num1) / int(num2)))\n",
    "    else : print(\"수식 입력이 잘못되었습니다\")\n",
    "    if int(input(\"계속하시겠습니까 ? (계속 : 1 / 종료 : 0) : \")) == 0 : break\n",
    "print(\"계산기 프로그램 종료!\")\n",
    "        "
   ]
  }
 ],
 "metadata": {
  "interpreter": {
   "hash": "b89b5cfaba6639976dc87ff2fec6d58faec662063367e2c229c520fe71072417"
  },
  "kernelspec": {
   "display_name": "Python 3.10.3 64-bit",
   "language": "python",
   "name": "python3"
  },
  "language_info": {
   "codemirror_mode": {
    "name": "ipython",
    "version": 3
   },
   "file_extension": ".py",
   "mimetype": "text/x-python",
   "name": "python",
   "nbconvert_exporter": "python",
   "pygments_lexer": "ipython3",
   "version": "3.10.3"
  },
  "orig_nbformat": 4
 },
 "nbformat": 4,
 "nbformat_minor": 2
}
