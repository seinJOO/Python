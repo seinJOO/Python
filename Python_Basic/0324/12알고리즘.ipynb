{
 "cells": [
  {
   "cell_type": "code",
   "execution_count": null,
   "metadata": {},
   "outputs": [],
   "source": [
    "# 알고리즘 : 어떤 문제를 해결하기 위한 일련의 절차\n",
    "#          프로그래밍이 로직(논리적인 절차)을 기초로 삼고 있기 때문에 이를 통해 문제를 해결\n",
    "# 알고리즘의 조건\n",
    "# 1) 입력 : 외부에서 제공되는 자료가 있을 수 있다\n",
    "# 2) 출력 : 적어도 한 가지 이상의 결과가 나올 수 있다\n",
    "# 3) 명백성 : 각 명령들은 애매한 부분 없이 간단 명료해야 한다\n",
    "# 4) 유한성 : 반드시 종료 조건이 있어야 한다\n",
    "# 5) 효과성 : 모든 명령들은 명백하고 실행 가능한 것이어야 한다"
   ]
  },
  {
   "cell_type": "code",
   "execution_count": 4,
   "metadata": {},
   "outputs": [
    {
     "name": "stdout",
     "output_type": "stream",
     "text": [
      "[73, 71, 14, 18, 16, 13, 84, 27, 54, 54]\n",
      "최대값 : 84, 최소값 : 13\n"
     ]
    }
   ],
   "source": [
    "# 최대값/최소값 (max/min)\n",
    "# : 전체 자료의 원소들 중에 가장 큰 값과 가장 작은 값을 선별하는 기본 알고리즘\n",
    "\n",
    "# 입력 자료 생성\n",
    "import random\n",
    "dataset = []\n",
    "for i in range(10) :\n",
    "    r = random.randint(1, 100)\n",
    "    dataset.append(r)\n",
    "print(dataset)\n",
    "\n",
    "# 변수 초기화\n",
    "vmax = vmin = dataset[0]\n",
    "\n",
    "# 최대/최소값 구하기\n",
    "for i in dataset :\n",
    "    if i > vmax :\n",
    "        vmax = i\n",
    "    if i < vmin :\n",
    "        vmin = i\n",
    "print(f\"최대값 : {vmax}, 최소값 : {vmin}\")\n",
    "    "
   ]
  },
  {
   "cell_type": "code",
   "execution_count": 11,
   "metadata": {},
   "outputs": [
    {
     "name": "stdout",
     "output_type": "stream",
     "text": [
      "1 회차 :  [1, 5, 3, 2, 4]\n",
      "2 회차 :  [1, 2, 5, 3, 4]\n",
      "3 회차 :  [1, 2, 3, 5, 4]\n",
      "4 회차 :  [1, 2, 3, 4, 5]\n",
      "[1, 2, 3, 4, 5]\n"
     ]
    }
   ],
   "source": [
    "# 정렬(sort) - 선택정렬 (오름차순)\n",
    "dataset = [3,5,1,2,4]\n",
    "tmp = 0\n",
    "for i in range(len(dataset)-1) :\n",
    "    for j in range(i+1,len(dataset)) :\n",
    "        if dataset[i] > dataset[j] :\n",
    "            tmp = dataset[i]\n",
    "            dataset[i] = dataset[j]\n",
    "            dataset[j] = tmp\n",
    "    print(i+1,\"회차 : \",dataset)\n",
    "print(dataset)"
   ]
  },
  {
   "cell_type": "code",
   "execution_count": 17,
   "metadata": {},
   "outputs": [
    {
     "name": "stdout",
     "output_type": "stream",
     "text": [
      "찾는 값이 없습니다\n"
     ]
    }
   ],
   "source": [
    "# 검색 (search) 알고리즘 => 순차검색 / 이진검색(이분법)\n",
    "# 이진검색은 순서대로 정렬되어 있어야한다 !!\n",
    "dataset = [5,10,18,22,35,55,75,103]\n",
    "value = int(input(\"검색할 값 입력 : \"))\n",
    "start = 0               # 시작 위치\n",
    "end = len(dataset)-1    # 종료 위치\n",
    "loc = 0                 # 위치값\n",
    "state = False           # 상태변수\n",
    "\n",
    "while (start <= end) :\n",
    "    mid = (start + end) // 2\n",
    "    if dataset[mid] > value :   # 중앙값이 검색할 값보다 큰 경우\n",
    "        end = mid - 1\n",
    "    elif dataset[mid] < value : # 중앙값이 검색할 값보다 작은 경우\n",
    "        start = mid + 1\n",
    "    else : \n",
    "        loc = mid\n",
    "        state = True\n",
    "        break\n",
    "if state : print(f\"찾은 위치 : {loc}번째\")\n",
    "else : print(\"찾는 값이 없습니다\")\n",
    "        "
   ]
  }
 ],
 "metadata": {
  "interpreter": {
   "hash": "b89b5cfaba6639976dc87ff2fec6d58faec662063367e2c229c520fe71072417"
  },
  "kernelspec": {
   "display_name": "Python 3.10.3 64-bit",
   "language": "python",
   "name": "python3"
  },
  "language_info": {
   "codemirror_mode": {
    "name": "ipython",
    "version": 3
   },
   "file_extension": ".py",
   "mimetype": "text/x-python",
   "name": "python",
   "nbconvert_exporter": "python",
   "pygments_lexer": "ipython3",
   "version": "3.10.3"
  },
  "orig_nbformat": 4
 },
 "nbformat": 4,
 "nbformat_minor": 2
}
