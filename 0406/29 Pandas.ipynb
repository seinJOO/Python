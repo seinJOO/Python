{
 "cells": [
  {
   "cell_type": "code",
   "execution_count": null,
   "metadata": {},
   "outputs": [],
   "source": [
    "# pip list        # pip를 이용하여 설치된 패키지를 보여줌\n",
    "# pip install pandas"
   ]
  },
  {
   "cell_type": "code",
   "execution_count": 24,
   "metadata": {},
   "outputs": [
    {
     "name": "stdout",
     "output_type": "stream",
     "text": [
      "d:\\sein\\Python\\0406\n",
      "<class 'pandas.core.frame.DataFrame'>\n",
      "RangeIndex: 15 entries, 0 to 14\n",
      "Data columns (total 5 columns):\n",
      " #   Column  Non-Null Count  Dtype\n",
      "---  ------  --------------  -----\n",
      " 0   no      15 non-null     int64\n",
      " 1   kor     15 non-null     int64\n",
      " 2   eng     15 non-null     int64\n",
      " 3   mat     15 non-null     int64\n",
      " 4   dept    15 non-null     int64\n",
      "dtypes: int64(5)\n",
      "memory usage: 728.0 bytes\n",
      "None\n",
      "    no  kor  eng  mat  dept\n",
      "0  101   88   85   86   101\n",
      "1  102   70   90   92   101\n",
      "2  103   90   45   55   101\n",
      "3  104   55   52   74   102\n",
      "4  105   65   85   96   102\n"
     ]
    }
   ],
   "source": [
    "### 특수한 파일 처리\n",
    "# CSV(Comma Separated Value) : 열 단위 자료를 처리할 수 있는 대표적인 파일\n",
    "#                              CSV, Excel -> Cell 단위 자료를 저장하여 처리하는 파일\n",
    "\n",
    "# pandas 패키지 import\n",
    "import pandas as pd\n",
    "import os\n",
    "\n",
    "print(os.getcwd())\n",
    "score = pd.read_csv(open('data/score.csv'))\n",
    "print(score.info())\n",
    "'''\n",
    "<class 'pandas.core.frame.DataFrame'>   # data-type\n",
    "RangeIndex: 15 entries, 0 to 14         # 행 15개\n",
    "Data columns (total 5 columns):         # 열 5개\n",
    "#   Column  Non-Null Count  Dtype\n",
    "---  ------  --------------  -----\n",
    "0   no      15 non-null     int64       # Non-null Count : 데이터가 있는 행 개수\n",
    "1   kor     15 non-null     int64       # 하나의 열에 해당하는 모든 데이터를 series라고 함\n",
    "2   eng     15 non-null     int64       \n",
    "3   mat     15 non-null     int64\n",
    "4   dept    15 non-null     int64\n",
    "dtypes: int64(5)\n",
    "memory usage: 728.0 bytes\n",
    "None\n",
    "'''\n",
    "print(score.head()) # 컬럼명 포함 앞부분 5개 행만 출력\n",
    "# score     # 표 모양으로 출력됨 -> 데이터가 모여 테이블 형태를 이루는 것을 frame이라고 함\n"
   ]
  },
  {
   "cell_type": "code",
   "execution_count": 41,
   "metadata": {},
   "outputs": [
    {
     "name": "stdout",
     "output_type": "stream",
     "text": [
      "<class 'pandas.core.series.Series'>\n",
      "국어 점수 총합 : 1071\n",
      "국어 최고점 : 95\n",
      "영어 최고점 : 90\n",
      "수학 최고점 : 96\n",
      "국어 최저점 : 40\n",
      "영어 최저점 : 45\n",
      "수학 최저점 : 41\n",
      "국어 평균 : 71.40\n",
      "영어 평균 : 67.93\n",
      "수학 평균 : 71.33\n",
      "{101: 5, 102: 5, 103: 5}\n"
     ]
    }
   ],
   "source": [
    "from numpy import mean\n",
    "# 선생님은 from statistics import mean을 선택 !!\n",
    "\n",
    "# 컬럼 출력 => 객체.컬럼명 / 객체['컬럼명']\n",
    "kor = score.kor     # 해당 컬럼명에 해당되는 데이터들이 인덱스(+컬럼명, 데이터타입)와 함께 출력됨\n",
    "print(type(kor))    # <class 'pandas.core.series.Series'>\n",
    "eng = score['eng']\n",
    "mat = score['mat']\n",
    "dept = score['dept']\n",
    "print('국어 점수 총합 :',sum(kor)) # 1071 => list처럼 사용 가능함\n",
    "\n",
    "# 각 과목의 최고점 알아오기\n",
    "print('국어 최고점 :',max(kor))     # 95\n",
    "print('영어 최고점 :',max(eng))     # 90\n",
    "print('수학 최고점 :',max(mat))     # 96\n",
    "\n",
    "# 각 과목의 최저점 알아오기\n",
    "print('국어 최저점 :',min(kor))     # 40\n",
    "print('영어 최저점 :',min(eng))     # 45\n",
    "print('수학 최저점 :',min(mat))     # 41\n",
    "\n",
    "# 각 과목의 평균\n",
    "print('국어 평균 :','{:.2f}'.format(mean(kor)))     # 71.40\n",
    "print('영어 평균 :','{:.2f}'.format(mean(eng)))     # 67.93\n",
    "print('수학 평균 :','{:.2f}'.format(mean(mat)))     # 71.33\n",
    "\n",
    "# 학과코드의 빈도수\n",
    "depts = {}\n",
    "for x in dept :\n",
    "    depts[x] = depts.get(x,0) + 1       # get(x)의 값이 없으면 0, 있으면 get(x)\n",
    "print(depts)\n"
   ]
  },
  {
   "cell_type": "code",
   "execution_count": 47,
   "metadata": {},
   "outputs": [
    {
     "name": "stdout",
     "output_type": "stream",
     "text": [
      "Defaulting to user installation because normal site-packages is not writeable\n",
      "Collecting openpyxl\n",
      "  Downloading openpyxl-3.0.9-py2.py3-none-any.whl (242 kB)\n",
      "     -------------------------------------- 242.2/242.2 KB 2.9 MB/s eta 0:00:00\n",
      "Collecting et-xmlfile\n",
      "  Downloading et_xmlfile-1.1.0-py3-none-any.whl (4.7 kB)\n",
      "Installing collected packages: et-xmlfile, openpyxl\n",
      "Successfully installed et-xmlfile-1.1.0 openpyxl-3.0.9\n",
      "Note: you may need to restart the kernel to use updated packages.\n"
     ]
    }
   ],
   "source": []
  },
  {
   "cell_type": "code",
   "execution_count": 58,
   "metadata": {},
   "outputs": [
    {
     "name": "stdout",
     "output_type": "stream",
     "text": [
      "<class 'pandas.io.excel._base.ExcelFile'>\n",
      "<class 'pandas.core.frame.DataFrame'>\n",
      "RangeIndex: 247 entries, 0 to 246\n",
      "Data columns (total 6 columns):\n",
      " #   Column  Non-Null Count  Dtype         \n",
      "---  ------  --------------  -----         \n",
      " 0   Date    247 non-null    datetime64[ns]\n",
      " 1   Open    247 non-null    int64         \n",
      " 2   High    247 non-null    int64         \n",
      " 3   Low     247 non-null    int64         \n",
      " 4   Close   247 non-null    int64         \n",
      " 5   Volume  247 non-null    int64         \n",
      "dtypes: datetime64[ns](1), int64(5)\n",
      "memory usage: 11.7 KB\n",
      "None\n",
      "High의 평균 : 1307947.37\n",
      "Low의 평균 : 1280919.03\n",
      "1307947.37\n",
      "1280919.03\n"
     ]
    }
   ],
   "source": [
    "# pip install openpyxl\n",
    "## Excel 파일 읽기\n",
    "# sam = pd.read_excel(open('data/sam_kospi.xlsx'))\n",
    "sam = pd.ExcelFile('data/sam_kospi.xlsx')\n",
    "print(type(sam))    # <class 'pandas.io.excel._base.ExcelFile'>\n",
    "\n",
    "## Excel 파일 파싱\n",
    "kospi = sam.parse('sam_kospi')\n",
    "print(kospi.info())\n",
    "\n",
    "# 컬럼 추출 (high, low)\n",
    "high = kospi.High       # Series\n",
    "low = kospi['Low']      # Series\n",
    "\n",
    "# 최고값, 최저값 평균 출력 (statistics 모듈의 mean)\n",
    "print('High의 평균 :', '{:.2f}'.format(mean(high)))\n",
    "print('Low의 평균 :', '{:.2f}'.format(mean(low)))\n",
    "\n",
    "# 최고값, 최저값 평균 출력 (pandas 모듈의 mean)\n",
    "print('{:.2f}'.format(mean(high)))\n",
    "print('{:.2f}'.format(mean(low)))\n"
   ]
  },
  {
   "cell_type": "code",
   "execution_count": null,
   "metadata": {},
   "outputs": [],
   "source": [
    "## JSON 파일\n",
    "# JSON (JavaScript Object Notation)은 네트워크 표준으로 사용되고 있는 파일 양식 (XML,....)\n",
    "# 특징 : \"키-값\" 쌍으로 자료를 표현 => 딕셔너리 자료형과 흡사하여 딕셔너리처럼 사용할 수 있음 !!\n",
    "# 표현은 자바스크립트 구문형식을 따르지만, 프로그램 언어나 플랫폼에 독립적으로 동작할 수 있음\n",
    "# *** JSON은 키값을 \"\"로만 사용한다!!!!!!!!  '사용XXX'\n",
    "\n",
    "# 파이썬은 JSON 파일을 처리할 수 있는 모듈을 기본으로 제공하고 있음 (import 해야함!)\n",
    "# encoding - 파이썬 객체(Dict or List)를 JSON문자열(\"키-값\")로 변환\n",
    "# decoding - JSON문자열(\"키-값\")을 파이썬 객체(Dict or List)로 변환\n",
    "\n",
    "# 인코딩 예시 : json.dumps(객체) => json문자열로 변경\n",
    "# 디코딩 예시 : json.loads(json문자열) => 파이썬 객체로 변경"
   ]
  },
  {
   "cell_type": "code",
   "execution_count": 63,
   "metadata": {},
   "outputs": [
    {
     "name": "stdout",
     "output_type": "stream",
     "text": [
      "<class 'dict'>\n",
      "쭈세\n",
      "{\"id\": 1234, \"name\": \"쭈세\"}\n",
      "<class 'str'>\n",
      "<class 'dict'>\n",
      "{'id': 1234, 'name': '쭈세'}\n",
      "쭈세\n"
     ]
    }
   ],
   "source": [
    "import json\n",
    "\n",
    "user = {'id' : 1234, 'name' : '쭈세'}   # 파이썬 딕셔너리\n",
    "print(type(user))\n",
    "print(user['name'])\n",
    "\n",
    "jsonString = json.dumps(user, ensure_ascii=False)   # 아스키코트 사용X\n",
    "print(jsonString)       # '{\"id\": 1234, \"name\": \"쭈세\"}'\n",
    "print(type(jsonString))        # <class 'str'> => JSON의 type은 문자열!!!!\n",
    "# print(jsonString['name']) -> Error! json은 딕셔너리 형태가 아닌 문자열 !\n",
    "\n",
    "pyObj = json.loads(jsonString)\n",
    "print(type(pyObj))      # <class 'dict'>\n",
    "print(pyObj)            # {'id': 1234, 'name': '쭈세'}\n",
    "print(pyObj['name'])    # 쭈세"
   ]
  }
 ],
 "metadata": {
  "interpreter": {
   "hash": "b89b5cfaba6639976dc87ff2fec6d58faec662063367e2c229c520fe71072417"
  },
  "kernelspec": {
   "display_name": "Python 3.10.3 64-bit",
   "language": "python",
   "name": "python3"
  },
  "language_info": {
   "codemirror_mode": {
    "name": "ipython",
    "version": 3
   },
   "file_extension": ".py",
   "mimetype": "text/x-python",
   "name": "python",
   "nbconvert_exporter": "python",
   "pygments_lexer": "ipython3",
   "version": "3.10.3"
  },
  "orig_nbformat": 4
 },
 "nbformat": 4,
 "nbformat_minor": 2
}
