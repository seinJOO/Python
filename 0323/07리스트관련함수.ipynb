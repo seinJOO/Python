{
 "cells": [
  {
   "cell_type": "code",
   "execution_count": 1,
   "metadata": {},
   "outputs": [
    {
     "name": "stdout",
     "output_type": "stream",
     "text": [
      "[1, 2, 3, 2, 5, 6, 2, 8]\n",
      "2의 값을 가진 멤버의 개수 : 3\n"
     ]
    }
   ],
   "source": [
    "# count\n",
    "lst1 = [1,2,3,2,5,6,2,8]\n",
    "su = lst1.count(2)\n",
    "print(lst1)\n",
    "print(\"2의 값을 가진 멤버의 개수 :\", su)"
   ]
  },
  {
   "cell_type": "code",
   "execution_count": 6,
   "metadata": {},
   "outputs": [
    {
     "name": "stdout",
     "output_type": "stream",
     "text": [
      "5의 idx값을 확인 : 4\n",
      "2의 idx값을 확인 : 3\n"
     ]
    }
   ],
   "source": [
    "# index(value) : 특정 값의 인덱스값을 반환\n",
    "lst1 = [1,2,3,2,5,6,2,8]\n",
    "# (+)   0 1 2 3 4 5 6 7\n",
    "idx = lst1.index(5)      # def index(value: _T, start: int=..., stop: int=..., /) -> int => 인자값이 int일때는 입력하지 않으면 처음부터 / 끝까지\n",
    "print(\"5의 idx값을 확인 :\",idx)     #못찾으면 ValueError\n",
    "idx = lst1.index(2,2)    # 값 2에 대해 index=2인 3부터 찾음\n",
    "print(\"2의 idx값을 확인 :\",idx)"
   ]
  },
  {
   "cell_type": "code",
   "execution_count": 7,
   "metadata": {},
   "outputs": [
    {
     "name": "stdout",
     "output_type": "stream",
     "text": [
      "reverse() 사용 전 : [9, 10, 3, 2, 6, 1, 7, 8, 4, 5]\n",
      "reverse() 사용 후 : [5, 4, 8, 7, 1, 6, 2, 3, 10, 9]\n"
     ]
    }
   ],
   "source": [
    "# reverse() : 리스트 멤버의 순서를 반전 (정렬은 아님)\n",
    "lst1 = [9,10,3,2,6,1,7,8,4,5]\n",
    "print(\"reverse() 사용 전 :\",lst1)\n",
    "lst1.reverse()\n",
    "print(\"reverse() 사용 후 :\",lst1)"
   ]
  },
  {
   "cell_type": "code",
   "execution_count": 3,
   "metadata": {},
   "outputs": [
    {
     "name": "stdout",
     "output_type": "stream",
     "text": [
      "오름차순 정렬 : [1, 2, 3, 4, 5, 6, 7, 8, 9, 10]\n",
      "내림차순 정렬 : [10, 9, 8, 7, 6, 5, 4, 3, 2, 1]\n"
     ]
    }
   ],
   "source": [
    "# sort() : 리스트를 정렬하는 함수\n",
    "#   - 오름차순(작은 -> 큰) => reverse=False (기본값)\n",
    "#   - 내림차순(큰 -> 작은) => reverse=True\n",
    "lst1 = [9,10,3,2,6,1,7,8,4,5]\n",
    "lst1.sort()     # 오름차순 정렬\n",
    "print(\"오름차순 정렬 :\",lst1)\n",
    "lst1.sort(reverse=True)\n",
    "print(\"내림차순 정렬 :\",lst1)"
   ]
  },
  {
   "cell_type": "code",
   "execution_count": 14,
   "metadata": {},
   "outputs": [],
   "source": [
    "# sort 사용 시 주의사항\n",
    "# 1. 숫자 형식 또는 문자 형식은 분리해서 정렬해야 함 (정렬이 필요하면 숫자형식이나 문자형식으로 자료형을 통일하기)\n",
    "# 2. 정수와 실수는 같은 숫자이기 때문에 정렬 가능"
   ]
  },
  {
   "cell_type": "code",
   "execution_count": 15,
   "metadata": {},
   "outputs": [
    {
     "name": "stdout",
     "output_type": "stream",
     "text": [
      "[9, 10, 3, 2, 6, 1, 7, 8, 4, 5] 2497689980928\n",
      "[1, 2, 3, 4, 5, 6, 7, 8, 9, 10] 2497689513472\n",
      "['I', 'a', 'am', 'student']\n",
      "['a', 'am', 'I', 'student']\n"
     ]
    }
   ],
   "source": [
    "# sorted() - 정렬된 리스트를 새롭게 만들고 싶은 경우 사용\n",
    "lst1 = [9,10,3,2,6,1,7,8,4,5]\n",
    "lst2 = sorted(lst1)     # sorted 함수는 기존 리스트는 변경시키지 않고, 새로운 리스트에 정렬하여 대입함\n",
    "print(lst1, id(lst1))\n",
    "print(lst2, id(lst2))\n",
    "\n",
    "lst3 = sorted(\"I am a student\".split(' '))     # 문자의 아스키코드 순서대로 정렬함 (대문자는 소문자보다 아스키코드가 작음!)\n",
    "print(lst3)     # ['student', 'am', 'a', 'I']\n",
    "\n",
    "lst4 = sorted(\"I am a student\".split(),key=str.lower) # upper(대문자), lower(소문자) => 전체를 대문자 or 소문자로 취급하여 대소문자 구별없이 정렬\n",
    "print(lst4)     # ['a', 'am', 'I', 'student']"
   ]
  },
  {
   "cell_type": "code",
   "execution_count": null,
   "metadata": {},
   "outputs": [],
   "source": [
    "# ** split() 문자열을 분리하는 함수\n",
    "# ()안에 인자값을 아무것도 넣지 않으면 공백(스페이스, 탭, 엔터 등)을 기준으로 문자열을 나눠서 사용함\n",
    "# ex) split(';')을 사용하면 ';'을 기준으로 문자열을 나누겠다는 의미"
   ]
  },
  {
   "cell_type": "code",
   "execution_count": 20,
   "metadata": {},
   "outputs": [
    {
     "name": "stdout",
     "output_type": "stream",
     "text": [
      "lst1의 값 : [1, 2, 3, 4, 5] \tlst1의 주소 값 : 2497689997376\n",
      "lst2의 값 : [1, 2, 3, 4, 5] \tlst2의 주소 값 : 2497689997376\n",
      "lst1의 값 : [1, 'a', 3, 4, 5] \tlst1의 주소 값 : 2497689997376\n",
      "lst2의 값 : [1, 'a', 3, 4, 5] \tlst2의 주소 값 : 2497689997376\n",
      "[1, 'a', 3, 4, 5] 2497690002176\n",
      "[1, 2, 3, 4, 5] 2497690006976\n"
     ]
    }
   ],
   "source": [
    "# copy 기능\n",
    "# shallow copy : 서로 다른 변수가 같은 위치에 있는 데이터를 가리키는 경우\n",
    "# deep copy : 두 개의 변수가 별도의 공간을 가리키는 경우\n",
    "\n",
    "# 예) shallow copy - 데이터를 참조하는 형태로 복사 => 참조하는 주소(id)가 동일함\n",
    "lst1 = [1,2,3,4,5]\n",
    "lst2 = lst1\n",
    "print(\"lst1의 값 :\",lst1,\"\\tlst1의 주소 값 :\",id(lst1))\n",
    "print(\"lst2의 값 :\",lst2,\"\\tlst2의 주소 값 :\",id(lst2))\n",
    "lst1[1] = 'a'      # lst2가 lst1의 값을 참조하고 있기 때문에 lst1이 변경되면 lst2도 변경된다\n",
    "print(\"lst1의 값 :\",lst1,\"\\tlst1의 주소 값 :\",id(lst1))\n",
    "print(\"lst2의 값 :\",lst2,\"\\tlst2의 주소 값 :\",id(lst2))\n",
    "\n",
    "# 예) deep copy - 데이터 자체를 복사 => 값은 같으나 참조하는 주소(id)는 상이함\n",
    "lst1 = [1,2,3,4,5]\n",
    "lst2 = list(lst1)   # list()는 새로운 리스트를 생성하는 메서드\n",
    "lst1[1] = 'a'\n",
    "print(lst1, id(lst1))   # [1, 'a', 3, 4, 5] 2497689998080\n",
    "print(lst2, id(lst2))   # [1, 2, 3, 4, 5] 2497689995520"
   ]
  },
  {
   "cell_type": "code",
   "execution_count": 22,
   "metadata": {},
   "outputs": [
    {
     "name": "stdout",
     "output_type": "stream",
     "text": [
      "[1, 2, 3, 4, 5] 2497690031360\n",
      "[1, 2, 3, 4, 5] 2497690033024\n",
      "[1, 2, 3, 4, 5] 2497690031360\n",
      "[1, 2, 3, 4, 5] 2497690031360\n"
     ]
    }
   ],
   "source": [
    "# 복사 기능을 제공하는 copy 모듈을 불러서 사용\n",
    "import copy\n",
    "lst1 = [1,2,3,4,5]\n",
    "lst2 = copy.deepcopy(lst1)  # deepcopy() => 데이터는 같으나 주소(id)는 다름\n",
    "print(lst1, id(lst1))  \n",
    "print(lst2, id(lst2))  \n",
    "\n",
    "lst3 = lst1                 # shallow copy => lst1이 변경되면 lst3이 영향을 받음\n",
    "print(lst1, id(lst1))  \n",
    "print(lst3, id(lst3))  "
   ]
  },
  {
   "cell_type": "code",
   "execution_count": 35,
   "metadata": {},
   "outputs": [
    {
     "name": "stdout",
     "output_type": "stream",
     "text": [
      "현재 리스트 : [30, 20, 10]\n",
      "append(40) 후의 리스트 : [30, 20, 10, 40]\n",
      "pop()으로 추출한 값 : 40\n",
      "pop() 후의 리스트 : [30, 20, 10]\n",
      "sort() 후의 리스트 : [10, 20, 30]\n",
      "reverse() 후의 리스트 : [30, 20, 10]\n"
     ]
    }
   ],
   "source": [
    "# [Quiz 1] : 리스트 초기값 설정 후 메서드를 사용하여 출력하기\n",
    "lst = [30,20,10]\n",
    "print(\"현재 리스트 :\",lst)\n",
    "lst.append(40)\n",
    "print(\"append(40) 후의 리스트 :\",lst)\n",
    "print(\"pop()으로 추출한 값 :\",lst.pop(3))\n",
    "print(\"pop() 후의 리스트 :\",lst)\n",
    "lst.sort()\n",
    "print(\"sort() 후의 리스트 :\",lst)\n",
    "lst.reverse()\n",
    "print(\"reverse() 후의 리스트 :\",lst)"
   ]
  },
  {
   "cell_type": "code",
   "execution_count": 34,
   "metadata": {},
   "outputs": [
    {
     "name": "stdout",
     "output_type": "stream",
     "text": [
      "현재 리스트 : [30, 20, 10]\n",
      "10의 값의 위치 : 2\n",
      "insert(2,200) 후의 리스트 : [30, 20, 200, 10]\n",
      "remove(200) 후의 리스트 : [30, 20, 10]\n",
      "extend([555,666,555]) 후의 리스트 : [30, 20, 10, 555, 666, 555]\n",
      "555 값의 개수 : 2\n"
     ]
    }
   ],
   "source": [
    "# [Quiz2] : 리스트 초기값 [30,20,10] 설정 후 코드 작성\n",
    "lst = [30,20,10]\n",
    "print(\"현재 리스트 :\",lst)\n",
    "print(\"10의 값의 위치 :\",lst.index(10))\n",
    "lst.insert(2, 200)\n",
    "print(\"insert(2,200) 후의 리스트 :\",lst)\n",
    "lst.remove(200)\n",
    "print(\"remove(200) 후의 리스트 :\",lst)\n",
    "lst.extend([555,666,555])\n",
    "print(\"extend([555,666,555]) 후의 리스트 :\",lst)\n",
    "print(\"555 값의 개수 :\",lst.count(555))"
   ]
  },
  {
   "cell_type": "code",
   "execution_count": 38,
   "metadata": {},
   "outputs": [
    {
     "name": "stdout",
     "output_type": "stream",
     "text": [
      "3\n",
      "[[1, 2, 3, 4], [5, 6, 7, 8], [9, 10, 11, 12]]\n",
      "1\t2\t3\t4\t\n",
      "5\t6\t7\t8\t\n",
      "9\t10\t11\t12\t\n"
     ]
    }
   ],
   "source": [
    "# 2차(원) 리스트 : 리스트 안의 멤버 중에 리스트가 존재하는 경우 사용되는 방식\n",
    "# 리스트 안에 있는 리스트 멤버에 대한 참조 방식\n",
    "\n",
    "# 예제1) 2차 리스트 변수 값 참조 - 이중for문으로 멤버리스트의 값을 읽음\n",
    "aa = [  [1,2,3,4],      # aa[0]\n",
    "        [5,6,7,8],      # aa[1]\n",
    "        [9,10,11,12] ]  # aa[2]    \n",
    "print(len(aa))      # aa 리스트의 멤버 개수 : 3\n",
    "print(aa)\n",
    "\n",
    "for x in range(len(aa)) :           # aa리스트의 멤버 수\n",
    "    for y in range(len(aa[x])) :    # aa의 멤버리스트의 멤버개수\n",
    "        print(aa[x][y], end='\\t')\n",
    "    print()"
   ]
  },
  {
   "cell_type": "code",
   "execution_count": 44,
   "metadata": {},
   "outputs": [
    {
     "name": "stdout",
     "output_type": "stream",
     "text": [
      "[]\n",
      "[[1, 2, 3, 4], [5, 6, 7, 8], [9, 10, 11, 12]]\n",
      "1\t2\t3\t4\t\n",
      "5\t6\t7\t8\t\n",
      "9\t10\t11\t12\t\n"
     ]
    }
   ],
   "source": [
    "# 예제2) 2차 리스트 생성 및 출력\n",
    "ls_1 = []; ls_2 = []; value = 1\n",
    "# 2차 리스트 생성\n",
    "for i in range(3) :         # 상위 리스트의 멤버 개수 (행)\n",
    "    for j in range(4) :     # 하위 멤버리스트의 멤버 개수 (열)\n",
    "        ls_1.append(value)\n",
    "        value += 1\n",
    "        # i=1 => ls_1 = [1,2,3,4]\n",
    "        # i=2 => ls_1 = [5,6,7,8]\n",
    "        # i=3 => ls_1 = [9,10,11,12]        \n",
    "    ls_2.append(ls_1)       # for j문에서 만들어진 리스트가 추가됨\n",
    "    ls_1 = []               # ls_1 초기화 -> clear로 비우게 되면 ls_2의 값도 변경됨 ㅠㅠ\n",
    "                            \n",
    "\n",
    "print(ls_1)     # []\n",
    "print(ls_2)     # [[1, 2, 3, 4], [5, 6, 7, 8], [9, 10, 11, 12]]\n",
    "\n",
    "#초기화하지 않으면 마지막 ls_1의 값으로 모든 행이 채워지게 됨\n",
    "# ls_1 = [1, 2, 3, 4, 5, 6, 7, 8, 9, 10, 11, 12]\n",
    "# ls_2 = [[1, 2, 3, 4, 5, 6, 7, 8, 9, 10, 11, 12], [1, 2, 3, 4, 5, 6, 7, 8, 9, 10, 11, 12], [1, 2, 3, 4, 5, 6, 7, 8, 9, 10, 11, 12]]\n",
    "\n",
    "# 출력(읽기)\n",
    "for x in range(len(ls_2)) :\n",
    "    for y in range(len(ls_2[x])) :\n",
    "        print(ls_2[x][y], end='\\t')\n",
    "    print()"
   ]
  },
  {
   "cell_type": "code",
   "execution_count": 47,
   "metadata": {},
   "outputs": [
    {
     "name": "stdout",
     "output_type": "stream",
     "text": [
      "280\n"
     ]
    }
   ],
   "source": [
    "# [문제1] numbers = [10,20,30,40,50,60,70]\n",
    "# 위 리스트의 모든 값을 더한 결과를 출력하세요\n",
    "numbers = [10,20,30,40,50,60,70]\n",
    "sum = 0\n",
    "for x in numbers :\n",
    "    sum += x\n",
    "print(sum)"
   ]
  },
  {
   "cell_type": "code",
   "execution_count": 116,
   "metadata": {},
   "outputs": [
    {
     "name": "stdout",
     "output_type": "stream",
     "text": [
      "[1, 3, 4, 16, 24, 30, 33]\n",
      "[8, 14, 20, 21, 27, 31, 39]\n"
     ]
    }
   ],
   "source": [
    "# [문제2] 1~45까지의 임의의 값을 중복 없이 6개 생성하여 출력\n",
    "from random import randint\n",
    "rnds = []\n",
    "while len(rnds) <= 6 :\n",
    "    num = randint(1, 45)\n",
    "    for x in rnds :\n",
    "        if num == x :\n",
    "            num = randint(1, 45)\n",
    "            continue\n",
    "    rnds.append(num)\n",
    "rnds.sort()\n",
    "print(rnds)\n",
    "\n",
    "# 선생님 답 ㅠㅠㅠㅠㅠ\n",
    "lotto = []\n",
    "while len(lotto) <= 6 :\n",
    "    num = randint(1, 45)\n",
    "    if num not in lotto :    # 리스트가 있는 경우 파이썬의 특성을 꼭 기억해서 반복문/제어문 코드짜기 !!!\n",
    "        lotto.append(num)\n",
    "lotto.sort()\n",
    "print(lotto)\n",
    "        "
   ]
  },
  {
   "cell_type": "code",
   "execution_count": null,
   "metadata": {},
   "outputs": [],
   "source": [
    "# [문제3] lst_sec = [['홍길동','남',36],['김수양','여',32],['박담수','남',28]]\n",
    "# 위의 2차 리스트 자료를 다음과 같은 형식으로 출력\n",
    "# 이름 : 홍길동\n",
    "# 성별 : 남\n",
    "# 나이 : 36\n",
    "lst_sec = [['홍길동','남',36],['김수양','여',32],['박담수','남',28]]\n",
    "for x in range(len(lst_sec)) :\n",
    "    for y in range(len(lst_sec[x])) :\n",
    "        if y == 0 :\n",
    "            print(\"이름 :\",lst_sec[x][y])\n",
    "        elif y == 1 :\n",
    "            print(\"성별 :\",lst_sec[x][y])\n",
    "        elif y == 2 :\n",
    "            print(\"나이 :\",lst_sec[x][y])\n",
    "    print()\n",
    "    \n",
    "# 선생님 답 ㅠㅠㅠㅠ!!!!!!!!!!!\n",
    "for val in lst_sec :\n",
    "    print(f\"이름 : {val[0]}\")\n",
    "    print(f\"성별 : {val[1]}\")\n",
    "    print(f\"나이 : {val[2]}\")\n",
    "    print()\n",
    "    "
   ]
  },
  {
   "cell_type": "code",
   "execution_count": 126,
   "metadata": {},
   "outputs": [
    {
     "name": "stdout",
     "output_type": "stream",
     "text": [
      "2 x 2 = 4  2 x 3 = 6  2 x 4 = 8  2 x 5 = 10 2 x 6 = 12 2 x 7 = 14 2 x 8 = 16 2 x 9 = 18 \n",
      "3 x 2 = 6  3 x 3 = 9  3 x 4 = 12 3 x 5 = 15 3 x 6 = 18 3 x 7 = 21 3 x 8 = 24 3 x 9 = 27 \n",
      "4 x 2 = 8  4 x 3 = 12 4 x 4 = 16 4 x 5 = 20 4 x 6 = 24 4 x 7 = 28 4 x 8 = 32 4 x 9 = 36 \n",
      "5 x 2 = 10 5 x 3 = 15 5 x 4 = 20 5 x 5 = 25 5 x 6 = 30 5 x 7 = 35 5 x 8 = 40 5 x 9 = 45 \n",
      "6 x 2 = 12 6 x 3 = 18 6 x 4 = 24 6 x 5 = 30 6 x 6 = 36 6 x 7 = 42 6 x 8 = 48 6 x 9 = 54 \n",
      "7 x 2 = 14 7 x 3 = 21 7 x 4 = 28 7 x 5 = 35 7 x 6 = 42 7 x 7 = 49 7 x 8 = 56 7 x 9 = 63 \n",
      "8 x 2 = 16 8 x 3 = 24 8 x 4 = 32 8 x 5 = 40 8 x 6 = 48 8 x 7 = 56 8 x 8 = 64 8 x 9 = 72 \n",
      "9 x 2 = 18 9 x 3 = 27 9 x 4 = 36 9 x 5 = 45 9 x 6 = 54 9 x 7 = 63 9 x 8 = 72 9 x 9 = 81 \n",
      "2 x 1 = 2  2 x 2 = 4  2 x 3 = 6  2 x 4 = 8  2 x 5 = 10 2 x 6 = 12 2 x 7 = 14 2 x 8 = 16 2 x 9 = 18 \n",
      "3 x 1 = 3  3 x 2 = 6  3 x 3 = 9  3 x 4 = 12 3 x 5 = 15 3 x 6 = 18 3 x 7 = 21 3 x 8 = 24 3 x 9 = 27 \n",
      "4 x 1 = 4  4 x 2 = 8  4 x 3 = 12 4 x 4 = 16 4 x 5 = 20 4 x 6 = 24 4 x 7 = 28 4 x 8 = 32 4 x 9 = 36 \n",
      "5 x 1 = 5  5 x 2 = 10 5 x 3 = 15 5 x 4 = 20 5 x 5 = 25 5 x 6 = 30 5 x 7 = 35 5 x 8 = 40 5 x 9 = 45 \n",
      "6 x 1 = 6  6 x 2 = 12 6 x 3 = 18 6 x 4 = 24 6 x 5 = 30 6 x 6 = 36 6 x 7 = 42 6 x 8 = 48 6 x 9 = 54 \n",
      "7 x 1 = 7  7 x 2 = 14 7 x 3 = 21 7 x 4 = 28 7 x 5 = 35 7 x 6 = 42 7 x 7 = 49 7 x 8 = 56 7 x 9 = 63 \n",
      "8 x 1 = 8  8 x 2 = 16 8 x 3 = 24 8 x 4 = 32 8 x 5 = 40 8 x 6 = 48 8 x 7 = 56 8 x 8 = 64 8 x 9 = 72 \n",
      "9 x 1 = 9  9 x 2 = 18 9 x 3 = 27 9 x 4 = 36 9 x 5 = 45 9 x 6 = 54 9 x 7 = 63 9 x 8 = 72 9 x 9 = 81 \n"
     ]
    }
   ],
   "source": [
    "# [문제4] 구구단을 출력하는 코드를 작성하되, 2차 리스트에 결과값을 저장하고 출력할 수 있도록 하시오\n",
    "table=[]; times=[]\n",
    "for x in range(2,10) :\n",
    "    for y in range(2,10) :\n",
    "        times.append(x*y)\n",
    "    table.append(times)\n",
    "    times=[]\n",
    "\n",
    "for x in range(2,10) :\n",
    "    for y in range(2,10) :\n",
    "        print(\"{} x {} = {:<3}\".format(x,y,table[x-2][y-2]), end=\"\")\n",
    "    print()\n",
    "    \n",
    "# 선생님 답\n",
    "gugu = []\n",
    "for x in range(2,10) :\n",
    "    gugu.append([])\n",
    "    for y in range(1,10) :\n",
    "        gugu[x-2].append(x*y)\n",
    "\n",
    "for x in range(2,10) :\n",
    "    for y in range(1,10) :\n",
    "        print(\"{} x {} = {:<3}\".format(x,y,gugu[x-2][y-1]), end=\"\")\n",
    "    print()\n",
    "    "
   ]
  },
  {
   "cell_type": "code",
   "execution_count": 130,
   "metadata": {},
   "outputs": [
    {
     "name": "stdout",
     "output_type": "stream",
     "text": [
      "[4, 16, 1, 25, 49]\n",
      "[4, 16, 1, 25, 49]\n",
      "[4, 8, 12, 16, 20]\n"
     ]
    }
   ],
   "source": [
    "# list 내포(List Comprehension) : 리스트 안에서 for와 if를 사용하는 문법\n",
    "\n",
    "x = [2,4,1,5,7]     # 각 멤버를 제곱승으로 처리\n",
    "# 예시) 지금까지 배운대로\n",
    "lst = []\n",
    "for i in x:\n",
    "    i **= 2\n",
    "    lst.append(i)\n",
    "print(lst)\n",
    "\n",
    "# 형식 1 (for) ===============================================================\n",
    "# 변수 = [실행문 for 변수 in 열거형객체]\n",
    "#       * for문의 실행 결과가 변수 리스트에 append 처리됨\n",
    "lst1 = [i**2 for i in x]       # x(=열거형 자료(list))의 멤버들을 **2한 처리 결과로 append\n",
    "print(lst1)\n",
    "\n",
    "# 형식 2 (for + if) ==========================================================\n",
    "# 변수 = [실행문 for 변수 in 열거형객체 if 조건문]\n",
    "# 1~10 -> 2의 배수 추출 -> i * 2 -> list에 저장\n",
    "num = list(range(1,11)) # num = [1,2,3,4,5,6,7,8,9,10]\n",
    "lst2 = [i*2 for i in num if i % 2 == 0]     # 조건에 부합하는 값만 연산하여 리스트에 넣음 - 조건에 부합하지 않으면 새 리스트에 추가되지 않음\n",
    "print(lst2)"
   ]
  },
  {
   "cell_type": "code",
   "execution_count": 132,
   "metadata": {},
   "outputs": [
    {
     "name": "stdout",
     "output_type": "stream",
     "text": [
      "1. 친구 리스트 출력\n",
      "2. 친구 추가\n",
      "3. 친구 삭제\n",
      "4. 이름 변경\n",
      "0. 종료\n",
      "1. 친구 리스트 출력\n",
      "2. 친구 추가\n",
      "3. 친구 삭제\n",
      "4. 이름 변경\n",
      "0. 종료\n",
      "이름 : 주세니 / 성별 : 여 / 나이 : 28\n",
      "1. 친구 리스트 출력\n",
      "2. 친구 추가\n",
      "3. 친구 삭제\n",
      "4. 이름 변경\n",
      "0. 종료\n",
      "이름 : 주세니 / 성별 : 여 / 나이 : 28\n",
      "1. 친구 리스트 출력\n",
      "2. 친구 추가\n",
      "3. 친구 삭제\n",
      "4. 이름 변경\n",
      "0. 종료\n"
     ]
    },
    {
     "ename": "ValueError",
     "evalue": "invalid literal for int() with base 10: ''",
     "output_type": "error",
     "traceback": [
      "\u001b[1;31m---------------------------------------------------------------------------\u001b[0m",
      "\u001b[1;31mValueError\u001b[0m                                Traceback (most recent call last)",
      "\u001b[1;32mc:\\Users\\sein1\\CLASS\\Python\\0323\\07리스트관련함수.ipynb Cell 19'\u001b[0m in \u001b[0;36m<cell line: 14>\u001b[1;34m()\u001b[0m\n\u001b[0;32m     <a href='vscode-notebook-cell:/c%3A/Users/sein1/CLASS/Python/0323/07%EB%A6%AC%EC%8A%A4%ED%8A%B8%EA%B4%80%EB%A0%A8%ED%95%A8%EC%88%98.ipynb#ch0000021?line=14'>15</a>\u001b[0m os\u001b[39m.\u001b[39msystem(\u001b[39m'\u001b[39m\u001b[39mcls\u001b[39m\u001b[39m'\u001b[39m)\n\u001b[0;32m     <a href='vscode-notebook-cell:/c%3A/Users/sein1/CLASS/Python/0323/07%EB%A6%AC%EC%8A%A4%ED%8A%B8%EA%B4%80%EB%A0%A8%ED%95%A8%EC%88%98.ipynb#ch0000021?line=15'>16</a>\u001b[0m \u001b[39mprint\u001b[39m(\u001b[39m\"\u001b[39m\u001b[39m1. 친구 리스트 출력\u001b[39m\u001b[39m\\n\u001b[39;00m\u001b[39m2. 친구 추가\u001b[39m\u001b[39m\\n\u001b[39;00m\u001b[39m3. 친구 삭제\u001b[39m\u001b[39m\\n\u001b[39;00m\u001b[39m4. 이름 변경\u001b[39m\u001b[39m\\n\u001b[39;00m\u001b[39m0. 종료\u001b[39m\u001b[39m\"\u001b[39m)\n\u001b[1;32m---> <a href='vscode-notebook-cell:/c%3A/Users/sein1/CLASS/Python/0323/07%EB%A6%AC%EC%8A%A4%ED%8A%B8%EA%B4%80%EB%A0%A8%ED%95%A8%EC%88%98.ipynb#ch0000021?line=16'>17</a>\u001b[0m menu \u001b[39m=\u001b[39m \u001b[39mint\u001b[39;49m(\u001b[39minput\u001b[39;49m(\u001b[39m\"\u001b[39;49m\u001b[39m메뉴를 선택하세요 : \u001b[39;49m\u001b[39m\"\u001b[39;49m))\n\u001b[0;32m     <a href='vscode-notebook-cell:/c%3A/Users/sein1/CLASS/Python/0323/07%EB%A6%AC%EC%8A%A4%ED%8A%B8%EA%B4%80%EB%A0%A8%ED%95%A8%EC%88%98.ipynb#ch0000021?line=17'>18</a>\u001b[0m \u001b[39mif\u001b[39;00m menu \u001b[39m==\u001b[39m \u001b[39m1\u001b[39m :\n\u001b[0;32m     <a href='vscode-notebook-cell:/c%3A/Users/sein1/CLASS/Python/0323/07%EB%A6%AC%EC%8A%A4%ED%8A%B8%EA%B4%80%EB%A0%A8%ED%95%A8%EC%88%98.ipynb#ch0000021?line=18'>19</a>\u001b[0m     \u001b[39mfor\u001b[39;00m x \u001b[39min\u001b[39;00m friends :\n",
      "\u001b[1;31mValueError\u001b[0m: invalid literal for int() with base 10: ''"
     ]
    }
   ],
   "source": [
    "# [프로그래밍 문제]\n",
    "# 아래와 같은 메뉴를 만들고, 친구 이름을 관리하는 코드 작성 - 리스트를 사용해서 작성\n",
    "'''\n",
    "1. 친구 리스트 출력     # 등록한 친구 목록 보기 기능\n",
    "2. 친구 추가            # 친구 등록하기(정보는 문제3번 참조) 기능\n",
    "3. 친구 삭제            # 등록 친구 삭제 기능\n",
    "4. 이름 변경            # 이름 변경 기능\n",
    "0. 종료                # 프로그램 종료\n",
    "메뉴를 선택하세요 : 2\n",
    "이름을 입력하시오 : 홍길동\n",
    "'''\n",
    "import os\n",
    "friends = []; menu=1\n",
    "while menu != 0 :\n",
    "    os.system('cls')\n",
    "    print(\"=\"*30)\n",
    "    print(\"1. 친구 리스트 출력\\n2. 친구 추가\\n3. 친구 삭제\\n4. 이름 변경\\n0. 종료\")\n",
    "    menu = int(input(\"메뉴를 선택하세요 : \"))\n",
    "    if menu == 1 :\n",
    "        for x in friends :\n",
    "            print(\"이름 :\",x[0],end=' / ')\n",
    "            print(\"성별 :\",x[1],end=' / ')\n",
    "            print(\"나이 :\",x[2])\n",
    "    elif menu == 2 :\n",
    "        name = input(\"친구의 이름을 입력하세요 : \")\n",
    "        gender = input(\"친구의 성별을 입력하세요(남/여) : \")\n",
    "        age = int(input(\"친구의 나이를 입력하세요 : \"))\n",
    "        friends.append([name,gender,age])\n",
    "    elif menu == 3 :\n",
    "        name = input(\"삭제할 친구의 이름을 입력하세요 : \")\n",
    "        for x in friends :\n",
    "            if x[0] == name :\n",
    "                friends.pop(friends.index(x))\n",
    "            else : print(\"해당 이름은 친구목록에 존재하지 않습니다\")\n",
    "    elif menu == 4 :\n",
    "        old = input(\"변경할 친구의 이름을 입력하세요 : \")        \n",
    "        new = input(\"변경할 이름을 입력하세요 : \")\n",
    "        for x in friends :\n",
    "            if x[0] == old : x[0] = new\n",
    "            else : print(\"해당 이름은 친구목록에 존재하지 않습니다\")"
   ]
  }
 ],
 "metadata": {
  "interpreter": {
   "hash": "b89b5cfaba6639976dc87ff2fec6d58faec662063367e2c229c520fe71072417"
  },
  "kernelspec": {
   "display_name": "Python 3.10.3 64-bit",
   "language": "python",
   "name": "python3"
  },
  "language_info": {
   "codemirror_mode": {
    "name": "ipython",
    "version": 3
   },
   "file_extension": ".py",
   "mimetype": "text/x-python",
   "name": "python",
   "nbconvert_exporter": "python",
   "pygments_lexer": "ipython3",
   "version": "3.10.3"
  },
  "orig_nbformat": 4
 },
 "nbformat": 4,
 "nbformat_minor": 2
}
