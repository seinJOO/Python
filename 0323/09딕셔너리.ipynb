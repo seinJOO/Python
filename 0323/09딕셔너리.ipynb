{
 "cells": [
  {
   "cell_type": "code",
   "execution_count": 3,
   "metadata": {},
   "outputs": [
    {
     "name": "stdout",
     "output_type": "stream",
     "text": [
      "{'a': 100, 1: 'test'}\n",
      "100\n",
      "test\n"
     ]
    }
   ],
   "source": [
    "# 딕셔너리(Dictionary)\n",
    "# 1. List와 비슷한 자료형. List는 요소(멤버)에 대한 접근 시 첨자(index)를 사용\n",
    "# 2. 딕셔너리도 첨자를 사용 - \"key\"\n",
    "# 3. 딕셔너리는 key가 가리키는 곳에 값(=value=데이터)이 존재함   * key 사용의 장점 1) 빠른 탐색 2) 사용하기 편리\n",
    "# 4. 딕셔너리를 정의할 때는 \"{}\"를 사용함\n",
    "# 5. 특정 슬롯에 대해서 참조할 때 key-value를 입력하거나, 딕셔너리 안에 있는 요소를 참조할 경우 \"[]\"를 사용\n",
    "# 6. 슬라이싱(slicing)이 불가하다 !! 첨자(key)가 일정한 연속된 값을 가지지 않기 때문\n",
    "\n",
    "# (형식)\n",
    "# 변수명 = {}  => 비어있는 딕셔너리 선언\n",
    "# 변수명 = {key1:value1, key2:value2, key3:value3,...}\n",
    "\n",
    "# dict()를 이용해서 선언하는 경우 *****\n",
    "# 변수명 = dict([(k1,v1),(k2,v2),(k3,v3),...])\n",
    "\n",
    "# (접근방식)\n",
    "# dic = {key:value}\n",
    "# dic[key] = value\n",
    "# print(dic[key])  => 출력결과 : value\n",
    "\n",
    "# 형식 예시\n",
    "print(dict([('a',100),(1,'test')]))\n",
    "dic = {'a':100, 1:'test'}\n",
    "print(dic['a'])     # 100\n",
    "print(dic[1])       # 'test'"
   ]
  },
  {
   "cell_type": "code",
   "execution_count": 6,
   "metadata": {},
   "outputs": [
    {
     "name": "stdout",
     "output_type": "stream",
     "text": [
      "{'a': 1, 'b': 2, 'c': 3}\n",
      "3\n",
      "{'a': 1, 'b': 2, 'c': 10}\n",
      "{'a': 1, 'b': 2, 'c': 10, 'd': 100}\n"
     ]
    }
   ],
   "source": [
    "# 예제 1) 딕셔너리에 대한 정의 및 접근방법\n",
    "dic = {'a':1,'b':2,'c':3}\n",
    "print(dic)\n",
    "print(dic['c'])\n",
    "dic['c'] = dic['b'] * 5     # 'b'의 value값 2 * 5 = 10이 'c'의 value값으로 들어감\n",
    "print(dic)\n",
    "dic['d'] = 100      # 동일한 key값이 없다면 자동으로 추가됨\n",
    "print(dic)"
   ]
  },
  {
   "cell_type": "code",
   "execution_count": 11,
   "metadata": {},
   "outputs": [
    {
     "name": "stdout",
     "output_type": "stream",
     "text": [
      "{'a': 1, 'b': 2, 'c': 10, 'd': 100}\n",
      "a / key값 : a, key를 이용한 참조값 : 1\n",
      "b / key값 : b, key를 이용한 참조값 : 2\n",
      "c / key값 : c, key를 이용한 참조값 : 10\n",
      "d / key값 : d, key를 이용한 참조값 : 100\n",
      "\n"
     ]
    }
   ],
   "source": [
    "# 예제 2) 딕셔너리에 for문을 사용하는 경우\n",
    "print(dic)\n",
    "for k in dic :\n",
    "    print(k, end=' / ')     # key값이 출력됨\n",
    "    print(\"key값 : {}, key를 이용한 참조값 : {}\".format(k,dic[k]))\n",
    "print()"
   ]
  },
  {
   "cell_type": "code",
   "execution_count": 20,
   "metadata": {},
   "outputs": [
    {
     "name": "stdout",
     "output_type": "stream",
     "text": [
      "형식 1\n",
      "음료 : 탄산 과일 우유 물 \n",
      "형식 2\n",
      "음료 : 탄산 과일 우유 물 \n",
      "형식 1\n",
      "식사 : 김밥 라면 돈까스 비빔밥 \n",
      "형식 2\n",
      "식사 : 김밥 라면 돈까스 비빔밥 \n"
     ]
    }
   ],
   "source": [
    "# 예제 3) 딕셔너리와 리스트를 같이 사용하는 경우 (딕셔너리 안의 값(value)을 리스트로 사용)\n",
    "    # => 카테고리화\n",
    "dl = {'음료':['탄산','과일','우유','물'],\n",
    "      '식사':['김밥','라면','돈까스','비빔밥']}\n",
    "\n",
    "for key in dl :\n",
    "    print(\"형식 1\")\n",
    "    print(key, end=' : ')\n",
    "    for i in dl[key] :\n",
    "        print(i, end=' ')\n",
    "    print() \n",
    "       \n",
    "    print(\"형식 2\")\n",
    "    print(key, end=' : ')\n",
    "    for j in range(4) :\n",
    "        print(dl[key][j],end=' ')\n",
    "    print()\n"
   ]
  },
  {
   "cell_type": "code",
   "execution_count": 22,
   "metadata": {},
   "outputs": [
    {
     "name": "stdout",
     "output_type": "stream",
     "text": [
      "홍길동 18 A\n",
      "이방원 24 B\n",
      "홍길동 18 A\n",
      "이방원 24 B\n"
     ]
    }
   ],
   "source": [
    "# 예제 4-1) 리스트 안에 딕셔너리가 있는 경우\n",
    "ld = [{'name':'홍길동','age':18,'bloodType':'A'},\n",
    "      {'name':'이방원','age':24,'bloodType':'B'}]\n",
    "for dic in ld :     # 딕셔너리 하나씩 출력\n",
    "    print(dic['name'],dic['age'],dic['bloodType'])\n",
    "    \n",
    "# 예제 4-2) 딕셔너리 안에 딕셔너리가 있는 경우\n",
    "dd = {'홍길동' : {'age':18,'bloodType':'A'},\n",
    "      '이방원' : {'age':24,'bloodType':'B'}}\n",
    "for name in dd :    # key값 하나씩 출력\n",
    "    print(name, dd[name]['age'],dd[name]['bloodType'])"
   ]
  },
  {
   "cell_type": "code",
   "execution_count": null,
   "metadata": {},
   "outputs": [],
   "source": [
    "# Dictionary에 사용하는 함수들\n",
    "# update(dict) : 사전형 자료에 값을 추가 (key:value) => 인자값을 dict형태로 받아야 함\n",
    "# fromkeys(iter[,value]) : iter에 리스트, 튜플의 값을 딕셔너리의 키로 사용하는 딕셔너리를 생성하여 반환 (값들을 가져와서 key로 사용)\n",
    "# get(key[,value]) : 사전형의 키를 사용하여 값을 얻어오는 함수\n",
    "# keys() : 사전형 자료에서 모든 키를 반환하는 함수\n",
    "# values() : 사전형 자료에서 모든 값을 반환하는 함수\n",
    "# items() : 사전형의 모든 \"키(key):값(value)\"의 쌍으로 튜플(*)로 반환\n",
    "# pop(key) : 사전형 자료의 키를 통해서 값을 반환한 후에 삭제\n",
    "# popitem() : 사전형 자료의 마지막 \"키:값\" 쌍을 튜플(*)로 반환 후 삭제\n",
    "# clear() : 사전형의 모든 \"키:값\"을 삭제하여 빈 사전형 자료로 만듬"
   ]
  },
  {
   "cell_type": "code",
   "execution_count": 23,
   "metadata": {},
   "outputs": [
    {
     "name": "stdout",
     "output_type": "stream",
     "text": [
      "1\n",
      "4\n",
      "{'a': 1, 'b': 2, 'c': 3, 'd': 4}\n"
     ]
    }
   ],
   "source": [
    "# update()\n",
    "dic = {'a':1,'b':2,'c':3}\n",
    "dic.update({'d':4})\n",
    "print(dic['a'])\n",
    "print(dic['d'])\n",
    "print(dic)          # {'a': 1, 'b': 2, 'c': 3, 'd': 4}"
   ]
  },
  {
   "cell_type": "code",
   "execution_count": 24,
   "metadata": {},
   "outputs": [
    {
     "name": "stdout",
     "output_type": "stream",
     "text": [
      "{'a': None, 'b': None, 'c': None, 'd': None}\n",
      "{'a': 1, 'b': 1, 'c': 1, 'd': 1}\n"
     ]
    }
   ],
   "source": [
    "# fromkeys(iter, value)\n",
    "ke = ['a','b','c','d']\n",
    "dic1 = {}.fromkeys(ke)      \n",
    "dic2 = {}.fromkeys(ke,1)    \n",
    "print(dic1)                 # {'a': None, 'b': None, 'c': None, 'd': None}\n",
    "print(dic2)                 # {'a': 1, 'b': 1, 'c': 1, 'd': 1}"
   ]
  },
  {
   "cell_type": "code",
   "execution_count": 27,
   "metadata": {},
   "outputs": [
    {
     "name": "stdout",
     "output_type": "stream",
     "text": [
      "2\n",
      "{'a': 1, 'b': 2, 'c': 3}\n",
      "key가 d인 값 출력 : None\n",
      "key가 d인 값 출력 : Not exist key\n",
      "key가 c인 값 출력 : 3\n"
     ]
    }
   ],
   "source": [
    "# get(key[,value]) **\n",
    "dic = {'a':1,'b':2,'c':3}\n",
    "value = dic.get('b')\n",
    "print(value)\n",
    "print(dic)\n",
    "print(\"key가 d인 값 출력 :\",dic.get('d'))                 # key가 d인 값 출력 : None             \n",
    "                                                         # 찾으려는 값이 존재하지 않으면 기본적으로 'None' 출력\n",
    "print(\"key가 d인 값 출력 :\",dic.get('d','Not exist key')) # key가 d인 값 출력 : Not exist key     \n",
    "                                                         # 값을 찾으면 value값을, 찾지 못하면 문자열 지정하여 출력\n",
    "print(\"key가 c인 값 출력 :\",dic.get('c','Not exist key')) # key가 c인 값 출력 : 3"
   ]
  },
  {
   "cell_type": "code",
   "execution_count": 34,
   "metadata": {},
   "outputs": [
    {
     "name": "stdout",
     "output_type": "stream",
     "text": [
      "a b c \n",
      "<class 'dict_keys'>\n",
      "dict_keys(['a', 'b', 'c'])\n",
      "1 2 3 \n",
      "<class 'dict_values'>\n",
      "dict_values([1, 2, 3])\n"
     ]
    }
   ],
   "source": [
    "# keys() - key값만 추출할 때 사용\n",
    "dic = {'a':1,'b':2,'c':3}\n",
    "for key in dic.keys() :\n",
    "    print(key,end=' ')      # a b c \n",
    "print()\n",
    "print(type(dic.keys()))     # <class 'dict_keys'> => 데이터 형태가 따로 존재함..!!\n",
    "print(dic.keys())           # dict_keys(['a', 'b', 'c'])\n",
    "\n",
    "# values() - value값만 추출할 때 사용\n",
    "dic = {'a':1,'b':2,'c':3}\n",
    "for values in dic.values() :\n",
    "    print(values,end=' ')   # 1 2 3 \n",
    "print()\n",
    "print(type(dic.values()))   # <class 'dict_values'> => 데이터 형태가 따로 존재함..!!\n",
    "print(dic.values())         # dict_values([1, 2, 3])"
   ]
  },
  {
   "cell_type": "code",
   "execution_count": 33,
   "metadata": {},
   "outputs": [
    {
     "name": "stdout",
     "output_type": "stream",
     "text": [
      "a:1\tb:2\tc:3\t\n",
      "2\n",
      "{'a': 1, 'c': 3}\n",
      "{'a': 1, 'b': 2}\n",
      "('c', 3)\n",
      "{'a': 1, 'b': 2, 'c': 3}\n",
      "{}\n"
     ]
    }
   ],
   "source": [
    "# items() - unpacking 할 때 사용 (key값과 value값 모두 사용하고자 할 때)\n",
    "dic = {'a':1,'b':2,'c':3}\n",
    "for key, value in dic.items() :\n",
    "    print(\"{}:{}\".format(key,value),end='\\t')   \n",
    "                    # 출력 : a:1\tb:2    c:3\n",
    "print()\n",
    "# pop(key)\n",
    "dic = {'a':1,'b':2,'c':3}\n",
    "value = dic.pop('b')    \n",
    "print(value)            # 2\n",
    "print(dic)              # {'a': 1, 'c': 3}\n",
    "\n",
    "# popitem()\n",
    "dic = {'a':1,'b':2,'c':3}\n",
    "tu1 = dic.popitem()\n",
    "print(dic)      # {'a': 1, 'b': 2}\n",
    "print(tu1)      # ('c', 3) => 튜플로 저장됨\n",
    "\n",
    "# clear()\n",
    "dic = {'a':1,'b':2,'c':3}\n",
    "print(dic)\n",
    "dic.clear()     # {'a': 1, 'b': 2, 'c': 3}\n",
    "print(dic)      # {}\n"
   ]
  },
  {
   "cell_type": "code",
   "execution_count": 1,
   "metadata": {},
   "outputs": [
    {
     "name": "stdout",
     "output_type": "stream",
     "text": [
      "{'이름': '주세인', '전화번호': '01026102291', '이메일주소': 'senny@zzang.com'}\n"
     ]
    }
   ],
   "source": [
    "# [문제 1]\n",
    "# 이름, 전화번호, 이메일 주소를 키로 사용하는 사전 자료를 생성하시오\n",
    "dic = {'이름' : '주세인' , '전화번호' : '01026102291', '이메일주소' : 'senny@zzang.com'}\n",
    "print(dic)"
   ]
  },
  {
   "cell_type": "code",
   "execution_count": null,
   "metadata": {},
   "outputs": [],
   "source": [
    "# [문제 2]\n",
    "# 리스트형 변수에 1번 문제와 같은 사전 자료가 여러 개 생성될 수 있게 하시오 (입력값을 받아서)\n",
    "pbook = [] ; menu = 1\n",
    "while menu != 0 :\n",
    "    pbook.update('이름',input(\"이름을 입력하세요 : \"))\n",
    "    pbook.update('전화번호',input(\"전화번호를 입력하세요 : \"))\n",
    "    pbook.update('이메일주소',input(\"이메일을 입력하세요 : \"))\n",
    "    menu = int(input(\"계속 추가하시려면 1, 종료하시려면 0을 입력하세요 >> \"))   "
   ]
  },
  {
   "cell_type": "code",
   "execution_count": null,
   "metadata": {},
   "outputs": [],
   "source": [
    "# [문제 3]\n",
    "# 2번에서 입력한 자료가 출력될 수 있도록 하시오\n",
    "for x in pbook :\n",
    "    for key, value in x.items() :\n",
    "        print(\"{} : {}\".format(key, value))"
   ]
  },
  {
   "cell_type": "code",
   "execution_count": null,
   "metadata": {},
   "outputs": [],
   "source": [
    "# [문제1] 변수명 menu로 사전형 자료를 만들어보기\n",
    "menu = {'칼국수':6000,'비빔밥':5500,'돼지국밥':7000,'돈까스':7000,'김밥':2000,'라면':2500}\n",
    "for key, value in menu :\n",
    "    print(key,\"({}원)\".format(value))"
   ]
  },
  {
   "cell_type": "code",
   "execution_count": null,
   "metadata": {},
   "outputs": [],
   "source": [
    "# [문제2] 위에서 만든 사전형 자료에서 가격이 6000원 미만에 해당하는 메뉴와 가격을 출력하는 코드 작성\n",
    "menu = {'칼국수':6000,'비빔밥':5500,'돼지국밥':7000,'돈까스':7000,'김밥':2000,'라면':2500}\n",
    "for key, value in menu.items() :\n",
    "    if value < 6000 :\n",
    "        print(\"{}({}원)\".format(key,value))\n",
    "\n",
    "# 선생님 답\n",
    "for ke in menu :\n",
    "    if menu[ke] < 6000 :\n",
    "        print(f\"{ke}:{menu[ke]}원\")\n"
   ]
  },
  {
   "cell_type": "code",
   "execution_count": null,
   "metadata": {},
   "outputs": [],
   "source": [
    "# [문제3] 사용자 입력으로 메뉴와 가격을 입력받아 menu변수에 자료를 추가하기 (동일한 메뉴는 가격만 변경)\n",
    "# [문제4] 메뉴를 자동으로 선택하여 출력\n",
    "menu = {'칼국수':6000,'비빔밥':5500,'돼지국밥':7000,'돈까스':7000,'김밥':2000,'라면':2500}\n",
    "while True :\n",
    "    newMenu = input('추가할 메뉴를 입력하세요 : ')\n",
    "    newPrice = int(input('가격을 입력하세요(숫자만) : '))\n",
    "    menu.update({newMenu:newPrice})   \n",
    "    if int(input(\"메뉴를 출력하시겠습니까 ?(네 : 1 / 아니오 : 0)\")) == 1 :\n",
    "        print(\"=====메뉴판=====\")\n",
    "        for key, value in menu.items() :\n",
    "            print(key,\"({}원)\".format(value))\n",
    "        print(\"================\") \n",
    "    if (int(input('메뉴를 더 추가하시겠습니까 ?(추가 : 1 / 종료 : 0) :'))) == 0 : break\n",
    "\n",
    "# 선생님 답\n",
    "while True :\n",
    "    newMenu = input('추가할 메뉴를 입력하세요 : ')\n",
    "    newPrice = int(input('가격을 입력하세요(숫자만) : '))\n",
    "    if newMenu in menu :\n",
    "        menu[newMenu] = newPrice\n",
    "        print(\"{}의 가격이 변경되었습니다\".format(newMenu))\n",
    "    else : \n",
    "        menu.update({newMenu:newPrice})\n",
    "        print(\"{} 메뉴가 추가되었습니다\".format(newMenu))\n",
    "    if int(input(\"메뉴를 출력하시겠습니까 ?(네 : 1 / 아니오 : 0)\")) == 1 :\n",
    "        print(\"=====메뉴판=====\")\n",
    "        for key, value in menu.items() :\n",
    "            print(key,\"({}원)\".format(value))\n",
    "        print(\"================\") \n",
    "    if (int(input('메뉴를 더 추가하시겠습니까 ?(추가 : 1 / 종료 : 0) :'))) == 0 : break\n",
    "        "
   ]
  }
 ],
 "metadata": {
  "interpreter": {
   "hash": "b89b5cfaba6639976dc87ff2fec6d58faec662063367e2c229c520fe71072417"
  },
  "kernelspec": {
   "display_name": "Python 3.10.3 64-bit",
   "language": "python",
   "name": "python3"
  },
  "language_info": {
   "codemirror_mode": {
    "name": "ipython",
    "version": 3
   },
   "file_extension": ".py",
   "mimetype": "text/x-python",
   "name": "python",
   "nbconvert_exporter": "python",
   "pygments_lexer": "ipython3",
   "version": "3.10.3"
  },
  "orig_nbformat": 4
 },
 "nbformat": 4,
 "nbformat_minor": 2
}
