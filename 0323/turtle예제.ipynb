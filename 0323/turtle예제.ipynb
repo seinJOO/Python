{
 "cells": [
  {
   "cell_type": "code",
   "execution_count": 1,
   "metadata": {},
   "outputs": [],
   "source": [
    "import turtle\n",
    "turtle.shape(\"turtle\")\n",
    "for i in range(5) :\n",
    "    turtle.forward(100)\n",
    "    turtle.right(72)\n",
    "turtle.exitonclick()"
   ]
  },
  {
   "cell_type": "code",
   "execution_count": 11,
   "metadata": {},
   "outputs": [],
   "source": [
    "# [60] 정사각형 그리기\n",
    "import turtle\n",
    "turtle.shape(\"turtle\")\n",
    "for i in range(4) :\n",
    "    turtle.forward(300)\n",
    "    turtle.right(90)\n",
    "turtle.exitonclick()"
   ]
  },
  {
   "cell_type": "code",
   "execution_count": 17,
   "metadata": {},
   "outputs": [],
   "source": [
    "# [61] 삼각형 그리기\n",
    "import turtle\n",
    "turtle.shape(\"turtle\")\n",
    "for i in range(3) :\n",
    "    turtle.forward(300)\n",
    "    turtle.right(120)\n",
    "turtle.exitonclick()"
   ]
  },
  {
   "cell_type": "code",
   "execution_count": 88,
   "metadata": {},
   "outputs": [],
   "source": [
    "# [63] 삼각형 그리기 - 채우기 왜 안됨 ???\n",
    "import turtle\n",
    "turtle.shape(\"turtle\")\n",
    "for x in range(3) :\n",
    "    if x == 0 : turtle.color(\"red\",\"red\")\n",
    "    if x == 1 : turtle.color(\"green\",\"green\")\n",
    "    if x == 2 : turtle.color(\"blue\",\"blue\")    \n",
    "    turtle.begin_fill()\n",
    "    for i in range(3) :\n",
    "        turtle.forward(100)\n",
    "        turtle.right(120)  \n",
    "    turtle.end_fill()\n",
    "    turtle.penup()\n",
    "    turtle.backward(200)\n",
    "    turtle.pendown()\n",
    "turtle.exitonclick()\n"
   ]
  },
  {
   "cell_type": "code",
   "execution_count": 204,
   "metadata": {},
   "outputs": [],
   "source": [
    "# [64] 다섯개의 꼭짓점이 있는 별 모양 그리기 - 별 전체를 오각형으로 씌워 꼭짓점의 각도 구하기 \n",
    "#                   => 내각은 180 x (n-2)/n (개념 꼭 챙기기)\n",
    "import turtle\n",
    "turtle.shape(\"turtle\")\n",
    "for x in range(5) :\n",
    "    turtle.forward(300)\n",
    "    turtle.right(144)\n",
    "turtle.exitonclick()"
   ]
  },
  {
   "cell_type": "code",
   "execution_count": 202,
   "metadata": {},
   "outputs": [],
   "source": [
    "# [65] 숫자 1의 밑에서부터 그리기 시작하여 다음의 그림처럼 숫자 그리기\n",
    "# 분명 패턴이 있는것 같은데 코드를 줄일 방법이 생각나지 않아요 ....  \n",
    "\n",
    "import turtle\n",
    "turtle.shape(\"turtle\")\n",
    "# 1 그리기\n",
    "turtle.left(90) ; turtle.forward(120)  \n",
    "turtle.penup(); turtle.right(90); turtle.forward(50); turtle.pendown()      # 중복1\n",
    "# 2 그리기    \n",
    "for x in range(5) :     \n",
    "    if x % 2 == 0 : turtle.forward(100)\n",
    "    else : turtle.forward(60)\n",
    "    if x < 2 : turtle.right(90)\n",
    "    else : turtle.left(90)\n",
    "turtle.penup(); turtle.right(90);turtle.forward(50); turtle.pendown()       # 중복1\n",
    "# 3 그리기\n",
    "turtle.forward(100); turtle.left(90); turtle.forward(60)                    # 중복2\n",
    "urtle.left(90); turtle.forward(50); turtle.backward(50); turtle.right(90)\n",
    "turtle.forward(60); turtle.left(90); turtle.forward(100)                    # 중복2\n",
    "\n",
    "turtle.exitonclick()"
   ]
  },
  {
   "cell_type": "code",
   "execution_count": 126,
   "metadata": {},
   "outputs": [],
   "source": [
    "# [66] 각 선 색상을 다르게 하여(여섯 개의 색상 목록에서 무작위로 선택하여) 팔각형을 그려라\n",
    "import turtle\n",
    "import random\n",
    "turtle.shape(\"turtle\")\n",
    "colors = ['red','green','blue','black','yellow','purple']\n",
    "turtle.color(random.choice(colors))\n",
    "for x in range(8) :\n",
    "    turtle.right(45)\n",
    "    turtle.forward(100)\n",
    "turtle.exitonclick()"
   ]
  },
  {
   "cell_type": "code",
   "execution_count": 176,
   "metadata": {},
   "outputs": [],
   "source": [
    "# [67] 다음의 패턴을 만들어라\n",
    "import turtle\n",
    "turtle.shape(\"turtle\")\n",
    "for x in range(10) :\n",
    "    for y in range(8) :\n",
    "        turtle.right(45)\n",
    "        turtle.forward(100)\n",
    "    turtle.left(36)\n",
    "turtle.exitonclick()"
   ]
  },
  {
   "cell_type": "code",
   "execution_count": 198,
   "metadata": {},
   "outputs": [],
   "source": [
    "# [68] 프로그램이 시작할 떄마다 변경되는 패턴을 그려라. \n",
    "# random 함수를 사용하여 선의 개수와 각 선의 길이, 회전 각도를 선택하라\n",
    "import turtle\n",
    "import random\n",
    "lines = [3,4,5,6,7,8,9,10]\n",
    "angles = [120,90,72,60,51.43,45,40,36]\n",
    "\n",
    "pattern = randint(0,7)\n",
    "line = lines[pattern]\n",
    "angle = angles[pattern]\n",
    "\n",
    "pattern = randint(0,5)\n",
    "lengths = [10,30,50,70,90,110]\n",
    "length = lengths[pattern]\n",
    "\n",
    "turtle.shape(\"turtle\")\n",
    "for x in range(8) :\n",
    "    for y in range(line) :\n",
    "        turtle.right(angle)\n",
    "        turtle.forward(length)\n",
    "    turtle.left(45)\n",
    "\n",
    "turtle.exitonclick()"
   ]
  }
 ],
 "metadata": {
  "interpreter": {
   "hash": "b89b5cfaba6639976dc87ff2fec6d58faec662063367e2c229c520fe71072417"
  },
  "kernelspec": {
   "display_name": "Python 3.10.3 64-bit",
   "language": "python",
   "name": "python3"
  },
  "language_info": {
   "codemirror_mode": {
    "name": "ipython",
    "version": 3
   },
   "file_extension": ".py",
   "mimetype": "text/x-python",
   "name": "python",
   "nbconvert_exporter": "python",
   "pygments_lexer": "ipython3",
   "version": "3.10.3"
  },
  "orig_nbformat": 4
 },
 "nbformat": 4,
 "nbformat_minor": 2
}
