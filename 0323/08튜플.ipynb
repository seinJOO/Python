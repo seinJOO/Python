{
 "cells": [
  {
   "cell_type": "code",
   "execution_count": 13,
   "metadata": {},
   "outputs": [
    {
     "name": "stdout",
     "output_type": "stream",
     "text": [
      "(1, 2, 3, 4, 5, 6, 7, 8, 9) <class 'tuple'>\n",
      "1\n",
      "5\n",
      "8\n",
      "(1, 2, 3)\n",
      "(6, 7, 8, 9)\n",
      "('문자열', 100, 123.456) <class 'tuple'>\n",
      "10 <class 'int'>\n",
      "(10,) <class 'tuple'>\n",
      "(10,) <class 'tuple'>\n"
     ]
    }
   ],
   "source": [
    "# 튜플(tuple) : 리스트와 비슷한 자료형으로 튜플 안에 다양한 형태의 값을 사용할 수 있음\n",
    "#       (형식)\n",
    "#       튜플 변수명 = (value1, value2, value3,...)\n",
    "# 리스트와 튜플의 차이점\n",
    "# 1. 리스트는 \"[]\"를 사용하지만, 튜플은 \"()\"을 사용한다\n",
    "# 2. 리스트는 그 값을 생성, 삭제, 수정이 가능하지만\n",
    "#    튜플은 값을 바꿀 수 없다!!!!!!\n",
    "# 3. 튜플은 멤버(요소)의 값이 1개인 경우 반드시 뒤에 \",\"를 붙여야 한다\n",
    "#    ex) tu = (1,) => O / tu = (1) => X\n",
    "# 4. 튜플은 가장 외곽에 있는 \"()\"는 생략이 가능하다\n",
    "#    ex) tu = 10,20,30\n",
    "\n",
    "# 튜플의 인덱싱 : 튜플도 리스트와 같이 인덱싱을 통해 값에 접근\n",
    "# 예시)\n",
    "#    튜플      (1, 2, 3, 4, 5, 6, 7, 8, 9)\n",
    "# 인덱스 값 (+)  0  1  2  3  4  5  6  7  8\n",
    "# 인덱스 값 (-) -9 -8 -7 -6 -5 -4 -3 -2 -1\n",
    "\n",
    "# 튜플의 슬라이싱(slicing) : 튜플의 특정 범위의 값에 접근하기 위한 방법으로, 리스트와 동일하게 사용\n",
    "\n",
    "# 튜플의 정의 및 사용\n",
    "tu = (1,2,3,4,5,6,7,8,9)\n",
    "print(tu, type(tu))     # (1, 2, 3, 4, 5, 6, 7, 8, 9) <class 'tuple'>\n",
    "print(tu[0])            # 1\n",
    "print(tu[4])            # 5\n",
    "print(tu[-2])           # 8\n",
    "print(tu[:3])           # (1, 2, 3)\n",
    "print(tu[5:])           # (6, 7, 8, 9)\n",
    "\n",
    "tu1 = '문자열',100,123.456 # => 가장 외곽의 () 생략 가능\n",
    "print(tu1, type(tu1))       # ('문자열', 100, 123.456) <class 'tuple'>\n",
    "tu2 = (10)\n",
    "print(tu2, type(tu2))       # 10 <class 'int'> => 괄호로 묶었다고 해서 튜플이 아님\n",
    "tu3 = (10,)\n",
    "print(tu3, type(tu3))       # (10,) <class 'tuple'> => 리스트와 튜플 차이점 3번 참고\n",
    "tu4 = 10,\n",
    "print(tu4, type(tu4))       # (10,) <class 'tuple'> => 가장 외곽의 괄호 생략 가능"
   ]
  },
  {
   "cell_type": "code",
   "execution_count": 15,
   "metadata": {},
   "outputs": [
    {
     "name": "stdout",
     "output_type": "stream",
     "text": [
      "(1, 2, 3, 4, 5)\n"
     ]
    }
   ],
   "source": [
    "# 예제 2) 튜플의 특정\n",
    "tu = (1,2,3,4,5)\n",
    "# tu[0] = 100 # => TypeError - 한 번 정의된 튜플은 멤버의 값을 변경할 수 없다 (split은 가능)\n",
    "print(tu)\n"
   ]
  },
  {
   "cell_type": "code",
   "execution_count": 23,
   "metadata": {},
   "outputs": [
    {
     "name": "stdout",
     "output_type": "stream",
     "text": [
      "(1, 2, 3, 4, 5, 6)\n",
      "(10, 20, 30, 40, 50, 60)\n",
      "(30, 40, 50, 60)\n"
     ]
    }
   ],
   "source": [
    "# 예제 3) 튜플의 결합1 - 병합\n",
    "a = 1,2,3\n",
    "b = 4,5,6\n",
    "c = a + b\n",
    "print(c)            # (1, 2, 3, 4, 5, 6)\n",
    "\n",
    "# 예제 4) 튜플의 결합2 - 확장\n",
    "tu1 = 10,20,30\n",
    "tu2 = 40,50,60\n",
    "tu1 = tu1 + tu2    #** tu1 += tu2 와 같음\n",
    "print(tu1)          # (10, 20, 30, 40, 50, 60)\n",
    "\n",
    "# => 결합/확장은 가능하지만 튜플 내부의 값은 변하지 않는다 !!!!\n",
    "\n",
    "# 튜플의 slicing - 리스트처럼 가능\n",
    "tu3 = tu1[2:]\n",
    "print(tu3)"
   ]
  },
  {
   "cell_type": "code",
   "execution_count": 22,
   "metadata": {},
   "outputs": [
    {
     "name": "stdout",
     "output_type": "stream",
     "text": [
      "10 20 30\n",
      "<class 'int'> <class 'int'> <class 'int'>\n",
      "100 200 300\n",
      "<class 'int'> <class 'int'> <class 'int'>\n",
      "a b c\n",
      "<class 'str'> <class 'str'> <class 'str'>\n"
     ]
    }
   ],
   "source": [
    "# packing과 unpacking\n",
    "# packing : 튜플과 같은 자료형으로 묶어서 사용하는 것\n",
    "# unpacking : 묶여진 튜플과 같은 자료형을 나눠서 사용하는 것\n",
    "\n",
    "# 예시) (1,2),(3,4)\n",
    "# packing => pack = ((1,2),(3,4))\n",
    "# unpacking => a,b = pack       # a = (1,2) b = (3,4)\n",
    "\n",
    "a,b,c = 10,20,30    # => 각 변수들 = 튜플 -> unpacking\n",
    "print(a,b,c)                    \n",
    "print(type(a),type(b),type(c))  \n",
    "\n",
    "lst = [100,200,300]  \n",
    "a,b,c = lst         # => 리스트에서도 unpacking이 가능\n",
    "print(a,b,c)                    \n",
    "print(type(a),type(b),type(c))  \n",
    "\n",
    "st = 'abc'\n",
    "a,b,c = st          # => 문자열에서도 unpacking이 가능\n",
    "print(a,b,c)                  \n",
    "print(type(a),type(b),type(c)) "
   ]
  },
  {
   "cell_type": "code",
   "execution_count": 25,
   "metadata": {},
   "outputs": [
    {
     "name": "stdout",
     "output_type": "stream",
     "text": [
      "1\n",
      "0\n",
      "2\n"
     ]
    }
   ],
   "source": [
    "# print(help('tuple'))\n",
    "# 튜플의 함수\n",
    "# index(value) : 튜플에 있는 값에 해당하는 멤버의 인덱스 값을 반환\n",
    "# count(value) : 튜플에 있는 값으 개수를 반환\n",
    "\n",
    "# 예제 4\n",
    "tu = (100,200,'함수',100,'개수')\n",
    "# index 0  1    2     3    4\n",
    "print(tu.index(200))\n",
    "print(tu.index(100))\n",
    "print(tu.count(100))"
   ]
  },
  {
   "cell_type": "code",
   "execution_count": 26,
   "metadata": {},
   "outputs": [
    {
     "name": "stdout",
     "output_type": "stream",
     "text": [
      "30 40\n"
     ]
    }
   ],
   "source": [
    "# [문제1]\n",
    "# numbers = (10,20,30,40,50,60,70)\n",
    "# 위 튜플 자료에서 30과 40을 따로 num1, num2 변수에 할당하시오\n",
    "numbers = (10,20,30,40,50,60,70)\n",
    "num1, num2 = numbers[numbers.index(30)], numbers[numbers.index(40)]\n",
    "print(num1, num2)\n"
   ]
  },
  {
   "cell_type": "code",
   "execution_count": 30,
   "metadata": {},
   "outputs": [
    {
     "name": "stdout",
     "output_type": "stream",
     "text": [
      "칼국수 - 6,000원\n",
      "비빔밥 - 5,500원\n",
      "돼지국밥 - 7,000원\n"
     ]
    }
   ],
   "source": [
    "# [문제2]\n",
    "# menu = (('칼국수',6000),('비빔밥',5500),('돼지국밥',7000))\n",
    "# 위 자료의 값을 다음처럼 출력하시오\n",
    "# 칼국수 - 6,000원\n",
    "# 비빔밥 - 5,500원\n",
    "# 돼지국밥 - 7,000원\n",
    "menu = (('칼국수',6000),('비빔밥',5500),('돼지국밥',7000))\n",
    "for x in menu :\n",
    "    print(\"{} - {:,}원\".format(x[0],x[1]))"
   ]
  },
  {
   "cell_type": "code",
   "execution_count": 35,
   "metadata": {},
   "outputs": [
    {
     "name": "stdout",
     "output_type": "stream",
     "text": [
      "10 20 30 40 50 \n",
      "[10, 20, 30, 40, 50]\n"
     ]
    }
   ],
   "source": [
    "# [튜플 종합 문제]\n",
    "# (문제1)\n",
    "# 1. 여러 개의 값을 패킹시킨 후 저장되어 있는 값을 빼내어 출력하시오 (5개 값 저장)\n",
    "# tuple의 값을 리스트에 저장하시오. 단, len 함수를 이용\n",
    "tu = 10,20,30,40,50\n",
    "lst = []\n",
    "for x in tu :\n",
    "    print(x, end=' ')\n",
    "print()\n",
    "for x in range(len(tu)) :\n",
    "    lst.append(tu[x])\n",
    "print(lst)    "
   ]
  },
  {
   "cell_type": "code",
   "execution_count": 66,
   "metadata": {},
   "outputs": [
    {
     "name": "stdout",
     "output_type": "stream",
     "text": [
      "-------------------------\n",
      "  (Tuple)\t(List)\n",
      "   회사정보   :   삼성전자   \n",
      "   제품명    :  Galaxy  \n",
      "   가격정보   :   100원   \n",
      "   출시일    :    미정    \n",
      "-------------------------\n"
     ]
    }
   ],
   "source": [
    "# (문제2) 아래와 같이 출력시키시오\n",
    "# --------------------------------------\n",
    "#    (Tuple)        (List)\n",
    "#   회사정보    :   삼성전자\n",
    "#   제품명      :   Galaxy\n",
    "#   가격정보    :   100원\n",
    "#   출시일      :   미정\n",
    "tu = '회사정보','제품명','가격정보','출시일'\n",
    "lst = ['삼성전자', 'Galaxy', '100원', '미정']\n",
    "print(\"-\"*25)\n",
    "print(\"  (Tuple)\\t(List)\")\n",
    "for x in range(len(tu)) :\n",
    "    print(\"{:^10}:{:^10}\".format(tu[x],lst[x]))\n",
    "print(\"-\"*25)"
   ]
  },
  {
   "cell_type": "code",
   "execution_count": 55,
   "metadata": {},
   "outputs": [
    {
     "name": "stdout",
     "output_type": "stream",
     "text": [
      "회사정보      :      삼성전자\n",
      "제품명       :    Galaxy\n",
      "가격정보      :      110원\n",
      "출시일       :     이번달 말\n"
     ]
    }
   ],
   "source": [
    "# (문제3) 위에서 출력한 내용을 업데이트하시오 (index, insert, remove 전부 사용)\n",
    "# 가격 : 100 -> 110\n",
    "# 출시일 : 미정 -> 이번달 말\n",
    "tu = '회사정보','제품명','가격정보','출시일'\n",
    "lst = ['삼성전자', 'Galaxy', '100원', '미정']\n",
    "\n",
    "modif = lst.index('100원')\n",
    "lst.remove('100원')\n",
    "lst.insert(modif, '110원')\n",
    "\n",
    "modif = lst.index('미정')\n",
    "lst.remove('미정')\n",
    "lst.insert(modif, '이번달 말')\n",
    "\n",
    "for x in range(len(tu)) :\n",
    "    print(\"{:^10}:{:^10}\".format(tu[x],lst[x]))"
   ]
  }
 ],
 "metadata": {
  "interpreter": {
   "hash": "b89b5cfaba6639976dc87ff2fec6d58faec662063367e2c229c520fe71072417"
  },
  "kernelspec": {
   "display_name": "Python 3.10.3 64-bit",
   "language": "python",
   "name": "python3"
  },
  "language_info": {
   "codemirror_mode": {
    "name": "ipython",
    "version": 3
   },
   "file_extension": ".py",
   "mimetype": "text/x-python",
   "name": "python",
   "nbconvert_exporter": "python",
   "pygments_lexer": "ipython3",
   "version": "3.10.3"
  },
  "orig_nbformat": 4
 },
 "nbformat": 4,
 "nbformat_minor": 2
}
