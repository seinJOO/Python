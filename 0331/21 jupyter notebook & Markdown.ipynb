{
 "cells": [
  {
   "cell_type": "code",
   "execution_count": 1,
   "id": "3c1ef743",
   "metadata": {},
   "outputs": [
    {
     "name": "stdout",
     "output_type": "stream",
     "text": [
      "hello python!\n"
     ]
    }
   ],
   "source": [
    "# 앞으로의 수업은 jupyter notebook 사용 !!\n",
    "print ('hello python!')\n",
    "\n",
    "# 단축키 꼭 활용하기"
   ]
  },
  {
   "cell_type": "markdown",
   "id": "c553ae84",
   "metadata": {},
   "source": [
    "cmd창에서 jupyter notebook --generate-config 시 설정파일 저장소 확인 가능\n",
    "\n",
    "c.NotebookApp.notebook_dir = 'D:\\sein\\Python' 설정하면 실행 시 자동으로 지정한 디렉터리가 열림\n",
    "\n",
    "c.NotebookApp.ip = '*' - 어떤 ip든 접근 가능\n",
    "\n",
    "c.NotebookApp.allow_origin = '*' - 누구든 접근 가능\n",
    "\n",
    "<파이썬 관련 설치된 확장기능 확인하는 법 in cmd>\n",
    "\n",
    "C:\\Users\\tjoeun709>pip freeze > requirement.txt\n",
    "\n",
    "C:\\Users\\tjoeun709>notepad requirement.txt\n",
    "\n",
    "[주피터노트북 사용가이드](https://nbviewer.org/github/ipython/ipython/blob/6.x/examples/IPython%20Kernel/Index.ipynb)"
   ]
  },
  {
   "cell_type": "markdown",
   "id": "638c563e",
   "metadata": {},
   "source": [
    "### Markdown 버전\n",
    "\n",
    "# 글제목 1\n",
    "\n",
    "## 글제목 2\n",
    "\n",
    "### 글제목 3\n",
    "\n",
    "#### 글제목 4\n",
    "\n",
    "##### 글제목 5 - 글제목 4 + 기울임(#)\n",
    "\n",
    "**글자 (bold)"
   ]
  },
  {
   "cell_type": "markdown",
   "id": "1963c326",
   "metadata": {},
   "source": [
    "제목 1\n",
    "=\n",
    "제목 2\n",
    "--"
   ]
  },
  {
   "cell_type": "markdown",
   "id": "6afd0bc8",
   "metadata": {},
   "source": [
    "## =텍스트 강조=\n",
    "\n",
    "*Italic* <br>\n",
    "_Italic_\n",
    "**BOLD** <br>\n",
    "__BOLD__\n",
    "\n",
    "**_BOLD & Italic_**\n",
    "~~cancel~~  \n",
    "<u>underline</u>  \n",
    "  \n",
    "띄어쓰기 두 번 = < br >  \n",
    "엔터 두 번은 한 줄 공백"
   ]
  },
  {
   "cell_type": "markdown",
   "id": "99cc4fe6",
   "metadata": {},
   "source": [
    "## 리스트 - ol, ul\n",
    "1. ol 1번\n",
    "2. ol 2번\n",
    "    - ul 1번\n",
    "    1. ol 1-A\n",
    "        1. ol 1-A-a\n",
    "            1. ol 1-A-a-i\n",
    "            2. ol 1-A-a-ii -> 여기서 탭 더 하면 1번부터 다시 시작\n",
    "\n",
    "- ul 기호\n",
    "    - 대쉬 ul\n",
    "    * 별 ul\n",
    "    + 더하기 ul"
   ]
  },
  {
   "cell_type": "markdown",
   "id": "503d12d8",
   "metadata": {},
   "source": [
    "## 링크\n",
    "[NAVER](https://naver.com \"네이버 링크입니다(주석)\")  \n",
    "[GitHub][1]  \n",
    "다음 홈페이지 : <https://daum.net>\n",
    "\n",
    "[1]: https://github.com\n",
    "\n",
    "문서 안에서 [참조 링크]를 만들어볼까여\n",
    "\n",
    "[참조 링크]: https://google.com"
   ]
  },
  {
   "cell_type": "markdown",
   "id": "5172204f",
   "metadata": {},
   "source": [
    "### 이미지\n",
    "![이름](링크)\n",
    "![이름][참조링크]\n",
    "\n",
    "![hotel](https://search.pstatic.net/common/?src=http%3A%2F%2Fblogfiles.naver.net%2FMjAyMDA5MDRfOTcg%2FMDAxNTk5MjI0MTAxODI3.HoTSg5UJAeDQPtYoHJJqbZtFjMrbUPf4khpkQISi8Qkg.AjxUaa6MItKV-ubXOyUNORkJN-ULE8NcJac1EWzpEg0g.JPEG.mi88young%2F1599224102582.jpg&type=sc960_832)\n",
    "\n",
    "![hotel][그랜드부다페스트]\n",
    "\n",
    "[그랜드부다페스트]: https://search.pstatic.net/common/?src=https%3A%2F%2Fg-grafolio.pstatic.net%2F20160227_76%2F1456561835074y82Tm_JPEG%2Fimage.jpg%3Ftype%3Dw896_4&type=sc960_832\n",
    "\n",
    "링크를 걸어보자면\n",
    "\n",
    "[![hotel](https://search.pstatic.net/common/?src=http%3A%2F%2Fblogfiles.naver.net%2FMjAyMTA3MTVfMyAg%2FMDAxNjI2MzI4MDQ5NDc2.ezsG7X15SiZQ7D702ZK4OHfw-CfRQkhJUpyJ9-tKuZcg.1JoXAeiwJ8ppHDI2SwUFsG9P4rbo925w8gv9wZ3_7cwg.JPEG.printground%2FIMG_1745.JPG&type=sc960_832)](https://ko.wikipedia.org/wiki/%EA%B7%B8%EB%9E%9C%EB%93%9C_%EB%B6%80%EB%8B%A4%ED%8E%98%EC%8A%A4%ED%8A%B8_%ED%98%B8%ED%85%94)\n",
    "\n"
   ]
  },
  {
   "cell_type": "markdown",
   "id": "1e7bed33",
   "metadata": {},
   "source": [
    "### 특정 코드 강조(인라인 코드)\n",
    "\n",
    "`background-img`는 `red`계열로"
   ]
  },
  {
   "cell_type": "markdown",
   "id": "ad102bb7",
   "metadata": {},
   "source": [
    "### 블록코드 강조 - 언어도 함께 기재하면 코드에 맞게 색 바뀜\n",
    "```\n",
    "s = \"Python syntax highlighting\"\n",
    "print s\n",
    "```\n",
    "\n",
    "``` python\n",
    "s = \"Python syntax highlighting\"\n",
    "print s\n",
    "```"
   ]
  },
  {
   "cell_type": "markdown",
   "id": "08446c65",
   "metadata": {},
   "source": [
    "## 표 만들기\n",
    "\n",
    "| 이름 | 성별 | 나이 |\n",
    "|---|:---:|---:|\n",
    "|주세인|여자|28"
   ]
  },
  {
   "cell_type": "markdown",
   "id": "d9dfee2a",
   "metadata": {},
   "source": [
    "## 인용문\n",
    "아래를 참고하세욥\n",
    ">인용문입니다\n",
    ">>중첩인용입니다  \n",
    ">>이것도 중첩"
   ]
  },
  {
   "cell_type": "markdown",
   "id": "3217163e",
   "metadata": {},
   "source": [
    "## 원시HTML\n",
    "마크다운에서 지원하지 않는 기능은 원시태그로 사용 가능\n",
    "\n",
    "<img width=\"150\" src = \"https://search.pstatic.net/common/?src=https%3A%2F%2Fg-grafolio.pstatic.net%2F20160227_76%2F1456561835074y82Tm_JPEG%2Fimage.jpg%3Ftype%3Dw896_4&type=sc960_832\">"
   ]
  },
  {
   "cell_type": "markdown",
   "id": "662254f4",
   "metadata": {},
   "source": [
    "## 수평선\n",
    "각 기호를 3개 이상 입력하면 수평선 적용 <br>\n",
    "\n",
    "---\n",
    "수평선\n",
    "***\n",
    "수평선\n",
    "___\n",
    "수평선"
   ]
  }
 ],
 "metadata": {
  "kernelspec": {
   "display_name": "Python 3 (ipykernel)",
   "language": "python",
   "name": "python3"
  },
  "language_info": {
   "codemirror_mode": {
    "name": "ipython",
    "version": 3
   },
   "file_extension": ".py",
   "mimetype": "text/x-python",
   "name": "python",
   "nbconvert_exporter": "python",
   "pygments_lexer": "ipython3",
   "version": "3.10.3"
  }
 },
 "nbformat": 4,
 "nbformat_minor": 5
}
