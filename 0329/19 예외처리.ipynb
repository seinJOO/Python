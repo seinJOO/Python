{
 "cells": [
  {
   "cell_type": "code",
   "execution_count": null,
   "metadata": {},
   "outputs": [],
   "source": [
    "# 예외 : 프로그램에서 벌어지는 예외적 상황(Error들)\n",
    "\n",
    "# 예)\n",
    "# 파일을 읽고자 할 때, 그 파일이 존재하지 않는 경우(FileNotFound)\n",
    "# 어떤 값을 0으로 나누고자 할 때(ZeroDivision)\n",
    "# 배열의 인덱스 범위를 벗어났을 경우\n",
    "# 사용자의 요구대로 진행이 되지 않았을 경우\n",
    "\n",
    "# (예외처리 형식)\n",
    "# try :     # 예외처리 시작(예외검증)\n",
    "#   예외처리 검증 구문1\n",
    "#   예외처리 검증 구문2\n",
    "# expet (예외처리 코드-에러코드) :\n",
    "#   예외상황에 따른 진행 코드1\n",
    "#   예외상황에 따른 진행 코드2\n",
    "# finally :\n",
    "#   마지막에 실행할 코드1"
   ]
  },
  {
   "cell_type": "code",
   "execution_count": 7,
   "metadata": {},
   "outputs": [
    {
     "name": "stdout",
     "output_type": "stream",
     "text": [
      "나눗셈 결과 :  2.5\n",
      "~~이후 코드 진행~~\n"
     ]
    }
   ],
   "source": [
    "# [예제 1] 검증 내용 - 두 수를 나눌때 발생할 수 있는 오류\n",
    "try :\n",
    "    num1 = int(input('첫 번째 정수 : '))\n",
    "    num2 = int(input('두 번째 정수 : '))\n",
    "    Div = num1/num2\n",
    "    print('나눗셈 결과 : ',Div)\n",
    "except ValueError :\n",
    "    print('값을 정수로 입력하세요!!!')\n",
    "except ZeroDivisionError :\n",
    "    print('값은 0으로 나눌 수 없습니다 !!!')\n",
    "print('~~이후 코드 진행~~')"
   ]
  },
  {
   "cell_type": "code",
   "execution_count": 5,
   "metadata": {},
   "outputs": [
    {
     "name": "stdout",
     "output_type": "stream",
     "text": [
      "입력 값 출력 2 - 예외처리 안된 경우 실행\n"
     ]
    }
   ],
   "source": [
    "# (예외처리 형식 2) try: ~except ~ else\n",
    "# try :         # 예외 검증\n",
    "#   예외검증문장1\n",
    "#   예외검증문장2\n",
    "# except (예외코드) :   # 예외발생 시 동작\n",
    "#   예외발생시 코드1\n",
    "#   예외발생시 코드2\n",
    "# else :    # 예외 발생하지 않은 경우 실행\n",
    "#   예외 발생하지 않은 경우 코드1\n",
    "#   예외 발생하지 않은 경우 코드2\n",
    "\n",
    "try :\n",
    "    num = int(input('숫자 입력 : '))\n",
    "except ValueError :\n",
    "    print('정수만 입력하세요 !!')\n",
    "else :\n",
    "    print('입력 값 출력 {} - 예외처리 안된 경우 실행'.format(num))"
   ]
  },
  {
   "cell_type": "code",
   "execution_count": 10,
   "metadata": {},
   "outputs": [
    {
     "name": "stdout",
     "output_type": "stream",
     "text": [
      "안녕하세요 세니입니당안녕하세욥~~!!!\\n줄바꾸고싶은데 이거 넣으면 될까여?줄바꿈은 안되나보네여 ㅠ추가하겠습니당!\n",
      "\n",
      "문제 없이 잘 실행되었습니다\n"
     ]
    }
   ],
   "source": [
    "# [예제 3] 파일 관련 예외처리(파일이 없는 경우)\n",
    "fileName = input('파일명 : ')\n",
    "try :\n",
    "    file = open(fileName,'r',encoding='utf-8')\n",
    "    buf = file.read()\n",
    "    print(buf)\n",
    "except FileNotFoundError :      # except 자체가 조건을 의미하기 때문에, else(except에 부합하지 않는 상황에 실행)를 사용 가능\n",
    "    print('지정하신 파일이나 디렉터리가 존재하지 않습니다')\n",
    "except Exception as e :\n",
    "    print(e,'에러가 발생했습니다')\n",
    "else :  # finally로 대신 실행 가능 / finally : 항상 실행\n",
    "    file.close()\n",
    "    print('문제 없이 잘 실행되었습니다')\n"
   ]
  },
  {
   "cell_type": "code",
   "execution_count": 22,
   "metadata": {},
   "outputs": [
    {
     "name": "stdout",
     "output_type": "stream",
     "text": [
      "예외 상황 발생 에러가 발생했습니다\n"
     ]
    }
   ],
   "source": [
    "# [문제] 나이를 입력받는 프로그램을 만들 때 잘못된 값을 입력 시 예외처리하는 구문을 만드세요\n",
    "# 입력값 에러 : ValueError => 소수점 이하 문자, 문자를 입력\n",
    "# 입력값이 0보다 작은 경우 강제로 Exception 작업 하기 => raise Exception('예외처리코드')\n",
    "\n",
    "try :\n",
    "    age = int(input('나이를 입력하세요 : '))\n",
    "    if age < 0 : \n",
    "        raise Exception('예외 상황 발생!')\n",
    "except ValueError :\n",
    "    print('양의 정수를 입력하세요 !!')\n",
    "except Exception as e:\n",
    "    print(e,'0보다 작은 나이는 존재하지 않습니다')\n",
    "else :\n",
    "    print(f'당신의 나이는 {age}세 입니다')\n"
   ]
  }
 ],
 "metadata": {
  "interpreter": {
   "hash": "b89b5cfaba6639976dc87ff2fec6d58faec662063367e2c229c520fe71072417"
  },
  "kernelspec": {
   "display_name": "Python 3.10.3 64-bit",
   "language": "python",
   "name": "python3"
  },
  "language_info": {
   "codemirror_mode": {
    "name": "ipython",
    "version": 3
   },
   "file_extension": ".py",
   "mimetype": "text/x-python",
   "name": "python",
   "nbconvert_exporter": "python",
   "pygments_lexer": "ipython3",
   "version": "3.10.3"
  },
  "orig_nbformat": 4
 },
 "nbformat": 4,
 "nbformat_minor": 2
}
