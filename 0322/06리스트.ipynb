{
 "cells": [
  {
   "cell_type": "code",
   "execution_count": null,
   "metadata": {},
   "outputs": [],
   "source": [
    "'''\n",
    "LIST 리스트 자료형\n",
    "    - 데이터 목록을 다루는 자료형\n",
    "    - 리스트를 정의할 때는 \"[]\"를 사용함\n",
    "    - 리스트 안에는 어떤 종류의 자료형이든 상관없이 저장 가능\n",
    "    \n",
    "List 자료형의 기본 사용(정의)\n",
    "\n",
    "<정의>\n",
    "    변수명 = []     # 비어있는 리스트를 선언\n",
    "    변수명 = [value1, value2, value3, value4 ...]   # value 자료 타입은 상관없이 선언 가능\n",
    "\n",
    "<list()를 이용한 리스트 생성>\n",
    "    변수명 = list()         # 비어있는 리스트 선언\n",
    "    변수명 = list(\"Hello)   # ['H','e','l','l','o']\n",
    "    변수명 = list(range(5)) # [0,1,2,3,4]\n",
    "'''"
   ]
  },
  {
   "cell_type": "code",
   "execution_count": 18,
   "metadata": {},
   "outputs": [
    {
     "name": "stdout",
     "output_type": "stream",
     "text": [
      "<class 'list'>\n",
      "1\n",
      "4\n",
      "6\n",
      "[6, 2, 3, 4, 5, 6, 7, 8]\n"
     ]
    }
   ],
   "source": [
    "# 예제1) 리스트 선언 및 값에 대한 처리\n",
    "list1 = [1,2,3,4,5,6,7,8]\n",
    "print(type(list1))\n",
    "# 생성된 리스트에 대한 특정 값 참조 : 인덱스(index)값을 이용    **인덱스 값을 사용하는 건 시퀀스 자료형의 특징 !!!\n",
    "# indexing 사용법 : 변수명[인덱스값]    -> 인덱스값의 시작은 0부터 !!\n",
    "print(list1[0])\n",
    "print(list1[3])\n",
    "# 인덱싱을 이용한 list값 변경\n",
    "list1[0] = list1[5]\n",
    "print(list1[0])\n",
    "print(list1)"
   ]
  },
  {
   "cell_type": "code",
   "execution_count": 19,
   "metadata": {},
   "outputs": [
    {
     "name": "stdout",
     "output_type": "stream",
     "text": [
      "list1의 길이 : 8\n",
      "[6, 2, 3, 4, 5, 6, 7, 8, 9, 10]\n",
      "[6, 2, 3, 4, 5, 6, 7, 8, 9, 10]\n",
      "[6, 2, 3, 4, 5, 6, 7, 8, 9, 10]\n"
     ]
    }
   ],
   "source": [
    "# 리스트 자료의 길이 (요소(멤버)의 개수) : len()\n",
    "print(\"list1의 길이 :\",len(list1))\n",
    "\n",
    "# 리스트의 결합 1 - 병합\n",
    "list2 = [9,10]\n",
    "print(list1+list2)\n",
    "list3 = list1 + list2\n",
    "print(list3)\n",
    "\n",
    "# 리스트의 결합 2 - 확장\n",
    "list1 = list1 + list2\n",
    "print(list1)"
   ]
  },
  {
   "cell_type": "code",
   "execution_count": 20,
   "metadata": {},
   "outputs": [
    {
     "name": "stdout",
     "output_type": "stream",
     "text": [
      "[9, 10, 9, 10, 9, 10]\n"
     ]
    }
   ],
   "source": [
    "# 리스트의 반복\n",
    "print(list2 * 3)"
   ]
  },
  {
   "cell_type": "code",
   "execution_count": null,
   "metadata": {},
   "outputs": [],
   "source": [
    "# max() : 최대값, min() : 최소값            * abs():절대값처리 / pow(base,exp) : base의 exp제곱 구하기\n",
    "# list1 = [6, 2, 3, 4, 5, 6, 7, 8, 9, 10, 9, 10]\n",
    "print(max(list1))\n",
    "print(min(list1))\n",
    "print(sum(list1))"
   ]
  },
  {
   "cell_type": "code",
   "execution_count": 27,
   "metadata": {},
   "outputs": [
    {
     "name": "stdout",
     "output_type": "stream",
     "text": [
      "[10, 20, 30, '합계 =', 60]\n",
      "합계=70\n"
     ]
    }
   ],
   "source": [
    "# 파이썬에서는 list를 변수로 사용한다 - list자료형으로 전달하고자 하는 변수를 모두 묶어서 전달 가능!\n",
    "\n",
    "# 예시) 변수를 선언, 3개의 정수를 입력 받아 합을 출력하기 / 출력결과 >> \"합계\" = xx / \"합계\" 문자도 변수로 저장하기\n",
    "nums = [] ; x=0; sum=0\n",
    "for x in range(3) :\n",
    "    num = int(input(\"정수를 입력해주세요 >>> \"))\n",
    "    nums.append(num)\n",
    "    sum += num\n",
    "nums.append(\"합계 =>\")\n",
    "nums.append(sum)\n",
    "print(nums)\n",
    "\n",
    "# 쌤 답안\n",
    "a = int(input(\"첫 번째 정수를 입력해주세요 >>> \"))\n",
    "b = int(input(\"두 번째 정수를 입력해주세요 >>> \"))\n",
    "c = int(input(\"세 번째 정수를 입력해주세요 >>> \"))\n",
    "d = \"합계\"\n",
    "sum2 = a+b+c\n",
    "print(f\"{d}={sum2}\")"
   ]
  },
  {
   "cell_type": "code",
   "execution_count": 28,
   "metadata": {},
   "outputs": [
    {
     "name": "stdout",
     "output_type": "stream",
     "text": [
      "lst[] :  [1, 2, 3, 4, 5, 6, 7, 8]\n",
      "lst[-1] :  8\n",
      "lst[-2] :  7\n",
      "lst[-3] :  6\n"
     ]
    }
   ],
   "source": [
    "# List 인덱싱 : 인덱스 값을 이용한 참조     \n",
    "# lst = [1,2,3,4,5,6,7,8]\n",
    "# 양의 index :  0  1  2  3  4  5  6  7\n",
    "# 음의 index : -8 -7 -6 -5 -4 -3 -2 -1\n",
    "#   * -1을 bit값으로 표시하면 : 11111111 11111111 11111111 11111111\n",
    "#   * -2를 bit값으로 표시하면 : 11111111 11111111 11111111 11111110\n",
    "# 예시3) list인덱싱\n",
    "lst = [1,2,3,4,5,6,7,8]\n",
    "# (+)  0  1  2  3  4  5  6  7\n",
    "# (-) -8 -7 -6 -5 -4 -3 -2 -1\n",
    "print(\"lst[] : \",lst)\n",
    "print(\"lst[-1] : \",lst[-1])\n",
    "print(\"lst[-2] : \",lst[-2])\n",
    "print(\"lst[-3] : \",lst[-3])"
   ]
  },
  {
   "cell_type": "code",
   "execution_count": 38,
   "metadata": {},
   "outputs": [
    {
     "name": "stdout",
     "output_type": "stream",
     "text": [
      "[1, 2, 3]\n",
      "[1, 3]\n",
      "[1, 2, 3]\n",
      "[6, 5]\n",
      "[6, 3]\n"
     ]
    }
   ],
   "source": [
    "# slicing 방식을 이용한 시퀀스 객체(자료) 접근\n",
    "# slicing이란 ? 리스트와 같은 시퀀스 자료 값들의 범위로 접근하기 위해 사용하는 방법 - 시퀀스 자료의 일부를 잘라서 새롭게 생성하는 것\n",
    "#                                                                           * 슬라이싱을 한다고 해서 시퀀스 자료값이 바뀌지는 않음~!\n",
    "\n",
    "#(형식)\n",
    "#   변수명[시작인덱스:끝인덱스]\n",
    "#   변수명[시작인덱스:끝인덱스:증감값]\n",
    "# 예시) lst = [1, 2, 3, 4, 5, 6]\n",
    "#     index   0  1  2  3  4  5\n",
    "#      (-)   -6 -5 -4 -3 -2 -1\n",
    "lst = [1, 2, 3, 4, 5, 6]\n",
    "print(lst[0:3])\n",
    "print(lst[0:3:2])\n",
    "print(lst[-6:-3])\n",
    "print(lst[-1:-3:-1])    # 역순으로 출력\n",
    "print(lst[5:0:-3])"
   ]
  },
  {
   "cell_type": "code",
   "execution_count": 37,
   "metadata": {},
   "outputs": [
    {
     "name": "stdout",
     "output_type": "stream",
     "text": [
      "[1, 2, 3]\n",
      "[4, 5, 6]\n",
      "[1, 2, 3, 4, 5, 6]\n"
     ]
    }
   ],
   "source": [
    "# 인덱스 생략\n",
    "lst = [1, 2, 3, 4, 5, 6]\n",
    "print(lst[:3])    # 시작값 생략\n",
    "print(lst[3:])    # 끝값 생략\n",
    "print(lst[:])     # 둘 다 생략"
   ]
  },
  {
   "cell_type": "code",
   "execution_count": 39,
   "metadata": {},
   "outputs": [
    {
     "name": "stdout",
     "output_type": "stream",
     "text": [
      "[4, 5, 6]\n",
      "[2, 5]\n",
      "[6, 5, 4, 3, 2, 1]\n",
      "[4, 5]\n"
     ]
    }
   ],
   "source": [
    "# 슬라이싱 후 새로운 리스트 생성\n",
    "slc1 = lst[3:6]\n",
    "print(slc1)\n",
    "slc2 = lst[1:5:3]\n",
    "print(slc2)\n",
    "slc3 = lst[5::-1]\n",
    "print(slc3)\n",
    "slc4 = lst[-3:-1]\n",
    "print(slc4)"
   ]
  },
  {
   "cell_type": "code",
   "execution_count": null,
   "metadata": {},
   "outputs": [],
   "source": [
    "# 리스트 함수들\n",
    "\n",
    "# ============== 값 추가 메서드 ==============\n",
    "# append(value) : 리스트 끝에 값을 추가(멤버 추가)\n",
    "# extend(iter) : 리스트 끝에 list, tuple, dict의 값을 하나씩 추가\n",
    "# insert(idx, value) : 특정 인덱스 위치인 idx에 특정 값을 추가\n",
    "\n",
    "# ============== 값 삭제 메서드 ==============\n",
    "# pop([idx]) : 인덱스를 지정하지 않으면 마지막 인덱스 값을 반환 후 삭제\n",
    "#              인덱스 값을 지정하면 해당 인덱스 값을 반환 후 삭제\n",
    "# remove(value) : 특정 값을 찾아서 삭제하는 함수\n",
    "# clear() : 리스트의 모든 멤버를 삭제하고 빈 리스트로 만드는 함수\n",
    "\n",
    "# ============== 기타 메서드 ==============\n",
    "# count(value) : 리스트 내에 특정 값의 개수를 반환하는 함수\n",
    "# index(value) : 리스트 내에 특정 값의 인덱스 값을 반환하는 함수\n",
    "# reverse() : 리스트의 멤버들을 역순으로 나열하는 함수\n",
    "# sort([reverse=False]) : 리스트의 값을 오름차순(False), 내림차순(True)으로 정렬해주는 함수\n",
    "\n",
    "print(help('list'))"
   ]
  },
  {
   "cell_type": "code",
   "execution_count": 41,
   "metadata": {},
   "outputs": [
    {
     "name": "stdout",
     "output_type": "stream",
     "text": [
      "[1, 2, 3, 4, 5, 6, 7, 8, 'a']\n",
      "[1, 2, 3, 4, 5, 6, 7, 8, 'a', [9, 10]]\n",
      "[9, 10]\n"
     ]
    }
   ],
   "source": [
    "#append() : 리스트의 끝에 값을 추가\n",
    "lst1 = [1,2,3,4,5,6,7,8]\n",
    "lst1.append('a')\n",
    "print(lst1)\n",
    "lst1.append([9,10]) # => append를 사용하게 되면 그 자체를 한 인덱스의 자료값으로 넣게 됨\n",
    "print(lst1)         # [1, 2, 3, 4, 5, 6, 7, 8, 'a', [9, 10]]\n",
    "print(lst1[-1])     # [9, 10]"
   ]
  },
  {
   "cell_type": "code",
   "execution_count": 42,
   "metadata": {},
   "outputs": [
    {
     "name": "stdout",
     "output_type": "stream",
     "text": [
      "[1, 2, 3, 4, 5, 6, 7, 8, 'a', 'b', 'c', 'd', 'e', 'f']\n"
     ]
    }
   ],
   "source": [
    "# extend() : 리스트 끝에 list, tuple, dict 자료를 멤버에 개별적으로 추가\n",
    "lst1 = [1,2,3,4,5,6,7,8]\n",
    "lst1.extend('abcdef') # => append와 달리 한 인덱스에 하나씩 자료값으로 넣게 됨\n",
    "print(lst1)      # [1, 2, 3, 4, 5, 6, 7, 8, 'a', 'b', 'c', 'd', 'e', 'f']"
   ]
  },
  {
   "cell_type": "code",
   "execution_count": 43,
   "metadata": {},
   "outputs": [
    {
     "name": "stdout",
     "output_type": "stream",
     "text": [
      "[1, 2, 3, 'a', 4, 5, 6, 7, 8]\n"
     ]
    }
   ],
   "source": [
    "# insert(idx, value) : idx위치에 값을 추가\n",
    "lst1 = [1,2,3,4,5,6,7,8]\n",
    "# idx : 0 1 2 3 4 5 6 7\n",
    "lst1.insert(3, 'a')\n",
    "print(lst1)     # [1, 2, 3, 'a', 4, 5, 6, 7, 8] => 기존값들은 밀려남"
   ]
  },
  {
   "cell_type": "code",
   "execution_count": 44,
   "metadata": {},
   "outputs": [
    {
     "name": "stdout",
     "output_type": "stream",
     "text": [
      "5\n",
      "[1, 2, 3, 4]\n",
      "3\n",
      "[1, 2, 4]\n"
     ]
    }
   ],
   "source": [
    "# pop() : 맨 뒤에 있는 멤버 반환 후 삭제 / 인덱스값을 넣으면 해당 인덱스 값을 반환 후 삭제\n",
    "lst1 = [1,2,3,4,5]\n",
    "a = lst1.pop()\n",
    "print(a)        # a = 5\n",
    "print(lst1)     # [1, 2, 3, 4]\n",
    "b = lst1.pop(2)\n",
    "print(b)        # b = 3\n",
    "print(lst1)     # [1, 2, 4]"
   ]
  },
  {
   "cell_type": "code",
   "execution_count": 48,
   "metadata": {},
   "outputs": [
    {
     "name": "stdout",
     "output_type": "stream",
     "text": [
      "[1, 3, 2, 5, 6, 2, 8]\n",
      "[1, 3, 5, 6, 2, 8]\n",
      "[1, 3, 5, 6, 8]\n"
     ]
    }
   ],
   "source": [
    "# remove(value) : value에 있는 내용을 검색 후 삭제 - 검색값이 없으면 Error를 반환\n",
    "lst1 = [1,2,3,2,5,6,2,8]\n",
    "lst1.remove(2)  # 첫 번째 2 삭제\n",
    "print(lst1)         # [1, 3, 2, 5, 6, 2, 8]\n",
    "lst1.remove(2)  # 두 번째 2 삭제\n",
    "print(lst1)         # [1, 3, 5, 6, 2, 8]\n",
    "lst1.remove(2)  # 세 번째 2 삭제\n",
    "print(lst1)         # [1, 3, 5, 6, 8]\n",
    "# lst1.remove(2) 재시도 시 => ValueError : list.remove(x) : x not in list // 메서드 오류 발생"
   ]
  },
  {
   "cell_type": "code",
   "execution_count": 49,
   "metadata": {},
   "outputs": [
    {
     "name": "stdout",
     "output_type": "stream",
     "text": [
      "[]\n"
     ]
    }
   ],
   "source": [
    "# clear()\n",
    "lst1 = [1,2,3,4,5]\n",
    "lst1.clear()\n",
    "print(lst1)"
   ]
  }
 ],
 "metadata": {
  "interpreter": {
   "hash": "b89b5cfaba6639976dc87ff2fec6d58faec662063367e2c229c520fe71072417"
  },
  "kernelspec": {
   "display_name": "Python 3.10.3 64-bit",
   "language": "python",
   "name": "python3"
  },
  "language_info": {
   "codemirror_mode": {
    "name": "ipython",
    "version": 3
   },
   "file_extension": ".py",
   "mimetype": "text/x-python",
   "name": "python",
   "nbconvert_exporter": "python",
   "pygments_lexer": "ipython3",
   "version": "3.10.3"
  },
  "orig_nbformat": 4
 },
 "nbformat": 4,
 "nbformat_minor": 2
}
