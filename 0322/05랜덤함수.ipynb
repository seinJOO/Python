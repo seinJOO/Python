{
 "cells": [
  {
   "cell_type": "code",
   "execution_count": null,
   "metadata": {},
   "outputs": [],
   "source": [
    "import os\n",
    "# os 모듈은 파이썬에서 제공하는 기본 라이브러리 모듈\n",
    "# os와 관련된 함수들이 저장된 모듈\n",
    "# system() => os의 시스템 명령어를 사용할 수 있게 함\n",
    "\n",
    "import time # 시간과 관련된 기능을 제공하는 기본 라이브러리 모듈\n",
    "\n",
    "# os.system('cls')     # 모듈.함수 => 직접 참조 연산자\n",
    "\n",
    "# 랜덤 함수 : 임의의 값을 출력하는 함수 (난수 : 생성된 임의의 값)\n",
    "# 랜덤 함수를 사용하기 위해 모듈을 사용 : random\n",
    "\n",
    "# 모듈 사용 방법 : import [모듈명]\n",
    "# 1) import random     # 랜덤 모듈 전체를 로딩\n",
    "# 2) from [모듈] import [모듈에 있는 내용] -> 모듈 내에 일부 정보를 로드\n",
    "#    import random[모듈] import random[함수] -> 랜덤 모듈 내에 random() 함수를 로드\n",
    "\n",
    "# 두 방식은 기능 사용방식에 차이가 존재함\n",
    "# 1) import [모듈] => [모듈명].[사용할 값]\n",
    "#    ex. import random; => random.random()\n",
    "# 2) from [모듈] import [모듈 사용값] => [모듈 사용값]을 그대로 사용\n",
    "#    ex. from random import random; => random()"
   ]
  },
  {
   "cell_type": "code",
   "execution_count": null,
   "metadata": {},
   "outputs": [],
   "source": [
    "from random import random\n",
    "print(random()) # random모듈에 있는 random()은 0.0~1.0미만의 임의의 값을 출력(float)\n",
    "\n",
    "# 0.0~10.0 미만의 임의의 값을 출력(float)\n",
    "print(random()*10)\n",
    "# 0~10 미만의 임의의 값을 출력(int)\n",
    "print(int(random()*10))\n",
    "# 1~10까지의 값을 출력(int)\n",
    "print(int(random()*10)+1)\n",
    "\n",
    "# 예제1) 1~45 까지의 임의의 수 출력\n",
    "print(\"예제 1 =======\")\n",
    "for x in range(6) :\n",
    "    print(int(random()*45)+1,end=\" \")"
   ]
  },
  {
   "cell_type": "code",
   "execution_count": null,
   "metadata": {},
   "outputs": [],
   "source": [
    "from random import random\n",
    "# [문제1] 1~100 까지의 랜덤 값을 6개 출력하는 코드 작성\n",
    "print(\"문제 1 =======\")\n",
    "x=0\n",
    "for x in range(6) :\n",
    "    print(int(random()*100)+1,end=\" \")"
   ]
  },
  {
   "cell_type": "code",
   "execution_count": null,
   "metadata": {},
   "outputs": [],
   "source": [
    "from random import random\n",
    "# [문제2] 1~100 까지의 랜덤 값을 반복하여 출력하되, 출력 값이 50이 출력되는 순간 반복 종료\n",
    "while True :\n",
    "    num = int(random()*100)+1\n",
    "    print(num,end=' ')\n",
    "    if num == 50 : break"
   ]
  },
  {
   "cell_type": "code",
   "execution_count": 2,
   "metadata": {},
   "outputs": [
    {
     "name": "stdout",
     "output_type": "stream",
     "text": [
      "[1, 14, 2]\n"
     ]
    }
   ],
   "source": [
    "from random import random\n",
    "# [문제3] 1~15까지 랜덤 값을 중복 없이 3개 생성하여 출력하는 코드\n",
    "x=0 ; num = int(random()*15)+1; rnd=[]\n",
    "while len(rnd) < 3 :\n",
    "    while num in rnd :     \n",
    "        num = int(random()*15)+1\n",
    "    rnd.append(num)\n",
    "print(rnd)"
   ]
  },
  {
   "cell_type": "code",
   "execution_count": null,
   "metadata": {},
   "outputs": [],
   "source": [
    "# random 모듈 내에 있는 다른 형태의 random 함수들\n",
    "# - randint() : 임의의 값을 출력하는 int값 랜덤 함수\n",
    "# 사용방법\n",
    "#   randint(a,b) => a : 시작값, b : 마지막값 -> 시작값부터 마지막값까지의 랜덤\n",
    "\n",
    "# 예시 - 1~6까지의 임의의 값 출력\n",
    "from random import randint\n",
    "print(randint(1,6))"
   ]
  },
  {
   "cell_type": "code",
   "execution_count": null,
   "metadata": {},
   "outputs": [],
   "source": [
    "# - randrange() : 범위 내에 있는 임의의 값을 출력\n",
    "# 예시1) randrange(5,10) => 5~10 미만의 값을 출력(5,6,7,8,9)\n",
    "# 예시2) randrange(5,10,2) => 5~10 미만까지 범위 중 2씩 증가 값을 출력(5,7,9)\n",
    "\n",
    "# 예시3)\n",
    "from random import randrange\n",
    "print(randrange(10))\n",
    "print(randrange(5,10))\n",
    "print(randrange(5,10,2))"
   ]
  },
  {
   "cell_type": "code",
   "execution_count": 1,
   "metadata": {},
   "outputs": [
    {
     "name": "stdout",
     "output_type": "stream",
     "text": [
      "dice에서 출력된 값 :  6\n",
      "st에서 출력된 값 :  r\n"
     ]
    }
   ],
   "source": [
    "# random 모듈 내에 choice()함수\n",
    "#   : 리스트와 같은 형태의 자료 중 일부를 랜덤하게 추출하는 함수\n",
    "# 예시)\n",
    "# dice = [1,2,3,4,5,6]  -> 리스트형\n",
    "# choice(dice)  -> dice 리스트 내에 있는 멤버 중 하나를 추출하여 출력\n",
    "\n",
    "# 예시4-1)\n",
    "import random\n",
    "dice = [1,2,3,4,5,6]\n",
    "st = 'Hello World!'\n",
    "x = random.choice(dice)\n",
    "y = random.choice(st)\n",
    "print(\"dice에서 출력된 값 : \",x)\n",
    "print(\"st에서 출력된 값 : \",y)\n"
   ]
  },
  {
   "cell_type": "code",
   "execution_count": 12,
   "metadata": {},
   "outputs": [
    {
     "name": "stdout",
     "output_type": "stream",
     "text": [
      "dice에서 출력된 값 :  4\n",
      "st에서 출력된 값 :  o\n"
     ]
    }
   ],
   "source": [
    "# 예시4-2)\n",
    "from random import choice\n",
    "dice = [1,2,3,4,5,6]\n",
    "st = 'Hello World!'\n",
    "x = choice(dice)\n",
    "y = choice(st)\n",
    "print(\"dice에서 출력된 값 : \",x)\n",
    "print(\"st에서 출력된 값 : \",y)"
   ]
  },
  {
   "cell_type": "code",
   "execution_count": 32,
   "metadata": {},
   "outputs": [
    {
     "name": "stdout",
     "output_type": "stream",
     "text": [
      "62 = True\n"
     ]
    }
   ],
   "source": [
    "# [문제4] 1~99까지 랜덤 값 중에 짝수는 True, 홀수는 False를 출력하는 프로그램 코딩\n",
    "from random import randrange\n",
    "rand = randrange(1,100)\n",
    "if rand % 2 == 0 : print(rand,\"= True\")\n",
    "else : print(rand,\"= False\")"
   ]
  },
  {
   "cell_type": "code",
   "execution_count": 35,
   "metadata": {},
   "outputs": [
    {
     "name": "stdout",
     "output_type": "stream",
     "text": [
      "A\n",
      "A\n"
     ]
    }
   ],
   "source": [
    "'''\n",
    "ASCII코드 : 미국 표준 문자 코드, 통신 상 기본 문자 코드로 사용 중\n",
    "            7bit(0~127)로 하나의 문자를 표현할 수 있음\n",
    "특징 1) 프린트 가능한 문자 95개, 프린트 불가능한 문자 33개 \n",
    "                => 프린트 가능한 문자의 시작 0x20(32) -> \"공백\"부터 시작, 0x7e(126)까지\n",
    "    2) 숫자는 0x30(48)='0' 에서부터 0x39(57)='9'까지의 값을 가진 10개 코드\n",
    "    3) 영문 대문자는 0x41(65) = 'A' => 0x5a(90)='Z'까지\n",
    "    4) 영문 소문자는 0x61(97) = 'a' => 0x7a(122) = 'z'까지\n",
    "    5) ASCII코드는 문자이지만 숫자(정수)로 표현이 가능함\n",
    "    \n",
    "숫자를 문자(ASCII)로 변경하는 함수 chr() : ()안에 코드값을 전달하면 그 값을 문자로 출력 '''\n",
    "print(chr(65))\n",
    "print(chr(0x41))"
   ]
  },
  {
   "cell_type": "code",
   "execution_count": 1,
   "metadata": {},
   "outputs": [
    {
     "name": "stdout",
     "output_type": "stream",
     "text": [
      "\u0000 X G F "
     ]
    }
   ],
   "source": [
    "# [문제5] 'A'~'Z'까지의 임의의 문자 3자리를 출력하는 코드 작성\n",
    "from random import randrange, random, randint, choice\n",
    "x=0; num=0; nums=[]\n",
    "while len(nums) <= 3 :\n",
    "    while num in nums :\n",
    "        num = randrange(65,91)\n",
    "    nums.append(num)\n",
    "    print(chr(num),end=' ')"
   ]
  }
 ],
 "metadata": {
  "interpreter": {
   "hash": "b89b5cfaba6639976dc87ff2fec6d58faec662063367e2c229c520fe71072417"
  },
  "kernelspec": {
   "display_name": "Python 3.10.3 64-bit",
   "language": "python",
   "name": "python3"
  },
  "language_info": {
   "codemirror_mode": {
    "name": "ipython",
    "version": 3
   },
   "file_extension": ".py",
   "mimetype": "text/x-python",
   "name": "python",
   "nbconvert_exporter": "python",
   "pygments_lexer": "ipython3",
   "version": "3.10.3"
  },
  "orig_nbformat": 4
 },
 "nbformat": 4,
 "nbformat_minor": 2
}
