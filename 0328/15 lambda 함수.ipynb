{
 "cells": [
  {
   "cell_type": "code",
   "execution_count": 2,
   "metadata": {},
   "outputs": [
    {
     "name": "stdout",
     "output_type": "stream",
     "text": [
      "64\n",
      "7\n"
     ]
    }
   ],
   "source": [
    "# lambda 함수\n",
    "# 익명 함수로, 일시적으로 사용하는 함수를 의미\n",
    "# 함수가 생성된 곳에서 필요한 경우 사용한 후 버리는 함수\n",
    "\n",
    "# (형식)\n",
    "# lambda 인자리스트 : 표현식\n",
    "\n",
    "# 예시\n",
    "\n",
    "lam = lambda x : x**2\n",
    "print(lam(8))\n",
    "\n",
    "lam2 = lambda x,y : x + y\n",
    "print(lam2(2,5))"
   ]
  },
  {
   "cell_type": "code",
   "execution_count": 8,
   "metadata": {},
   "outputs": [
    {
     "name": "stdout",
     "output_type": "stream",
     "text": [
      "swap 전 : 100 200\n",
      "swap 후 : 200 100\n",
      "swap 전 : 100 200\n",
      "swap 후 : 200 100\n"
     ]
    }
   ],
   "source": [
    "# 예제 1) 다음과 같은 함수를 lambda로 표현\n",
    "\n",
    "# 함수\n",
    "def swap(a,b) :\n",
    "    return b,a\n",
    "a = 100 ; b = 200\n",
    "print('swap 전 :',a,b)\n",
    "a,b = swap(a, b)\n",
    "print('swap 후 :',a,b)\n",
    "\n",
    "lam3 = lambda x,y : (y,x)\n",
    "a = 100 ; b = 200\n",
    "print('swap 전 :',a,b)\n",
    "a,b = lam3(a,b)\n",
    "print('swap 후 :',a,b)"
   ]
  },
  {
   "cell_type": "code",
   "execution_count": 11,
   "metadata": {},
   "outputs": [
    {
     "name": "stdout",
     "output_type": "stream",
     "text": [
      "100\n",
      "30\n",
      "인자가 없는 lambda\n"
     ]
    }
   ],
   "source": [
    "# 예제 2)\n",
    "lam = lambda a: a*10\n",
    "lam2 = lambda a,b : a+b\n",
    "noData = lambda : print('인자가 없는 lambda')\n",
    "\n",
    "# 결과 확인\n",
    "print(lam(10))\n",
    "print(lam2(10,20))\n",
    "noData()\n",
    "# noData => 출력 : <function __main__.<lambda>()>"
   ]
  },
  {
   "cell_type": "code",
   "execution_count": 40,
   "metadata": {},
   "outputs": [
    {
     "name": "stdout",
     "output_type": "stream",
     "text": [
      "['bob', 'teddy', 'charles', 'alexander3']\n",
      "['bob', 'teddy', 'charles', 'alexander3']\n"
     ]
    }
   ],
   "source": [
    "# 예제 3)\n",
    "def str_len(s) :\n",
    "    return len(s)\n",
    "\n",
    "string = ['bob','charles','alexander3','teddy']\n",
    "\n",
    "# 알파벳 순서대로 정렬 => string.sort(key=str_len) -> 문자열의 길이를 기준으로\n",
    "string.sort(key=str_len)    # key에는 정렬하고자하는 순서를 가리키는 function str_len이 입력됨\n",
    "print(string)\n",
    "# => str_len은 한 번만 쓰고 더 이상 사용되지 않기 때문에 lambda로 활용하는 게 더 메모리효율적임\n",
    "\n",
    "string = ['bob','charles','alexander3','teddy']\n",
    "string.sort(key=lambda s : len(s))\n",
    "print(string)"
   ]
  },
  {
   "cell_type": "code",
   "execution_count": 45,
   "metadata": {},
   "outputs": [
    {
     "name": "stdout",
     "output_type": "stream",
     "text": [
      "False\n",
      "[2, 4, 6, 8, 10]\n"
     ]
    }
   ],
   "source": [
    "# lambda가 유용하게 사용되는 3가지 대표적 함수\n",
    "# filter : 특정 조건을 만족하는 요소만 남기고 필터링\n",
    "# map : 각 원소를 주어진 수식에 따라 변경하여 새로운 리스트 반환\n",
    "# reduce : 차례대로 앞 2개의 원소를 가지고 연산. 연산 결과가 그 다음 연산의 입력으로 진행됨\n",
    "#           => 마지막까지 진행되며, 최종 출력은 한 개의 값만 남김\n"
   ]
  },
  {
   "cell_type": "code",
   "execution_count": 46,
   "metadata": {},
   "outputs": [
    {
     "name": "stdout",
     "output_type": "stream",
     "text": [
      "False\n",
      "[2, 4, 6, 8, 10]\n",
      "[2, 4, 6, 8, 10]\n"
     ]
    }
   ],
   "source": [
    "# filter(함수, 리스트) : 특정 조건을 만족하는 요소만 남기고 필터링\n",
    "# filter(function, iterable) -> 특정 조건의 요소만 남기고 필터링\n",
    "#                               리스트에 있는 내용을 함수에 대입하여 결과값을 처리(True or False)\n",
    "\n",
    "# filter함수를 사용하여 리스트의 짝수만 반환하는 함수 만들기\n",
    "\n",
    "# (1) 함수를 사용\n",
    "def even(n) :           # 값이 짝수인지 홀수인지 판단하는 함수\n",
    "    return n%2 == 0     # n%2 = 0일 때 반환\n",
    "print(even(3))      # 홀수니까 False 반환\n",
    "\n",
    "nums = list(range(1,11))    # 1부터 10까지의 수 세팅\n",
    "filter_list = list(filter(even, nums))\n",
    "print('함수 사용 :',filter_list)\n",
    "# -> 하지만 even함수는 한 번만 사용됨 !! => 이럴 때 lambda로 임시함수를 만들어 사용하기\n",
    "\n",
    "# (2) lambda를 사용\n",
    "nums = list(range(1,11))\n",
    "filter2_list = list(filter(lambda n : n%2 == 0, nums))\n",
    "print('lambda 사용 :',filter2_list)"
   ]
  },
  {
   "cell_type": "code",
   "execution_count": 51,
   "metadata": {},
   "outputs": [
    {
     "name": "stdout",
     "output_type": "stream",
     "text": [
      "[1, 4, 9, 16, 25, 36, 49, 64, 81]\n"
     ]
    }
   ],
   "source": [
    "# map(function, iterable) : 특정 조건에 맞는 새로운 리스트 반환\n",
    "#                         : 각 멤버를 func으로 동작시킨 후에 새롭게 리스트 생성 => list(map(func, iter1))\n",
    "# 주어진 리스트의 각 값을 제곱한 새로운 리스트 만들기\n",
    "nums = list(range(1,10))\n",
    "print(list(map(lambda n : n**2,nums)))\n"
   ]
  },
  {
   "cell_type": "code",
   "execution_count": 53,
   "metadata": {},
   "outputs": [
    {
     "name": "stdout",
     "output_type": "stream",
     "text": [
      "19\n",
      "240\n"
     ]
    }
   ],
   "source": [
    "# reduce : 차례대로 앞 2개의 원소를 가지고 연산. 연산 결과가 그 다음 연산의 입력으로 진행됨\n",
    "# reduce 함수는 functools 모듈 내에 존재함 (내장함수는 아님)\n",
    "import functools\n",
    "a = [1,2,3,5,8]\n",
    "# 리스트 내의 모든 숫자의 합 구하기\n",
    "print(functools.reduce(lambda x,y : x+y, a))\n",
    "print(functools.reduce(lambda x,y : x*y, a))\n",
    "# reduce (앞 2개의 원소 연산처리하는 lambda 함수, 값들이있는변수)"
   ]
  },
  {
   "cell_type": "code",
   "execution_count": null,
   "metadata": {},
   "outputs": [],
   "source": [
    "# [람다 문제] 람다 함수를 사용하여 두 수의 사칙연산하는 프로그램을 작성\n",
    "\n",
    "lam1 = lambda x,y:x+y\n",
    "lam2 = lambda x,y:x-y\n",
    "lam3 = lambda x,y:x*y\n",
    "lam4 = lambda x,y:x/y\n",
    "import os\n",
    "def play() :\n",
    "    os.system('cls')\n",
    "    print('사칙연산 시작!')\n",
    "    x = int(input('연산할 첫 번째 수를 입력하세요 : '))\n",
    "    giho = input('연산 기호를 입력하세요 : ')\n",
    "    y = int(input('연산할 첫 번째 수를 입력하세요 : '))\n",
    "    print('연산 결과 : ',end='')\n",
    "    \n",
    "    if giho == '+' : print(lam1(x,y))\n",
    "    elif giho == '-' : print(lam2(x,y))\n",
    "    elif giho == '*' : print(lam3(x,y))\n",
    "    elif giho == '/' : print(lam4(x,y))\n",
    "while True :    \n",
    "    play()\n",
    "    if input('계속하시겠습니까?(y/n) : ') == 'n' : break\n",
    "    "
   ]
  }
 ],
 "metadata": {
  "interpreter": {
   "hash": "b89b5cfaba6639976dc87ff2fec6d58faec662063367e2c229c520fe71072417"
  },
  "kernelspec": {
   "display_name": "Python 3.10.3 64-bit",
   "language": "python",
   "name": "python3"
  },
  "language_info": {
   "codemirror_mode": {
    "name": "ipython",
    "version": 3
   },
   "file_extension": ".py",
   "mimetype": "text/x-python",
   "name": "python",
   "nbconvert_exporter": "python",
   "pygments_lexer": "ipython3",
   "version": "3.10.3"
  },
  "orig_nbformat": 4
 },
 "nbformat": 4,
 "nbformat_minor": 2
}
