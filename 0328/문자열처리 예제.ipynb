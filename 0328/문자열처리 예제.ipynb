{
 "cells": [
  {
   "cell_type": "code",
   "execution_count": 2,
   "metadata": {},
   "outputs": [
    {
     "name": "stdout",
     "output_type": "stream",
     "text": [
      "이름의 길이 : 4\n",
      "성의 길이 : 3\n",
      "당신의 fullname은 : sein joo\n",
      "fullname의 길이는 : 8\n"
     ]
    }
   ],
   "source": [
    "# [문제 80]\n",
    "fname = input('이름을 입력해주세요 : ')\n",
    "print('이름의 길이 :',len(fname))\n",
    "lname = input('성을 입력해주세요 : ')\n",
    "print('성의 길이 :',len(lname))\n",
    "name = fname+' '+lname\n",
    "print('당신의 fullname은 :',name)\n",
    "print('fullname의 길이는 :',len(name))"
   ]
  },
  {
   "cell_type": "code",
   "execution_count": 3,
   "metadata": {},
   "outputs": [
    {
     "name": "stdout",
     "output_type": "stream",
     "text": [
      "컴-퓨-터-공-학-"
     ]
    }
   ],
   "source": [
    "# [문제 81] 각 문자 뒤에 '-'를 붙여 출력하기\n",
    "subject = input('가장 좋아하는 과목을 입력하세요 : ')\n",
    "print('-'.join(subject),end='-')"
   ]
  },
  {
   "cell_type": "code",
   "execution_count": null,
   "metadata": {},
   "outputs": [],
   "source": [
    "# [문제 82]\n",
    "# 시 한 구절을 사용자에게 표시하고 시작 인덱스와 마지막 인덱스를 입력받아,\n",
    "# 입력한 두 값 사이의 문자 출력\n",
    "string = '이토록 가시가 많으니 곧 장미꽃이 피겠구나'\n",
    "print(string)\n",
    "x = int(input('시작 위치를 입력해주세요(1~23) : ')) - 1\n",
    "y = int(input('마지막 위치를 입력해주세요(~23) : '))\n",
    "print(string[x:y])"
   ]
  },
  {
   "cell_type": "code",
   "execution_count": null,
   "metadata": {},
   "outputs": [],
   "source": [
    "# [문제 83]\n",
    "# 사용자에게 대문자로 메시지를 입력하라고 요청 후,\n",
    "# 소문자가 있다면 모두 대문자로 입력할 때까지 계속해서 다시 입력하라고 요청\n",
    "while True :\n",
    "    up = input('대문자로 메세지를 입력하세요 : ')\n",
    "    if up == up.upper() : \n",
    "        print('입력한 문자 :',up)\n",
    "        break\n",
    "    else : print('모든 문자는 대문자로 입력해야 합니다')"
   ]
  },
  {
   "cell_type": "code",
   "execution_count": null,
   "metadata": {},
   "outputs": [],
   "source": [
    "# [문제 84]\n",
    "# 사용자에게 영어 단어를 입력하라고 요청 후, 처음 두 개의 문자만 대문자로 출력\n",
    "word = input('영어 단어를 입력하세요 : ')\n",
    "print('입력하신 단어는 :', word.replace(word[0:2], word[0:2].upper()))"
   ]
  },
  {
   "cell_type": "code",
   "execution_count": null,
   "metadata": {},
   "outputs": [],
   "source": [
    "# [문제 85]\n",
    "# 사용자의 이름을 입력하라고 요청한 뒤 이름에 모음이 몇 개인지 출력\n",
    "name = input('영어이름을 입력하세요 : ')\n",
    "vowel = ['a','e','i','o','u']\n",
    "cnt = 0\n",
    "for x in vowel :\n",
    "    if x in name :\n",
    "        cnt += name.count(x)\n",
    "print('모음의 개수는 ',cnt)"
   ]
  },
  {
   "cell_type": "code",
   "execution_count": null,
   "metadata": {},
   "outputs": [],
   "source": [
    "# [문제 86]\n",
    "# 사용자에게 새로운 비밀번호를 입력 요청하고, 한번 더 입력 요청\n",
    "# 입력한 두 개의 비밀번호가 일치하면 \"Thank you\" 출력\n",
    "# 입력한 문자는 일치하는데 대소문자가 틀리면 \"They must be in the same case\" 출력\n",
    "# 문자가 일치하지 않으면 \"Incorrect\"\n",
    "\n",
    "pw = input('새로운 비밀번호를 입력하세요 : ')\n",
    "pwchk = input('새로운 비밀번호를 다시 입력하세요 : ')\n",
    "if pw != pwchk :\n",
    "    if pw.lower() != pwchk.lower() : print(\"Incorrect\")\n",
    "    elif pw.lower() == pwchk.lower() : print('They must be in the same case')\n",
    "else : print('Thank you')\n"
   ]
  },
  {
   "cell_type": "code",
   "execution_count": null,
   "metadata": {},
   "outputs": [],
   "source": [
    "# [문제 87]\n",
    "# 단어를 입력하라고 요청한 뒤, 그 단어의 문자를 한 줄에 하나씩 거꾸로 출력하기\n",
    "word = input('Enter a word : ')\n",
    "for x in range(len(word)-1,-1,-1) :\n",
    "    print(word[x])\n",
    "print('>>>')"
   ]
  }
 ],
 "metadata": {
  "interpreter": {
   "hash": "b89b5cfaba6639976dc87ff2fec6d58faec662063367e2c229c520fe71072417"
  },
  "kernelspec": {
   "display_name": "Python 3.10.3 64-bit",
   "language": "python",
   "name": "python3"
  },
  "language_info": {
   "codemirror_mode": {
    "name": "ipython",
    "version": 3
   },
   "file_extension": ".py",
   "mimetype": "text/x-python",
   "name": "python",
   "nbconvert_exporter": "python",
   "pygments_lexer": "ipython3",
   "version": "3.10.3"
  },
  "orig_nbformat": 4
 },
 "nbformat": 4,
 "nbformat_minor": 2
}
