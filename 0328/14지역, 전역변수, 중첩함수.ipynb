{
 "cells": [
  {
   "cell_type": "code",
   "execution_count": null,
   "metadata": {},
   "outputs": [],
   "source": [
    "# 변수의 범위\n",
    "\n",
    "# 지역변수 - 특정 지역에서만 사용되는 지역변수 (블럭 내 사용)\n",
    "# 전역변수 - 지역에 상관없이 전 영역에서 사용되는 전역변수\n",
    "# 특정 영역(블럭)은 함수 또는 블럭(if, for, while 등)등을 의미함\n",
    "# 전역변수 - global, 지역변수 - local\n",
    "# 전역변수는 지역변수보다 메모리 소모가 크다 ! 항상 저장되어 있어야 하기 때문에\n",
    "# 다만, 요즘은 큰 차이는 없긴 하다 . . .\n"
   ]
  },
  {
   "cell_type": "code",
   "execution_count": 2,
   "metadata": {},
   "outputs": [
    {
     "name": "stdout",
     "output_type": "stream",
     "text": [
      "1 2\n"
     ]
    }
   ],
   "source": [
    "# 예제1 - 전역변수의 영역 : 블럭에서만 동작\n",
    "var2 = 2\n",
    "def func(arg) :    # 인자값 arg = var2 = 2\n",
    "    var1 = 1       # 지역변수 생성\n",
    "    print(var1, arg)        # 1, 2\n",
    "\n",
    "func(var2) # => global변수이기 때문에 함수의 인자값으로 대입 가능\n",
    "# print(var1) -> NameError : name 'var1' is not defined \n",
    "#               => 선언된 장소인 함수 func의 블럭 내에서만 사용 가능 - 함수가 종료되면서 사라짐\n"
   ]
  },
  {
   "cell_type": "code",
   "execution_count": 3,
   "metadata": {},
   "outputs": [
    {
     "name": "stdout",
     "output_type": "stream",
     "text": [
      "전역변수 저장위치 : 1747822575888\n",
      "전역변수 저장위치 : 1747822575888\n",
      "10 4\n",
      "10\n"
     ]
    }
   ],
   "source": [
    "# 예제2 - 블럭에서 전역변수를 사용\n",
    "# global 변수, 전역변수\n",
    "var2 = 2\n",
    "print(\"전역변수 저장위치 :\",id(var2))       # 전역변수 저장위치 : 1747822575888\n",
    "def func(arg) :\n",
    "    #var2 = 1       # => 전역변수를 가져온 게 아닌, 새로 생성된 지역변수임\n",
    "    global var2     # => 전역변수 호출\n",
    "    print(\"전역변수 저장위치 :\",id(var2))   # 전역변수 저장위치 : 1747822575888\n",
    "    var2 = 10\n",
    "    print(var2, arg+2)      \n",
    "    \n",
    "func(var2)      # 10, 4\n",
    "print(var2)     # 10 => 함수 내에서 전역변수를 호출하여 값을 변경시켰기 때문에 값이 변경됨"
   ]
  },
  {
   "cell_type": "code",
   "execution_count": 4,
   "metadata": {},
   "outputs": [
    {
     "name": "stdout",
     "output_type": "stream",
     "text": [
      "전역변수 저장위치 : 1747822575888\n",
      "10 4\n",
      "1 2 1\n",
      "10\n"
     ]
    }
   ],
   "source": [
    "# 함수 또는 블럭에서 변수명으로 데이터에 접근 시 우선순위 : 가까운 local > global\n",
    "# 예제 3\n",
    "\n",
    "var2 = 2\n",
    "print(\"전역변수 저장위치 :\",id(var2))\n",
    "def func(arg) :     # arg값으로 var2 = 2가 들어옴\n",
    "    global var2         # => 전역변수 var2 호출\n",
    "    var2 = 10           # => 전역변수 var2 = 10\n",
    "    var1 = 1\n",
    "    print(var2, arg+2)      # var2 = 10, 4\n",
    "    def func2(var2) :\n",
    "        var2 = 1\n",
    "        print(var2, arg, var1)    # var2 = 1, \n",
    "                                  # arg(var2) = 2 \n",
    "                                  # => 정의된 변수가 없으면 가장 가까운 장소에서 같은 이름의 변수값을 가져옴,\n",
    "                                  # var1 = 1\n",
    "    func2(var2)\n",
    "    \n",
    "func(var2)\n",
    "print(var2)     # 10 => 함수 내에서 호출된 전역변수의 값이 바뀌었음 !!!\n"
   ]
  },
  {
   "cell_type": "code",
   "execution_count": null,
   "metadata": {},
   "outputs": [],
   "source": [
    "# 중첩함수\n",
    "# 중첩함수란, 함수 내부에 또 다른 함수가 내장된 형태\n",
    "# 내부 함수를 포함한 함수를 외부함수라고 함\n",
    "\n",
    "# (형식)\n",
    "# def 외부함수(인수) :\n",
    "#      함수 정의문1\n",
    "#      def 내부함수(인수) :\n",
    "#           함수 정의문 1\n",
    "#           return 값\n",
    "#      return 내부함수\n",
    "\n",
    "# 파이썬의 중첩함수는 외부함수나 내부함수를 변수에 저장할 수 있다\n",
    "# 이런 특성을 가지는 함수를 일급함수(First Class Function)라고 함\n",
    "# 특히, 내부함수는 외부함수의 return 명령문을 이용하여 반환하는 형태의 함수를 클로저(Function closure)라고 함\n",
    "\n",
    "# 클로저에서 외부함수와 내부함수의 역할\n",
    "# 외부함수 : 함수에서 사용할 자료를 만들고, 내부함수를 포함하는 역할\n",
    "# 내부함수 : 외부 함수에서 만든 자료를 연산하고 조작하는 역할을 담당\n"
   ]
  },
  {
   "cell_type": "code",
   "execution_count": 9,
   "metadata": {},
   "outputs": [
    {
     "name": "stdout",
     "output_type": "stream",
     "text": [
      "a 함수 종속문\n",
      "b 함수 종속문\n",
      "1\n"
     ]
    }
   ],
   "source": [
    "# 클로저 closure\n",
    "# 외부함수가 종료되어도 내부함수에서 선언된 변수가 메모리에서 소멸하지 않은 상태로 내부함수를 사용할 수 있음\n",
    "def a() :       # outer : 외부함수\n",
    "    var1 = 1\n",
    "    print('a 함수 종속문')\n",
    "    def b() :   # 내부함수\n",
    "        print('b 함수 종속문')\n",
    "        print(var1)\n",
    "    return b    # 함수를 리턴할 때는 함수명을 써야 함수가 그대로 전달됨 !!\n",
    "\n",
    "b = a()     # a 함수 종속문\n",
    "# 외부 함수 호출 : a 함수 구동 ->  b함수의 정의만 넘겼을 뿐 b가 실행되지 않음\n",
    "# print('a 함수 종속문')을 실행하면서 return b = 함수 b의 정의가 변수 b에 저장됨\n",
    "# a함수는 종료되었지만 b함수에 대한 정의는 전달된 상태\n",
    "\n",
    "b()         # b 함수 종속문 1\n",
    "# 내부 함수 호출 : b 함수 구동 -> b에 저장된 함수 b의 정의(함수 저장 위치)를 호출해서 실행함"
   ]
  },
  {
   "cell_type": "code",
   "execution_count": 14,
   "metadata": {},
   "outputs": [
    {
     "name": "stdout",
     "output_type": "stream",
     "text": [
      "tot = 5050\n",
      "avg = 50.5\n"
     ]
    }
   ],
   "source": [
    "data = list(range(1,101))       # 1~100까지의 숫자 리스트 생성\n",
    "\n",
    "# outer function\n",
    "def outer_func(data) :\n",
    "    dataSet = data  # data로 받은 값을 dataSet 변수에 대입 (= Shallow Copy)\n",
    "    \n",
    "    # inner function\n",
    "    def tot() :\n",
    "        tot_val = sum(dataSet)\n",
    "        return tot_val\n",
    "    def avg(tot_val) :\n",
    "        avg_val = tot_val / len(dataSet)\n",
    "        return avg_val\n",
    "    return tot, avg     # inner 반환\n",
    "\n",
    "# 메인\n",
    "\n",
    "tot, avg = outer_func(data)     # 외부함수 호출 : data 인자값 넣기\n",
    "# 외부함수에서 dataSet 변수에 인자값을 대입하고, 각 내부함수의 정의들이 각 변수에 대입됨 = unpacking\n",
    "\n",
    "# 내부함수 호출\n",
    "# 외부함수가 호출되어 이미 dataSet에 data를 대입하는 종속문이 실행 후 종료되었음에도 불구하고,\n",
    "# 내부함수가 동작할 때는 dataSet의 값이 존재하여 내부함수 실행 시 잘 대입됨 !!! => 이게 바로 클로저 ~~~!!!!\n",
    "\n",
    "tot_val = tot()\n",
    "print(\"tot =\",tot_val)\n",
    "# outer_func 내에 있는 tot()함수의 리턴값이 tot_val에 대입됨\n",
    "avg_val = avg(tot_val)\n",
    "print(\"avg =\",avg_val)\n",
    "# outer_func 내에 있는 avg()함수의 리턴값이 avg_val에 대입됨"
   ]
  },
  {
   "cell_type": "code",
   "execution_count": null,
   "metadata": {},
   "outputs": [],
   "source": [
    "# [Quiz]\n",
    "# 디폴트 매개변수를 이용한 요금 구하는 프로그램 만들기\n",
    "# 기본 요금은 500원 / 환승이 없거나 환승 1회까지는 기본요금 \n",
    "# 1회를 초과하는 환승의 경우 환승 1회마다 요금의 2배씩 증가\n",
    "# ex. 환승 2회인 경우 : 1000원 환승 3회인 경우 : 2000원\n",
    "# 장거리는 10000원으로 처리 (최대 요금이 10000원)\n",
    "# 1. 환승 안함\n",
    "# 2. 환승 함 -> 몇번 환승하는지 질의 후 요금 계산\n",
    "# 3. 장거리\n",
    "# 함수화하여 작업하세요 !! -> 요금 계산하는 함수, 화면에 표시하는 함수\n",
    "# 함수 처리 시 목적지에 대한 내용도 입력 받아서 처리 !!"
   ]
  },
  {
   "cell_type": "code",
   "execution_count": null,
   "metadata": {},
   "outputs": [],
   "source": [
    "def tariff(trf) :\n",
    "    fee = trf\n",
    "    def noTF() :\n",
    "        return fee\n",
    "    def yesTF(cnt) :\n",
    "        nonlocal fee    # 내부함수가 지역변수(fee)의 값을 다시 할당하고자 할 때 nonlocal로 선언\n",
    "        if cnt > 1 :\n",
    "            for x in range(cnt-1) :\n",
    "                fee *= 2\n",
    "                if fee > 10000 :\n",
    "                    fee = 10000\n",
    "                    break\n",
    "        return fee\n",
    "    def longDist() :\n",
    "        fee = 10000\n",
    "        return fee\n",
    "    return noTF, yesTF, longDist\n",
    "\n",
    "def prtFee() :    \n",
    "    noTF, yesTF, longDist = tariff(500)\n",
    "    place = input('목적지를 입력하세요 : ')\n",
    "    select = int(input('메뉴를 선택하세요\\n1. 환승안함 \\n2. 환승 함 \\n3. 장거리 \\n'))\n",
    "    if select == 1 : \n",
    "        fee = noTF()\n",
    "    elif select == 2 : \n",
    "        cnt = int(input('환승 횟수를 입력하세요 : '))\n",
    "        fee = yesTF(cnt)\n",
    "    elif select == 3 : \n",
    "        fee = longDist()\n",
    "    print(\"{}까지의 요금은 {:,}원 입니다\".format(dest,fee))\n",
    "\n",
    "while True :\n",
    "    prtFee()\n",
    "    if input('계속하시겠습니까?y/n : ') == 'n' : break"
   ]
  },
  {
   "cell_type": "code",
   "execution_count": null,
   "metadata": {},
   "outputs": [],
   "source": [
    "# 선생님 답\n",
    "def transfer(dest, tf, fee=500) :\n",
    "    for i in range(1,tf) :\n",
    "        fee *= 500\n",
    "        if fee >= 10000 : \n",
    "            fee = 10000\n",
    "            break\n",
    "    return '{}까지의 요금은 {:,}원 입니다'.format(dest, fee)\n",
    "\n",
    "def display() :\n",
    "    dest = \"\"; tf = 0   # 목적지, 환승횟수 초기화\n",
    "    num = input('1. 환승안함 \\n2. 환승 함 \\n3. 장거리 \\n')\n",
    "    dest = input('목적지 입력 : ')\n",
    "    if num == '1' :\n",
    "        result = transfer(dest)\n",
    "    elif num == '2' : \n",
    "        tf = int(input('환승 횟수를 입력하세요 : '))\n",
    "        result = transfer(dest, tf)\n",
    "    elif num == '3' : \n",
    "        result = transfer(dest, 1,10000)\n",
    "    else : \n",
    "        print(\"메뉴 선택이 잘못되었습니다\")\n",
    "        return\n",
    "    print(result)    "
   ]
  },
  {
   "cell_type": "code",
   "execution_count": 7,
   "metadata": {},
   "outputs": [
    {
     "name": "stdout",
     "output_type": "stream",
     "text": [
      "입력값은 선택 범위 밖 숫자입니다\n"
     ]
    }
   ],
   "source": [
    "# match ~ case 구문 : 파이썬 3.10.0 이후에 도입 (switch ~ case 구문과 같은 동작)\n",
    "                # match(key,) 함수와 혼동되지 않게 주의 !!\n",
    "# 예제 1\n",
    "def num_chk(st) :\n",
    "    match st :      # 확장팩에 아직 업데이트가 안되어서 IndentationError가 뜸 - 무시하기!\n",
    "        case 1 : return '일'\n",
    "        case 2 : return '이'\n",
    "        case 3 : return '삼'\n",
    "        case _ : return '선택 범위 밖 숫자'\n",
    "\n",
    "st1 = int(input(' 1 ~ 3 까지의 숫자를 입력하세요 : '))\n",
    "print('입력값은 '+num_chk(st1)+'입니다')"
   ]
  },
  {
   "cell_type": "code",
   "execution_count": 12,
   "metadata": {},
   "outputs": [
    {
     "name": "stdout",
     "output_type": "stream",
     "text": [
      "입력한 알파벳은 : C\n"
     ]
    }
   ],
   "source": [
    "# 예제 2\n",
    "def alpha_chk(chk) :\n",
    "    match chk :\n",
    "        case 'a'|'A' : return 'A'\n",
    "        case 'b'|'B' : return 'B'\n",
    "        case 'c'|'C' : return 'C'\n",
    "        case _ : return 'A ~ C 이외의 알파벳'\n",
    "\n",
    "st2 = input('알파벳 a~c 중 한 개를 입력하세요 : ')\n",
    "print('입력한 알파벳은 :',alpha_chk(st2))\n",
    "        "
   ]
  },
  {
   "cell_type": "code",
   "execution_count": 24,
   "metadata": {},
   "outputs": [
    {
     "name": "stdout",
     "output_type": "stream",
     "text": [
      "france의 국가 번호는 : 33\n"
     ]
    }
   ],
   "source": [
    "# 연습 : 국가명을 입력받아서 해당 국가 번호를 출력하는 함수 구현\n",
    "\n",
    "# 01 UnitedState 33 France 34 Spain 81 Japan 82 Korea\n",
    "\n",
    "# 인자값/반환값의 자료형을 아래와 같이 지정할 수 있다 (인자값 문자열, 반환값 정수)\n",
    "def getPhoneCode(nat:str) -> int :\n",
    "    match nat.lower() :\n",
    "        case 'unitedstate' : return 1\n",
    "        case 'france' : return 33\n",
    "        case 'spain' : return 34\n",
    "        case 'japan' : return 81\n",
    "        case 'southkorea' : return 82\n",
    "        case _ : return -1\n",
    "nat = input('국가명을 영문으로 입력하세요')\n",
    "print('{}의 국가 번호는 : {:02}'.format(nat, getPhoneCode(nat)))"
   ]
  }
 ],
 "metadata": {
  "interpreter": {
   "hash": "b89b5cfaba6639976dc87ff2fec6d58faec662063367e2c229c520fe71072417"
  },
  "kernelspec": {
   "display_name": "Python 3.10.3 64-bit",
   "language": "python",
   "name": "python3"
  },
  "language_info": {
   "codemirror_mode": {
    "name": "ipython",
    "version": 3
   },
   "file_extension": ".py",
   "mimetype": "text/x-python",
   "name": "python",
   "nbconvert_exporter": "python",
   "pygments_lexer": "ipython3",
   "version": "3.10.3"
  },
  "orig_nbformat": 4
 },
 "nbformat": 4,
 "nbformat_minor": 2
}
