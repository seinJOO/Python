{
 "cells": [
  {
   "cell_type": "code",
   "execution_count": null,
   "metadata": {},
   "outputs": [],
   "source": [
    "## for\n",
    "\n",
    "list(range(1,10))       # [1, 2, 3, 4, 5, 6, 7, 8, 9]"
   ]
  },
  {
   "cell_type": "code",
   "execution_count": null,
   "metadata": {},
   "outputs": [],
   "source": [
    "'''\n",
    "For 구문 : 가장 대표적인 반복 구문 중 하나로, 주어진 조건에 다른 회차(~만큼 반복)\n",
    "(형식)\n",
    "for 변수명 in range(반복횟수) :\n",
    "    종속문장1(for)\n",
    "    종속문장2(for)\n",
    "(메인 프로그램 실행 코드 진행)\n",
    "'''"
   ]
  },
  {
   "cell_type": "code",
   "execution_count": 96,
   "metadata": {},
   "outputs": [
    {
     "name": "stdout",
     "output_type": "stream",
     "text": [
      "A 0\n",
      "A 1\n",
      "A 2\n",
      "A 3\n",
      "A 4\n",
      "A 5\n",
      "A 6\n",
      "A 7\n",
      "A 8\n",
      "A 9\n"
     ]
    }
   ],
   "source": [
    "for i in range(10) :        # 10번 반복\n",
    "    print(\"A\", i)"
   ]
  },
  {
   "cell_type": "code",
   "execution_count": null,
   "metadata": {},
   "outputs": [],
   "source": [
    "# range(시작값, 끝값, 증감값) : 파이썬의 내장 함수\n",
    "'''                 ** 시작값 0, 증감값 +1이 기본값\n",
    "사용법(range())\n",
    "1. range(종료값) : 0부터 시작해서 종료값 이전까지의 값의 범위를 가짐.\n",
    "    ex) range(10) - [0,1,2,3,4,5,6,7,8,9]\n",
    "2. range(시작값, 종료값) : 시작값부터 종료값 이전까지의 값의 범위 (증감값 +1)\n",
    "    ex) range(5,10) - [5,6,7,8,9]\n",
    "3. range(시작값, 종료값, 증감값) : 시작값부터 종료값 이전까지의 값의 증/감 값 간격의 값 범위\n",
    "    ex) range(0,1,2) - [0,2,4,6,8]\n",
    "        range(10,0,-2) - [10,8,6,4,2]\n",
    "'''"
   ]
  },
  {
   "cell_type": "code",
   "execution_count": 11,
   "metadata": {},
   "outputs": [
    {
     "name": "stdout",
     "output_type": "stream",
     "text": [
      "0 1 2 3 4 5 6 7 8 9 \n"
     ]
    }
   ],
   "source": [
    "# [예제 1] for문 - range(종료값) 예제\n",
    "for x in range(10) :    # [0,1,2,3,4,5,6,7,8,9] 초기값 0, 증감값 1, 조건식 : x < 10\n",
    "    print(x,end=' ')  # print()의 end 인자값을 설정하면\n",
    "                        # 출력 후 마지막에 사용될 문자를 지정할 수 있음\n",
    "                        # 사용 : end = '문자열' , 기본값은 end=\"\\n\"\n",
    "print()"
   ]
  },
  {
   "cell_type": "code",
   "execution_count": 12,
   "metadata": {},
   "outputs": [
    {
     "name": "stdout",
     "output_type": "stream",
     "text": [
      "5 6 7 8 9 \n"
     ]
    }
   ],
   "source": [
    "# [예제 2] for문 - range(시작값,종료값) 예제\n",
    "for x in range(5,10) :    # [5,6,7,8,9] 초기값 5, 증감값 1, 조건식 : x < 10\n",
    "    print(x,end=' ')  # print()의 end 인자값을 설정하면\n",
    "                        # 출력 후 마지막에 사용될 문자를 지정할 수 있음\n",
    "                        # 사용 : end = '문자열' , 기본값은 end=\"\\n\"\n",
    "print()"
   ]
  },
  {
   "cell_type": "code",
   "execution_count": 13,
   "metadata": {},
   "outputs": [
    {
     "name": "stdout",
     "output_type": "stream",
     "text": [
      "0 2 4 6 8 \n"
     ]
    }
   ],
   "source": [
    "# [예제 3] for문 - range(시작값,종료값, 증감값) 예제\n",
    "for x in range(0,10,2) :    # [0,2,4,6,8] 초기값 0, 증감값 2, 조건식 : x < 10\n",
    "    print(x,end=' ')  # print()의 end 인자값을 설정하면\n",
    "                        # 출력 후 마지막에 사용될 문자를 지정할 수 있음\n",
    "                        # 사용 : end = '문자열' , 기본값은 end=\"\\n\"\n",
    "print()"
   ]
  },
  {
   "cell_type": "code",
   "execution_count": 14,
   "metadata": {},
   "outputs": [
    {
     "name": "stdout",
     "output_type": "stream",
     "text": [
      "10 8 6 4 2 \n"
     ]
    }
   ],
   "source": [
    "# [예제 4] for문 - range(시작값,종료값, 증감값) 예제\n",
    "for x in range(10,0,-2) :    # [10,8,6,4,2] 초기값 10, 증감값 -2, 조건식 : x > 0\n",
    "    print(x,end=' ')  # print()의 end 인자값을 설정하면\n",
    "                        # 출력 후 마지막에 사용될 문자를 지정할 수 있음\n",
    "                        # 사용 : end = '문자열' , 기본값은 end=\"\\n\"\n",
    "print()"
   ]
  },
  {
   "cell_type": "code",
   "execution_count": 15,
   "metadata": {},
   "outputs": [
    {
     "name": "stdout",
     "output_type": "stream",
     "text": [
      "s t r i n g \n",
      "6\n"
     ]
    }
   ],
   "source": [
    "# [예제 5] for문 = 문자열 예제\n",
    "sum = 0\n",
    "for x in 'string' :     #[s,t,r,i,n,g]\n",
    "    print(x,end=' ')\n",
    "    sum += 1\n",
    "print();print(sum)"
   ]
  },
  {
   "cell_type": "code",
   "execution_count": 19,
   "metadata": {},
   "outputs": [
    {
     "name": "stdout",
     "output_type": "stream",
     "text": [
      "1 4 78 test A 1.8 100 \n",
      " 7 번 반복함\n"
     ]
    }
   ],
   "source": [
    "# [예제 6] for문 - list, tuple, dictionary...\n",
    "i = 0\n",
    "for x in [1,4,78,'test','A',1.80,100] :\n",
    "    print(x,end=' ')\n",
    "    i += 1\n",
    "print(\"\\n\",i,\"번 반복함\")"
   ]
  },
  {
   "cell_type": "code",
   "execution_count": 23,
   "metadata": {},
   "outputs": [
    {
     "name": "stdout",
     "output_type": "stream",
     "text": [
      "100\n"
     ]
    }
   ],
   "source": [
    "# [예제 7] 이중 for문 : for구문을 중첩해서 사용\n",
    "sum = 0\n",
    "for x in range(10) :    # 상위 for문 : [0,1,2,3,4,5,6,7,8,9]\n",
    "    for y in range(10) :    # 하위 for문 : [0,1,2,3,4,5,6,7,8,9]\n",
    "        sum += 1\n",
    "print(sum)"
   ]
  },
  {
   "cell_type": "code",
   "execution_count": null,
   "metadata": {},
   "outputs": [],
   "source": [
    "# 중첩for문(이중for문) : 상위 for문 한 번 실행할 때 하위 for문은 자신에게 주어진 반복 횟수만큼 실행 (하위 for문은 상위 for문의 종속문장)\n",
    "# [예제 8] 이중 for문 예제\n",
    "sum = 0\n",
    "for x in range(1,5,3) :     # [1,4] 값으로 2번 반복함 -> 초기값 1, 조건식 x < 5, 증감값 3\n",
    "    for y in range(5,0,-1) :        # [5,4,3,2,1] 값으로 5번 반복\n",
    "        print(\"상위 for문의 x 값 : {}, 하위 for문의 y의 값 : {}\".format(x,y))\n",
    "        sum += 1\n",
    "print(sum, \" 만큼 반복함!\")"
   ]
  },
  {
   "cell_type": "code",
   "execution_count": null,
   "metadata": {},
   "outputs": [],
   "source": [
    "# 문제1 - 중첩 for문을 이용하여 구구단 표를 작성\n",
    "for a in range(2,10) :\n",
    "    print(f\"{a}단======\")\n",
    "    for b in range(1,10) :\n",
    "        print(\"{} x {} = {}\".format(a,b,a*b))\n",
    "    print()\n",
    "        "
   ]
  },
  {
   "cell_type": "code",
   "execution_count": 37,
   "metadata": {},
   "outputs": [
    {
     "name": "stdout",
     "output_type": "stream",
     "text": [
      "2 x 1 = 2  3 x 1 = 3  4 x 1 = 4  5 x 1 = 5  6 x 1 = 6  7 x 1 = 7  8 x 1 = 8  9 x 1 = 9  \n",
      "2 x 2 = 4  3 x 2 = 6  4 x 2 = 8  5 x 2 = 10 6 x 2 = 12 7 x 2 = 14 8 x 2 = 16 9 x 2 = 18 \n",
      "2 x 3 = 6  3 x 3 = 9  4 x 3 = 12 5 x 3 = 15 6 x 3 = 18 7 x 3 = 21 8 x 3 = 24 9 x 3 = 27 \n",
      "2 x 4 = 8  3 x 4 = 12 4 x 4 = 16 5 x 4 = 20 6 x 4 = 24 7 x 4 = 28 8 x 4 = 32 9 x 4 = 36 \n",
      "2 x 5 = 10 3 x 5 = 15 4 x 5 = 20 5 x 5 = 25 6 x 5 = 30 7 x 5 = 35 8 x 5 = 40 9 x 5 = 45 \n",
      "2 x 6 = 12 3 x 6 = 18 4 x 6 = 24 5 x 6 = 30 6 x 6 = 36 7 x 6 = 42 8 x 6 = 48 9 x 6 = 54 \n",
      "2 x 7 = 14 3 x 7 = 21 4 x 7 = 28 5 x 7 = 35 6 x 7 = 42 7 x 7 = 49 8 x 7 = 56 9 x 7 = 63 \n",
      "2 x 8 = 16 3 x 8 = 24 4 x 8 = 32 5 x 8 = 40 6 x 8 = 48 7 x 8 = 56 8 x 8 = 64 9 x 8 = 72 \n",
      "2 x 9 = 18 3 x 9 = 27 4 x 9 = 36 5 x 9 = 45 6 x 9 = 54 7 x 9 = 63 8 x 9 = 72 9 x 9 = 81 \n"
     ]
    }
   ],
   "source": [
    "# 문제2\n",
    "for x in range(1,10) :\n",
    "    for y in range(2,10) :\n",
    "        if x*y >= 10 :\n",
    "            print(\"{} x {} = {}\".format(y,x,x*y),end=' ')\n",
    "        else :\n",
    "            print(\"{} x {} = {}\".format(y,x,x*y),end='  ')\n",
    "    print()"
   ]
  },
  {
   "cell_type": "code",
   "execution_count": 68,
   "metadata": {},
   "outputs": [
    {
     "name": "stdout",
     "output_type": "stream",
     "text": [
      "상위 for문이 0일 때, 하위 for문 : 0 0 0 0 0 \n",
      "상위 for문이 1일 때, 하위 for문 : 0 1 2 3 4 \n",
      "상위 for문이 2일 때, 하위 for문 : 0 2 4 6 8 \n",
      "상위 for문이 3일 때, 하위 for문 : 0 3 6 9 12 \n",
      "상위 for문이 4일 때, 하위 for문 : 0 4 8 12 16 \n"
     ]
    }
   ],
   "source": [
    "# 문제 3\n",
    "for x in range(5) :\n",
    "    print(\"상위 for문이 {}일 때, 하위 for문 :\".format(x),end=' ')\n",
    "    for y in range(5):\n",
    "        print(\"{}\".format(x*y),end=' ')\n",
    "    print()\n",
    "        "
   ]
  },
  {
   "cell_type": "code",
   "execution_count": 75,
   "metadata": {},
   "outputs": [
    {
     "name": "stdout",
     "output_type": "stream",
     "text": [
      "1  2  3  4  5  \n",
      "6  7  8  9  10  \n",
      "11 12 13 14 15 \n",
      "16 17 18 19 20 \n",
      "21 22 23 24 25 \n",
      "1\t2\t3\t4\t5\t\n",
      "6\t7\t8\t9\t10\t\n",
      "11\t12\t13\t14\t15\t\n",
      "16\t17\t18\t19\t20\t\n",
      "21\t22\t23\t24\t25\t\n",
      "\n"
     ]
    }
   ],
   "source": [
    "# 문제 4\n",
    "for x in range(1,26,5) :\n",
    "    for y in range(5) :\n",
    "        if x+y <= 10 :\n",
    "            print(x+y,end='  ')\n",
    "        else :\n",
    "            print(x+y,end=' ')\n",
    "    print()\n",
    "\n",
    "# 정답 ....\n",
    "for x in range(5) :\n",
    "    for y in range(1,6) :\n",
    "        print(x*5+y,end=\"\\t\")\n",
    "    print()\n",
    "print()"
   ]
  },
  {
   "cell_type": "code",
   "execution_count": 78,
   "metadata": {},
   "outputs": [
    {
     "name": "stdout",
     "output_type": "stream",
     "text": [
      "25\t24\t23\t22\t21\t\n",
      "20\t19\t18\t17\t16\t\n",
      "15\t14\t13\t12\t11\t\n",
      "10\t9\t8\t7\t6\t\n",
      "5\t4\t3\t2\t1\t\n",
      "\n"
     ]
    }
   ],
   "source": [
    "# 문제 5\n",
    "for x in range(5,0,-1) :\n",
    "    for y in range(5) :\n",
    "        print(x*5-y,end=\"\\t\")\n",
    "    print()\n",
    "print()"
   ]
  },
  {
   "cell_type": "code",
   "execution_count": 99,
   "metadata": {},
   "outputs": [
    {
     "name": "stdout",
     "output_type": "stream",
     "text": [
      "1 2 3 4 5 \n",
      "2 3 4 5 1 \n",
      "3 4 5 1 2 \n",
      "4 5 1 2 3 \n",
      "5 1 2 3 4 \n",
      "\n",
      "1 2 3 4 5 \n",
      "2 3 4 5 1 \n",
      "3 4 5 1 2 \n",
      "4 5 1 2 3 \n",
      "5 1 2 3 4 \n",
      "\n"
     ]
    }
   ],
   "source": [
    "# 문제 6\n",
    "for x in range(5) :\n",
    "    for y in range(1,6) :\n",
    "        if x+y > 5 :\n",
    "            print((x+y)-5,end=' ')\n",
    "        else :\n",
    "            print(x+y,end=' ')\n",
    "    print()\n",
    "print()\n",
    "\n",
    "# 정답 ...\n",
    "for x in range(5) :\n",
    "    for y in range(5) :\n",
    "        print((x+y)%5+1,end=' ')\n",
    "    print()\n",
    "print()"
   ]
  },
  {
   "cell_type": "code",
   "execution_count": null,
   "metadata": {},
   "outputs": [],
   "source": [
    "# while구문 : 조건식이 참인 경우에 반복하는 반복문\n",
    "\n",
    "# (형식)\n",
    "# while (조건식) :\n",
    "#   종속문장1\n",
    "#   종속문장2\n",
    "# (메인 프로그램 코드 실행)\n",
    "\n",
    "# 형식 예시\n",
    "# while x<10 :\n",
    "#     종속문장1\n",
    "#     종속문장2\n",
    "#     x = x+1 # ** 조건식에 변화를 주는 값이 필요함\n",
    "# (메인 프로그램 코드 실행)"
   ]
  },
  {
   "cell_type": "code",
   "execution_count": 100,
   "metadata": {},
   "outputs": [
    {
     "name": "stdout",
     "output_type": "stream",
     "text": [
      "짝수의 합 : 30, 홀수의 합 : 25\n"
     ]
    }
   ],
   "source": [
    "# 예제 1 while구문을 이용한 반복문(짝수의 합, 홀수의 합)\n",
    "i = 1\n",
    "odd_sum = 0\n",
    "even_sum = 0\n",
    "while i <= 10 :\n",
    "    if i%2 == 0 :\n",
    "        even_sum += i\n",
    "    else :\n",
    "        odd_sum += i\n",
    "    i += 1 # 증감식 = 조건식의 변수인 i에 1을 더해줌\n",
    "print(\"짝수의 합 : {}, 홀수의 합 : {}\".format(even_sum, odd_sum))\n",
    "            "
   ]
  },
  {
   "cell_type": "code",
   "execution_count": 102,
   "metadata": {},
   "outputs": [
    {
     "name": "stdout",
     "output_type": "stream",
     "text": [
      "0번 종속문장 실행\n",
      "1번 종속문장 실행\n",
      "2번 종속문장 실행\n",
      "3번 종속문장 실행\n",
      "4번 종속문장 실행\n",
      "조건식이 거짓인 경우에 실행하는 문장\n",
      "실행 완료\n"
     ]
    }
   ],
   "source": [
    "# while~else를 사용 : while의 조건이 False가 되는 경우에 else가 실행됨\n",
    "i = 0\n",
    "while i < 5 :\n",
    "    print(\"{}번 종속문장 실행\".format(i))\n",
    "    i += 1\n",
    "else :\n",
    "    print(\"조건식이 거짓인 경우에 실행하는 문장\")\n",
    "print(\"실행 완료\")"
   ]
  },
  {
   "cell_type": "code",
   "execution_count": null,
   "metadata": {},
   "outputs": [],
   "source": [
    "# while의 무한반복 : while구문의 조건을 항상 참이 되게 설정한 후 반복문 내에 제어를 위한 명령어를 실행하는 반복 구문\n",
    "# 제어를 실행하는 명령어 : (1) break - 반복의 종료 (2) continue - 반복 시 조건문으로 이동\n",
    "\n",
    "# (형식)\n",
    "# while True :\n",
    "#   종속문장1\n",
    "#   종속문장2\n",
    "#   (종료하기 위한 조건과 명령어 : break)\n",
    "# 위와 같은 코드에서는 break를 사용하지 않으면 무한 반복함\n",
    "# 무한히 반복되면서 다음으로 코드가 진행되지 않기 위해 정지한 것처럼 보임 - 반복에서 벗어나기 위해 break명령어 사용\n",
    "\n",
    "# (break 사용 예시)\n",
    "# while True :\n",
    "#    종속문장1\n",
    "#    break\n",
    "#    종속문장2\n",
    "# (메인 프로그램 코드)\n",
    "# 프로그램 흐름 : while의 조건식 -> 종속문장1 -> break -> 메인프로그램 코드\n",
    "\n",
    "# continue 사용 예시 : 반복문 종료가 아닌, 조건식으로 이동\n",
    "# while True :\n",
    "#    종속문장1\n",
    "#    continue\n",
    "#    종속문장2\n",
    "# (메인 프로그램 코드)\n",
    "# 프로그램 흐름 : while조건식-> 종속문장1 -> continue -> while조건식 -> 종속문장1 -> continue ...\n",
    "#               => 종속문장2는 실행하지 않음"
   ]
  },
  {
   "cell_type": "code",
   "execution_count": null,
   "metadata": {},
   "outputs": [],
   "source": [
    "# 예제 2) break와 continue 사용 예제\n",
    "\n",
    "# break 이용\n",
    "while True :\n",
    "    a = int(input(\"정수 입력(0 입력시 종료) >>> \"))\n",
    "    if a == 0 :\n",
    "        break\n",
    "    print(\"입력값 출력 : \",a)\n",
    "    \n",
    "# continue 이용\n",
    "a = 0\n",
    "while a < 5 :\n",
    "    a += 1\n",
    "    if a == 3 :\n",
    "        continue\n",
    "    print(\"a = {}\".format(a))"
   ]
  },
  {
   "cell_type": "code",
   "execution_count": 123,
   "metadata": {},
   "outputs": [
    {
     "name": "stdout",
     "output_type": "stream",
     "text": [
      "[결과] : 80일, 512마리\n"
     ]
    }
   ],
   "source": [
    "# 쥐가 쌀 먹는 문제\n",
    "days = 1\n",
    "rice = 100*1000\n",
    "rat = 2\n",
    "while True :\n",
    "    rice -= rat*20\n",
    "    if days % 10 == 0 :\n",
    "        rat *= 2\n",
    "    if rice <= 0 :\n",
    "        break\n",
    "    days += 1\n",
    "\n",
    "print(\"[결과] : {}일, {}마리\".format(days,rat))\n"
   ]
  },
  {
   "cell_type": "code",
   "execution_count": 141,
   "metadata": {},
   "outputs": [
    {
     "name": "stdout",
     "output_type": "stream",
     "text": [
      "5050\n"
     ]
    }
   ],
   "source": [
    "# 문제2 - 1~100까지의 합 구하기\n",
    "i = 1\n",
    "sum = 0\n",
    "while i <= 100 :\n",
    "    sum += i\n",
    "    i += 1\n",
    "print(sum)"
   ]
  },
  {
   "cell_type": "code",
   "execution_count": 153,
   "metadata": {},
   "outputs": [
    {
     "name": "stdout",
     "output_type": "stream",
     "text": [
      "141\n"
     ]
    }
   ],
   "source": [
    "# 문제3 - 1부터 1씩 증가하는 값에 대해 누적합을 구할 때, 10000보다 큰 누적합 값에 대해 마지막에 더해진 값이 얼마인지 구하시오\n",
    "i = 1\n",
    "sum = 0\n",
    "while True :\n",
    "    sum += i\n",
    "    if sum >= 10000 :\n",
    "        break\n",
    "    i += 1\n",
    "print(i)\n",
    "    "
   ]
  },
  {
   "cell_type": "code",
   "execution_count": 158,
   "metadata": {},
   "outputs": [
    {
     "name": "stdout",
     "output_type": "stream",
     "text": [
      "2 3 5 7 11 13 17 19 23 29 31 37 41 43 47 53 59 61 67 71 73 79 83 89 97 \n",
      "소수의 총 개수 : 25\n",
      "2 3 5 7 11 13 17 19 23 29 31 37 41 43 47 53 59 61 67 71 73 79 83 89 97 \n",
      "소수의 총 개수 : 25\n"
     ]
    }
   ],
   "source": [
    "# 문제4 - 1부터 100 사이의 소수(prime number)를 출력하고 개수를 구하시오\n",
    "count = 0\n",
    "i = 2\n",
    "while i <= 100 :\n",
    "    is_prime = True\n",
    "    for j in range(2,i) :\n",
    "        if i % j == 0 :\n",
    "            i += 1\n",
    "            is_prime = False\n",
    "            break\n",
    "    if is_prime :\n",
    "        print(i,end=' ')\n",
    "        count += 1\n",
    "        i += 1\n",
    "print(\"\\n소수의 총 개수 : {}\".format(count))\n",
    "\n",
    "# 정답 ...\n",
    "count = 0\n",
    "for x in range(2,101) :\n",
    "    is_prime = True\n",
    "    for y in range(2,x) :\n",
    "        if x % y == 0 :\n",
    "            is_prime = False\n",
    "            break\n",
    "    if is_prime :\n",
    "        print(x,end=' ')\n",
    "        count += 1\n",
    "print(\"\\n소수의 총 개수 : {}\".format(count))\n",
    "    "
   ]
  },
  {
   "cell_type": "code",
   "execution_count": null,
   "metadata": {},
   "outputs": [],
   "source": []
  }
 ],
 "metadata": {
  "interpreter": {
   "hash": "b89b5cfaba6639976dc87ff2fec6d58faec662063367e2c229c520fe71072417"
  },
  "kernelspec": {
   "display_name": "Python 3.10.3 64-bit",
   "language": "python",
   "name": "python3"
  },
  "language_info": {
   "codemirror_mode": {
    "name": "ipython",
    "version": 3
   },
   "file_extension": ".py",
   "mimetype": "text/x-python",
   "name": "python",
   "nbconvert_exporter": "python",
   "pygments_lexer": "ipython3",
   "version": "3.10.3"
  },
  "orig_nbformat": 4
 },
 "nbformat": 4,
 "nbformat_minor": 2
}
